{
 "cells": [
  {
   "cell_type": "markdown",
   "metadata": {},
   "source": [
    "# Описание проекта"
   ]
  },
  {
   "cell_type": "markdown",
   "metadata": {},
   "source": [
    "Нам следует разобраться, как ведут себя пользователи нашего мобильного приложения, в которым продают продукты питания.\n",
    "\n",
    "Изучим воронку продаж. Узнаем, как пользователи доходят до покупки. Сколько пользователей доходит до покупки, а сколько — «застревает» на предыдущих шагах и на каких именно.\n",
    "\n",
    "После этого исследуем результаты A/A/B-эксперимента. Дизайнеры захотели поменять шрифты во всём приложении, а менеджеры испугались, что пользователям будет непривычно. Договорились принять решение по результатам A/A/B-теста. Пользователей разбили на 3 группы: 2 контрольные со старыми шрифтами и одну экспериментальную — с новыми. Выяснить, какой шрифт лучше.\n",
    "\n",
    "Создание двух групп A вместо одной имеет определённые преимущества. Если две контрольные группы окажутся равны, вы можете быть уверены в точности проведенного тестирования. Если же между значениями A и A будут существенные различия, это поможет обнаружить факторы, которые привели к искажению результатов. Сравнение контрольных групп также помогает понять, сколько времени и данных потребуется для дальнейших тестов."
   ]
  },
  {
   "cell_type": "markdown",
   "metadata": {},
   "source": [
    "# Описание данных"
   ]
  },
  {
   "cell_type": "markdown",
   "metadata": {},
   "source": [
    "Каждая запись в логе — это действие пользователя, или событие. \n",
    "\n",
    "- EventName — название события;\n",
    "- DeviceIDHash — уникальный идентификатор пользователя;\n",
    "- EventTimestamp — время события;\n",
    "- ExpId — номер эксперимента: 246 и 247 — контрольные группы, а 248 — экспериментальная."
   ]
  },
  {
   "cell_type": "markdown",
   "metadata": {},
   "source": [
    "# Содержание\n",
    "\n",
    "1. Загрузка данных\n",
    "2. Предобработка данных\n",
    "3. Изучение и проверка данных\n",
    "4. Изучение воронки событий\n",
    "5. Изучение результатов эксперимента"
   ]
  },
  {
   "cell_type": "markdown",
   "metadata": {},
   "source": [
    "## Загрузка данных"
   ]
  },
  {
   "cell_type": "markdown",
   "metadata": {},
   "source": [
    "Импортируем необходимые библиотеки"
   ]
  },
  {
   "cell_type": "code",
   "execution_count": 1,
   "metadata": {},
   "outputs": [],
   "source": [
    "import numpy as np\n",
    "import pandas as pd\n",
    "import matplotlib.pyplot as plt\n",
    "import seaborn as sns\n",
    "import datetime as dt\n",
    "import scipy.stats as stats\n",
    "import matplotlib.pyplot as plt\n",
    "import plotly.express as px\n",
    "from plotly import graph_objects as go\n",
    "import math as mth"
   ]
  },
  {
   "cell_type": "code",
   "execution_count": 2,
   "metadata": {},
   "outputs": [],
   "source": [
    "import plotly.io as pio\n",
    "pio.renderers.default = \"svg\"\n",
    "svg_renderer = pio.renderers[\"svg\"]\n",
    "svg_renderer.scale = 1.2"
   ]
  },
  {
   "cell_type": "markdown",
   "metadata": {},
   "source": [
    "Открытие файла"
   ]
  },
  {
   "cell_type": "code",
   "execution_count": 3,
   "metadata": {},
   "outputs": [
    {
     "data": {
      "text/html": [
       "<div>\n",
       "<style scoped>\n",
       "    .dataframe tbody tr th:only-of-type {\n",
       "        vertical-align: middle;\n",
       "    }\n",
       "\n",
       "    .dataframe tbody tr th {\n",
       "        vertical-align: top;\n",
       "    }\n",
       "\n",
       "    .dataframe thead th {\n",
       "        text-align: right;\n",
       "    }\n",
       "</style>\n",
       "<table border=\"1\" class=\"dataframe\">\n",
       "  <thead>\n",
       "    <tr style=\"text-align: right;\">\n",
       "      <th></th>\n",
       "      <th>EventName</th>\n",
       "      <th>DeviceIDHash</th>\n",
       "      <th>EventTimestamp</th>\n",
       "      <th>ExpId</th>\n",
       "    </tr>\n",
       "  </thead>\n",
       "  <tbody>\n",
       "    <tr>\n",
       "      <th>0</th>\n",
       "      <td>MainScreenAppear</td>\n",
       "      <td>4575588528974610257</td>\n",
       "      <td>1564029816</td>\n",
       "      <td>246</td>\n",
       "    </tr>\n",
       "    <tr>\n",
       "      <th>1</th>\n",
       "      <td>MainScreenAppear</td>\n",
       "      <td>7416695313311560658</td>\n",
       "      <td>1564053102</td>\n",
       "      <td>246</td>\n",
       "    </tr>\n",
       "    <tr>\n",
       "      <th>2</th>\n",
       "      <td>PaymentScreenSuccessful</td>\n",
       "      <td>3518123091307005509</td>\n",
       "      <td>1564054127</td>\n",
       "      <td>248</td>\n",
       "    </tr>\n",
       "    <tr>\n",
       "      <th>3</th>\n",
       "      <td>CartScreenAppear</td>\n",
       "      <td>3518123091307005509</td>\n",
       "      <td>1564054127</td>\n",
       "      <td>248</td>\n",
       "    </tr>\n",
       "    <tr>\n",
       "      <th>4</th>\n",
       "      <td>PaymentScreenSuccessful</td>\n",
       "      <td>6217807653094995999</td>\n",
       "      <td>1564055322</td>\n",
       "      <td>248</td>\n",
       "    </tr>\n",
       "  </tbody>\n",
       "</table>\n",
       "</div>"
      ],
      "text/plain": [
       "                 EventName         DeviceIDHash  EventTimestamp  ExpId\n",
       "0         MainScreenAppear  4575588528974610257      1564029816    246\n",
       "1         MainScreenAppear  7416695313311560658      1564053102    246\n",
       "2  PaymentScreenSuccessful  3518123091307005509      1564054127    248\n",
       "3         CartScreenAppear  3518123091307005509      1564054127    248\n",
       "4  PaymentScreenSuccessful  6217807653094995999      1564055322    248"
      ]
     },
     "execution_count": 3,
     "metadata": {},
     "output_type": "execute_result"
    }
   ],
   "source": [
    "df = pd.read_csv('/datasets/logs_exp.csv', sep='\\t')\n",
    "df.head(5)"
   ]
  },
  {
   "cell_type": "markdown",
   "metadata": {},
   "source": [
    "## Предобработка данных"
   ]
  },
  {
   "cell_type": "code",
   "execution_count": 4,
   "metadata": {},
   "outputs": [
    {
     "name": "stdout",
     "output_type": "stream",
     "text": [
      "<class 'pandas.core.frame.DataFrame'>\n",
      "RangeIndex: 244126 entries, 0 to 244125\n",
      "Data columns (total 4 columns):\n",
      " #   Column          Non-Null Count   Dtype \n",
      "---  ------          --------------   ----- \n",
      " 0   EventName       244126 non-null  object\n",
      " 1   DeviceIDHash    244126 non-null  int64 \n",
      " 2   EventTimestamp  244126 non-null  int64 \n",
      " 3   ExpId           244126 non-null  int64 \n",
      "dtypes: int64(3), object(1)\n",
      "memory usage: 7.5+ MB\n"
     ]
    }
   ],
   "source": [
    "df.info()"
   ]
  },
  {
   "cell_type": "markdown",
   "metadata": {},
   "source": [
    "Приведем название столбцов к нижнему и \"змеиному\" регистру"
   ]
  },
  {
   "cell_type": "code",
   "execution_count": 5,
   "metadata": {
    "scrolled": true
   },
   "outputs": [
    {
     "data": {
      "text/html": [
       "<div>\n",
       "<style scoped>\n",
       "    .dataframe tbody tr th:only-of-type {\n",
       "        vertical-align: middle;\n",
       "    }\n",
       "\n",
       "    .dataframe tbody tr th {\n",
       "        vertical-align: top;\n",
       "    }\n",
       "\n",
       "    .dataframe thead th {\n",
       "        text-align: right;\n",
       "    }\n",
       "</style>\n",
       "<table border=\"1\" class=\"dataframe\">\n",
       "  <thead>\n",
       "    <tr style=\"text-align: right;\">\n",
       "      <th></th>\n",
       "      <th>event_name</th>\n",
       "      <th>user_id</th>\n",
       "      <th>event_timestamp</th>\n",
       "      <th>exp_id</th>\n",
       "    </tr>\n",
       "  </thead>\n",
       "  <tbody>\n",
       "    <tr>\n",
       "      <th>0</th>\n",
       "      <td>MainScreenAppear</td>\n",
       "      <td>4575588528974610257</td>\n",
       "      <td>1564029816</td>\n",
       "      <td>246</td>\n",
       "    </tr>\n",
       "    <tr>\n",
       "      <th>1</th>\n",
       "      <td>MainScreenAppear</td>\n",
       "      <td>7416695313311560658</td>\n",
       "      <td>1564053102</td>\n",
       "      <td>246</td>\n",
       "    </tr>\n",
       "    <tr>\n",
       "      <th>2</th>\n",
       "      <td>PaymentScreenSuccessful</td>\n",
       "      <td>3518123091307005509</td>\n",
       "      <td>1564054127</td>\n",
       "      <td>248</td>\n",
       "    </tr>\n",
       "    <tr>\n",
       "      <th>3</th>\n",
       "      <td>CartScreenAppear</td>\n",
       "      <td>3518123091307005509</td>\n",
       "      <td>1564054127</td>\n",
       "      <td>248</td>\n",
       "    </tr>\n",
       "    <tr>\n",
       "      <th>4</th>\n",
       "      <td>PaymentScreenSuccessful</td>\n",
       "      <td>6217807653094995999</td>\n",
       "      <td>1564055322</td>\n",
       "      <td>248</td>\n",
       "    </tr>\n",
       "  </tbody>\n",
       "</table>\n",
       "</div>"
      ],
      "text/plain": [
       "                event_name              user_id  event_timestamp  exp_id\n",
       "0         MainScreenAppear  4575588528974610257       1564029816     246\n",
       "1         MainScreenAppear  7416695313311560658       1564053102     246\n",
       "2  PaymentScreenSuccessful  3518123091307005509       1564054127     248\n",
       "3         CartScreenAppear  3518123091307005509       1564054127     248\n",
       "4  PaymentScreenSuccessful  6217807653094995999       1564055322     248"
      ]
     },
     "execution_count": 5,
     "metadata": {},
     "output_type": "execute_result"
    }
   ],
   "source": [
    "df.columns = ['event_name', 'user_id', 'event_timestamp', 'exp_id']\n",
    "df.head(5)"
   ]
  },
  {
   "cell_type": "markdown",
   "metadata": {},
   "source": [
    "Проверим таблицу на наличие дубликатов"
   ]
  },
  {
   "cell_type": "code",
   "execution_count": 6,
   "metadata": {},
   "outputs": [
    {
     "data": {
      "text/plain": [
       "413"
      ]
     },
     "execution_count": 6,
     "metadata": {},
     "output_type": "execute_result"
    }
   ],
   "source": [
    "df.duplicated().sum()"
   ]
  },
  {
   "cell_type": "markdown",
   "metadata": {},
   "source": [
    "Вряд ли один и тот же пользователь в одной группе совершал одинаковые события в одно и тоже время\n",
    "\n",
    "Удалим дубликаты"
   ]
  },
  {
   "cell_type": "code",
   "execution_count": 7,
   "metadata": {
    "scrolled": true
   },
   "outputs": [
    {
     "data": {
      "text/plain": [
       "0"
      ]
     },
     "execution_count": 7,
     "metadata": {},
     "output_type": "execute_result"
    }
   ],
   "source": [
    "df = df.drop_duplicates().reset_index(drop=True)\n",
    "df.duplicated().sum()"
   ]
  },
  {
   "cell_type": "markdown",
   "metadata": {},
   "source": [
    "Проверим таблицу на наличие пропусков"
   ]
  },
  {
   "cell_type": "code",
   "execution_count": 8,
   "metadata": {},
   "outputs": [
    {
     "data": {
      "text/plain": [
       "event_name         0\n",
       "user_id            0\n",
       "event_timestamp    0\n",
       "exp_id             0\n",
       "dtype: int64"
      ]
     },
     "execution_count": 8,
     "metadata": {},
     "output_type": "execute_result"
    }
   ],
   "source": [
    "df.isna().sum()"
   ]
  },
  {
   "cell_type": "markdown",
   "metadata": {},
   "source": [
    "Создадим столбец \"datetime\" с датой и временем"
   ]
  },
  {
   "cell_type": "code",
   "execution_count": 9,
   "metadata": {},
   "outputs": [
    {
     "data": {
      "text/html": [
       "<div>\n",
       "<style scoped>\n",
       "    .dataframe tbody tr th:only-of-type {\n",
       "        vertical-align: middle;\n",
       "    }\n",
       "\n",
       "    .dataframe tbody tr th {\n",
       "        vertical-align: top;\n",
       "    }\n",
       "\n",
       "    .dataframe thead th {\n",
       "        text-align: right;\n",
       "    }\n",
       "</style>\n",
       "<table border=\"1\" class=\"dataframe\">\n",
       "  <thead>\n",
       "    <tr style=\"text-align: right;\">\n",
       "      <th></th>\n",
       "      <th>event_name</th>\n",
       "      <th>user_id</th>\n",
       "      <th>event_timestamp</th>\n",
       "      <th>exp_id</th>\n",
       "      <th>datetime</th>\n",
       "    </tr>\n",
       "  </thead>\n",
       "  <tbody>\n",
       "    <tr>\n",
       "      <th>0</th>\n",
       "      <td>MainScreenAppear</td>\n",
       "      <td>4575588528974610257</td>\n",
       "      <td>1564029816</td>\n",
       "      <td>246</td>\n",
       "      <td>2019-07-25 04:43:36</td>\n",
       "    </tr>\n",
       "    <tr>\n",
       "      <th>1</th>\n",
       "      <td>MainScreenAppear</td>\n",
       "      <td>7416695313311560658</td>\n",
       "      <td>1564053102</td>\n",
       "      <td>246</td>\n",
       "      <td>2019-07-25 11:11:42</td>\n",
       "    </tr>\n",
       "    <tr>\n",
       "      <th>2</th>\n",
       "      <td>PaymentScreenSuccessful</td>\n",
       "      <td>3518123091307005509</td>\n",
       "      <td>1564054127</td>\n",
       "      <td>248</td>\n",
       "      <td>2019-07-25 11:28:47</td>\n",
       "    </tr>\n",
       "    <tr>\n",
       "      <th>3</th>\n",
       "      <td>CartScreenAppear</td>\n",
       "      <td>3518123091307005509</td>\n",
       "      <td>1564054127</td>\n",
       "      <td>248</td>\n",
       "      <td>2019-07-25 11:28:47</td>\n",
       "    </tr>\n",
       "    <tr>\n",
       "      <th>4</th>\n",
       "      <td>PaymentScreenSuccessful</td>\n",
       "      <td>6217807653094995999</td>\n",
       "      <td>1564055322</td>\n",
       "      <td>248</td>\n",
       "      <td>2019-07-25 11:48:42</td>\n",
       "    </tr>\n",
       "  </tbody>\n",
       "</table>\n",
       "</div>"
      ],
      "text/plain": [
       "                event_name              user_id  event_timestamp  exp_id  \\\n",
       "0         MainScreenAppear  4575588528974610257       1564029816     246   \n",
       "1         MainScreenAppear  7416695313311560658       1564053102     246   \n",
       "2  PaymentScreenSuccessful  3518123091307005509       1564054127     248   \n",
       "3         CartScreenAppear  3518123091307005509       1564054127     248   \n",
       "4  PaymentScreenSuccessful  6217807653094995999       1564055322     248   \n",
       "\n",
       "             datetime  \n",
       "0 2019-07-25 04:43:36  \n",
       "1 2019-07-25 11:11:42  \n",
       "2 2019-07-25 11:28:47  \n",
       "3 2019-07-25 11:28:47  \n",
       "4 2019-07-25 11:48:42  "
      ]
     },
     "execution_count": 9,
     "metadata": {},
     "output_type": "execute_result"
    }
   ],
   "source": [
    "df['datetime'] = pd.to_datetime(df['event_timestamp'], unit='s')\n",
    "df.head(5)"
   ]
  },
  {
   "cell_type": "markdown",
   "metadata": {},
   "source": [
    "Добавим столбец с датой"
   ]
  },
  {
   "cell_type": "code",
   "execution_count": 10,
   "metadata": {},
   "outputs": [
    {
     "data": {
      "text/html": [
       "<div>\n",
       "<style scoped>\n",
       "    .dataframe tbody tr th:only-of-type {\n",
       "        vertical-align: middle;\n",
       "    }\n",
       "\n",
       "    .dataframe tbody tr th {\n",
       "        vertical-align: top;\n",
       "    }\n",
       "\n",
       "    .dataframe thead th {\n",
       "        text-align: right;\n",
       "    }\n",
       "</style>\n",
       "<table border=\"1\" class=\"dataframe\">\n",
       "  <thead>\n",
       "    <tr style=\"text-align: right;\">\n",
       "      <th></th>\n",
       "      <th>event_name</th>\n",
       "      <th>user_id</th>\n",
       "      <th>event_timestamp</th>\n",
       "      <th>exp_id</th>\n",
       "      <th>datetime</th>\n",
       "      <th>date</th>\n",
       "    </tr>\n",
       "  </thead>\n",
       "  <tbody>\n",
       "    <tr>\n",
       "      <th>0</th>\n",
       "      <td>MainScreenAppear</td>\n",
       "      <td>4575588528974610257</td>\n",
       "      <td>1564029816</td>\n",
       "      <td>246</td>\n",
       "      <td>2019-07-25 04:43:36</td>\n",
       "      <td>2019-07-25</td>\n",
       "    </tr>\n",
       "    <tr>\n",
       "      <th>1</th>\n",
       "      <td>MainScreenAppear</td>\n",
       "      <td>7416695313311560658</td>\n",
       "      <td>1564053102</td>\n",
       "      <td>246</td>\n",
       "      <td>2019-07-25 11:11:42</td>\n",
       "      <td>2019-07-25</td>\n",
       "    </tr>\n",
       "    <tr>\n",
       "      <th>2</th>\n",
       "      <td>PaymentScreenSuccessful</td>\n",
       "      <td>3518123091307005509</td>\n",
       "      <td>1564054127</td>\n",
       "      <td>248</td>\n",
       "      <td>2019-07-25 11:28:47</td>\n",
       "      <td>2019-07-25</td>\n",
       "    </tr>\n",
       "    <tr>\n",
       "      <th>3</th>\n",
       "      <td>CartScreenAppear</td>\n",
       "      <td>3518123091307005509</td>\n",
       "      <td>1564054127</td>\n",
       "      <td>248</td>\n",
       "      <td>2019-07-25 11:28:47</td>\n",
       "      <td>2019-07-25</td>\n",
       "    </tr>\n",
       "    <tr>\n",
       "      <th>4</th>\n",
       "      <td>PaymentScreenSuccessful</td>\n",
       "      <td>6217807653094995999</td>\n",
       "      <td>1564055322</td>\n",
       "      <td>248</td>\n",
       "      <td>2019-07-25 11:48:42</td>\n",
       "      <td>2019-07-25</td>\n",
       "    </tr>\n",
       "  </tbody>\n",
       "</table>\n",
       "</div>"
      ],
      "text/plain": [
       "                event_name              user_id  event_timestamp  exp_id  \\\n",
       "0         MainScreenAppear  4575588528974610257       1564029816     246   \n",
       "1         MainScreenAppear  7416695313311560658       1564053102     246   \n",
       "2  PaymentScreenSuccessful  3518123091307005509       1564054127     248   \n",
       "3         CartScreenAppear  3518123091307005509       1564054127     248   \n",
       "4  PaymentScreenSuccessful  6217807653094995999       1564055322     248   \n",
       "\n",
       "             datetime        date  \n",
       "0 2019-07-25 04:43:36  2019-07-25  \n",
       "1 2019-07-25 11:11:42  2019-07-25  \n",
       "2 2019-07-25 11:28:47  2019-07-25  \n",
       "3 2019-07-25 11:28:47  2019-07-25  \n",
       "4 2019-07-25 11:48:42  2019-07-25  "
      ]
     },
     "execution_count": 10,
     "metadata": {},
     "output_type": "execute_result"
    }
   ],
   "source": [
    "df['date'] = df['datetime'].dt.date\n",
    "df.head(5)"
   ]
  },
  {
   "cell_type": "code",
   "execution_count": 11,
   "metadata": {},
   "outputs": [
    {
     "name": "stdout",
     "output_type": "stream",
     "text": [
      "<class 'pandas.core.frame.DataFrame'>\n",
      "RangeIndex: 243713 entries, 0 to 243712\n",
      "Data columns (total 6 columns):\n",
      " #   Column           Non-Null Count   Dtype         \n",
      "---  ------           --------------   -----         \n",
      " 0   event_name       243713 non-null  object        \n",
      " 1   user_id          243713 non-null  int64         \n",
      " 2   event_timestamp  243713 non-null  int64         \n",
      " 3   exp_id           243713 non-null  int64         \n",
      " 4   datetime         243713 non-null  datetime64[ns]\n",
      " 5   date             243713 non-null  object        \n",
      "dtypes: datetime64[ns](1), int64(3), object(2)\n",
      "memory usage: 11.2+ MB\n"
     ]
    }
   ],
   "source": [
    "df.info()"
   ]
  },
  {
   "cell_type": "markdown",
   "metadata": {},
   "source": [
    "В столбеце \"date\" поменяем тип на \"datetime64\""
   ]
  },
  {
   "cell_type": "code",
   "execution_count": 12,
   "metadata": {
    "scrolled": true
   },
   "outputs": [
    {
     "name": "stdout",
     "output_type": "stream",
     "text": [
      "<class 'pandas.core.frame.DataFrame'>\n",
      "RangeIndex: 243713 entries, 0 to 243712\n",
      "Data columns (total 6 columns):\n",
      " #   Column           Non-Null Count   Dtype         \n",
      "---  ------           --------------   -----         \n",
      " 0   event_name       243713 non-null  object        \n",
      " 1   user_id          243713 non-null  int64         \n",
      " 2   event_timestamp  243713 non-null  int64         \n",
      " 3   exp_id           243713 non-null  int64         \n",
      " 4   datetime         243713 non-null  datetime64[ns]\n",
      " 5   date             243713 non-null  datetime64[ns]\n",
      "dtypes: datetime64[ns](2), int64(3), object(1)\n",
      "memory usage: 11.2+ MB\n"
     ]
    }
   ],
   "source": [
    "df['date'] = df['date'].astype('datetime64')\n",
    "df.info()"
   ]
  },
  {
   "cell_type": "markdown",
   "metadata": {},
   "source": [
    "Проверим группы на совпадения пользователей"
   ]
  },
  {
   "cell_type": "code",
   "execution_count": 13,
   "metadata": {},
   "outputs": [
    {
     "data": {
      "text/html": [
       "<div>\n",
       "<style scoped>\n",
       "    .dataframe tbody tr th:only-of-type {\n",
       "        vertical-align: middle;\n",
       "    }\n",
       "\n",
       "    .dataframe tbody tr th {\n",
       "        vertical-align: top;\n",
       "    }\n",
       "\n",
       "    .dataframe thead th {\n",
       "        text-align: right;\n",
       "    }\n",
       "</style>\n",
       "<table border=\"1\" class=\"dataframe\">\n",
       "  <thead>\n",
       "    <tr style=\"text-align: right;\">\n",
       "      <th></th>\n",
       "      <th>user_id</th>\n",
       "    </tr>\n",
       "    <tr>\n",
       "      <th>exp_id</th>\n",
       "      <th></th>\n",
       "    </tr>\n",
       "  </thead>\n",
       "  <tbody>\n",
       "    <tr>\n",
       "      <th>246</th>\n",
       "      <td>2489</td>\n",
       "    </tr>\n",
       "    <tr>\n",
       "      <th>247</th>\n",
       "      <td>2520</td>\n",
       "    </tr>\n",
       "    <tr>\n",
       "      <th>248</th>\n",
       "      <td>2542</td>\n",
       "    </tr>\n",
       "  </tbody>\n",
       "</table>\n",
       "</div>"
      ],
      "text/plain": [
       "        user_id\n",
       "exp_id         \n",
       "246        2489\n",
       "247        2520\n",
       "248        2542"
      ]
     },
     "execution_count": 13,
     "metadata": {},
     "output_type": "execute_result"
    }
   ],
   "source": [
    "df.groupby('exp_id').agg({'user_id': 'nunique'})"
   ]
  },
  {
   "cell_type": "code",
   "execution_count": 14,
   "metadata": {
    "scrolled": true
   },
   "outputs": [
    {
     "name": "stdout",
     "output_type": "stream",
     "text": [
      "Количество пользователей, попавших в несколько групп: 0\n"
     ]
    }
   ],
   "source": [
    "print('Количество пользователей, попавших в несколько групп:',\\\n",
    "      df.groupby('user_id').agg({'exp_id': 'nunique'}).query('exp_id > 1').count()[0])"
   ]
  },
  {
   "cell_type": "markdown",
   "metadata": {},
   "source": [
    "В каждой группе примерно однаковое число пользователей. Пользователей которые могли попасть не только в одну группу - нет."
   ]
  },
  {
   "cell_type": "markdown",
   "metadata": {},
   "source": [
    "**Вывод:**\n",
    "\n",
    "Проведена предобработка таблицы. Всё готово к анализу\n"
   ]
  },
  {
   "cell_type": "markdown",
   "metadata": {},
   "source": [
    "## Изучение и проверка данных"
   ]
  },
  {
   "cell_type": "markdown",
   "metadata": {},
   "source": [
    "### Количество событий в логе"
   ]
  },
  {
   "cell_type": "code",
   "execution_count": 15,
   "metadata": {},
   "outputs": [
    {
     "data": {
      "text/plain": [
       "248    85582\n",
       "246    80181\n",
       "247    77950\n",
       "Name: exp_id, dtype: int64"
      ]
     },
     "execution_count": 15,
     "metadata": {},
     "output_type": "execute_result"
    }
   ],
   "source": [
    "df['exp_id'].value_counts()"
   ]
  },
  {
   "cell_type": "code",
   "execution_count": 16,
   "metadata": {},
   "outputs": [
    {
     "name": "stdout",
     "output_type": "stream",
     "text": [
      "Всего событий в таблице = 243713\n"
     ]
    }
   ],
   "source": [
    "all_events = df['exp_id'].count()\n",
    "print('Всего событий в таблице =', all_events)"
   ]
  },
  {
   "cell_type": "markdown",
   "metadata": {},
   "source": [
    "### Количество пользователей в логе"
   ]
  },
  {
   "cell_type": "code",
   "execution_count": 17,
   "metadata": {},
   "outputs": [
    {
     "name": "stdout",
     "output_type": "stream",
     "text": [
      "Уникальных пользователей в таблице = 7551\n"
     ]
    }
   ],
   "source": [
    "users = df['user_id'].nunique()\n",
    "print('Уникальных пользователей в таблице =', users)"
   ]
  },
  {
   "cell_type": "markdown",
   "metadata": {},
   "source": [
    "### Среднее кол-во событий на пользователя"
   ]
  },
  {
   "cell_type": "code",
   "execution_count": 18,
   "metadata": {
    "scrolled": true
   },
   "outputs": [
    {
     "name": "stdout",
     "output_type": "stream",
     "text": [
      "Среднее кол-во событий на пользователя = 32.3\n"
     ]
    }
   ],
   "source": [
    "print(\"Среднее кол-во событий на пользователя =\", (all_events / users).round(1))"
   ]
  },
  {
   "cell_type": "markdown",
   "metadata": {},
   "source": [
    "Так как среднее арифметическое чувствительно к возможным выбросам в данных и может под их влиянием как уменьшаться, так и увеличиваться, необходимо проверить как описаны данные."
   ]
  },
  {
   "cell_type": "code",
   "execution_count": 19,
   "metadata": {},
   "outputs": [
    {
     "data": {
      "text/html": [
       "<div>\n",
       "<style scoped>\n",
       "    .dataframe tbody tr th:only-of-type {\n",
       "        vertical-align: middle;\n",
       "    }\n",
       "\n",
       "    .dataframe tbody tr th {\n",
       "        vertical-align: top;\n",
       "    }\n",
       "\n",
       "    .dataframe thead th {\n",
       "        text-align: right;\n",
       "    }\n",
       "</style>\n",
       "<table border=\"1\" class=\"dataframe\">\n",
       "  <thead>\n",
       "    <tr style=\"text-align: right;\">\n",
       "      <th></th>\n",
       "      <th>event_name</th>\n",
       "    </tr>\n",
       "  </thead>\n",
       "  <tbody>\n",
       "    <tr>\n",
       "      <th>count</th>\n",
       "      <td>7551.000000</td>\n",
       "    </tr>\n",
       "    <tr>\n",
       "      <th>mean</th>\n",
       "      <td>32.275593</td>\n",
       "    </tr>\n",
       "    <tr>\n",
       "      <th>std</th>\n",
       "      <td>65.154219</td>\n",
       "    </tr>\n",
       "    <tr>\n",
       "      <th>min</th>\n",
       "      <td>1.000000</td>\n",
       "    </tr>\n",
       "    <tr>\n",
       "      <th>25%</th>\n",
       "      <td>9.000000</td>\n",
       "    </tr>\n",
       "    <tr>\n",
       "      <th>50%</th>\n",
       "      <td>20.000000</td>\n",
       "    </tr>\n",
       "    <tr>\n",
       "      <th>75%</th>\n",
       "      <td>37.000000</td>\n",
       "    </tr>\n",
       "    <tr>\n",
       "      <th>max</th>\n",
       "      <td>2307.000000</td>\n",
       "    </tr>\n",
       "  </tbody>\n",
       "</table>\n",
       "</div>"
      ],
      "text/plain": [
       "        event_name\n",
       "count  7551.000000\n",
       "mean     32.275593\n",
       "std      65.154219\n",
       "min       1.000000\n",
       "25%       9.000000\n",
       "50%      20.000000\n",
       "75%      37.000000\n",
       "max    2307.000000"
      ]
     },
     "execution_count": 19,
     "metadata": {},
     "output_type": "execute_result"
    }
   ],
   "source": [
    "df.groupby('user_id').agg({'event_name': 'count'}).describe()"
   ]
  },
  {
   "cell_type": "markdown",
   "metadata": {},
   "source": [
    "Поскольку 75% перцентиль распределения числа событий на пользователя равен всего 37, а максимальное значение событий на одного пользователя равно 2307, можно сказать, что присутствуют выбросы и для расчета среднего лучше использовать медиану."
   ]
  },
  {
   "cell_type": "code",
   "execution_count": 20,
   "metadata": {},
   "outputs": [
    {
     "name": "stdout",
     "output_type": "stream",
     "text": [
      "Медианное кол-во событий на пользователя = 20.0\n"
     ]
    }
   ],
   "source": [
    "print(\"Медианное кол-во событий на пользователя =\", round(df.groupby('user_id').agg({'event_name': 'count'}).median()[0], 1))"
   ]
  },
  {
   "cell_type": "markdown",
   "metadata": {},
   "source": [
    "### Распределение данных во времени"
   ]
  },
  {
   "cell_type": "markdown",
   "metadata": {},
   "source": [
    "Найдем максимальную и минимальную дату."
   ]
  },
  {
   "cell_type": "code",
   "execution_count": 21,
   "metadata": {},
   "outputs": [
    {
     "name": "stdout",
     "output_type": "stream",
     "text": [
      "Минимальная дата наблюдений: 2019-07-25 04:43:36\n",
      "Максимальная дата наблюдений: 2019-08-07 21:15:17\n"
     ]
    }
   ],
   "source": [
    "print('Минимальная дата наблюдений:', df['datetime'].min())\n",
    "print('Максимальная дата наблюдений:', df['datetime'].max())"
   ]
  },
  {
   "cell_type": "markdown",
   "metadata": {},
   "source": [
    "Построим гистограмму по дате и времени"
   ]
  },
  {
   "cell_type": "code",
   "execution_count": 22,
   "metadata": {},
   "outputs": [
    {
     "data": {
      "image/png": "[encoded data removed]",
      "text/plain": [
       "<Figure size 720x360 with 1 Axes>"
      ]
     },
     "metadata": {
      "needs_background": "light"
     },
     "output_type": "display_data"
    }
   ],
   "source": [
    "df['datetime'].hist(figsize=(10, 5))\n",
    "plt.xlabel('Дата и время')\n",
    "plt.ylabel('Кол-во событий')\n",
    "plt.title('Гистограмма распределения событий по дате и времени')\n",
    "plt.xticks(rotation=30)\n",
    "plt.show()"
   ]
  },
  {
   "cell_type": "markdown",
   "metadata": {},
   "source": [
    "Основная масса логов приходится на период с 1 по 7 августа 2019."
   ]
  },
  {
   "cell_type": "markdown",
   "metadata": {},
   "source": [
    "Судя по гистограмме более логично анализировать период данных 1-7.08.2019, записи до этой даты могли появиться ввиду разницы в часовых поясах или же пользователь мог начать сессию в один день и закончить на следующий, таким образом логично будет отбросить все записи до 1 августа."
   ]
  },
  {
   "cell_type": "code",
   "execution_count": 23,
   "metadata": {},
   "outputs": [
    {
     "name": "stdout",
     "output_type": "stream",
     "text": [
      "Новая минимальная дата наблюдений: 2019-08-01 00:07:28\n"
     ]
    }
   ],
   "source": [
    "df = df.query('date >= \"2019-08-01\"')\n",
    "print('Новая минимальная дата наблюдений:', df['datetime'].min())"
   ]
  },
  {
   "cell_type": "markdown",
   "metadata": {},
   "source": [
    "### Количество отброшенных данных"
   ]
  },
  {
   "cell_type": "code",
   "execution_count": 24,
   "metadata": {
    "scrolled": true
   },
   "outputs": [
    {
     "name": "stdout",
     "output_type": "stream",
     "text": [
      "Потеряли 2826 событий, что являлось 1.16% от общего числа данных\n"
     ]
    }
   ],
   "source": [
    "print(f'Потеряли {all_events - len(df)} событий, что являлось {round((all_events - len(df)) / all_events * 100, 2)}% от общего числа данных')"
   ]
  },
  {
   "cell_type": "code",
   "execution_count": 25,
   "metadata": {},
   "outputs": [
    {
     "name": "stdout",
     "output_type": "stream",
     "text": [
      "Потеряли 17 пользователей, что являлось 0.23% от общего числа пользователей\n"
     ]
    }
   ],
   "source": [
    "print(f\"Потеряли {users - df['user_id'].nunique()} пользователей, что являлось {round((users - df['user_id'].nunique()) / users * 100, 2)}% от общего числа пользователей\")"
   ]
  },
  {
   "cell_type": "markdown",
   "metadata": {},
   "source": [
    "Как видно удаленные данные составляли малую часть от общего кол-ва данныз, значит их удаление не повлияет на дальнейшие результаты анализа."
   ]
  },
  {
   "cell_type": "markdown",
   "metadata": {},
   "source": [
    "### Проверка пользователей в группах"
   ]
  },
  {
   "cell_type": "code",
   "execution_count": 26,
   "metadata": {},
   "outputs": [
    {
     "data": {
      "text/plain": [
       "248    84563\n",
       "246    79302\n",
       "247    77022\n",
       "Name: exp_id, dtype: int64"
      ]
     },
     "execution_count": 26,
     "metadata": {},
     "output_type": "execute_result"
    }
   ],
   "source": [
    "df['exp_id'].value_counts()"
   ]
  },
  {
   "cell_type": "code",
   "execution_count": 27,
   "metadata": {},
   "outputs": [
    {
     "data": {
      "text/plain": [
       "exp_id\n",
       "246    2484\n",
       "247    2513\n",
       "248    2537\n",
       "Name: user_id, dtype: int64"
      ]
     },
     "execution_count": 27,
     "metadata": {},
     "output_type": "execute_result"
    }
   ],
   "source": [
    "df.groupby('exp_id')['user_id'].nunique()"
   ]
  },
  {
   "cell_type": "markdown",
   "metadata": {},
   "source": [
    "В каждой группе примерно по 2,5 тысячи пользователей."
   ]
  },
  {
   "cell_type": "markdown",
   "metadata": {},
   "source": [
    "## Изучение воронки событий"
   ]
  },
  {
   "cell_type": "markdown",
   "metadata": {},
   "source": [
    "### Изучим, какие события есть в логах, как часто они встречаются."
   ]
  },
  {
   "cell_type": "code",
   "execution_count": 28,
   "metadata": {},
   "outputs": [
    {
     "data": {
      "text/plain": [
       "event_name\n",
       "MainScreenAppear           117328\n",
       "OffersScreenAppear          46333\n",
       "CartScreenAppear            42303\n",
       "PaymentScreenSuccessful     33918\n",
       "Tutorial                     1005\n",
       "Name: event_name, dtype: int64"
      ]
     },
     "execution_count": 28,
     "metadata": {},
     "output_type": "execute_result"
    }
   ],
   "source": [
    "df.groupby('event_name')['event_name'].count().sort_values(ascending=False)"
   ]
  },
  {
   "cell_type": "markdown",
   "metadata": {},
   "source": [
    "Чтобы было понятнее, приведем перевод названий событий:\n",
    "\n",
    "- MainScreenAppear - Появление главного экрана\n",
    "- OffersScreenAppear - Появление экрана предложений\n",
    "- CartScreenAppear - Появление экрана корзины\n",
    "- PaymentScreenSuccessful - экран платеж успешен\n",
    "- Tutorial - Руководство пользователя"
   ]
  },
  {
   "cell_type": "markdown",
   "metadata": {},
   "source": [
    "Всего в логе встречается 5 событий. Самое распространенное это \"Появление главного экрана\", наименее распространенное \"руководство пользователя\"."
   ]
  },
  {
   "cell_type": "markdown",
   "metadata": {},
   "source": [
    "### Посчитаем, сколько пользователей совершали каждое из этих событий. Отсортируем события по числу пользователей. Посчитаем долю пользователей, которые хоть раз совершали событие."
   ]
  },
  {
   "cell_type": "code",
   "execution_count": 29,
   "metadata": {},
   "outputs": [
    {
     "data": {
      "text/html": [
       "<div>\n",
       "<style scoped>\n",
       "    .dataframe tbody tr th:only-of-type {\n",
       "        vertical-align: middle;\n",
       "    }\n",
       "\n",
       "    .dataframe tbody tr th {\n",
       "        vertical-align: top;\n",
       "    }\n",
       "\n",
       "    .dataframe thead th {\n",
       "        text-align: right;\n",
       "    }\n",
       "</style>\n",
       "<table border=\"1\" class=\"dataframe\">\n",
       "  <thead>\n",
       "    <tr style=\"text-align: right;\">\n",
       "      <th></th>\n",
       "      <th>event_name</th>\n",
       "      <th>cnt_users</th>\n",
       "    </tr>\n",
       "  </thead>\n",
       "  <tbody>\n",
       "    <tr>\n",
       "      <th>0</th>\n",
       "      <td>MainScreenAppear</td>\n",
       "      <td>7419</td>\n",
       "    </tr>\n",
       "    <tr>\n",
       "      <th>1</th>\n",
       "      <td>OffersScreenAppear</td>\n",
       "      <td>4593</td>\n",
       "    </tr>\n",
       "    <tr>\n",
       "      <th>2</th>\n",
       "      <td>CartScreenAppear</td>\n",
       "      <td>3734</td>\n",
       "    </tr>\n",
       "    <tr>\n",
       "      <th>3</th>\n",
       "      <td>PaymentScreenSuccessful</td>\n",
       "      <td>3539</td>\n",
       "    </tr>\n",
       "    <tr>\n",
       "      <th>4</th>\n",
       "      <td>Tutorial</td>\n",
       "      <td>840</td>\n",
       "    </tr>\n",
       "  </tbody>\n",
       "</table>\n",
       "</div>"
      ],
      "text/plain": [
       "                event_name  cnt_users\n",
       "0         MainScreenAppear       7419\n",
       "1       OffersScreenAppear       4593\n",
       "2         CartScreenAppear       3734\n",
       "3  PaymentScreenSuccessful       3539\n",
       "4                 Tutorial        840"
      ]
     },
     "execution_count": 29,
     "metadata": {},
     "output_type": "execute_result"
    }
   ],
   "source": [
    "events_by_users = df.groupby('event_name').agg({'user_id': 'nunique'}).sort_values('user_id', ascending=False).reset_index()\n",
    "events_by_users.columns = ['event_name', 'cnt_users']\n",
    "events_by_users\n"
   ]
  },
  {
   "cell_type": "code",
   "execution_count": 30,
   "metadata": {
    "scrolled": true
   },
   "outputs": [
    {
     "data": {
      "text/html": [
       "<style  type=\"text/css\" >\n",
       "</style><table id=\"T_759a9_\" ><thead>    <tr>        <th class=\"blank level0\" ></th>        <th class=\"col_heading level0 col0\" >event_name</th>        <th class=\"col_heading level0 col1\" >cnt_users</th>        <th class=\"col_heading level0 col2\" >share</th>    </tr></thead><tbody>\n",
       "                <tr>\n",
       "                        <th id=\"T_759a9_level0_row0\" class=\"row_heading level0 row0\" >0</th>\n",
       "                        <td id=\"T_759a9_row0_col0\" class=\"data row0 col0\" >MainScreenAppear</td>\n",
       "                        <td id=\"T_759a9_row0_col1\" class=\"data row0 col1\" >7419</td>\n",
       "                        <td id=\"T_759a9_row0_col2\" class=\"data row0 col2\" >98.47%</td>\n",
       "            </tr>\n",
       "            <tr>\n",
       "                        <th id=\"T_759a9_level0_row1\" class=\"row_heading level0 row1\" >1</th>\n",
       "                        <td id=\"T_759a9_row1_col0\" class=\"data row1 col0\" >OffersScreenAppear</td>\n",
       "                        <td id=\"T_759a9_row1_col1\" class=\"data row1 col1\" >4593</td>\n",
       "                        <td id=\"T_759a9_row1_col2\" class=\"data row1 col2\" >60.96%</td>\n",
       "            </tr>\n",
       "            <tr>\n",
       "                        <th id=\"T_759a9_level0_row2\" class=\"row_heading level0 row2\" >2</th>\n",
       "                        <td id=\"T_759a9_row2_col0\" class=\"data row2 col0\" >CartScreenAppear</td>\n",
       "                        <td id=\"T_759a9_row2_col1\" class=\"data row2 col1\" >3734</td>\n",
       "                        <td id=\"T_759a9_row2_col2\" class=\"data row2 col2\" >49.56%</td>\n",
       "            </tr>\n",
       "            <tr>\n",
       "                        <th id=\"T_759a9_level0_row3\" class=\"row_heading level0 row3\" >3</th>\n",
       "                        <td id=\"T_759a9_row3_col0\" class=\"data row3 col0\" >PaymentScreenSuccessful</td>\n",
       "                        <td id=\"T_759a9_row3_col1\" class=\"data row3 col1\" >3539</td>\n",
       "                        <td id=\"T_759a9_row3_col2\" class=\"data row3 col2\" >46.97%</td>\n",
       "            </tr>\n",
       "            <tr>\n",
       "                        <th id=\"T_759a9_level0_row4\" class=\"row_heading level0 row4\" >4</th>\n",
       "                        <td id=\"T_759a9_row4_col0\" class=\"data row4 col0\" >Tutorial</td>\n",
       "                        <td id=\"T_759a9_row4_col1\" class=\"data row4 col1\" >840</td>\n",
       "                        <td id=\"T_759a9_row4_col2\" class=\"data row4 col2\" >11.15%</td>\n",
       "            </tr>\n",
       "    </tbody></table>"
      ],
      "text/plain": [
       "<pandas.io.formats.style.Styler at 0x7f1608bb8190>"
      ]
     },
     "execution_count": 30,
     "metadata": {},
     "output_type": "execute_result"
    }
   ],
   "source": [
    "events_by_users['share'] = events_by_users['cnt_users'] / df['user_id'].nunique()\n",
    "events_by_users.style.format({'share':'{:.2%}'})"
   ]
  },
  {
   "cell_type": "markdown",
   "metadata": {},
   "source": [
    "98% пользователей попадают на главный экран, почти 50% на экран оплаты и 47% на экран \"оплата прошла успешно\". Значит около 3% пользователей при оплате заказа где-то теряется. В любом случае на первый взгляд показатель конверсии довольно высок."
   ]
  },
  {
   "cell_type": "markdown",
   "metadata": {},
   "source": [
    "### Предположим, в каком порядке происходят события. Все ли они выстраиваются в последовательную цепочку? Их не нужно учитывать при расчёте воронки."
   ]
  },
  {
   "cell_type": "markdown",
   "metadata": {},
   "source": [
    "Событие \"Руководство пользователя\" не входит в воронку, вероятно к нему можно обратиться в любой момент и пользователи редко пользуются этим шагом. Последовательная воронка будет выглядеть так:"
   ]
  },
  {
   "cell_type": "code",
   "execution_count": 31,
   "metadata": {},
   "outputs": [
    {
     "data": {
      "image/svg+xml": [
       "<svg class=\"main-svg\" xmlns=\"http://www.w3.org/2000/svg\" xmlns:xlink=\"http://www.w3.org/1999/xlink\" width=\"840\" height=\"600\" style=\"\" viewBox=\"0 0 700 500\"><rect x=\"0\" y=\"0\" width=\"700\" height=\"500\" style=\"fill: rgb(255, 255, 255); fill-opacity: 1;\"/><defs id=\"defs-4ebb34\"><g class=\"clips\"><clipPath id=\"clip4ebb34xyplot\" class=\"plotclip\"><rect width=\"439\" height=\"320\"/></clipPath><clipPath class=\"axesclip\" id=\"clip4ebb34x\"><rect x=\"181\" y=\"0\" width=\"439\" height=\"500\"/></clipPath><clipPath class=\"axesclip\" id=\"clip4ebb34y\"><rect x=\"0\" y=\"100\" width=\"700\" height=\"320\"/></clipPath><clipPath class=\"axesclip\" id=\"clip4ebb34xy\"><rect x=\"181\" y=\"100\" width=\"439\" height=\"320\"/></clipPath></g><g class=\"gradients\"/><g class=\"patterns\"/></defs><g class=\"bglayer\"><rect class=\"bg\" x=\"181\" y=\"100\" width=\"439\" height=\"320\" style=\"fill: rgb(229, 236, 246); fill-opacity: 1; stroke-width: 0;\"/></g><g class=\"layer-below\"><g class=\"imagelayer\"/><g class=\"shapelayer\"/></g><g class=\"cartesianlayer\"><g class=\"subplot xy\"><g class=\"layer-subplot\"><g class=\"shapelayer\"/><g class=\"imagelayer\"/></g><g class=\"gridlayer\"><g class=\"x\"/><g class=\"y\"/></g><g class=\"zerolinelayer\"/><path class=\"xlines-below\"/><path class=\"ylines-below\"/><g class=\"overlines-below\"/><g class=\"xaxislayer-below\"/><g class=\"yaxislayer-below\"/><g class=\"overaxes-below\"/><g class=\"plot\" transform=\"translate(181,100)\" clip-path=\"url(#clip4ebb34xyplot)\"><g class=\"funnellayer mlayer\"><g class=\"trace bars\" style=\"opacity: 1;\"><g class=\"regions\"><g class=\"region\"><path d=\"M21.95,72L97.2,88H341.8L417.05,72Z\" style=\"stroke-width: 0; fill: rgb(99, 110, 250); fill-opacity: 0.5;\"/></g><g class=\"region\"><path d=\"M97.2,152L120.07,168H318.93L341.8,152Z\" style=\"stroke-width: 0; fill: rgb(99, 110, 250); fill-opacity: 0.5;\"/></g><g class=\"region\"><path d=\"M120.07,232L125.27,248H313.73L318.93,232Z\" style=\"stroke-width: 0; fill: rgb(99, 110, 250); fill-opacity: 0.5;\"/></g><g class=\"region\"><path d=\"M0,0Z\" style=\"stroke-width: 0; fill: rgb(99, 110, 250); fill-opacity: 0.5;\"/></g></g><g class=\"points\"><g class=\"point\"><path d=\"M21.95,8V72H417.05V8Z\" style=\"vector-effect: non-scaling-stroke; fill: rgb(99, 110, 250); fill-opacity: 1; stroke: rgb(68, 68, 68); stroke-opacity: 1; stroke-width: 0px; opacity: 1;\"/><text class=\"bartext bartext-inside\" text-anchor=\"middle\" data-notex=\"1\" x=\"0\" y=\"0\" style=\"font-family: 'Open Sans', verdana, arial, sans-serif; font-size: 12px; fill: rgb(255, 255, 255); fill-opacity: 1; white-space: pre;\" transform=\"translate(219.3359375,44)\">7419</text></g><g class=\"point\"><path d=\"M97.2,88V152H341.8V88Z\" style=\"vector-effect: non-scaling-stroke; fill: rgb(99, 110, 250); fill-opacity: 1; stroke: rgb(68, 68, 68); stroke-opacity: 1; stroke-width: 0px; opacity: 1;\"/><text class=\"bartext bartext-inside\" text-anchor=\"middle\" data-notex=\"1\" x=\"0\" y=\"0\" style=\"font-family: 'Open Sans', verdana, arial, sans-serif; font-size: 12px; fill: rgb(255, 255, 255); fill-opacity: 1; white-space: pre;\" transform=\"translate(219.3359375,124)\">4593</text></g><g class=\"point\"><path d=\"M120.07,168V232H318.93V168Z\" style=\"vector-effect: non-scaling-stroke; fill: rgb(99, 110, 250); fill-opacity: 1; stroke: rgb(68, 68, 68); stroke-opacity: 1; stroke-width: 0px; opacity: 1;\"/><text class=\"bartext bartext-inside\" text-anchor=\"middle\" data-notex=\"1\" x=\"0\" y=\"0\" style=\"font-family: 'Open Sans', verdana, arial, sans-serif; font-size: 12px; fill: rgb(255, 255, 255); fill-opacity: 1; white-space: pre;\" transform=\"translate(219.3359375,204)\">3734</text></g><g class=\"point\"><path d=\"M125.27,248V312H313.73V248Z\" style=\"vector-effect: non-scaling-stroke; fill: rgb(99, 110, 250); fill-opacity: 1; stroke: rgb(68, 68, 68); stroke-opacity: 1; stroke-width: 0px; opacity: 1;\"/><text class=\"bartext bartext-inside\" text-anchor=\"middle\" data-notex=\"1\" x=\"0\" y=\"0\" style=\"font-family: 'Open Sans', verdana, arial, sans-serif; font-size: 12px; fill: rgb(255, 255, 255); fill-opacity: 1; white-space: pre;\" transform=\"translate(219.3359375,284)\">3539</text></g></g></g></g></g><g class=\"overplot\"/><path class=\"xlines-above crisp\" d=\"M0,0\" style=\"fill: none;\"/><path class=\"ylines-above crisp\" d=\"M0,0\" style=\"fill: none;\"/><g class=\"overlines-above\"/><g class=\"xaxislayer-above\"/><g class=\"yaxislayer-above\"><g class=\"ytick\"><text text-anchor=\"end\" x=\"180\" y=\"4.199999999999999\" transform=\"translate(0,380)\" style=\"font-family: 'Open Sans', verdana, arial, sans-serif; font-size: 12px; fill: rgb(42, 63, 95); fill-opacity: 1; white-space: pre; opacity: 1;\">PaymentScreenSuccessful</text></g><g class=\"ytick\"><text text-anchor=\"end\" x=\"180\" y=\"4.199999999999999\" transform=\"translate(0,300)\" style=\"font-family: 'Open Sans', verdana, arial, sans-serif; font-size: 12px; fill: rgb(42, 63, 95); fill-opacity: 1; white-space: pre; opacity: 1;\">CartScreenAppear</text></g><g class=\"ytick\"><text text-anchor=\"end\" x=\"180\" y=\"4.199999999999999\" transform=\"translate(0,220)\" style=\"font-family: 'Open Sans', verdana, arial, sans-serif; font-size: 12px; fill: rgb(42, 63, 95); fill-opacity: 1; white-space: pre; opacity: 1;\">OffersScreenAppear</text></g><g class=\"ytick\"><text text-anchor=\"end\" x=\"180\" y=\"4.199999999999999\" transform=\"translate(0,140)\" style=\"font-family: 'Open Sans', verdana, arial, sans-serif; font-size: 12px; fill: rgb(42, 63, 95); fill-opacity: 1; white-space: pre; opacity: 1;\">MainScreenAppear</text></g></g><g class=\"overaxes-above\"/></g></g><g class=\"polarlayer\"/><g class=\"smithlayer\"/><g class=\"ternarylayer\"/><g class=\"geolayer\"/><g class=\"funnelarealayer\"/><g class=\"pielayer\"/><g class=\"iciclelayer\"/><g class=\"treemaplayer\"/><g class=\"sunburstlayer\"/><g class=\"glimages\"/><defs id=\"topdefs-4ebb34\"><g class=\"clips\"/></defs><g class=\"layer-above\"><g class=\"imagelayer\"/><g class=\"shapelayer\"/></g><g class=\"infolayer\"><g class=\"g-gtitle\"><text class=\"gtitle\" x=\"35\" y=\"50\" text-anchor=\"start\" dy=\"0em\" style=\"font-family: 'Open Sans', verdana, arial, sans-serif; font-size: 17px; fill: rgb(42, 63, 95); opacity: 1; font-weight: normal; white-space: pre;\">Воронка продаж</text></g><g class=\"g-ytitle\" transform=\"translate(1.2060546875,0)\"><text class=\"ytitle\" transform=\"rotate(-90,11.793749999999989,260)\" x=\"11.793749999999989\" y=\"260\" text-anchor=\"middle\" style=\"font-family: 'Open Sans', verdana, arial, sans-serif; font-size: 14px; fill: rgb(42, 63, 95); opacity: 1; font-weight: normal; white-space: pre;\">labels</text></g></g></svg>"
      ]
     },
     "metadata": {},
     "output_type": "display_data"
    }
   ],
   "source": [
    "funnel = events_by_users[['event_name', 'cnt_users']].query('event_name != \"Tutorial\"')\n",
    "data = dict(values=funnel['cnt_users'].to_list(),\n",
    "            labels=funnel['event_name'].to_list())\n",
    "fig = px.funnel(data,  y='labels', x='values', title='Воронка продаж')\n",
    "fig.show()"
   ]
  },
  {
   "cell_type": "markdown",
   "metadata": {},
   "source": [
    "### По воронке событий посчитаем, какая доля пользователей проходит на следующий шаг воронки (от числа пользователей на предыдущем)."
   ]
  },
  {
   "cell_type": "markdown",
   "metadata": {},
   "source": [
    "Для последовательности событий A → B → C, посчитаем отношение числа пользователей с событием B к количеству пользователей с событием A, а также отношение числа пользователей с событием C к количеству пользователей с событием B."
   ]
  },
  {
   "cell_type": "code",
   "execution_count": 32,
   "metadata": {
    "scrolled": true
   },
   "outputs": [
    {
     "data": {
      "text/html": [
       "<div>\n",
       "<style scoped>\n",
       "    .dataframe tbody tr th:only-of-type {\n",
       "        vertical-align: middle;\n",
       "    }\n",
       "\n",
       "    .dataframe tbody tr th {\n",
       "        vertical-align: top;\n",
       "    }\n",
       "\n",
       "    .dataframe thead th {\n",
       "        text-align: right;\n",
       "    }\n",
       "</style>\n",
       "<table border=\"1\" class=\"dataframe\">\n",
       "  <thead>\n",
       "    <tr style=\"text-align: right;\">\n",
       "      <th></th>\n",
       "      <th>event_name</th>\n",
       "      <th>cnt_users</th>\n",
       "      <th>conversion_per_step</th>\n",
       "    </tr>\n",
       "  </thead>\n",
       "  <tbody>\n",
       "    <tr>\n",
       "      <th>0</th>\n",
       "      <td>MainScreenAppear</td>\n",
       "      <td>7419</td>\n",
       "      <td>100.00</td>\n",
       "    </tr>\n",
       "    <tr>\n",
       "      <th>1</th>\n",
       "      <td>OffersScreenAppear</td>\n",
       "      <td>4593</td>\n",
       "      <td>61.91</td>\n",
       "    </tr>\n",
       "    <tr>\n",
       "      <th>2</th>\n",
       "      <td>CartScreenAppear</td>\n",
       "      <td>3734</td>\n",
       "      <td>81.30</td>\n",
       "    </tr>\n",
       "    <tr>\n",
       "      <th>3</th>\n",
       "      <td>PaymentScreenSuccessful</td>\n",
       "      <td>3539</td>\n",
       "      <td>94.78</td>\n",
       "    </tr>\n",
       "  </tbody>\n",
       "</table>\n",
       "</div>"
      ],
      "text/plain": [
       "                event_name  cnt_users  conversion_per_step\n",
       "0         MainScreenAppear       7419               100.00\n",
       "1       OffersScreenAppear       4593                61.91\n",
       "2         CartScreenAppear       3734                81.30\n",
       "3  PaymentScreenSuccessful       3539                94.78"
      ]
     },
     "execution_count": 32,
     "metadata": {},
     "output_type": "execute_result"
    }
   ],
   "source": [
    "funnel['conversion_per_step'] = 0\n",
    "\n",
    "for index in range(0, len(funnel)):\n",
    "    if index == 0:\n",
    "        funnel.loc[index, 'conversion_per_step'] = 100\n",
    "    else:\n",
    "        funnel.loc[index, 'conversion_per_step'] = round(funnel.loc[index, 'cnt_users'] * 100 / funnel.loc[index - 1, 'cnt_users'], 2)\n",
    "funnel"
   ]
  },
  {
   "cell_type": "markdown",
   "metadata": {},
   "source": [
    "Больше всего пользователей теряется при переходе от главного экрана к экрану с предложением, не доходит около 40%. Если в мобильном приложении есть опция сразу отправлять товар в корзину, не заходя на страницу с продуктом, это может объяснить высокую конверсию в 80% на следующем шаге."
   ]
  },
  {
   "cell_type": "markdown",
   "metadata": {},
   "source": [
    "### Посчитаем какая доля пользователей доходит от первого события до оплаты?"
   ]
  },
  {
   "cell_type": "code",
   "execution_count": 33,
   "metadata": {},
   "outputs": [
    {
     "data": {
      "text/html": [
       "<div>\n",
       "<style scoped>\n",
       "    .dataframe tbody tr th:only-of-type {\n",
       "        vertical-align: middle;\n",
       "    }\n",
       "\n",
       "    .dataframe tbody tr th {\n",
       "        vertical-align: top;\n",
       "    }\n",
       "\n",
       "    .dataframe thead th {\n",
       "        text-align: right;\n",
       "    }\n",
       "</style>\n",
       "<table border=\"1\" class=\"dataframe\">\n",
       "  <thead>\n",
       "    <tr style=\"text-align: right;\">\n",
       "      <th></th>\n",
       "      <th>event_name</th>\n",
       "      <th>cnt_users</th>\n",
       "      <th>conversion_per_step</th>\n",
       "      <th>conversion</th>\n",
       "    </tr>\n",
       "  </thead>\n",
       "  <tbody>\n",
       "    <tr>\n",
       "      <th>0</th>\n",
       "      <td>MainScreenAppear</td>\n",
       "      <td>7419</td>\n",
       "      <td>100.00</td>\n",
       "      <td>100.00</td>\n",
       "    </tr>\n",
       "    <tr>\n",
       "      <th>1</th>\n",
       "      <td>OffersScreenAppear</td>\n",
       "      <td>4593</td>\n",
       "      <td>61.91</td>\n",
       "      <td>61.91</td>\n",
       "    </tr>\n",
       "    <tr>\n",
       "      <th>2</th>\n",
       "      <td>CartScreenAppear</td>\n",
       "      <td>3734</td>\n",
       "      <td>81.30</td>\n",
       "      <td>50.33</td>\n",
       "    </tr>\n",
       "    <tr>\n",
       "      <th>3</th>\n",
       "      <td>PaymentScreenSuccessful</td>\n",
       "      <td>3539</td>\n",
       "      <td>94.78</td>\n",
       "      <td>47.70</td>\n",
       "    </tr>\n",
       "  </tbody>\n",
       "</table>\n",
       "</div>"
      ],
      "text/plain": [
       "                event_name  cnt_users  conversion_per_step  conversion\n",
       "0         MainScreenAppear       7419               100.00      100.00\n",
       "1       OffersScreenAppear       4593                61.91       61.91\n",
       "2         CartScreenAppear       3734                81.30       50.33\n",
       "3  PaymentScreenSuccessful       3539                94.78       47.70"
      ]
     },
     "execution_count": 33,
     "metadata": {},
     "output_type": "execute_result"
    }
   ],
   "source": [
    "funnel['conversion'] = 0\n",
    "\n",
    "for index in range(0, len(funnel)):\n",
    "    if index == 0:\n",
    "        funnel.loc[index, 'conversion'] = 100\n",
    "    else:\n",
    "        funnel.loc[index, 'conversion'] = round(funnel.loc[index, 'cnt_users'] * 100 / funnel.loc[0, 'cnt_users'], 2)\n",
    "funnel"
   ]
  },
  {
   "cell_type": "markdown",
   "metadata": {},
   "source": [
    "От страницы главного экрана до оплаты доходит почти 48% пользователей."
   ]
  },
  {
   "cell_type": "markdown",
   "metadata": {},
   "source": [
    "## Изучение результатов эксперимента"
   ]
  },
  {
   "cell_type": "markdown",
   "metadata": {},
   "source": [
    "### Посчитаем сколько пользователей в каждой экспериментальной группе"
   ]
  },
  {
   "cell_type": "code",
   "execution_count": 34,
   "metadata": {},
   "outputs": [
    {
     "data": {
      "text/html": [
       "<div>\n",
       "<style scoped>\n",
       "    .dataframe tbody tr th:only-of-type {\n",
       "        vertical-align: middle;\n",
       "    }\n",
       "\n",
       "    .dataframe tbody tr th {\n",
       "        vertical-align: top;\n",
       "    }\n",
       "\n",
       "    .dataframe thead th {\n",
       "        text-align: right;\n",
       "    }\n",
       "</style>\n",
       "<table border=\"1\" class=\"dataframe\">\n",
       "  <thead>\n",
       "    <tr style=\"text-align: right;\">\n",
       "      <th></th>\n",
       "      <th>user_id</th>\n",
       "    </tr>\n",
       "    <tr>\n",
       "      <th>exp_id</th>\n",
       "      <th></th>\n",
       "    </tr>\n",
       "  </thead>\n",
       "  <tbody>\n",
       "    <tr>\n",
       "      <th>246</th>\n",
       "      <td>2484</td>\n",
       "    </tr>\n",
       "    <tr>\n",
       "      <th>247</th>\n",
       "      <td>2513</td>\n",
       "    </tr>\n",
       "    <tr>\n",
       "      <th>248</th>\n",
       "      <td>2537</td>\n",
       "    </tr>\n",
       "  </tbody>\n",
       "</table>\n",
       "</div>"
      ],
      "text/plain": [
       "        user_id\n",
       "exp_id         \n",
       "246        2484\n",
       "247        2513\n",
       "248        2537"
      ]
     },
     "execution_count": 34,
     "metadata": {},
     "output_type": "execute_result"
    }
   ],
   "source": [
    "df.groupby('exp_id').agg({'user_id': 'nunique'})"
   ]
  },
  {
   "cell_type": "markdown",
   "metadata": {},
   "source": [
    "### Есть 2 контрольные группы для А/А-эксперимента, чтобы проверить корректность всех механизмов и расчётов. Проверим, находят ли статистические критерии разницу между выборками 246 и 247."
   ]
  },
  {
   "cell_type": "markdown",
   "metadata": {},
   "source": [
    "Выберите самое популярное событие. Посчитайте число пользователей, совершивших это событие в каждой из контрольных групп. Посчитайте долю пользователей, совершивших это событие. Проверьте, будет ли отличие между группами статистически достоверным. Проделайте то же самое для всех других событий (удобно обернуть проверку в отдельную функцию). Можно ли сказать, что разбиение на группы работает корректно?"
   ]
  },
  {
   "cell_type": "markdown",
   "metadata": {},
   "source": [
    "Cамое популярное событие как мы выяснили ранее было появление главного экрана"
   ]
  },
  {
   "cell_type": "code",
   "execution_count": 35,
   "metadata": {},
   "outputs": [
    {
     "data": {
      "text/html": [
       "<style  type=\"text/css\" >\n",
       "</style><table id=\"T_d1c2d_\" ><thead>    <tr>        <th class=\"blank level0\" ></th>        <th class=\"col_heading level0 col0\" >count_users</th>        <th class=\"col_heading level0 col1\" >share_users</th>    </tr>    <tr>        <th class=\"index_name level0\" >exp_id</th>        <th class=\"blank\" ></th>        <th class=\"blank\" ></th>    </tr></thead><tbody>\n",
       "                <tr>\n",
       "                        <th id=\"T_d1c2d_level0_row0\" class=\"row_heading level0 row0\" >246</th>\n",
       "                        <td id=\"T_d1c2d_row0_col0\" class=\"data row0 col0\" >2450</td>\n",
       "                        <td id=\"T_d1c2d_row0_col1\" class=\"data row0 col1\" >98.63%</td>\n",
       "            </tr>\n",
       "            <tr>\n",
       "                        <th id=\"T_d1c2d_level0_row1\" class=\"row_heading level0 row1\" >247</th>\n",
       "                        <td id=\"T_d1c2d_row1_col0\" class=\"data row1 col0\" >2476</td>\n",
       "                        <td id=\"T_d1c2d_row1_col1\" class=\"data row1 col1\" >98.53%</td>\n",
       "            </tr>\n",
       "    </tbody></table>"
      ],
      "text/plain": [
       "<pandas.io.formats.style.Styler at 0x7f15fe808700>"
      ]
     },
     "execution_count": 35,
     "metadata": {},
     "output_type": "execute_result"
    }
   ],
   "source": [
    "check_groups = df.query('event_name == \"MainScreenAppear\" & (exp_id == 246 | exp_id == 247)').groupby('exp_id').agg({'user_id':'nunique'})\n",
    "check_groups.columns = ['count_users']\n",
    "total_246 = df.query('exp_id == 246')['user_id'].nunique()\n",
    "total_247 = df.query('exp_id == 247')['user_id'].nunique()\n",
    "check_groups.loc[246, 'share_users'] = check_groups.loc[246, 'count_users'] / total_246\n",
    "check_groups.loc[247, 'share_users'] = check_groups.loc[247, 'count_users'] / total_247\n",
    "check_groups.style.format({'share_users':'{:.2%}'})"
   ]
  },
  {
   "cell_type": "markdown",
   "metadata": {},
   "source": [
    "Перед тем как начать A/B-тест уточним:\n",
    "\n",
    "- на результаты не влияют аномалии и выбросы в генеральной совокупности;\n",
    "- инструмент «деления» трафика работает безошибочно;\n",
    "- данные отправляются в системы аналитики корректно.\n",
    "\n",
    "Для этого проводят A/A-тест. Он похож на A/B-тест, только группам показывают не разные, а одинаковые версии страниц. Если трафик и инструмент проведения A/A-теста не подвели, различий в показателях не будет. Ещё А/А-тест помогает определить длительность теста и методику анализа данных."
   ]
  },
  {
   "cell_type": "markdown",
   "metadata": {},
   "source": [
    "Критерии успешного A/A-теста:\n",
    "\n",
    "- Количество пользователей в различных группах различается не более, чем на 1%;\n",
    "- Для всех групп фиксируют и отправляют в системы аналитики данные об одном и том же;\n",
    "- Различие ключевых метрик по группам не превышает 1% и не имеет статистической значимости;\n",
    "- Попавший в одну из групп посетитель остаётся в этой группе до конца теста. Если пользователь видит разные версии исследуемой страницы в ходе одного исследования, неизвестно, какая именно повлияла на его решения. Значит, и результаты такого теста нельзя интерпретировать однозначно."
   ]
  },
  {
   "cell_type": "markdown",
   "metadata": {},
   "source": [
    "Сформулируем гипотезы:\n",
    "\n",
    "**Нулевая гипотеза: различий в долях проверяемых событий групп 246 и 247 нет**\n",
    "\n",
    "**Альтернативная гипотеза: между долями проверяемых событий групп 246 и 247 есть значимая разница**\n",
    "\n",
    "**Уровень стастической значимости равен 5%**\n",
    "\n",
    "**Тест (критерий) проверки гипотез - Односторонний тест (критерий)**\n",
    "\n",
    "Если p-значение <= alpha (уровень стастической значимости), мы отвергаем нулевую гипотезу и говорим, что данные статистически значимы. в противном случае мы принимаем нулевую гипотезу.\n",
    "\n"
   ]
  },
  {
   "cell_type": "code",
   "execution_count": 36,
   "metadata": {},
   "outputs": [],
   "source": [
    "# напишем функцию для автоматизации теста\n",
    "def test_z(group1, group2, event, alpha):\n",
    "\n",
    "    def successes_trials(group1, group2, event):\n",
    "    \n",
    "        successes = np.array([df.query(f'exp_id == {group1} & event_name == \"{event}\"')['user_id'].nunique(),\\\n",
    "                          df.query(f'exp_id == {group2} & event_name == \"{event}\"')['user_id'].nunique()])\n",
    "\n",
    "        trials = np.array([df.query(f'exp_id == {group1}')['user_id'].nunique(),\\\n",
    "                           df.query(f'exp_id == {group2}')['user_id'].nunique()])\n",
    "        return successes, trials\n",
    "    \n",
    "    successes, trials = successes_trials(group1, group2, event) \n",
    "    # пропорция успехов в первой группе:\n",
    "    p1 = successes[0]/trials[0]\n",
    " \n",
    "    # пропорция успехов во второй группе:\n",
    "    p2 = successes[1]/trials[1]\n",
    " \n",
    "    # пропорция успехов в комбинированном датасете:\n",
    "    p_combined = (successes[0] + successes[1]) / (trials[0] + trials[1])\n",
    " \n",
    "    # разница пропорций в датасетах\n",
    "    difference = p1 - p2 \n",
    " \n",
    "    # считаем статистику в ст.отклонениях стандартного нормального распределения\n",
    "    z_value = difference / mth.sqrt(p_combined * (1 - p_combined) * (1/trials[0] + 1/trials[1]))\n",
    " \n",
    "    # задаем стандартное нормальное распределение (среднее 0, ст.отклонение 1)\n",
    "    distr = stats.norm(0, 1) \n",
    " \n",
    "    p_value = (1 - distr.cdf(abs(z_value))) * 2\n",
    "    \n",
    "    print(f'Результаты теста для групп {group1} и {group2} и события {event}')\n",
    " \n",
    "    print('p-значение: ', p_value)\n",
    "    if p_value < alpha:\n",
    "        print('Отвергаем нулевую гипотезу: между долями есть значимая разница')\n",
    "    else:\n",
    "        print('Не получилось отвергнуть нулевую гипотезу, нет оснований считать доли разными')"
   ]
  },
  {
   "cell_type": "code",
   "execution_count": 37,
   "metadata": {},
   "outputs": [
    {
     "name": "stdout",
     "output_type": "stream",
     "text": [
      "Результаты теста для групп 246 и 247 и события MainScreenAppear\n",
      "p-значение:  0.7570597232046099\n",
      "Не получилось отвергнуть нулевую гипотезу, нет оснований считать доли разными\n"
     ]
    }
   ],
   "source": [
    "test_z(246, 247, 'MainScreenAppear', 0.05)"
   ]
  },
  {
   "cell_type": "code",
   "execution_count": 38,
   "metadata": {},
   "outputs": [
    {
     "name": "stdout",
     "output_type": "stream",
     "text": [
      "Результаты теста для групп 246 и 247 и события OffersScreenAppear\n",
      "p-значение:  0.2480954578522181\n",
      "Не получилось отвергнуть нулевую гипотезу, нет оснований считать доли разными\n"
     ]
    }
   ],
   "source": [
    "test_z(246, 247, 'OffersScreenAppear', 0.05)"
   ]
  },
  {
   "cell_type": "code",
   "execution_count": 39,
   "metadata": {},
   "outputs": [
    {
     "name": "stdout",
     "output_type": "stream",
     "text": [
      "Результаты теста для групп 246 и 247 и события CartScreenAppear\n",
      "p-значение:  0.22883372237997213\n",
      "Не получилось отвергнуть нулевую гипотезу, нет оснований считать доли разными\n"
     ]
    }
   ],
   "source": [
    "test_z(246, 247, 'CartScreenAppear', 0.05)"
   ]
  },
  {
   "cell_type": "code",
   "execution_count": 40,
   "metadata": {},
   "outputs": [
    {
     "name": "stdout",
     "output_type": "stream",
     "text": [
      "Результаты теста для групп 246 и 247 и события PaymentScreenSuccessful\n",
      "p-значение:  0.11456679313141849\n",
      "Не получилось отвергнуть нулевую гипотезу, нет оснований считать доли разными\n"
     ]
    }
   ],
   "source": [
    "test_z(246, 247, 'PaymentScreenSuccessful', 0.05)"
   ]
  },
  {
   "cell_type": "markdown",
   "metadata": {},
   "source": [
    "Согласно проведенным тестам, различие между контрольными группа 246 и 247 статистически незначимо, поэтому можно сказать, что разбиение на группы работает корректно."
   ]
  },
  {
   "cell_type": "markdown",
   "metadata": {},
   "source": [
    "**Аналогично поступим с группой с изменённым шрифтом. Сравните результаты с каждой из контрольных групп в отдельности по каждому событию. Сравните результаты с объединённой контрольной группой. Какие выводы из эксперимента можно сделать?**"
   ]
  },
  {
   "cell_type": "markdown",
   "metadata": {},
   "source": [
    "Сформулируем гипотезы:\n",
    "\n",
    "**Нулевая гипотеза: различий в долях проверяемых событий групп 246 и 248 нет**\n",
    "\n",
    "**Альтернативная гипотеза: между долями проверяемых событий групп 246 и 248 есть значимая разница**\n",
    "\n",
    "**Уровень стастической значимости равен 5%**\n",
    "\n",
    "**Тест (критерий) проверки гипотез - Односторонний тест (критерий)**\n",
    "\n",
    "Если p-значение <= alpha (уровень стастической значимости), мы отвергаем нулевую гипотезу и говорим, что данные статистически значимы. в противном случае мы принимаем нулевую гипотезу."
   ]
  },
  {
   "cell_type": "code",
   "execution_count": 41,
   "metadata": {},
   "outputs": [
    {
     "name": "stdout",
     "output_type": "stream",
     "text": [
      "Результаты теста для групп 246 и 248 и события MainScreenAppear\n",
      "p-значение:  0.2949721933554552\n",
      "Не получилось отвергнуть нулевую гипотезу, нет оснований считать доли разными\n",
      "\n",
      "Результаты теста для групп 246 и 248 и события OffersScreenAppear\n",
      "p-значение:  0.20836205402738917\n",
      "Не получилось отвергнуть нулевую гипотезу, нет оснований считать доли разными\n",
      "\n",
      "Результаты теста для групп 246 и 248 и события CartScreenAppear\n",
      "p-значение:  0.07842923237520116\n",
      "Не получилось отвергнуть нулевую гипотезу, нет оснований считать доли разными\n",
      "\n",
      "Результаты теста для групп 246 и 248 и события PaymentScreenSuccessful\n",
      "p-значение:  0.2122553275697796\n",
      "Не получилось отвергнуть нулевую гипотезу, нет оснований считать доли разными\n"
     ]
    }
   ],
   "source": [
    "# сравним контрольную 246 группу и экспериментальную 248\n",
    "test_z(246, 248, 'MainScreenAppear', 0.05)\n",
    "print()\n",
    "test_z(246, 248, 'OffersScreenAppear', 0.05)\n",
    "print()\n",
    "test_z(246, 248, 'CartScreenAppear', 0.05)\n",
    "print()\n",
    "test_z(246, 248, 'PaymentScreenSuccessful', 0.05)"
   ]
  },
  {
   "cell_type": "markdown",
   "metadata": {},
   "source": [
    "Сформулируем гипотезы:\n",
    "\n",
    "**Нулевая гипотеза: различий в долях проверяемых событий групп 247 и 248 нет***\n",
    "\n",
    "**Альтернативная гипотеза: между долями проверяемых событий групп 247 и 248 есть значимая разница**\n",
    "\n",
    "**Уровень стастической значимости равен 5%**\n",
    "\n",
    "**Тест (критерий) проверки гипотез - Односторонний тест (критерий)**\n",
    "\n",
    "Если p-значение <= alpha (уровень стастической значимости), мы отвергаем нулевую гипотезу и говорим, что данные статистически значимы. в противном случае мы принимаем нулевую гипотезу."
   ]
  },
  {
   "cell_type": "code",
   "execution_count": 42,
   "metadata": {},
   "outputs": [
    {
     "name": "stdout",
     "output_type": "stream",
     "text": [
      "Результаты теста для групп 247 и 248 и события MainScreenAppear\n",
      "p-значение:  0.4587053616621515\n",
      "Не получилось отвергнуть нулевую гипотезу, нет оснований считать доли разными\n",
      "\n",
      "Результаты теста для групп 247 и 248 и события OffersScreenAppear\n",
      "p-значение:  0.9197817830592261\n",
      "Не получилось отвергнуть нулевую гипотезу, нет оснований считать доли разными\n",
      "\n",
      "Результаты теста для групп 247 и 248 и события CartScreenAppear\n",
      "p-значение:  0.5786197879539783\n",
      "Не получилось отвергнуть нулевую гипотезу, нет оснований считать доли разными\n",
      "\n",
      "Результаты теста для групп 247 и 248 и события PaymentScreenSuccessful\n",
      "p-значение:  0.7373415053803964\n",
      "Не получилось отвергнуть нулевую гипотезу, нет оснований считать доли разными\n"
     ]
    }
   ],
   "source": [
    "# сравним контрольную 247 группу и экспериментальную 248\n",
    "test_z(247, 248, 'MainScreenAppear', 0.05)\n",
    "print()\n",
    "test_z(247, 248, 'OffersScreenAppear', 0.05)\n",
    "print()\n",
    "test_z(247, 248, 'CartScreenAppear', 0.05)\n",
    "print()\n",
    "test_z(247, 248, 'PaymentScreenSuccessful', 0.05)"
   ]
  },
  {
   "cell_type": "markdown",
   "metadata": {},
   "source": [
    "Немного изменим функцию для автоматизации теста, чтобы в агрументе group1 функции можно было передавать параметр в виде списка групп"
   ]
  },
  {
   "cell_type": "code",
   "execution_count": 43,
   "metadata": {},
   "outputs": [],
   "source": [
    "def test_z_3_groups(group1, group2, event, alpha):\n",
    "\n",
    "    def successes_trials_3_groups(group1, group2, event):\n",
    "    #изменили вот тут\n",
    "        successes = np.array([df.query(f'exp_id.isin({group1}) & event_name == \"{event}\"')['user_id'].nunique(),\\\n",
    "                              df.query(f'exp_id == {group2} & event_name == \"{event}\"')['user_id'].nunique()])\n",
    "    #и вот тут\n",
    "        trials = np.array([df.query(f'exp_id.isin({group1})')['user_id'].nunique(),\\\n",
    "                           df.query(f'exp_id == {group2}')['user_id'].nunique()])\n",
    "        return successes, trials\n",
    "    \n",
    "    successes, trials = successes_trials_3_groups(group1, group2, event) \n",
    "    # пропорция успехов в первой группе:\n",
    "    p1 = successes[0]/trials[0]\n",
    " \n",
    "    # пропорция успехов во второй группе:\n",
    "    p2 = successes[1]/trials[1]\n",
    " \n",
    "    # пропорция успехов в комбинированном датасете:\n",
    "    p_combined = (successes[0] + successes[1]) / (trials[0] + trials[1])\n",
    " \n",
    "    # разница пропорций в датасетах\n",
    "    difference = p1 - p2 \n",
    " \n",
    "    # считаем статистику в ст.отклонениях стандартного нормального распределения\n",
    "    z_value = difference / mth.sqrt(p_combined * (1 - p_combined) * (1/trials[0] + 1/trials[1]))\n",
    " \n",
    "    # задаем стандартное нормальное распределение (среднее 0, ст.отклонение 1)\n",
    "    distr = stats.norm(0, 1) \n",
    " \n",
    "    p_value = (1 - distr.cdf(abs(z_value))) * 2\n",
    "    \n",
    "    print(f'Результаты теста для групп {group1} и {group2} и события {event}')\n",
    " \n",
    "    print('p-значение: ', p_value)\n",
    "    if p_value < alpha:\n",
    "        print('Отвергаем нулевую гипотезу: между долями есть значимая разница')\n",
    "    else:\n",
    "        print('Не получилось отвергнуть нулевую гипотезу, нет оснований считать доли разными')"
   ]
  },
  {
   "cell_type": "markdown",
   "metadata": {},
   "source": [
    "Сформулируем гипотезы:\n",
    "\n",
    "**Нулевая гипотеза: различий в долях проверяемых событий между объединенными контрольными группами 246, 247 и контрольной 248 нет**\n",
    "\n",
    "**Альтернативая гипотеза: между долями проверяемых событий контрольных групп 246, 247 и контрольной группой 248 есть значимая разница**\n",
    "\n",
    "**Уровень стастической значимости равен 5%**\n",
    "\n",
    "**Тест (критерий) проверки гипотез - Односторонний тест (критерий)**\n",
    "\n",
    "Если p-значение <= alpha (уровень стастической значимости), мы отвергаем нулевую гипотезу и говорим, что данные статистически значимы. в противном случае мы принимаем нулевую гипотезу."
   ]
  },
  {
   "cell_type": "code",
   "execution_count": 44,
   "metadata": {},
   "outputs": [
    {
     "name": "stdout",
     "output_type": "stream",
     "text": [
      "Результаты теста для групп [246, 247] и 248 и события MainScreenAppear\n",
      "p-значение:  0.29424526837179577\n",
      "Не получилось отвергнуть нулевую гипотезу, нет оснований считать доли разными\n",
      "\n",
      "Результаты теста для групп [246, 247] и 248 и события OffersScreenAppear\n",
      "p-значение:  0.43425549655188256\n",
      "Не получилось отвергнуть нулевую гипотезу, нет оснований считать доли разными\n",
      "\n",
      "Результаты теста для групп [246, 247] и 248 и события CartScreenAppear\n",
      "p-значение:  0.18175875284404386\n",
      "Не получилось отвергнуть нулевую гипотезу, нет оснований считать доли разными\n",
      "\n",
      "Результаты теста для групп [246, 247] и 248 и события PaymentScreenSuccessful\n",
      "p-значение:  0.6004294282308704\n",
      "Не получилось отвергнуть нулевую гипотезу, нет оснований считать доли разными\n"
     ]
    }
   ],
   "source": [
    "test_z_3_groups([246, 247], 248, 'MainScreenAppear', 0.05)\n",
    "print()\n",
    "test_z_3_groups([246, 247], 248, 'OffersScreenAppear', 0.05)\n",
    "print()\n",
    "test_z_3_groups([246, 247], 248, 'CartScreenAppear', 0.05)\n",
    "print()\n",
    "test_z_3_groups([246, 247], 248, 'PaymentScreenSuccessful', 0.05)"
   ]
  },
  {
   "cell_type": "markdown",
   "metadata": {},
   "source": [
    "Согласно проведенным тестам различия между контрольными группами 246 и 247 и экспериментальной 248 являются статистически незначимыми. Таким образом можно сказать, что изменение шрифтов во всем приложении не повлияло на воронку продаж, и пользователи переходят от шага к шагу в одинаковых пропорциях, независимо от шрифта приложения."
   ]
  },
  {
   "cell_type": "markdown",
   "metadata": {},
   "source": [
    "**Какой уровень значимости вы выбрали при проверке статистических гипотез выше? Посчитайте, сколько проверок статистических гипотез вы сделали. При уровне значимости 0.1 каждый десятый раз можно получать ложный результат. Какой уровень значимости стоит применить? Если вы хотите изменить его, проделайте предыдущие пункты и проверьте свои выводы.**"
   ]
  },
  {
   "cell_type": "markdown",
   "metadata": {},
   "source": [
    "Всего было проведено 16 статистических тестов, уровень значимости везде был равен 5%. Несмотря на то, что тесты были множественные, т.е. проводились несколько раз на одних и тех же данных, использовать методы корректировки уровня значимости нецелесообразно, так как в нашем случае уже при уровне значимости в 5% нулевые гипотезы не отвергаются, следовательно при уменьшении уровня значимости они не отвергались бы тем более."
   ]
  },
  {
   "cell_type": "markdown",
   "metadata": {},
   "source": [
    "**Вывод:**\n",
    "\n"
   ]
  },
  {
   "cell_type": "markdown",
   "metadata": {},
   "source": [
    "В ходе проведенного анализа результатов A/A/B-теста за период 1.08.2019 по 7.08.2019 было выявлено следующее:\n",
    "\n",
    "- в среднем на одного пользователя приходится 20 событий;\n",
    "\n",
    "- 98% от общего числа пользователей посещают главный экран, из них 61% переходит на экран с предложением, далее в корзину попадает 81% и наконец оплачивают заказ 94%, при этом непосредственно от первого события до оплаты доходит 47%;\n",
    "\n",
    "- по проведенным статистическим тестам различий в двух контрольных группах не выявлено, это говорит о том что данные собраны качественно и результатам A/A/B-теста можно доверять;\n",
    "\n",
    "- по проведенным статистическим тестам различий между контрольными группа и экспериментальной также не выявлено, как при сравнении по отдельности так и при объединении контрольных групп в одну.\n",
    "\n",
    "Исходя из проведенного анализа можно сделать вывод, что на основании корректно проведенного A/A/B-теста изменение шрифтов в приложении не повлияло на поведение пользователей."
   ]
  },
  {
   "cell_type": "code",
   "execution_count": null,
   "metadata": {},
   "outputs": [],
   "source": []
  }
 ],
 "metadata": {
  "ExecuteTimeLog": [
   {
    "duration": 58,
    "start_time": "2023-04-13T19:46:04.841Z"
   },
   {
    "duration": 1388,
    "start_time": "2023-04-13T19:49:42.106Z"
   },
   {
    "duration": 95,
    "start_time": "2023-04-13T19:51:49.024Z"
   },
   {
    "duration": 985,
    "start_time": "2023-04-13T19:51:59.691Z"
   },
   {
    "duration": 166,
    "start_time": "2023-04-13T19:52:15.886Z"
   },
   {
    "duration": 157,
    "start_time": "2023-04-13T19:52:22.041Z"
   },
   {
    "duration": 154,
    "start_time": "2023-04-13T19:53:10.085Z"
   },
   {
    "duration": 166,
    "start_time": "2023-04-13T19:53:16.424Z"
   },
   {
    "duration": 158,
    "start_time": "2023-04-13T19:53:19.974Z"
   },
   {
    "duration": 171,
    "start_time": "2023-04-13T19:55:47.783Z"
   },
   {
    "duration": 165,
    "start_time": "2023-04-13T19:55:52.491Z"
   },
   {
    "duration": 184,
    "start_time": "2023-04-13T19:57:15.985Z"
   },
   {
    "duration": 189,
    "start_time": "2023-04-13T19:58:38.244Z"
   },
   {
    "duration": 24,
    "start_time": "2023-04-13T21:23:02.448Z"
   },
   {
    "duration": 3,
    "start_time": "2023-04-13T21:26:29.898Z"
   },
   {
    "duration": 8,
    "start_time": "2023-04-13T21:26:43.513Z"
   },
   {
    "duration": 60,
    "start_time": "2023-04-13T21:27:53.816Z"
   },
   {
    "duration": 76,
    "start_time": "2023-04-13T21:28:51.521Z"
   },
   {
    "duration": 120,
    "start_time": "2023-04-13T21:28:57.711Z"
   },
   {
    "duration": 10,
    "start_time": "2023-04-13T21:29:41.997Z"
   },
   {
    "duration": 25,
    "start_time": "2023-04-13T21:29:46.196Z"
   },
   {
    "duration": 801,
    "start_time": "2023-04-13T21:33:22.961Z"
   },
   {
    "duration": 7,
    "start_time": "2023-04-13T21:33:43.572Z"
   },
   {
    "duration": 13,
    "start_time": "2023-04-13T21:33:59.630Z"
   },
   {
    "duration": 85,
    "start_time": "2023-04-13T21:34:44.050Z"
   },
   {
    "duration": 30,
    "start_time": "2023-04-13T21:43:33.798Z"
   },
   {
    "duration": 65,
    "start_time": "2023-04-13T21:45:18.805Z"
   },
   {
    "duration": 33,
    "start_time": "2023-04-13T21:51:57.901Z"
   },
   {
    "duration": 711,
    "start_time": "2023-04-13T22:47:13.333Z"
   },
   {
    "duration": 6,
    "start_time": "2023-04-13T22:47:29.493Z"
   },
   {
    "duration": 7,
    "start_time": "2023-04-13T22:47:36.741Z"
   },
   {
    "duration": 3,
    "start_time": "2023-04-13T22:47:39.162Z"
   },
   {
    "duration": 7,
    "start_time": "2023-04-13T22:49:03.626Z"
   },
   {
    "duration": 3,
    "start_time": "2023-04-13T22:50:52.850Z"
   },
   {
    "duration": 44,
    "start_time": "2023-04-13T22:57:48.533Z"
   },
   {
    "duration": 54,
    "start_time": "2023-04-13T22:58:26.186Z"
   },
   {
    "duration": 47,
    "start_time": "2023-04-13T22:58:43.431Z"
   },
   {
    "duration": 6,
    "start_time": "2023-04-13T23:01:10.779Z"
   },
   {
    "duration": 31,
    "start_time": "2023-04-13T23:01:33.883Z"
   },
   {
    "duration": 49,
    "start_time": "2023-04-14T19:09:31.210Z"
   },
   {
    "duration": 6,
    "start_time": "2023-04-14T19:09:40.723Z"
   },
   {
    "duration": 1356,
    "start_time": "2023-04-14T19:09:50.469Z"
   },
   {
    "duration": 502,
    "start_time": "2023-04-14T19:09:51.827Z"
   },
   {
    "duration": 19,
    "start_time": "2023-04-14T19:09:52.330Z"
   },
   {
    "duration": 8,
    "start_time": "2023-04-14T19:09:52.351Z"
   },
   {
    "duration": 72,
    "start_time": "2023-04-14T19:09:52.361Z"
   },
   {
    "duration": 134,
    "start_time": "2023-04-14T19:09:52.434Z"
   },
   {
    "duration": 14,
    "start_time": "2023-04-14T19:09:52.569Z"
   },
   {
    "duration": 24,
    "start_time": "2023-04-14T19:09:52.585Z"
   },
   {
    "duration": 78,
    "start_time": "2023-04-14T19:09:52.611Z"
   },
   {
    "duration": 31,
    "start_time": "2023-04-14T19:09:52.691Z"
   },
   {
    "duration": 71,
    "start_time": "2023-04-14T19:09:52.724Z"
   },
   {
    "duration": 46,
    "start_time": "2023-04-14T19:09:52.796Z"
   },
   {
    "duration": 5,
    "start_time": "2023-04-14T19:09:52.844Z"
   },
   {
    "duration": 5,
    "start_time": "2023-04-14T19:09:52.852Z"
   },
   {
    "duration": 11,
    "start_time": "2023-04-14T19:09:52.859Z"
   },
   {
    "duration": 16,
    "start_time": "2023-04-14T19:09:52.871Z"
   },
   {
    "duration": 48,
    "start_time": "2023-04-14T19:09:52.889Z"
   },
   {
    "duration": 5,
    "start_time": "2023-04-14T19:09:52.939Z"
   },
   {
    "duration": 34,
    "start_time": "2023-04-14T19:09:52.946Z"
   },
   {
    "duration": 95,
    "start_time": "2023-04-14T19:11:07.234Z"
   },
   {
    "duration": 13,
    "start_time": "2023-04-14T19:11:51.060Z"
   },
   {
    "duration": 23,
    "start_time": "2023-04-14T19:11:59.051Z"
   },
   {
    "duration": 19,
    "start_time": "2023-04-14T19:12:12.591Z"
   },
   {
    "duration": 5,
    "start_time": "2023-04-14T19:16:51.073Z"
   },
   {
    "duration": 6,
    "start_time": "2023-04-14T19:18:01.753Z"
   },
   {
    "duration": 312,
    "start_time": "2023-04-14T19:18:30.619Z"
   },
   {
    "duration": 28,
    "start_time": "2023-04-14T19:21:41.901Z"
   },
   {
    "duration": 1937,
    "start_time": "2023-04-14T19:21:52.263Z"
   },
   {
    "duration": 20,
    "start_time": "2023-04-14T19:22:01.714Z"
   },
   {
    "duration": 10,
    "start_time": "2023-04-14T19:27:01.783Z"
   },
   {
    "duration": 91,
    "start_time": "2023-04-14T19:28:23.428Z"
   },
   {
    "duration": 4,
    "start_time": "2023-04-14T19:29:25.430Z"
   },
   {
    "duration": 89,
    "start_time": "2023-04-14T19:30:31.000Z"
   },
   {
    "duration": 65,
    "start_time": "2023-04-14T19:30:47.972Z"
   },
   {
    "duration": 11,
    "start_time": "2023-04-14T19:32:23.210Z"
   },
   {
    "duration": 280,
    "start_time": "2023-04-14T19:32:32.048Z"
   },
   {
    "duration": 1192,
    "start_time": "2023-04-14T19:32:44.912Z"
   },
   {
    "duration": 164,
    "start_time": "2023-04-14T19:32:46.106Z"
   },
   {
    "duration": 19,
    "start_time": "2023-04-14T19:32:46.272Z"
   },
   {
    "duration": 6,
    "start_time": "2023-04-14T19:32:46.293Z"
   },
   {
    "duration": 83,
    "start_time": "2023-04-14T19:32:46.301Z"
   },
   {
    "duration": 125,
    "start_time": "2023-04-14T19:32:46.385Z"
   },
   {
    "duration": 23,
    "start_time": "2023-04-14T19:32:46.512Z"
   },
   {
    "duration": 15,
    "start_time": "2023-04-14T19:32:46.536Z"
   },
   {
    "duration": 82,
    "start_time": "2023-04-14T19:32:46.553Z"
   },
   {
    "duration": 27,
    "start_time": "2023-04-14T19:32:46.638Z"
   },
   {
    "duration": 77,
    "start_time": "2023-04-14T19:32:46.666Z"
   },
   {
    "duration": 30,
    "start_time": "2023-04-14T19:32:46.745Z"
   },
   {
    "duration": 6,
    "start_time": "2023-04-14T19:32:46.776Z"
   },
   {
    "duration": 3,
    "start_time": "2023-04-14T19:32:46.784Z"
   },
   {
    "duration": 7,
    "start_time": "2023-04-14T19:32:46.789Z"
   },
   {
    "duration": 3,
    "start_time": "2023-04-14T19:32:46.798Z"
   },
   {
    "duration": 25,
    "start_time": "2023-04-14T19:32:46.834Z"
   },
   {
    "duration": 109,
    "start_time": "2023-04-14T19:32:46.861Z"
   },
   {
    "duration": 0,
    "start_time": "2023-04-14T19:32:46.972Z"
   },
   {
    "duration": 0,
    "start_time": "2023-04-14T19:32:46.973Z"
   },
   {
    "duration": 0,
    "start_time": "2023-04-14T19:32:46.974Z"
   },
   {
    "duration": 0,
    "start_time": "2023-04-14T19:32:46.975Z"
   },
   {
    "duration": 0,
    "start_time": "2023-04-14T19:32:46.976Z"
   },
   {
    "duration": 0,
    "start_time": "2023-04-14T19:32:46.977Z"
   },
   {
    "duration": 0,
    "start_time": "2023-04-14T19:32:46.978Z"
   },
   {
    "duration": 20,
    "start_time": "2023-04-14T19:33:08.216Z"
   },
   {
    "duration": 5,
    "start_time": "2023-04-14T19:33:13.356Z"
   },
   {
    "duration": 263,
    "start_time": "2023-04-14T19:33:14.902Z"
   },
   {
    "duration": 15,
    "start_time": "2023-04-14T19:33:17.648Z"
   },
   {
    "duration": 3,
    "start_time": "2023-04-14T19:33:20.198Z"
   },
   {
    "duration": 1187,
    "start_time": "2023-04-14T19:33:37.086Z"
   },
   {
    "duration": 11,
    "start_time": "2023-04-14T19:33:44.984Z"
   },
   {
    "duration": 13,
    "start_time": "2023-04-14T19:37:19.896Z"
   },
   {
    "duration": 36,
    "start_time": "2023-04-14T19:37:40.968Z"
   },
   {
    "duration": 33,
    "start_time": "2023-04-14T19:38:33.763Z"
   },
   {
    "duration": 6,
    "start_time": "2023-04-14T19:40:27.192Z"
   },
   {
    "duration": 29,
    "start_time": "2023-04-14T19:40:31.158Z"
   },
   {
    "duration": 29,
    "start_time": "2023-04-14T19:44:51.835Z"
   },
   {
    "duration": 48,
    "start_time": "2023-04-14T19:57:46.873Z"
   },
   {
    "duration": 43,
    "start_time": "2023-04-14T19:57:56.329Z"
   },
   {
    "duration": 448,
    "start_time": "2023-04-14T20:00:43.295Z"
   },
   {
    "duration": 46,
    "start_time": "2023-04-14T20:03:50.241Z"
   },
   {
    "duration": 43,
    "start_time": "2023-04-14T20:08:07.589Z"
   },
   {
    "duration": 11,
    "start_time": "2023-04-14T20:14:47.614Z"
   },
   {
    "duration": 10,
    "start_time": "2023-04-14T20:27:07.215Z"
   },
   {
    "duration": 55,
    "start_time": "2023-04-15T19:32:05.728Z"
   },
   {
    "duration": 1577,
    "start_time": "2023-04-15T19:32:16.800Z"
   },
   {
    "duration": 643,
    "start_time": "2023-04-15T19:32:18.379Z"
   },
   {
    "duration": 22,
    "start_time": "2023-04-15T19:32:19.024Z"
   },
   {
    "duration": 18,
    "start_time": "2023-04-15T19:32:19.048Z"
   },
   {
    "duration": 68,
    "start_time": "2023-04-15T19:32:19.069Z"
   },
   {
    "duration": 152,
    "start_time": "2023-04-15T19:32:19.139Z"
   },
   {
    "duration": 18,
    "start_time": "2023-04-15T19:32:19.293Z"
   },
   {
    "duration": 30,
    "start_time": "2023-04-15T19:32:19.313Z"
   },
   {
    "duration": 100,
    "start_time": "2023-04-15T19:32:19.345Z"
   },
   {
    "duration": 35,
    "start_time": "2023-04-15T19:32:19.447Z"
   },
   {
    "duration": 86,
    "start_time": "2023-04-15T19:32:19.483Z"
   },
   {
    "duration": 38,
    "start_time": "2023-04-15T19:32:19.570Z"
   },
   {
    "duration": 58,
    "start_time": "2023-04-15T19:32:19.610Z"
   },
   {
    "duration": 7,
    "start_time": "2023-04-15T19:32:19.672Z"
   },
   {
    "duration": 3,
    "start_time": "2023-04-15T19:32:19.681Z"
   },
   {
    "duration": 10,
    "start_time": "2023-04-15T19:32:19.686Z"
   },
   {
    "duration": 3,
    "start_time": "2023-04-15T19:32:19.698Z"
   },
   {
    "duration": 60,
    "start_time": "2023-04-15T19:32:19.703Z"
   },
   {
    "duration": 21,
    "start_time": "2023-04-15T19:32:19.766Z"
   },
   {
    "duration": 16,
    "start_time": "2023-04-15T19:32:19.788Z"
   },
   {
    "duration": 325,
    "start_time": "2023-04-15T19:32:19.805Z"
   },
   {
    "duration": 21,
    "start_time": "2023-04-15T19:32:20.134Z"
   },
   {
    "duration": 5,
    "start_time": "2023-04-15T19:32:20.157Z"
   },
   {
    "duration": 23,
    "start_time": "2023-04-15T19:32:20.163Z"
   },
   {
    "duration": 16,
    "start_time": "2023-04-15T19:32:20.188Z"
   },
   {
    "duration": 48,
    "start_time": "2023-04-15T19:32:20.206Z"
   },
   {
    "duration": 43,
    "start_time": "2023-04-15T19:32:20.259Z"
   },
   {
    "duration": 78,
    "start_time": "2023-04-15T19:32:20.304Z"
   },
   {
    "duration": 52,
    "start_time": "2023-04-15T19:32:20.383Z"
   },
   {
    "duration": 501,
    "start_time": "2023-04-15T19:32:20.437Z"
   },
   {
    "duration": 21,
    "start_time": "2023-04-15T19:32:20.942Z"
   },
   {
    "duration": 79,
    "start_time": "2023-04-15T19:32:20.966Z"
   },
   {
    "duration": 36,
    "start_time": "2023-04-15T19:37:14.216Z"
   },
   {
    "duration": 179,
    "start_time": "2023-04-15T19:40:20.709Z"
   },
   {
    "duration": 45,
    "start_time": "2023-04-15T19:40:32.653Z"
   },
   {
    "duration": 77,
    "start_time": "2023-04-15T19:40:49.002Z"
   },
   {
    "duration": 7,
    "start_time": "2023-04-15T20:08:25.151Z"
   },
   {
    "duration": 6,
    "start_time": "2023-04-15T20:08:47.426Z"
   },
   {
    "duration": 56,
    "start_time": "2023-04-15T20:08:54.643Z"
   },
   {
    "duration": 4,
    "start_time": "2023-04-15T20:09:52.488Z"
   },
   {
    "duration": 45,
    "start_time": "2023-04-15T20:09:57.820Z"
   },
   {
    "duration": 34,
    "start_time": "2023-04-15T20:10:10.970Z"
   },
   {
    "duration": 42,
    "start_time": "2023-04-15T20:10:16.080Z"
   },
   {
    "duration": 38,
    "start_time": "2023-04-15T20:10:22.774Z"
   },
   {
    "duration": 152,
    "start_time": "2023-04-15T20:21:43.918Z"
   },
   {
    "duration": 144,
    "start_time": "2023-04-15T20:22:28.222Z"
   },
   {
    "duration": 7,
    "start_time": "2023-04-15T20:23:24.840Z"
   },
   {
    "duration": 205,
    "start_time": "2023-04-15T20:24:50.472Z"
   },
   {
    "duration": 4,
    "start_time": "2023-04-15T21:11:31.199Z"
   },
   {
    "duration": 1383,
    "start_time": "2023-04-15T21:11:36.180Z"
   },
   {
    "duration": 179,
    "start_time": "2023-04-15T21:11:37.565Z"
   },
   {
    "duration": 23,
    "start_time": "2023-04-15T21:11:37.746Z"
   },
   {
    "duration": 8,
    "start_time": "2023-04-15T21:11:37.772Z"
   },
   {
    "duration": 94,
    "start_time": "2023-04-15T21:11:37.782Z"
   },
   {
    "duration": 165,
    "start_time": "2023-04-15T21:11:37.878Z"
   },
   {
    "duration": 17,
    "start_time": "2023-04-15T21:11:38.045Z"
   },
   {
    "duration": 17,
    "start_time": "2023-04-15T21:11:38.065Z"
   },
   {
    "duration": 101,
    "start_time": "2023-04-15T21:11:38.083Z"
   },
   {
    "duration": 63,
    "start_time": "2023-04-15T21:11:38.188Z"
   },
   {
    "duration": 84,
    "start_time": "2023-04-15T21:11:38.253Z"
   },
   {
    "duration": 39,
    "start_time": "2023-04-15T21:11:38.339Z"
   },
   {
    "duration": 60,
    "start_time": "2023-04-15T21:11:38.380Z"
   },
   {
    "duration": 10,
    "start_time": "2023-04-15T21:11:38.442Z"
   },
   {
    "duration": 6,
    "start_time": "2023-04-15T21:11:38.453Z"
   },
   {
    "duration": 27,
    "start_time": "2023-04-15T21:11:38.461Z"
   },
   {
    "duration": 5,
    "start_time": "2023-04-15T21:11:38.491Z"
   },
   {
    "duration": 65,
    "start_time": "2023-04-15T21:11:38.498Z"
   },
   {
    "duration": 40,
    "start_time": "2023-04-15T21:11:38.565Z"
   },
   {
    "duration": 31,
    "start_time": "2023-04-15T21:11:38.607Z"
   },
   {
    "duration": 345,
    "start_time": "2023-04-15T21:11:38.641Z"
   },
   {
    "duration": 25,
    "start_time": "2023-04-15T21:11:38.989Z"
   },
   {
    "duration": 19,
    "start_time": "2023-04-15T21:11:39.016Z"
   },
   {
    "duration": 31,
    "start_time": "2023-04-15T21:11:39.037Z"
   },
   {
    "duration": 15,
    "start_time": "2023-04-15T21:11:39.070Z"
   },
   {
    "duration": 40,
    "start_time": "2023-04-15T21:11:39.087Z"
   },
   {
    "duration": 37,
    "start_time": "2023-04-15T21:11:39.133Z"
   },
   {
    "duration": 85,
    "start_time": "2023-04-15T21:11:39.174Z"
   },
   {
    "duration": 51,
    "start_time": "2023-04-15T21:11:39.261Z"
   },
   {
    "duration": 477,
    "start_time": "2023-04-15T21:11:39.314Z"
   },
   {
    "duration": 14,
    "start_time": "2023-04-15T21:11:39.795Z"
   },
   {
    "duration": 31,
    "start_time": "2023-04-15T21:11:39.811Z"
   },
   {
    "duration": 104,
    "start_time": "2023-04-15T21:11:39.844Z"
   },
   {
    "duration": 53,
    "start_time": "2023-04-15T21:11:39.951Z"
   },
   {
    "duration": 11,
    "start_time": "2023-04-15T21:11:40.035Z"
   },
   {
    "duration": 67,
    "start_time": "2023-04-15T21:11:40.049Z"
   },
   {
    "duration": 50,
    "start_time": "2023-04-15T21:11:40.118Z"
   },
   {
    "duration": 43,
    "start_time": "2023-04-15T21:11:40.170Z"
   },
   {
    "duration": 57,
    "start_time": "2023-04-15T21:11:40.215Z"
   },
   {
    "duration": 195,
    "start_time": "2023-04-15T21:11:40.274Z"
   },
   {
    "duration": 178,
    "start_time": "2023-04-15T21:11:40.471Z"
   },
   {
    "duration": 6,
    "start_time": "2023-04-15T21:11:40.651Z"
   },
   {
    "duration": 247,
    "start_time": "2023-04-15T21:11:40.659Z"
   },
   {
    "duration": 1486,
    "start_time": "2023-04-15T21:34:13.435Z"
   },
   {
    "duration": 599,
    "start_time": "2023-04-15T21:34:14.923Z"
   },
   {
    "duration": 22,
    "start_time": "2023-04-15T21:34:15.523Z"
   },
   {
    "duration": 7,
    "start_time": "2023-04-15T21:34:15.547Z"
   },
   {
    "duration": 74,
    "start_time": "2023-04-15T21:34:15.557Z"
   },
   {
    "duration": 142,
    "start_time": "2023-04-15T21:34:15.633Z"
   },
   {
    "duration": 25,
    "start_time": "2023-04-15T21:34:15.777Z"
   },
   {
    "duration": 17,
    "start_time": "2023-04-15T21:34:15.804Z"
   },
   {
    "duration": 98,
    "start_time": "2023-04-15T21:34:15.823Z"
   },
   {
    "duration": 29,
    "start_time": "2023-04-15T21:34:15.923Z"
   },
   {
    "duration": 89,
    "start_time": "2023-04-15T21:34:15.954Z"
   },
   {
    "duration": 50,
    "start_time": "2023-04-15T21:34:16.045Z"
   },
   {
    "duration": 42,
    "start_time": "2023-04-15T21:34:16.103Z"
   },
   {
    "duration": 6,
    "start_time": "2023-04-15T21:34:16.148Z"
   },
   {
    "duration": 4,
    "start_time": "2023-04-15T21:34:16.156Z"
   },
   {
    "duration": 34,
    "start_time": "2023-04-15T21:34:16.162Z"
   },
   {
    "duration": 8,
    "start_time": "2023-04-15T21:34:16.198Z"
   },
   {
    "duration": 32,
    "start_time": "2023-04-15T21:34:16.208Z"
   },
   {
    "duration": 22,
    "start_time": "2023-04-15T21:34:16.242Z"
   },
   {
    "duration": 35,
    "start_time": "2023-04-15T21:34:16.266Z"
   },
   {
    "duration": 313,
    "start_time": "2023-04-15T21:34:16.304Z"
   },
   {
    "duration": 20,
    "start_time": "2023-04-15T21:34:16.619Z"
   },
   {
    "duration": 4,
    "start_time": "2023-04-15T21:34:16.641Z"
   },
   {
    "duration": 16,
    "start_time": "2023-04-15T21:34:16.647Z"
   },
   {
    "duration": 28,
    "start_time": "2023-04-15T21:34:16.665Z"
   },
   {
    "duration": 46,
    "start_time": "2023-04-15T21:34:16.694Z"
   },
   {
    "duration": 33,
    "start_time": "2023-04-15T21:34:16.742Z"
   },
   {
    "duration": 83,
    "start_time": "2023-04-15T21:34:16.776Z"
   },
   {
    "duration": 59,
    "start_time": "2023-04-15T21:34:16.861Z"
   },
   {
    "duration": 600,
    "start_time": "2023-04-15T21:34:16.922Z"
   },
   {
    "duration": 18,
    "start_time": "2023-04-15T21:34:17.525Z"
   },
   {
    "duration": 16,
    "start_time": "2023-04-15T21:34:17.545Z"
   },
   {
    "duration": 49,
    "start_time": "2023-04-15T21:34:17.593Z"
   },
   {
    "duration": 52,
    "start_time": "2023-04-15T21:34:17.691Z"
   },
   {
    "duration": 8,
    "start_time": "2023-04-15T21:34:17.745Z"
   },
   {
    "duration": 61,
    "start_time": "2023-04-15T21:34:17.755Z"
   },
   {
    "duration": 38,
    "start_time": "2023-04-15T21:34:17.818Z"
   },
   {
    "duration": 65,
    "start_time": "2023-04-15T21:34:17.859Z"
   },
   {
    "duration": 40,
    "start_time": "2023-04-15T21:34:17.926Z"
   },
   {
    "duration": 189,
    "start_time": "2023-04-15T21:34:17.967Z"
   },
   {
    "duration": 183,
    "start_time": "2023-04-15T21:34:18.160Z"
   },
   {
    "duration": 6,
    "start_time": "2023-04-15T21:34:18.345Z"
   },
   {
    "duration": 253,
    "start_time": "2023-04-15T21:34:18.354Z"
   },
   {
    "duration": 1422,
    "start_time": "2023-04-15T22:00:55.731Z"
   },
   {
    "duration": 248,
    "start_time": "2023-04-15T22:00:57.156Z"
   },
   {
    "duration": 37,
    "start_time": "2023-04-15T22:00:57.406Z"
   },
   {
    "duration": 10,
    "start_time": "2023-04-15T22:00:57.446Z"
   },
   {
    "duration": 107,
    "start_time": "2023-04-15T22:00:57.458Z"
   },
   {
    "duration": 166,
    "start_time": "2023-04-15T22:00:57.568Z"
   },
   {
    "duration": 20,
    "start_time": "2023-04-15T22:00:57.736Z"
   },
   {
    "duration": 33,
    "start_time": "2023-04-15T22:00:57.759Z"
   },
   {
    "duration": 79,
    "start_time": "2023-04-15T22:00:57.794Z"
   },
   {
    "duration": 56,
    "start_time": "2023-04-15T22:00:57.889Z"
   },
   {
    "duration": 120,
    "start_time": "2023-04-15T22:00:57.948Z"
   },
   {
    "duration": 65,
    "start_time": "2023-04-15T22:00:58.070Z"
   },
   {
    "duration": 78,
    "start_time": "2023-04-15T22:00:58.137Z"
   },
   {
    "duration": 10,
    "start_time": "2023-04-15T22:00:58.217Z"
   },
   {
    "duration": 5,
    "start_time": "2023-04-15T22:00:58.229Z"
   },
   {
    "duration": 15,
    "start_time": "2023-04-15T22:00:58.236Z"
   },
   {
    "duration": 6,
    "start_time": "2023-04-15T22:00:58.253Z"
   },
   {
    "duration": 47,
    "start_time": "2023-04-15T22:00:58.289Z"
   },
   {
    "duration": 53,
    "start_time": "2023-04-15T22:00:58.338Z"
   },
   {
    "duration": 11,
    "start_time": "2023-04-15T22:00:58.393Z"
   },
   {
    "duration": 417,
    "start_time": "2023-04-15T22:00:58.406Z"
   },
   {
    "duration": 23,
    "start_time": "2023-04-15T22:00:58.825Z"
   },
   {
    "duration": 5,
    "start_time": "2023-04-15T22:00:58.850Z"
   },
   {
    "duration": 41,
    "start_time": "2023-04-15T22:00:58.859Z"
   },
   {
    "duration": 11,
    "start_time": "2023-04-15T22:00:58.904Z"
   },
   {
    "duration": 57,
    "start_time": "2023-04-15T22:00:58.917Z"
   },
   {
    "duration": 65,
    "start_time": "2023-04-15T22:00:58.976Z"
   },
   {
    "duration": 76,
    "start_time": "2023-04-15T22:00:59.046Z"
   },
   {
    "duration": 47,
    "start_time": "2023-04-15T22:00:59.124Z"
   },
   {
    "duration": 604,
    "start_time": "2023-04-15T22:00:59.173Z"
   },
   {
    "duration": 16,
    "start_time": "2023-04-15T22:00:59.779Z"
   },
   {
    "duration": 20,
    "start_time": "2023-04-15T22:00:59.797Z"
   },
   {
    "duration": 168,
    "start_time": "2023-04-15T22:00:59.820Z"
   },
   {
    "duration": 54,
    "start_time": "2023-04-15T22:00:59.990Z"
   },
   {
    "duration": 12,
    "start_time": "2023-04-15T22:01:00.047Z"
   },
   {
    "duration": 48,
    "start_time": "2023-04-15T22:01:00.088Z"
   },
   {
    "duration": 68,
    "start_time": "2023-04-15T22:01:00.139Z"
   },
   {
    "duration": 44,
    "start_time": "2023-04-15T22:01:00.209Z"
   },
   {
    "duration": 76,
    "start_time": "2023-04-15T22:01:00.255Z"
   },
   {
    "duration": 197,
    "start_time": "2023-04-15T22:01:00.333Z"
   },
   {
    "duration": 215,
    "start_time": "2023-04-15T22:01:00.532Z"
   },
   {
    "duration": 13,
    "start_time": "2023-04-15T22:01:00.749Z"
   },
   {
    "duration": 339,
    "start_time": "2023-04-15T22:01:00.764Z"
   },
   {
    "duration": 1473,
    "start_time": "2023-04-15T22:01:30.080Z"
   },
   {
    "duration": 181,
    "start_time": "2023-04-15T22:01:31.555Z"
   },
   {
    "duration": 22,
    "start_time": "2023-04-15T22:01:31.738Z"
   },
   {
    "duration": 27,
    "start_time": "2023-04-15T22:01:31.762Z"
   },
   {
    "duration": 84,
    "start_time": "2023-04-15T22:01:31.792Z"
   },
   {
    "duration": 166,
    "start_time": "2023-04-15T22:01:31.878Z"
   },
   {
    "duration": 18,
    "start_time": "2023-04-15T22:01:32.046Z"
   },
   {
    "duration": 31,
    "start_time": "2023-04-15T22:01:32.066Z"
   },
   {
    "duration": 98,
    "start_time": "2023-04-15T22:01:32.099Z"
   },
   {
    "duration": 32,
    "start_time": "2023-04-15T22:01:32.199Z"
   },
   {
    "duration": 84,
    "start_time": "2023-04-15T22:01:32.233Z"
   },
   {
    "duration": 37,
    "start_time": "2023-04-15T22:01:32.319Z"
   },
   {
    "duration": 62,
    "start_time": "2023-04-15T22:01:32.358Z"
   },
   {
    "duration": 6,
    "start_time": "2023-04-15T22:01:32.423Z"
   },
   {
    "duration": 8,
    "start_time": "2023-04-15T22:01:32.431Z"
   },
   {
    "duration": 9,
    "start_time": "2023-04-15T22:01:32.440Z"
   },
   {
    "duration": 4,
    "start_time": "2023-04-15T22:01:32.451Z"
   },
   {
    "duration": 55,
    "start_time": "2023-04-15T22:01:32.457Z"
   },
   {
    "duration": 21,
    "start_time": "2023-04-15T22:01:32.514Z"
   },
   {
    "duration": 6,
    "start_time": "2023-04-15T22:01:32.537Z"
   },
   {
    "duration": 322,
    "start_time": "2023-04-15T22:01:32.544Z"
   },
   {
    "duration": 27,
    "start_time": "2023-04-15T22:01:32.868Z"
   },
   {
    "duration": 3,
    "start_time": "2023-04-15T22:01:32.898Z"
   },
   {
    "duration": 27,
    "start_time": "2023-04-15T22:01:32.904Z"
   },
   {
    "duration": 10,
    "start_time": "2023-04-15T22:01:32.934Z"
   },
   {
    "duration": 61,
    "start_time": "2023-04-15T22:01:32.947Z"
   },
   {
    "duration": 37,
    "start_time": "2023-04-15T22:01:33.010Z"
   },
   {
    "duration": 122,
    "start_time": "2023-04-15T22:01:33.049Z"
   },
   {
    "duration": 52,
    "start_time": "2023-04-15T22:01:33.173Z"
   },
   {
    "duration": 582,
    "start_time": "2023-04-15T22:01:33.227Z"
   },
   {
    "duration": 13,
    "start_time": "2023-04-15T22:01:33.810Z"
   },
   {
    "duration": 64,
    "start_time": "2023-04-15T22:01:33.825Z"
   },
   {
    "duration": 56,
    "start_time": "2023-04-15T22:01:33.891Z"
   },
   {
    "duration": 73,
    "start_time": "2023-04-15T22:01:33.948Z"
   },
   {
    "duration": 8,
    "start_time": "2023-04-15T22:01:34.023Z"
   },
   {
    "duration": 74,
    "start_time": "2023-04-15T22:01:34.033Z"
   },
   {
    "duration": 42,
    "start_time": "2023-04-15T22:01:34.108Z"
   },
   {
    "duration": 75,
    "start_time": "2023-04-15T22:01:34.152Z"
   },
   {
    "duration": 40,
    "start_time": "2023-04-15T22:01:34.229Z"
   },
   {
    "duration": 184,
    "start_time": "2023-04-15T22:01:34.271Z"
   },
   {
    "duration": 181,
    "start_time": "2023-04-15T22:01:34.459Z"
   },
   {
    "duration": 7,
    "start_time": "2023-04-15T22:01:34.642Z"
   },
   {
    "duration": 257,
    "start_time": "2023-04-15T22:01:34.651Z"
   },
   {
    "duration": 99,
    "start_time": "2023-04-16T10:33:32.540Z"
   },
   {
    "duration": 1817,
    "start_time": "2023-04-16T10:33:39.628Z"
   },
   {
    "duration": 1495,
    "start_time": "2023-04-16T10:33:41.447Z"
   },
   {
    "duration": 34,
    "start_time": "2023-04-16T10:33:42.945Z"
   },
   {
    "duration": 19,
    "start_time": "2023-04-16T10:33:42.982Z"
   },
   {
    "duration": 99,
    "start_time": "2023-04-16T10:33:43.005Z"
   },
   {
    "duration": 182,
    "start_time": "2023-04-16T10:33:43.107Z"
   },
   {
    "duration": 30,
    "start_time": "2023-04-16T10:33:43.295Z"
   },
   {
    "duration": 22,
    "start_time": "2023-04-16T10:33:43.327Z"
   },
   {
    "duration": 125,
    "start_time": "2023-04-16T10:33:43.351Z"
   },
   {
    "duration": 77,
    "start_time": "2023-04-16T10:33:43.478Z"
   },
   {
    "duration": 149,
    "start_time": "2023-04-16T10:33:43.558Z"
   },
   {
    "duration": 47,
    "start_time": "2023-04-16T10:33:43.720Z"
   },
   {
    "duration": 71,
    "start_time": "2023-04-16T10:33:43.769Z"
   },
   {
    "duration": 10,
    "start_time": "2023-04-16T10:33:43.844Z"
   },
   {
    "duration": 5,
    "start_time": "2023-04-16T10:33:43.857Z"
   },
   {
    "duration": 18,
    "start_time": "2023-04-16T10:33:43.864Z"
   },
   {
    "duration": 6,
    "start_time": "2023-04-16T10:33:43.890Z"
   },
   {
    "duration": 70,
    "start_time": "2023-04-16T10:33:43.898Z"
   },
   {
    "duration": 56,
    "start_time": "2023-04-16T10:33:43.970Z"
   },
   {
    "duration": 8,
    "start_time": "2023-04-16T10:33:44.029Z"
   },
   {
    "duration": 461,
    "start_time": "2023-04-16T10:33:44.039Z"
   },
   {
    "duration": 34,
    "start_time": "2023-04-16T10:33:44.511Z"
   },
   {
    "duration": 5,
    "start_time": "2023-04-16T10:33:44.547Z"
   },
   {
    "duration": 15,
    "start_time": "2023-04-16T10:33:44.554Z"
   },
   {
    "duration": 31,
    "start_time": "2023-04-16T10:33:44.572Z"
   },
   {
    "duration": 54,
    "start_time": "2023-04-16T10:33:44.617Z"
   },
   {
    "duration": 51,
    "start_time": "2023-04-16T10:33:44.675Z"
   },
   {
    "duration": 98,
    "start_time": "2023-04-16T10:33:44.731Z"
   },
   {
    "duration": 58,
    "start_time": "2023-04-16T10:33:44.832Z"
   },
   {
    "duration": 1375,
    "start_time": "2023-04-16T10:33:44.893Z"
   },
   {
    "duration": 33,
    "start_time": "2023-04-16T10:33:46.270Z"
   },
   {
    "duration": 22,
    "start_time": "2023-04-16T10:33:46.316Z"
   },
   {
    "duration": 83,
    "start_time": "2023-04-16T10:33:46.340Z"
   },
   {
    "duration": 137,
    "start_time": "2023-04-16T10:33:46.426Z"
   },
   {
    "duration": 10,
    "start_time": "2023-04-16T10:33:46.567Z"
   },
   {
    "duration": 81,
    "start_time": "2023-04-16T10:33:46.580Z"
   },
   {
    "duration": 69,
    "start_time": "2023-04-16T10:33:46.663Z"
   },
   {
    "duration": 57,
    "start_time": "2023-04-16T10:33:46.735Z"
   },
   {
    "duration": 53,
    "start_time": "2023-04-16T10:33:46.799Z"
   },
   {
    "duration": 210,
    "start_time": "2023-04-16T10:33:46.854Z"
   },
   {
    "duration": 238,
    "start_time": "2023-04-16T10:33:47.068Z"
   },
   {
    "duration": 12,
    "start_time": "2023-04-16T10:33:47.321Z"
   },
   {
    "duration": 300,
    "start_time": "2023-04-16T10:33:47.336Z"
   },
   {
    "duration": 59,
    "start_time": "2023-04-16T10:38:55.211Z"
   },
   {
    "duration": 386,
    "start_time": "2023-04-16T10:39:54.242Z"
   },
   {
    "duration": 338,
    "start_time": "2023-04-16T10:40:04.336Z"
   },
   {
    "duration": 284,
    "start_time": "2023-04-16T10:40:12.984Z"
   },
   {
    "duration": 262,
    "start_time": "2023-04-16T10:40:19.317Z"
   },
   {
    "duration": 1704,
    "start_time": "2023-04-16T10:40:56.519Z"
   },
   {
    "duration": 282,
    "start_time": "2023-04-16T10:40:58.233Z"
   },
   {
    "duration": 41,
    "start_time": "2023-04-16T10:40:58.523Z"
   },
   {
    "duration": 10,
    "start_time": "2023-04-16T10:40:58.567Z"
   },
   {
    "duration": 97,
    "start_time": "2023-04-16T10:40:58.579Z"
   },
   {
    "duration": 200,
    "start_time": "2023-04-16T10:40:58.678Z"
   },
   {
    "duration": 47,
    "start_time": "2023-04-16T10:40:58.880Z"
   },
   {
    "duration": 16,
    "start_time": "2023-04-16T10:40:58.931Z"
   },
   {
    "duration": 137,
    "start_time": "2023-04-16T10:40:58.949Z"
   },
   {
    "duration": 76,
    "start_time": "2023-04-16T10:40:59.089Z"
   },
   {
    "duration": 130,
    "start_time": "2023-04-16T10:40:59.168Z"
   },
   {
    "duration": 53,
    "start_time": "2023-04-16T10:40:59.300Z"
   },
   {
    "duration": 52,
    "start_time": "2023-04-16T10:40:59.356Z"
   },
   {
    "duration": 10,
    "start_time": "2023-04-16T10:40:59.413Z"
   },
   {
    "duration": 6,
    "start_time": "2023-04-16T10:40:59.429Z"
   },
   {
    "duration": 15,
    "start_time": "2023-04-16T10:40:59.437Z"
   },
   {
    "duration": 15,
    "start_time": "2023-04-16T10:40:59.454Z"
   },
   {
    "duration": 73,
    "start_time": "2023-04-16T10:40:59.471Z"
   },
   {
    "duration": 22,
    "start_time": "2023-04-16T10:40:59.546Z"
   },
   {
    "duration": 5,
    "start_time": "2023-04-16T10:40:59.570Z"
   },
   {
    "duration": 386,
    "start_time": "2023-04-16T10:40:59.576Z"
   },
   {
    "duration": 48,
    "start_time": "2023-04-16T10:40:59.964Z"
   },
   {
    "duration": 15,
    "start_time": "2023-04-16T10:41:00.020Z"
   },
   {
    "duration": 15,
    "start_time": "2023-04-16T10:41:00.038Z"
   },
   {
    "duration": 9,
    "start_time": "2023-04-16T10:41:00.055Z"
   },
   {
    "duration": 88,
    "start_time": "2023-04-16T10:41:00.066Z"
   },
   {
    "duration": 76,
    "start_time": "2023-04-16T10:41:00.157Z"
   },
   {
    "duration": 81,
    "start_time": "2023-04-16T10:41:00.238Z"
   },
   {
    "duration": 74,
    "start_time": "2023-04-16T10:41:00.321Z"
   },
   {
    "duration": 718,
    "start_time": "2023-04-16T10:41:00.404Z"
   },
   {
    "duration": 17,
    "start_time": "2023-04-16T10:41:01.124Z"
   },
   {
    "duration": 58,
    "start_time": "2023-04-16T10:41:01.143Z"
   },
   {
    "duration": 112,
    "start_time": "2023-04-16T10:41:01.209Z"
   },
   {
    "duration": 96,
    "start_time": "2023-04-16T10:41:01.326Z"
   },
   {
    "duration": 9,
    "start_time": "2023-04-16T10:41:01.424Z"
   },
   {
    "duration": 126,
    "start_time": "2023-04-16T10:41:01.435Z"
   },
   {
    "duration": 55,
    "start_time": "2023-04-16T10:41:01.562Z"
   },
   {
    "duration": 39,
    "start_time": "2023-04-16T10:41:01.619Z"
   },
   {
    "duration": 85,
    "start_time": "2023-04-16T10:41:01.660Z"
   },
   {
    "duration": 215,
    "start_time": "2023-04-16T10:41:01.747Z"
   },
   {
    "duration": 227,
    "start_time": "2023-04-16T10:41:01.964Z"
   },
   {
    "duration": 13,
    "start_time": "2023-04-16T10:41:02.197Z"
   },
   {
    "duration": 284,
    "start_time": "2023-04-16T10:41:02.213Z"
   },
   {
    "duration": 317,
    "start_time": "2023-04-16T10:43:44.037Z"
   },
   {
    "duration": 265,
    "start_time": "2023-04-16T10:45:13.302Z"
   },
   {
    "duration": 1523,
    "start_time": "2023-04-16T10:45:23.857Z"
   },
   {
    "duration": 226,
    "start_time": "2023-04-16T10:45:25.381Z"
   },
   {
    "duration": 36,
    "start_time": "2023-04-16T10:45:25.620Z"
   },
   {
    "duration": 10,
    "start_time": "2023-04-16T10:45:25.659Z"
   },
   {
    "duration": 128,
    "start_time": "2023-04-16T10:45:25.671Z"
   },
   {
    "duration": 192,
    "start_time": "2023-04-16T10:45:25.809Z"
   },
   {
    "duration": 38,
    "start_time": "2023-04-16T10:45:26.009Z"
   },
   {
    "duration": 16,
    "start_time": "2023-04-16T10:45:26.050Z"
   },
   {
    "duration": 110,
    "start_time": "2023-04-16T10:45:26.068Z"
   },
   {
    "duration": 57,
    "start_time": "2023-04-16T10:45:26.181Z"
   },
   {
    "duration": 96,
    "start_time": "2023-04-16T10:45:26.240Z"
   },
   {
    "duration": 40,
    "start_time": "2023-04-16T10:45:26.338Z"
   },
   {
    "duration": 80,
    "start_time": "2023-04-16T10:45:26.379Z"
   },
   {
    "duration": 8,
    "start_time": "2023-04-16T10:45:26.461Z"
   },
   {
    "duration": 34,
    "start_time": "2023-04-16T10:45:26.471Z"
   },
   {
    "duration": 15,
    "start_time": "2023-04-16T10:45:26.514Z"
   },
   {
    "duration": 12,
    "start_time": "2023-04-16T10:45:26.531Z"
   },
   {
    "duration": 60,
    "start_time": "2023-04-16T10:45:26.546Z"
   },
   {
    "duration": 38,
    "start_time": "2023-04-16T10:45:26.608Z"
   },
   {
    "duration": 7,
    "start_time": "2023-04-16T10:45:26.649Z"
   },
   {
    "duration": 407,
    "start_time": "2023-04-16T10:45:26.658Z"
   },
   {
    "duration": 57,
    "start_time": "2023-04-16T10:45:27.067Z"
   },
   {
    "duration": 4,
    "start_time": "2023-04-16T10:45:27.126Z"
   },
   {
    "duration": 28,
    "start_time": "2023-04-16T10:45:27.132Z"
   },
   {
    "duration": 10,
    "start_time": "2023-04-16T10:45:27.163Z"
   },
   {
    "duration": 48,
    "start_time": "2023-04-16T10:45:27.175Z"
   },
   {
    "duration": 36,
    "start_time": "2023-04-16T10:45:27.225Z"
   },
   {
    "duration": 92,
    "start_time": "2023-04-16T10:45:27.265Z"
   },
   {
    "duration": 76,
    "start_time": "2023-04-16T10:45:27.359Z"
   },
   {
    "duration": 558,
    "start_time": "2023-04-16T10:45:27.437Z"
   },
   {
    "duration": 21,
    "start_time": "2023-04-16T10:45:27.999Z"
   },
   {
    "duration": 13,
    "start_time": "2023-04-16T10:45:28.021Z"
   },
   {
    "duration": 92,
    "start_time": "2023-04-16T10:45:28.036Z"
   },
   {
    "duration": 112,
    "start_time": "2023-04-16T10:45:28.130Z"
   },
   {
    "duration": 50,
    "start_time": "2023-04-16T10:45:28.245Z"
   },
   {
    "duration": 69,
    "start_time": "2023-04-16T10:45:28.304Z"
   },
   {
    "duration": 66,
    "start_time": "2023-04-16T10:45:28.376Z"
   },
   {
    "duration": 75,
    "start_time": "2023-04-16T10:45:28.445Z"
   },
   {
    "duration": 49,
    "start_time": "2023-04-16T10:45:28.522Z"
   },
   {
    "duration": 225,
    "start_time": "2023-04-16T10:45:28.586Z"
   },
   {
    "duration": 212,
    "start_time": "2023-04-16T10:45:28.813Z"
   },
   {
    "duration": 10,
    "start_time": "2023-04-16T10:45:29.028Z"
   },
   {
    "duration": 294,
    "start_time": "2023-04-16T10:45:29.040Z"
   },
   {
    "duration": 208,
    "start_time": "2023-04-16T11:01:29.808Z"
   },
   {
    "duration": 58,
    "start_time": "2023-04-16T11:01:41.016Z"
   },
   {
    "duration": 6,
    "start_time": "2023-04-16T11:05:01.710Z"
   },
   {
    "duration": 12,
    "start_time": "2023-04-16T11:05:09.310Z"
   },
   {
    "duration": 18,
    "start_time": "2023-04-16T11:05:16.402Z"
   },
   {
    "duration": 1500,
    "start_time": "2023-04-16T11:46:58.646Z"
   },
   {
    "duration": 244,
    "start_time": "2023-04-16T11:47:00.148Z"
   },
   {
    "duration": 41,
    "start_time": "2023-04-16T11:47:00.394Z"
   },
   {
    "duration": 32,
    "start_time": "2023-04-16T11:47:00.439Z"
   },
   {
    "duration": 130,
    "start_time": "2023-04-16T11:47:00.473Z"
   },
   {
    "duration": 182,
    "start_time": "2023-04-16T11:47:00.605Z"
   },
   {
    "duration": 28,
    "start_time": "2023-04-16T11:47:00.789Z"
   },
   {
    "duration": 40,
    "start_time": "2023-04-16T11:47:00.820Z"
   },
   {
    "duration": 165,
    "start_time": "2023-04-16T11:47:00.862Z"
   },
   {
    "duration": 43,
    "start_time": "2023-04-16T11:47:01.032Z"
   },
   {
    "duration": 104,
    "start_time": "2023-04-16T11:47:01.077Z"
   },
   {
    "duration": 64,
    "start_time": "2023-04-16T11:47:01.184Z"
   },
   {
    "duration": 73,
    "start_time": "2023-04-16T11:47:01.250Z"
   },
   {
    "duration": 11,
    "start_time": "2023-04-16T11:47:01.326Z"
   },
   {
    "duration": 28,
    "start_time": "2023-04-16T11:47:01.339Z"
   },
   {
    "duration": 89,
    "start_time": "2023-04-16T11:47:01.369Z"
   },
   {
    "duration": 35,
    "start_time": "2023-04-16T11:47:01.460Z"
   },
   {
    "duration": 60,
    "start_time": "2023-04-16T11:47:01.497Z"
   },
   {
    "duration": 23,
    "start_time": "2023-04-16T11:47:01.559Z"
   },
   {
    "duration": 23,
    "start_time": "2023-04-16T11:47:01.584Z"
   },
   {
    "duration": 393,
    "start_time": "2023-04-16T11:47:01.609Z"
   },
   {
    "duration": 23,
    "start_time": "2023-04-16T11:47:02.004Z"
   },
   {
    "duration": 16,
    "start_time": "2023-04-16T11:47:02.029Z"
   },
   {
    "duration": 37,
    "start_time": "2023-04-16T11:47:02.047Z"
   },
   {
    "duration": 14,
    "start_time": "2023-04-16T11:47:02.095Z"
   },
   {
    "duration": 57,
    "start_time": "2023-04-16T11:47:02.111Z"
   },
   {
    "duration": 62,
    "start_time": "2023-04-16T11:47:02.170Z"
   },
   {
    "duration": 78,
    "start_time": "2023-04-16T11:47:02.239Z"
   },
   {
    "duration": 52,
    "start_time": "2023-04-16T11:47:02.320Z"
   },
   {
    "duration": 602,
    "start_time": "2023-04-16T11:47:02.374Z"
   },
   {
    "duration": 65,
    "start_time": "2023-04-16T11:47:02.977Z"
   },
   {
    "duration": 18,
    "start_time": "2023-04-16T11:47:03.044Z"
   },
   {
    "duration": 127,
    "start_time": "2023-04-16T11:47:03.064Z"
   },
   {
    "duration": 76,
    "start_time": "2023-04-16T11:47:03.193Z"
   },
   {
    "duration": 39,
    "start_time": "2023-04-16T11:47:03.272Z"
   },
   {
    "duration": 57,
    "start_time": "2023-04-16T11:47:03.321Z"
   },
   {
    "duration": 62,
    "start_time": "2023-04-16T11:47:03.380Z"
   },
   {
    "duration": 66,
    "start_time": "2023-04-16T11:47:03.444Z"
   },
   {
    "duration": 49,
    "start_time": "2023-04-16T11:47:03.523Z"
   },
   {
    "duration": 208,
    "start_time": "2023-04-16T11:47:03.574Z"
   },
   {
    "duration": 240,
    "start_time": "2023-04-16T11:47:03.783Z"
   },
   {
    "duration": 12,
    "start_time": "2023-04-16T11:47:04.027Z"
   },
   {
    "duration": 388,
    "start_time": "2023-04-16T11:47:04.041Z"
   },
   {
    "duration": 1140,
    "start_time": "2023-04-17T01:53:31.790Z"
   },
   {
    "duration": 158,
    "start_time": "2023-04-17T01:53:32.932Z"
   },
   {
    "duration": 18,
    "start_time": "2023-04-17T01:53:33.091Z"
   },
   {
    "duration": 7,
    "start_time": "2023-04-17T01:53:33.111Z"
   },
   {
    "duration": 77,
    "start_time": "2023-04-17T01:53:33.119Z"
   },
   {
    "duration": 131,
    "start_time": "2023-04-17T01:53:33.197Z"
   },
   {
    "duration": 12,
    "start_time": "2023-04-17T01:53:33.330Z"
   },
   {
    "duration": 25,
    "start_time": "2023-04-17T01:53:33.343Z"
   },
   {
    "duration": 68,
    "start_time": "2023-04-17T01:53:33.370Z"
   },
   {
    "duration": 41,
    "start_time": "2023-04-17T01:53:33.439Z"
   },
   {
    "duration": 73,
    "start_time": "2023-04-17T01:53:33.482Z"
   },
   {
    "duration": 36,
    "start_time": "2023-04-17T01:53:33.557Z"
   },
   {
    "duration": 37,
    "start_time": "2023-04-17T01:53:33.595Z"
   },
   {
    "duration": 21,
    "start_time": "2023-04-17T01:53:33.635Z"
   },
   {
    "duration": 4,
    "start_time": "2023-04-17T01:53:33.658Z"
   },
   {
    "duration": 7,
    "start_time": "2023-04-17T01:53:33.664Z"
   },
   {
    "duration": 2,
    "start_time": "2023-04-17T01:53:33.673Z"
   },
   {
    "duration": 26,
    "start_time": "2023-04-17T01:53:33.677Z"
   },
   {
    "duration": 17,
    "start_time": "2023-04-17T01:53:33.704Z"
   },
   {
    "duration": 36,
    "start_time": "2023-04-17T01:53:33.723Z"
   },
   {
    "duration": 286,
    "start_time": "2023-04-17T01:53:33.760Z"
   },
   {
    "duration": 24,
    "start_time": "2023-04-17T01:53:34.048Z"
   },
   {
    "duration": 3,
    "start_time": "2023-04-17T01:53:34.074Z"
   },
   {
    "duration": 60,
    "start_time": "2023-04-17T01:53:34.078Z"
   },
   {
    "duration": 19,
    "start_time": "2023-04-17T01:53:34.139Z"
   },
   {
    "duration": 47,
    "start_time": "2023-04-17T01:53:34.159Z"
   },
   {
    "duration": 27,
    "start_time": "2023-04-17T01:53:34.207Z"
   },
   {
    "duration": 56,
    "start_time": "2023-04-17T01:53:34.236Z"
   },
   {
    "duration": 45,
    "start_time": "2023-04-17T01:53:34.293Z"
   },
   {
    "duration": 535,
    "start_time": "2023-04-17T01:53:34.339Z"
   },
   {
    "duration": 11,
    "start_time": "2023-04-17T01:53:34.876Z"
   },
   {
    "duration": 23,
    "start_time": "2023-04-17T01:53:34.889Z"
   },
   {
    "duration": 40,
    "start_time": "2023-04-17T01:53:34.956Z"
   },
   {
    "duration": 94,
    "start_time": "2023-04-17T01:53:34.998Z"
   },
   {
    "duration": 7,
    "start_time": "2023-04-17T01:53:35.093Z"
   },
   {
    "duration": 68,
    "start_time": "2023-04-17T01:53:35.102Z"
   },
   {
    "duration": 40,
    "start_time": "2023-04-17T01:53:35.172Z"
   },
   {
    "duration": 55,
    "start_time": "2023-04-17T01:53:35.213Z"
   },
   {
    "duration": 39,
    "start_time": "2023-04-17T01:53:35.269Z"
   },
   {
    "duration": 182,
    "start_time": "2023-04-17T01:53:35.310Z"
   },
   {
    "duration": 167,
    "start_time": "2023-04-17T01:53:35.496Z"
   },
   {
    "duration": 7,
    "start_time": "2023-04-17T01:53:35.665Z"
   },
   {
    "duration": 234,
    "start_time": "2023-04-17T01:53:35.674Z"
   },
   {
    "duration": 1123,
    "start_time": "2023-04-17T03:09:15.992Z"
   },
   {
    "duration": 153,
    "start_time": "2023-04-17T03:09:17.117Z"
   },
   {
    "duration": 18,
    "start_time": "2023-04-17T03:09:17.271Z"
   },
   {
    "duration": 7,
    "start_time": "2023-04-17T03:09:17.291Z"
   },
   {
    "duration": 85,
    "start_time": "2023-04-17T03:09:17.299Z"
   },
   {
    "duration": 153,
    "start_time": "2023-04-17T03:09:17.386Z"
   },
   {
    "duration": 20,
    "start_time": "2023-04-17T03:09:17.540Z"
   },
   {
    "duration": 15,
    "start_time": "2023-04-17T03:09:17.561Z"
   },
   {
    "duration": 92,
    "start_time": "2023-04-17T03:09:17.578Z"
   },
   {
    "duration": 25,
    "start_time": "2023-04-17T03:09:17.673Z"
   },
   {
    "duration": 116,
    "start_time": "2023-04-17T03:09:17.699Z"
   },
   {
    "duration": 49,
    "start_time": "2023-04-17T03:09:17.817Z"
   },
   {
    "duration": 40,
    "start_time": "2023-04-17T03:09:17.868Z"
   },
   {
    "duration": 7,
    "start_time": "2023-04-17T03:09:17.909Z"
   },
   {
    "duration": 4,
    "start_time": "2023-04-17T03:09:17.917Z"
   },
   {
    "duration": 34,
    "start_time": "2023-04-17T03:09:17.923Z"
   },
   {
    "duration": 4,
    "start_time": "2023-04-17T03:09:17.959Z"
   },
   {
    "duration": 26,
    "start_time": "2023-04-17T03:09:17.964Z"
   },
   {
    "duration": 18,
    "start_time": "2023-04-17T03:09:17.991Z"
   },
   {
    "duration": 6,
    "start_time": "2023-04-17T03:09:18.011Z"
   },
   {
    "duration": 297,
    "start_time": "2023-04-17T03:09:18.019Z"
   },
   {
    "duration": 19,
    "start_time": "2023-04-17T03:09:18.317Z"
   },
   {
    "duration": 3,
    "start_time": "2023-04-17T03:09:18.338Z"
   },
   {
    "duration": 9,
    "start_time": "2023-04-17T03:09:18.356Z"
   },
   {
    "duration": 6,
    "start_time": "2023-04-17T03:09:18.366Z"
   },
   {
    "duration": 30,
    "start_time": "2023-04-17T03:09:18.373Z"
   },
   {
    "duration": 64,
    "start_time": "2023-04-17T03:09:18.405Z"
   },
   {
    "duration": 58,
    "start_time": "2023-04-17T03:09:18.471Z"
   },
   {
    "duration": 55,
    "start_time": "2023-04-17T03:09:18.531Z"
   },
   {
    "duration": 481,
    "start_time": "2023-04-17T03:09:18.588Z"
   },
   {
    "duration": 15,
    "start_time": "2023-04-17T03:09:19.072Z"
   },
   {
    "duration": 17,
    "start_time": "2023-04-17T03:09:19.089Z"
   },
   {
    "duration": 41,
    "start_time": "2023-04-17T03:09:19.157Z"
   },
   {
    "duration": 97,
    "start_time": "2023-04-17T03:09:19.200Z"
   },
   {
    "duration": 7,
    "start_time": "2023-04-17T03:09:19.298Z"
   },
   {
    "duration": 57,
    "start_time": "2023-04-17T03:09:19.306Z"
   },
   {
    "duration": 38,
    "start_time": "2023-04-17T03:09:19.364Z"
   },
   {
    "duration": 33,
    "start_time": "2023-04-17T03:09:19.403Z"
   },
   {
    "duration": 47,
    "start_time": "2023-04-17T03:09:19.438Z"
   },
   {
    "duration": 142,
    "start_time": "2023-04-17T03:09:19.487Z"
   },
   {
    "duration": 150,
    "start_time": "2023-04-17T03:09:19.630Z"
   },
   {
    "duration": 5,
    "start_time": "2023-04-17T03:09:19.782Z"
   },
   {
    "duration": 212,
    "start_time": "2023-04-17T03:09:19.789Z"
   },
   {
    "duration": 1494,
    "start_time": "2023-04-17T11:55:28.537Z"
   },
   {
    "duration": 712,
    "start_time": "2023-04-17T11:55:30.034Z"
   },
   {
    "duration": 32,
    "start_time": "2023-04-17T11:55:30.748Z"
   },
   {
    "duration": 11,
    "start_time": "2023-04-17T11:55:30.783Z"
   },
   {
    "duration": 104,
    "start_time": "2023-04-17T11:55:30.796Z"
   },
   {
    "duration": 154,
    "start_time": "2023-04-17T11:55:30.902Z"
   },
   {
    "duration": 16,
    "start_time": "2023-04-17T11:55:31.057Z"
   },
   {
    "duration": 53,
    "start_time": "2023-04-17T11:55:31.075Z"
   },
   {
    "duration": 87,
    "start_time": "2023-04-17T11:55:31.130Z"
   },
   {
    "duration": 51,
    "start_time": "2023-04-17T11:55:31.220Z"
   },
   {
    "duration": 120,
    "start_time": "2023-04-17T11:55:31.274Z"
   },
   {
    "duration": 42,
    "start_time": "2023-04-17T11:55:31.396Z"
   },
   {
    "duration": 62,
    "start_time": "2023-04-17T11:55:31.440Z"
   },
   {
    "duration": 8,
    "start_time": "2023-04-17T11:55:31.504Z"
   },
   {
    "duration": 21,
    "start_time": "2023-04-17T11:55:31.514Z"
   },
   {
    "duration": 58,
    "start_time": "2023-04-17T11:55:31.537Z"
   },
   {
    "duration": 33,
    "start_time": "2023-04-17T11:55:31.598Z"
   },
   {
    "duration": 42,
    "start_time": "2023-04-17T11:55:31.633Z"
   },
   {
    "duration": 39,
    "start_time": "2023-04-17T11:55:31.678Z"
   },
   {
    "duration": 7,
    "start_time": "2023-04-17T11:55:31.720Z"
   },
   {
    "duration": 361,
    "start_time": "2023-04-17T11:55:31.730Z"
   },
   {
    "duration": 21,
    "start_time": "2023-04-17T11:55:32.093Z"
   },
   {
    "duration": 4,
    "start_time": "2023-04-17T11:55:32.116Z"
   },
   {
    "duration": 22,
    "start_time": "2023-04-17T11:55:32.122Z"
   },
   {
    "duration": 7,
    "start_time": "2023-04-17T11:55:32.146Z"
   },
   {
    "duration": 77,
    "start_time": "2023-04-17T11:55:32.155Z"
   },
   {
    "duration": 32,
    "start_time": "2023-04-17T11:55:32.233Z"
   },
   {
    "duration": 79,
    "start_time": "2023-04-17T11:55:32.269Z"
   },
   {
    "duration": 60,
    "start_time": "2023-04-17T11:55:32.350Z"
   },
   {
    "duration": 510,
    "start_time": "2023-04-17T11:55:32.412Z"
   },
   {
    "duration": 18,
    "start_time": "2023-04-17T11:55:32.926Z"
   },
   {
    "duration": 45,
    "start_time": "2023-04-17T11:55:32.946Z"
   },
   {
    "duration": 102,
    "start_time": "2023-04-17T11:55:32.994Z"
   },
   {
    "duration": 52,
    "start_time": "2023-04-17T11:55:33.098Z"
   },
   {
    "duration": 9,
    "start_time": "2023-04-17T11:55:33.152Z"
   },
   {
    "duration": 68,
    "start_time": "2023-04-17T11:55:33.164Z"
   },
   {
    "duration": 56,
    "start_time": "2023-04-17T11:55:33.234Z"
   },
   {
    "duration": 37,
    "start_time": "2023-04-17T11:55:33.292Z"
   },
   {
    "duration": 59,
    "start_time": "2023-04-17T11:55:33.331Z"
   },
   {
    "duration": 182,
    "start_time": "2023-04-17T11:55:33.391Z"
   },
   {
    "duration": 183,
    "start_time": "2023-04-17T11:55:33.575Z"
   },
   {
    "duration": 7,
    "start_time": "2023-04-17T11:55:33.760Z"
   },
   {
    "duration": 246,
    "start_time": "2023-04-17T11:55:33.770Z"
   },
   {
    "duration": 1434,
    "start_time": "2023-04-17T16:45:43.482Z"
   },
   {
    "duration": 703,
    "start_time": "2023-04-17T16:45:44.918Z"
   },
   {
    "duration": 21,
    "start_time": "2023-04-17T16:45:45.623Z"
   },
   {
    "duration": 15,
    "start_time": "2023-04-17T16:45:45.646Z"
   },
   {
    "duration": 81,
    "start_time": "2023-04-17T16:45:45.663Z"
   },
   {
    "duration": 144,
    "start_time": "2023-04-17T16:45:45.746Z"
   },
   {
    "duration": 16,
    "start_time": "2023-04-17T16:45:45.892Z"
   },
   {
    "duration": 15,
    "start_time": "2023-04-17T16:45:45.910Z"
   },
   {
    "duration": 95,
    "start_time": "2023-04-17T16:45:45.927Z"
   },
   {
    "duration": 30,
    "start_time": "2023-04-17T16:45:46.024Z"
   },
   {
    "duration": 83,
    "start_time": "2023-04-17T16:45:46.056Z"
   },
   {
    "duration": 54,
    "start_time": "2023-04-17T16:45:46.141Z"
   },
   {
    "duration": 41,
    "start_time": "2023-04-17T16:45:46.196Z"
   },
   {
    "duration": 6,
    "start_time": "2023-04-17T16:45:46.239Z"
   },
   {
    "duration": 4,
    "start_time": "2023-04-17T16:45:46.247Z"
   },
   {
    "duration": 35,
    "start_time": "2023-04-17T16:45:46.253Z"
   },
   {
    "duration": 4,
    "start_time": "2023-04-17T16:45:46.289Z"
   },
   {
    "duration": 33,
    "start_time": "2023-04-17T16:45:46.295Z"
   },
   {
    "duration": 21,
    "start_time": "2023-04-17T16:45:46.330Z"
   },
   {
    "duration": 6,
    "start_time": "2023-04-17T16:45:46.352Z"
   },
   {
    "duration": 331,
    "start_time": "2023-04-17T16:45:46.360Z"
   },
   {
    "duration": 20,
    "start_time": "2023-04-17T16:45:46.692Z"
   },
   {
    "duration": 4,
    "start_time": "2023-04-17T16:45:46.714Z"
   },
   {
    "duration": 14,
    "start_time": "2023-04-17T16:45:46.719Z"
   },
   {
    "duration": 7,
    "start_time": "2023-04-17T16:45:46.735Z"
   },
   {
    "duration": 70,
    "start_time": "2023-04-17T16:45:46.744Z"
   },
   {
    "duration": 31,
    "start_time": "2023-04-17T16:45:46.816Z"
   },
   {
    "duration": 68,
    "start_time": "2023-04-17T16:45:46.849Z"
   },
   {
    "duration": 46,
    "start_time": "2023-04-17T16:45:46.918Z"
   },
   {
    "duration": 442,
    "start_time": "2023-04-17T16:45:46.966Z"
   },
   {
    "duration": 14,
    "start_time": "2023-04-17T16:45:47.410Z"
   },
   {
    "duration": 15,
    "start_time": "2023-04-17T16:45:47.426Z"
   },
   {
    "duration": 82,
    "start_time": "2023-04-17T16:45:47.442Z"
   },
   {
    "duration": 98,
    "start_time": "2023-04-17T16:45:47.525Z"
   },
   {
    "duration": 8,
    "start_time": "2023-04-17T16:45:47.625Z"
   },
   {
    "duration": 61,
    "start_time": "2023-04-17T16:45:47.635Z"
   },
   {
    "duration": 43,
    "start_time": "2023-04-17T16:45:47.698Z"
   },
   {
    "duration": 59,
    "start_time": "2023-04-17T16:45:47.743Z"
   },
   {
    "duration": 36,
    "start_time": "2023-04-17T16:45:47.803Z"
   },
   {
    "duration": 173,
    "start_time": "2023-04-17T16:45:47.841Z"
   },
   {
    "duration": 156,
    "start_time": "2023-04-17T16:45:48.018Z"
   },
   {
    "duration": 7,
    "start_time": "2023-04-17T16:45:48.185Z"
   },
   {
    "duration": 253,
    "start_time": "2023-04-17T16:45:48.194Z"
   },
   {
    "duration": 1488,
    "start_time": "2023-04-18T03:25:14.816Z"
   },
   {
    "duration": 217,
    "start_time": "2023-04-18T03:25:16.306Z"
   },
   {
    "duration": 42,
    "start_time": "2023-04-18T03:25:16.525Z"
   },
   {
    "duration": 29,
    "start_time": "2023-04-18T03:25:16.574Z"
   },
   {
    "duration": 95,
    "start_time": "2023-04-18T03:25:16.606Z"
   },
   {
    "duration": 179,
    "start_time": "2023-04-18T03:25:16.703Z"
   },
   {
    "duration": 22,
    "start_time": "2023-04-18T03:25:16.885Z"
   },
   {
    "duration": 39,
    "start_time": "2023-04-18T03:25:16.909Z"
   },
   {
    "duration": 91,
    "start_time": "2023-04-18T03:25:16.950Z"
   },
   {
    "duration": 81,
    "start_time": "2023-04-18T03:25:17.042Z"
   },
   {
    "duration": 91,
    "start_time": "2023-04-18T03:25:17.125Z"
   },
   {
    "duration": 58,
    "start_time": "2023-04-18T03:25:17.218Z"
   },
   {
    "duration": 43,
    "start_time": "2023-04-18T03:25:17.278Z"
   },
   {
    "duration": 19,
    "start_time": "2023-04-18T03:25:17.324Z"
   },
   {
    "duration": 12,
    "start_time": "2023-04-18T03:25:17.348Z"
   },
   {
    "duration": 34,
    "start_time": "2023-04-18T03:25:17.362Z"
   },
   {
    "duration": 5,
    "start_time": "2023-04-18T03:25:17.398Z"
   },
   {
    "duration": 54,
    "start_time": "2023-04-18T03:25:17.405Z"
   },
   {
    "duration": 34,
    "start_time": "2023-04-18T03:25:17.461Z"
   },
   {
    "duration": 9,
    "start_time": "2023-04-18T03:25:17.499Z"
   },
   {
    "duration": 346,
    "start_time": "2023-04-18T03:25:17.510Z"
   },
   {
    "duration": 23,
    "start_time": "2023-04-18T03:25:17.861Z"
   },
   {
    "duration": 25,
    "start_time": "2023-04-18T03:25:17.890Z"
   },
   {
    "duration": 16,
    "start_time": "2023-04-18T03:25:17.917Z"
   },
   {
    "duration": 22,
    "start_time": "2023-04-18T03:25:17.934Z"
   },
   {
    "duration": 102,
    "start_time": "2023-04-18T03:25:17.962Z"
   },
   {
    "duration": 55,
    "start_time": "2023-04-18T03:25:18.070Z"
   },
   {
    "duration": 91,
    "start_time": "2023-04-18T03:25:18.127Z"
   },
   {
    "duration": 70,
    "start_time": "2023-04-18T03:25:18.221Z"
   },
   {
    "duration": 681,
    "start_time": "2023-04-18T03:25:18.293Z"
   },
   {
    "duration": 22,
    "start_time": "2023-04-18T03:25:18.978Z"
   },
   {
    "duration": 52,
    "start_time": "2023-04-18T03:25:19.002Z"
   },
   {
    "duration": 100,
    "start_time": "2023-04-18T03:25:19.055Z"
   },
   {
    "duration": 70,
    "start_time": "2023-04-18T03:25:19.157Z"
   },
   {
    "duration": 15,
    "start_time": "2023-04-18T03:25:19.229Z"
   },
   {
    "duration": 107,
    "start_time": "2023-04-18T03:25:19.255Z"
   },
   {
    "duration": 48,
    "start_time": "2023-04-18T03:25:19.366Z"
   },
   {
    "duration": 45,
    "start_time": "2023-04-18T03:25:19.416Z"
   },
   {
    "duration": 77,
    "start_time": "2023-04-18T03:25:19.463Z"
   },
   {
    "duration": 199,
    "start_time": "2023-04-18T03:25:19.547Z"
   },
   {
    "duration": 173,
    "start_time": "2023-04-18T03:25:19.754Z"
   },
   {
    "duration": 11,
    "start_time": "2023-04-18T03:25:19.928Z"
   },
   {
    "duration": 316,
    "start_time": "2023-04-18T03:25:19.943Z"
   },
   {
    "duration": 1403,
    "start_time": "2023-04-18T03:30:34.390Z"
   },
   {
    "duration": 206,
    "start_time": "2023-04-18T03:30:35.795Z"
   },
   {
    "duration": 45,
    "start_time": "2023-04-18T03:30:36.003Z"
   },
   {
    "duration": 14,
    "start_time": "2023-04-18T03:30:36.052Z"
   },
   {
    "duration": 100,
    "start_time": "2023-04-18T03:30:36.068Z"
   },
   {
    "duration": 179,
    "start_time": "2023-04-18T03:30:36.170Z"
   },
   {
    "duration": 24,
    "start_time": "2023-04-18T03:30:36.355Z"
   },
   {
    "duration": 43,
    "start_time": "2023-04-18T03:30:36.382Z"
   },
   {
    "duration": 105,
    "start_time": "2023-04-18T03:30:36.426Z"
   },
   {
    "duration": 77,
    "start_time": "2023-04-18T03:30:36.535Z"
   },
   {
    "duration": 93,
    "start_time": "2023-04-18T03:30:36.613Z"
   },
   {
    "duration": 69,
    "start_time": "2023-04-18T03:30:36.708Z"
   },
   {
    "duration": 43,
    "start_time": "2023-04-18T03:30:36.778Z"
   },
   {
    "duration": 6,
    "start_time": "2023-04-18T03:30:36.824Z"
   },
   {
    "duration": 19,
    "start_time": "2023-04-18T03:30:36.832Z"
   },
   {
    "duration": 40,
    "start_time": "2023-04-18T03:30:36.857Z"
   },
   {
    "duration": 4,
    "start_time": "2023-04-18T03:30:36.898Z"
   },
   {
    "duration": 28,
    "start_time": "2023-04-18T03:30:36.903Z"
   },
   {
    "duration": 39,
    "start_time": "2023-04-18T03:30:36.933Z"
   },
   {
    "duration": 27,
    "start_time": "2023-04-18T03:30:36.974Z"
   },
   {
    "duration": 388,
    "start_time": "2023-04-18T03:30:37.003Z"
   },
   {
    "duration": 18,
    "start_time": "2023-04-18T03:30:37.393Z"
   },
   {
    "duration": 4,
    "start_time": "2023-04-18T03:30:37.412Z"
   },
   {
    "duration": 50,
    "start_time": "2023-04-18T03:30:37.433Z"
   },
   {
    "duration": 7,
    "start_time": "2023-04-18T03:30:37.484Z"
   },
   {
    "duration": 30,
    "start_time": "2023-04-18T03:30:37.493Z"
   },
   {
    "duration": 59,
    "start_time": "2023-04-18T03:30:37.524Z"
   },
   {
    "duration": 82,
    "start_time": "2023-04-18T03:30:37.585Z"
   },
   {
    "duration": 47,
    "start_time": "2023-04-18T03:30:37.675Z"
   },
   {
    "duration": 600,
    "start_time": "2023-04-18T03:30:37.723Z"
   },
   {
    "duration": 20,
    "start_time": "2023-04-18T03:30:38.336Z"
   },
   {
    "duration": 46,
    "start_time": "2023-04-18T03:30:38.358Z"
   },
   {
    "duration": 79,
    "start_time": "2023-04-18T03:30:38.406Z"
   },
   {
    "duration": 84,
    "start_time": "2023-04-18T03:30:38.488Z"
   },
   {
    "duration": 9,
    "start_time": "2023-04-18T03:30:38.574Z"
   },
   {
    "duration": 48,
    "start_time": "2023-04-18T03:30:38.585Z"
   },
   {
    "duration": 56,
    "start_time": "2023-04-18T03:30:38.637Z"
   },
   {
    "duration": 31,
    "start_time": "2023-04-18T03:30:38.695Z"
   },
   {
    "duration": 41,
    "start_time": "2023-04-18T03:30:38.728Z"
   },
   {
    "duration": 170,
    "start_time": "2023-04-18T03:30:38.771Z"
   },
   {
    "duration": 150,
    "start_time": "2023-04-18T03:30:38.948Z"
   },
   {
    "duration": 6,
    "start_time": "2023-04-18T03:30:39.100Z"
   },
   {
    "duration": 253,
    "start_time": "2023-04-18T03:30:39.108Z"
   },
   {
    "duration": 1369,
    "start_time": "2023-04-18T03:31:18.395Z"
   },
   {
    "duration": 203,
    "start_time": "2023-04-18T03:31:19.765Z"
   },
   {
    "duration": 33,
    "start_time": "2023-04-18T03:31:19.973Z"
   },
   {
    "duration": 8,
    "start_time": "2023-04-18T03:31:20.008Z"
   },
   {
    "duration": 93,
    "start_time": "2023-04-18T03:31:20.018Z"
   },
   {
    "duration": 146,
    "start_time": "2023-04-18T03:31:20.112Z"
   },
   {
    "duration": 27,
    "start_time": "2023-04-18T03:31:20.259Z"
   },
   {
    "duration": 24,
    "start_time": "2023-04-18T03:31:20.288Z"
   },
   {
    "duration": 107,
    "start_time": "2023-04-18T03:31:20.313Z"
   },
   {
    "duration": 57,
    "start_time": "2023-04-18T03:31:20.423Z"
   },
   {
    "duration": 127,
    "start_time": "2023-04-18T03:31:20.481Z"
   },
   {
    "duration": 46,
    "start_time": "2023-04-18T03:31:20.610Z"
   },
   {
    "duration": 55,
    "start_time": "2023-04-18T03:31:20.657Z"
   },
   {
    "duration": 8,
    "start_time": "2023-04-18T03:31:20.714Z"
   },
   {
    "duration": 67,
    "start_time": "2023-04-18T03:31:20.723Z"
   },
   {
    "duration": 21,
    "start_time": "2023-04-18T03:31:20.792Z"
   },
   {
    "duration": 66,
    "start_time": "2023-04-18T03:31:20.815Z"
   },
   {
    "duration": 38,
    "start_time": "2023-04-18T03:31:20.884Z"
   },
   {
    "duration": 32,
    "start_time": "2023-04-18T03:31:20.923Z"
   },
   {
    "duration": 60,
    "start_time": "2023-04-18T03:31:20.961Z"
   },
   {
    "duration": 381,
    "start_time": "2023-04-18T03:31:21.024Z"
   },
   {
    "duration": 38,
    "start_time": "2023-04-18T03:31:21.407Z"
   },
   {
    "duration": 5,
    "start_time": "2023-04-18T03:31:21.448Z"
   },
   {
    "duration": 49,
    "start_time": "2023-04-18T03:31:21.462Z"
   },
   {
    "duration": 7,
    "start_time": "2023-04-18T03:31:21.513Z"
   },
   {
    "duration": 47,
    "start_time": "2023-04-18T03:31:21.521Z"
   },
   {
    "duration": 44,
    "start_time": "2023-04-18T03:31:21.569Z"
   },
   {
    "duration": 82,
    "start_time": "2023-04-18T03:31:21.618Z"
   },
   {
    "duration": 77,
    "start_time": "2023-04-18T03:31:21.702Z"
   },
   {
    "duration": 584,
    "start_time": "2023-04-18T03:31:21.786Z"
   },
   {
    "duration": 27,
    "start_time": "2023-04-18T03:31:22.372Z"
   },
   {
    "duration": 22,
    "start_time": "2023-04-18T03:31:22.401Z"
   },
   {
    "duration": 128,
    "start_time": "2023-04-18T03:31:22.425Z"
   },
   {
    "duration": 67,
    "start_time": "2023-04-18T03:31:22.555Z"
   },
   {
    "duration": 21,
    "start_time": "2023-04-18T03:31:22.624Z"
   },
   {
    "duration": 102,
    "start_time": "2023-04-18T03:31:22.647Z"
   },
   {
    "duration": 55,
    "start_time": "2023-04-18T03:31:22.751Z"
   },
   {
    "duration": 48,
    "start_time": "2023-04-18T03:31:22.808Z"
   },
   {
    "duration": 51,
    "start_time": "2023-04-18T03:31:22.864Z"
   },
   {
    "duration": 173,
    "start_time": "2023-04-18T03:31:22.916Z"
   },
   {
    "duration": 166,
    "start_time": "2023-04-18T03:31:23.090Z"
   },
   {
    "duration": 11,
    "start_time": "2023-04-18T03:31:23.260Z"
   },
   {
    "duration": 265,
    "start_time": "2023-04-18T03:31:23.272Z"
   },
   {
    "duration": 76,
    "start_time": "2023-07-03T17:18:33.418Z"
   },
   {
    "duration": 1621,
    "start_time": "2023-07-03T17:18:40.637Z"
   },
   {
    "duration": 728,
    "start_time": "2023-07-03T17:18:42.261Z"
   },
   {
    "duration": 30,
    "start_time": "2023-07-03T17:18:42.991Z"
   },
   {
    "duration": 9,
    "start_time": "2023-07-03T17:18:43.025Z"
   },
   {
    "duration": 110,
    "start_time": "2023-07-03T17:18:43.036Z"
   },
   {
    "duration": 195,
    "start_time": "2023-07-03T17:18:43.149Z"
   },
   {
    "duration": 23,
    "start_time": "2023-07-03T17:18:43.346Z"
   },
   {
    "duration": 24,
    "start_time": "2023-07-03T17:18:43.371Z"
   },
   {
    "duration": 102,
    "start_time": "2023-07-03T17:18:43.397Z"
   },
   {
    "duration": 46,
    "start_time": "2023-07-03T17:18:43.503Z"
   },
   {
    "duration": 81,
    "start_time": "2023-07-03T17:18:43.551Z"
   },
   {
    "duration": 62,
    "start_time": "2023-07-03T17:18:43.634Z"
   },
   {
    "duration": 45,
    "start_time": "2023-07-03T17:18:43.698Z"
   },
   {
    "duration": 23,
    "start_time": "2023-07-03T17:18:43.745Z"
   },
   {
    "duration": 5,
    "start_time": "2023-07-03T17:18:43.770Z"
   },
   {
    "duration": 16,
    "start_time": "2023-07-03T17:18:43.777Z"
   },
   {
    "duration": 5,
    "start_time": "2023-07-03T17:18:43.795Z"
   },
   {
    "duration": 32,
    "start_time": "2023-07-03T17:18:43.802Z"
   },
   {
    "duration": 66,
    "start_time": "2023-07-03T17:18:43.836Z"
   },
   {
    "duration": 10,
    "start_time": "2023-07-03T17:18:43.904Z"
   },
   {
    "duration": 402,
    "start_time": "2023-07-03T17:18:43.917Z"
   },
   {
    "duration": 23,
    "start_time": "2023-07-03T17:18:44.322Z"
   },
   {
    "duration": 19,
    "start_time": "2023-07-03T17:18:44.348Z"
   },
   {
    "duration": 24,
    "start_time": "2023-07-03T17:18:44.369Z"
   },
   {
    "duration": 11,
    "start_time": "2023-07-03T17:18:44.395Z"
   },
   {
    "duration": 40,
    "start_time": "2023-07-03T17:18:44.407Z"
   },
   {
    "duration": 63,
    "start_time": "2023-07-03T17:18:44.449Z"
   },
   {
    "duration": 113,
    "start_time": "2023-07-03T17:18:44.518Z"
   },
   {
    "duration": 61,
    "start_time": "2023-07-03T17:18:44.633Z"
   },
   {
    "duration": 516,
    "start_time": "2023-07-03T17:18:44.696Z"
   },
   {
    "duration": 16,
    "start_time": "2023-07-03T17:18:45.216Z"
   },
   {
    "duration": 19,
    "start_time": "2023-07-03T17:18:45.269Z"
   },
   {
    "duration": 118,
    "start_time": "2023-07-03T17:18:45.290Z"
   },
   {
    "duration": 87,
    "start_time": "2023-07-03T17:18:45.411Z"
   },
   {
    "duration": 9,
    "start_time": "2023-07-03T17:18:45.500Z"
   },
   {
    "duration": 84,
    "start_time": "2023-07-03T17:18:45.511Z"
   },
   {
    "duration": 46,
    "start_time": "2023-07-03T17:18:45.598Z"
   },
   {
    "duration": 55,
    "start_time": "2023-07-03T17:18:45.646Z"
   },
   {
    "duration": 42,
    "start_time": "2023-07-03T17:18:45.703Z"
   },
   {
    "duration": 213,
    "start_time": "2023-07-03T17:18:45.766Z"
   },
   {
    "duration": 189,
    "start_time": "2023-07-03T17:18:45.981Z"
   },
   {
    "duration": 10,
    "start_time": "2023-07-03T17:18:46.172Z"
   },
   {
    "duration": 277,
    "start_time": "2023-07-03T17:18:46.185Z"
   },
   {
    "duration": 4,
    "start_time": "2023-07-03T17:21:50.513Z"
   },
   {
    "duration": 1371,
    "start_time": "2023-07-03T17:21:56.614Z"
   },
   {
    "duration": 72,
    "start_time": "2023-07-03T17:21:57.987Z"
   },
   {
    "duration": 178,
    "start_time": "2023-07-03T17:21:58.061Z"
   },
   {
    "duration": 39,
    "start_time": "2023-07-03T17:21:58.242Z"
   },
   {
    "duration": 11,
    "start_time": "2023-07-03T17:21:58.285Z"
   },
   {
    "duration": 94,
    "start_time": "2023-07-03T17:21:58.298Z"
   },
   {
    "duration": 161,
    "start_time": "2023-07-03T17:21:58.393Z"
   },
   {
    "duration": 17,
    "start_time": "2023-07-03T17:21:58.567Z"
   },
   {
    "duration": 22,
    "start_time": "2023-07-03T17:21:58.587Z"
   },
   {
    "duration": 128,
    "start_time": "2023-07-03T17:21:58.611Z"
   },
   {
    "duration": 37,
    "start_time": "2023-07-03T17:21:58.742Z"
   },
   {
    "duration": 126,
    "start_time": "2023-07-03T17:21:58.781Z"
   },
   {
    "duration": 63,
    "start_time": "2023-07-03T17:21:58.910Z"
   },
   {
    "duration": 66,
    "start_time": "2023-07-03T17:21:58.979Z"
   },
   {
    "duration": 24,
    "start_time": "2023-07-03T17:21:59.048Z"
   },
   {
    "duration": 24,
    "start_time": "2023-07-03T17:21:59.074Z"
   },
   {
    "duration": 31,
    "start_time": "2023-07-03T17:21:59.102Z"
   },
   {
    "duration": 4,
    "start_time": "2023-07-03T17:21:59.136Z"
   },
   {
    "duration": 47,
    "start_time": "2023-07-03T17:21:59.143Z"
   },
   {
    "duration": 25,
    "start_time": "2023-07-03T17:21:59.192Z"
   },
   {
    "duration": 8,
    "start_time": "2023-07-03T17:21:59.219Z"
   },
   {
    "duration": 376,
    "start_time": "2023-07-03T17:21:59.229Z"
   },
   {
    "duration": 23,
    "start_time": "2023-07-03T17:21:59.607Z"
   },
   {
    "duration": 4,
    "start_time": "2023-07-03T17:21:59.632Z"
   },
   {
    "duration": 34,
    "start_time": "2023-07-03T17:21:59.638Z"
   },
   {
    "duration": 10,
    "start_time": "2023-07-03T17:21:59.675Z"
   },
   {
    "duration": 52,
    "start_time": "2023-07-03T17:21:59.688Z"
   },
   {
    "duration": 60,
    "start_time": "2023-07-03T17:21:59.742Z"
   },
   {
    "duration": 90,
    "start_time": "2023-07-03T17:21:59.804Z"
   },
   {
    "duration": 52,
    "start_time": "2023-07-03T17:21:59.900Z"
   },
   {
    "duration": 546,
    "start_time": "2023-07-03T17:21:59.968Z"
   },
   {
    "duration": 0,
    "start_time": "2023-07-03T17:22:00.517Z"
   },
   {
    "duration": 0,
    "start_time": "2023-07-03T17:22:00.519Z"
   },
   {
    "duration": 0,
    "start_time": "2023-07-03T17:22:00.521Z"
   },
   {
    "duration": 0,
    "start_time": "2023-07-03T17:22:00.522Z"
   },
   {
    "duration": 0,
    "start_time": "2023-07-03T17:22:00.525Z"
   },
   {
    "duration": 0,
    "start_time": "2023-07-03T17:22:00.526Z"
   },
   {
    "duration": 0,
    "start_time": "2023-07-03T17:22:00.529Z"
   },
   {
    "duration": 0,
    "start_time": "2023-07-03T17:22:00.530Z"
   },
   {
    "duration": 0,
    "start_time": "2023-07-03T17:22:00.532Z"
   },
   {
    "duration": 0,
    "start_time": "2023-07-03T17:22:00.534Z"
   },
   {
    "duration": 0,
    "start_time": "2023-07-03T17:22:00.536Z"
   },
   {
    "duration": 0,
    "start_time": "2023-07-03T17:22:00.537Z"
   },
   {
    "duration": 0,
    "start_time": "2023-07-03T17:22:00.538Z"
   },
   {
    "duration": 10968,
    "start_time": "2023-07-03T17:22:30.476Z"
   },
   {
    "duration": 1368,
    "start_time": "2023-07-03T17:22:55.666Z"
   },
   {
    "duration": 78,
    "start_time": "2023-07-03T17:22:57.036Z"
   },
   {
    "duration": 181,
    "start_time": "2023-07-03T17:22:57.116Z"
   },
   {
    "duration": 32,
    "start_time": "2023-07-03T17:22:57.301Z"
   },
   {
    "duration": 11,
    "start_time": "2023-07-03T17:22:57.336Z"
   },
   {
    "duration": 74,
    "start_time": "2023-07-03T17:22:57.367Z"
   },
   {
    "duration": 173,
    "start_time": "2023-07-03T17:22:57.442Z"
   },
   {
    "duration": 15,
    "start_time": "2023-07-03T17:22:57.617Z"
   },
   {
    "duration": 34,
    "start_time": "2023-07-03T17:22:57.634Z"
   },
   {
    "duration": 104,
    "start_time": "2023-07-03T17:22:57.671Z"
   },
   {
    "duration": 30,
    "start_time": "2023-07-03T17:22:57.777Z"
   },
   {
    "duration": 89,
    "start_time": "2023-07-03T17:22:57.809Z"
   },
   {
    "duration": 44,
    "start_time": "2023-07-03T17:22:57.900Z"
   },
   {
    "duration": 77,
    "start_time": "2023-07-03T17:22:57.945Z"
   },
   {
    "duration": 7,
    "start_time": "2023-07-03T17:22:58.024Z"
   },
   {
    "duration": 34,
    "start_time": "2023-07-03T17:22:58.033Z"
   },
   {
    "duration": 11,
    "start_time": "2023-07-03T17:22:58.070Z"
   },
   {
    "duration": 4,
    "start_time": "2023-07-03T17:22:58.083Z"
   },
   {
    "duration": 53,
    "start_time": "2023-07-03T17:22:58.089Z"
   },
   {
    "duration": 33,
    "start_time": "2023-07-03T17:22:58.143Z"
   },
   {
    "duration": 7,
    "start_time": "2023-07-03T17:22:58.179Z"
   },
   {
    "duration": 350,
    "start_time": "2023-07-03T17:22:58.188Z"
   },
   {
    "duration": 35,
    "start_time": "2023-07-03T17:22:58.540Z"
   },
   {
    "duration": 4,
    "start_time": "2023-07-03T17:22:58.578Z"
   },
   {
    "duration": 18,
    "start_time": "2023-07-03T17:22:58.584Z"
   },
   {
    "duration": 10,
    "start_time": "2023-07-03T17:22:58.605Z"
   },
   {
    "duration": 90,
    "start_time": "2023-07-03T17:22:58.618Z"
   },
   {
    "duration": 33,
    "start_time": "2023-07-03T17:22:58.712Z"
   },
   {
    "duration": 75,
    "start_time": "2023-07-03T17:22:58.747Z"
   },
   {
    "duration": 73,
    "start_time": "2023-07-03T17:22:58.824Z"
   },
   {
    "duration": 1305,
    "start_time": "2023-07-03T17:22:58.899Z"
   },
   {
    "duration": 18,
    "start_time": "2023-07-03T17:23:00.206Z"
   },
   {
    "duration": 48,
    "start_time": "2023-07-03T17:23:00.225Z"
   },
   {
    "duration": 87,
    "start_time": "2023-07-03T17:23:00.276Z"
   },
   {
    "duration": 61,
    "start_time": "2023-07-03T17:23:00.365Z"
   },
   {
    "duration": 9,
    "start_time": "2023-07-03T17:23:00.429Z"
   },
   {
    "duration": 119,
    "start_time": "2023-07-03T17:23:00.440Z"
   },
   {
    "duration": 48,
    "start_time": "2023-07-03T17:23:00.561Z"
   },
   {
    "duration": 72,
    "start_time": "2023-07-03T17:23:00.610Z"
   },
   {
    "duration": 63,
    "start_time": "2023-07-03T17:23:00.684Z"
   },
   {
    "duration": 215,
    "start_time": "2023-07-03T17:23:00.768Z"
   },
   {
    "duration": 208,
    "start_time": "2023-07-03T17:23:00.985Z"
   },
   {
    "duration": 8,
    "start_time": "2023-07-03T17:23:01.195Z"
   },
   {
    "duration": 287,
    "start_time": "2023-07-03T17:23:01.205Z"
   }
  ],
  "kernelspec": {
   "display_name": "Python 3 (ipykernel)",
   "language": "python",
   "name": "python3"
  },
  "language_info": {
   "codemirror_mode": {
    "name": "ipython",
    "version": 3
   },
   "file_extension": ".py",
   "mimetype": "text/x-python",
   "name": "python",
   "nbconvert_exporter": "python",
   "pygments_lexer": "ipython3",
   "version": "3.9.5"
  },
  "toc": {
   "base_numbering": 1,
   "nav_menu": {},
   "number_sections": true,
   "sideBar": true,
   "skip_h1_title": true,
   "title_cell": "Table of Contents",
   "title_sidebar": "Contents",
   "toc_cell": false,
   "toc_position": {
    "height": "calc(100% - 180px)",
    "left": "10px",
    "top": "150px",
    "width": "289.438px"
   },
   "toc_section_display": true,
   "toc_window_display": true
  }
 },
 "nbformat": 4,
 "nbformat_minor": 2
}
