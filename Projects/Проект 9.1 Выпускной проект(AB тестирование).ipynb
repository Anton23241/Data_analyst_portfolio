{
 "cells": [
  {
   "cell_type": "markdown",
   "metadata": {},
   "source": [
    "# Проект по А/B-тестированию"
   ]
  },
  {
   "cell_type": "markdown",
   "metadata": {},
   "source": [
    "Наша задача — провести оценку результатов A/B-теста. В вашем распоряжении есть датасет с действиями пользователей, техническое задание и несколько вспомогательных датасетов.\n",
    "\n",
    "Необходимо:\n",
    "\n",
    "- оценить корректность проведения теста;\n",
    "- проанализировать результаты теста.\n",
    "\n",
    "Чтобы оценить корректность проведения теста, нужно проверить:\n",
    "\n",
    "- пересечение тестовой аудитории с конкурирующим тестом,\n",
    "- совпадение теста и маркетинговых событий, другие проблемы временных границ теста."
   ]
  },
  {
   "cell_type": "markdown",
   "metadata": {},
   "source": [
    "# Содержание\n",
    "\n",
    "1. Техническое задание и описание данных\n",
    "2. Загрузка и анализ данных\n",
    "3. Предобработка данных\n",
    "4. Оценка корректности теста\n",
    "5. Исследовательский анализ данных\n",
    "6. Оценка результатов A/B тестирования"
   ]
  },
  {
   "cell_type": "markdown",
   "metadata": {},
   "source": [
    "## Техническое задание и описание данных"
   ]
  },
  {
   "cell_type": "markdown",
   "metadata": {},
   "source": [
    "**Техническое задание**"
   ]
  },
  {
   "cell_type": "markdown",
   "metadata": {},
   "source": [
    "- Название теста: recommender_system_test;\n",
    "- группы: А — контрольная, B — новая платёжная воронка;\n",
    "- дата запуска: 2020-12-07;\n",
    "- дата остановки набора новых пользователей: 2020-12-21;\n",
    "- дата остановки: 2021-01-04;\n",
    "- аудитория: в тест должно быть отобрано 15% новых пользователей из региона EU;\n",
    "- назначение теста: тестирование изменений, связанных с внедрением улучшенной рекомендательной системы;\n",
    "- ожидаемое количество участников теста: 6000.\n",
    "- ожидаемый эффект: за 14 дней с момента регистрации пользователи покажут улучшение каждой метрики не менее, чем на 10%:\n",
    "  - конверсии в просмотр карточек товаров — событие product_page,\n",
    "  - просмотры корзины — product_cart,\n",
    "  - покупки — purchase."
   ]
  },
  {
   "cell_type": "markdown",
   "metadata": {},
   "source": [
    "**Описание данных**"
   ]
  },
  {
   "cell_type": "markdown",
   "metadata": {},
   "source": [
    "`ab_project_marketing_events.csv` — календарь маркетинговых событий на 2020 год.\n",
    "\n",
    "Структура файла:\n",
    "\n",
    "- `name` — название маркетингового события;\n",
    "- `regions` — регионы, в которых будет проводиться рекламная кампания;\n",
    "- `start_dt` — дата начала кампании;\n",
    "- `finish_dt` — дата завершения кампании.\n",
    "\n",
    "`final_ab_new_users.csv` — пользователи, зарегистрировавшиеся с 7 до 21 декабря 2020 года.\n",
    "\n",
    "Структура файла:\n",
    "\n",
    "- `user_id` — идентификатор пользователя;\n",
    "- `first_date` — дата регистрации;\n",
    "- `region` — регион пользователя;\n",
    "- `device` — устройство, с которого происходила регистрация.\n",
    "\n",
    "`final_ab_events.csv` — действия новых пользователей в период с 7 декабря 2020 по 4 января 2021 года.\n",
    "\n",
    "Структура файла:\n",
    "- `user_id` — идентификатор пользователя;\n",
    "- `event_dt` — дата и время события;\n",
    "- `event_name` — тип события;\n",
    "- `details` — дополнительные данные о событии. Например, для покупок, `purchase,` в этом поле хранится стоимость покупки в долларах.\n",
    "\n",
    "`final_ab_participants.csv` — таблица участников тестов.\n",
    "\n",
    "Структура файла:\n",
    "\n",
    "- `user_id` — идентификатор пользователя;\n",
    "- `ab_test` — название теста;\n",
    "- `group` — группа пользователя."
   ]
  },
  {
   "cell_type": "markdown",
   "metadata": {},
   "source": [
    "## Загрузка и анализ данных"
   ]
  },
  {
   "cell_type": "code",
   "execution_count": 1,
   "metadata": {},
   "outputs": [],
   "source": [
    "# импорт библиотек\n",
    "import pandas as pd\n",
    "import numpy as np\n",
    "import matplotlib.pyplot as plt \n",
    "import seaborn as sns\n",
    "sns.set()\n",
    "\n",
    "import datetime as dt\n",
    "from datetime import datetime, timedelta\n",
    "\n",
    "from scipy import stats as st\n",
    "import math as mth\n",
    "from statsmodels.stats.weightstats import ztest as ztest\n",
    "\n",
    "import plotly\n",
    "from plotly.offline import init_notebook_mode, iplot\n",
    "import plotly.graph_objs as go"
   ]
  },
  {
   "cell_type": "code",
   "execution_count": 2,
   "metadata": {},
   "outputs": [],
   "source": [
    "user_events = pd.read_csv('https://code.s3.yandex.net/datasets/final_ab_events.csv')\n",
    "pm_events = pd.read_csv('https://code.s3.yandex.net/datasets/ab_project_marketing_events.csv')\n",
    "new_users = pd.read_csv('https://code.s3.yandex.net/datasets/final_ab_new_users.csv')\n",
    "participants = pd.read_csv('https://code.s3.yandex.net/datasets/final_ab_participants.csv')"
   ]
  },
  {
   "cell_type": "code",
   "execution_count": 3,
   "metadata": {},
   "outputs": [],
   "source": [
    "datasets_list = [user_events, pm_events, new_users, participants]\n",
    "name_list = ['user_events', 'pm_events', 'new_users', 'participants']"
   ]
  },
  {
   "cell_type": "code",
   "execution_count": 4,
   "metadata": {
    "scrolled": false
   },
   "outputs": [
    {
     "name": "stdout",
     "output_type": "stream",
     "text": [
      "\n",
      "\u001b[1mОбщая информация о DataFrame user_events\n"
     ]
    },
    {
     "data": {
      "text/html": [
       "<div>\n",
       "<style scoped>\n",
       "    .dataframe tbody tr th:only-of-type {\n",
       "        vertical-align: middle;\n",
       "    }\n",
       "\n",
       "    .dataframe tbody tr th {\n",
       "        vertical-align: top;\n",
       "    }\n",
       "\n",
       "    .dataframe thead th {\n",
       "        text-align: right;\n",
       "    }\n",
       "</style>\n",
       "<table border=\"1\" class=\"dataframe\">\n",
       "  <thead>\n",
       "    <tr style=\"text-align: right;\">\n",
       "      <th></th>\n",
       "      <th>user_id</th>\n",
       "      <th>event_dt</th>\n",
       "      <th>event_name</th>\n",
       "      <th>details</th>\n",
       "    </tr>\n",
       "  </thead>\n",
       "  <tbody>\n",
       "    <tr>\n",
       "      <th>0</th>\n",
       "      <td>E1BDDCE0DAFA2679</td>\n",
       "      <td>2020-12-07 20:22:03</td>\n",
       "      <td>purchase</td>\n",
       "      <td>99.99</td>\n",
       "    </tr>\n",
       "    <tr>\n",
       "      <th>1</th>\n",
       "      <td>7B6452F081F49504</td>\n",
       "      <td>2020-12-07 09:22:53</td>\n",
       "      <td>purchase</td>\n",
       "      <td>9.99</td>\n",
       "    </tr>\n",
       "    <tr>\n",
       "      <th>2</th>\n",
       "      <td>9CD9F34546DF254C</td>\n",
       "      <td>2020-12-07 12:59:29</td>\n",
       "      <td>purchase</td>\n",
       "      <td>4.99</td>\n",
       "    </tr>\n",
       "    <tr>\n",
       "      <th>3</th>\n",
       "      <td>96F27A054B191457</td>\n",
       "      <td>2020-12-07 04:02:40</td>\n",
       "      <td>purchase</td>\n",
       "      <td>4.99</td>\n",
       "    </tr>\n",
       "    <tr>\n",
       "      <th>4</th>\n",
       "      <td>1FD7660FDF94CA1F</td>\n",
       "      <td>2020-12-07 10:15:09</td>\n",
       "      <td>purchase</td>\n",
       "      <td>4.99</td>\n",
       "    </tr>\n",
       "  </tbody>\n",
       "</table>\n",
       "</div>"
      ],
      "text/plain": [
       "            user_id             event_dt event_name  details\n",
       "0  E1BDDCE0DAFA2679  2020-12-07 20:22:03   purchase    99.99\n",
       "1  7B6452F081F49504  2020-12-07 09:22:53   purchase     9.99\n",
       "2  9CD9F34546DF254C  2020-12-07 12:59:29   purchase     4.99\n",
       "3  96F27A054B191457  2020-12-07 04:02:40   purchase     4.99\n",
       "4  1FD7660FDF94CA1F  2020-12-07 10:15:09   purchase     4.99"
      ]
     },
     "metadata": {},
     "output_type": "display_data"
    },
    {
     "name": "stdout",
     "output_type": "stream",
     "text": [
      "<class 'pandas.core.frame.DataFrame'>\n",
      "RangeIndex: 440317 entries, 0 to 440316\n",
      "Data columns (total 4 columns):\n",
      " #   Column      Non-Null Count   Dtype  \n",
      "---  ------      --------------   -----  \n",
      " 0   user_id     440317 non-null  object \n",
      " 1   event_dt    440317 non-null  object \n",
      " 2   event_name  440317 non-null  object \n",
      " 3   details     62740 non-null   float64\n",
      "dtypes: float64(1), object(3)\n",
      "memory usage: 13.4+ MB\n",
      "\n",
      "Количество дубликатов =  0\n",
      "Количество строк/столбцов ->  (440317, 4)\n",
      "\n",
      "\n",
      "\u001b[1mОбщая информация о DataFrame pm_events\n"
     ]
    },
    {
     "data": {
      "text/html": [
       "<div>\n",
       "<style scoped>\n",
       "    .dataframe tbody tr th:only-of-type {\n",
       "        vertical-align: middle;\n",
       "    }\n",
       "\n",
       "    .dataframe tbody tr th {\n",
       "        vertical-align: top;\n",
       "    }\n",
       "\n",
       "    .dataframe thead th {\n",
       "        text-align: right;\n",
       "    }\n",
       "</style>\n",
       "<table border=\"1\" class=\"dataframe\">\n",
       "  <thead>\n",
       "    <tr style=\"text-align: right;\">\n",
       "      <th></th>\n",
       "      <th>name</th>\n",
       "      <th>regions</th>\n",
       "      <th>start_dt</th>\n",
       "      <th>finish_dt</th>\n",
       "    </tr>\n",
       "  </thead>\n",
       "  <tbody>\n",
       "    <tr>\n",
       "      <th>0</th>\n",
       "      <td>Christmas&amp;New Year Promo</td>\n",
       "      <td>EU, N.America</td>\n",
       "      <td>2020-12-25</td>\n",
       "      <td>2021-01-03</td>\n",
       "    </tr>\n",
       "    <tr>\n",
       "      <th>1</th>\n",
       "      <td>St. Valentine's Day Giveaway</td>\n",
       "      <td>EU, CIS, APAC, N.America</td>\n",
       "      <td>2020-02-14</td>\n",
       "      <td>2020-02-16</td>\n",
       "    </tr>\n",
       "    <tr>\n",
       "      <th>2</th>\n",
       "      <td>St. Patric's Day Promo</td>\n",
       "      <td>EU, N.America</td>\n",
       "      <td>2020-03-17</td>\n",
       "      <td>2020-03-19</td>\n",
       "    </tr>\n",
       "    <tr>\n",
       "      <th>3</th>\n",
       "      <td>Easter Promo</td>\n",
       "      <td>EU, CIS, APAC, N.America</td>\n",
       "      <td>2020-04-12</td>\n",
       "      <td>2020-04-19</td>\n",
       "    </tr>\n",
       "    <tr>\n",
       "      <th>4</th>\n",
       "      <td>4th of July Promo</td>\n",
       "      <td>N.America</td>\n",
       "      <td>2020-07-04</td>\n",
       "      <td>2020-07-11</td>\n",
       "    </tr>\n",
       "  </tbody>\n",
       "</table>\n",
       "</div>"
      ],
      "text/plain": [
       "                           name                   regions    start_dt  \\\n",
       "0      Christmas&New Year Promo             EU, N.America  2020-12-25   \n",
       "1  St. Valentine's Day Giveaway  EU, CIS, APAC, N.America  2020-02-14   \n",
       "2        St. Patric's Day Promo             EU, N.America  2020-03-17   \n",
       "3                  Easter Promo  EU, CIS, APAC, N.America  2020-04-12   \n",
       "4             4th of July Promo                 N.America  2020-07-04   \n",
       "\n",
       "    finish_dt  \n",
       "0  2021-01-03  \n",
       "1  2020-02-16  \n",
       "2  2020-03-19  \n",
       "3  2020-04-19  \n",
       "4  2020-07-11  "
      ]
     },
     "metadata": {},
     "output_type": "display_data"
    },
    {
     "name": "stdout",
     "output_type": "stream",
     "text": [
      "<class 'pandas.core.frame.DataFrame'>\n",
      "RangeIndex: 14 entries, 0 to 13\n",
      "Data columns (total 4 columns):\n",
      " #   Column     Non-Null Count  Dtype \n",
      "---  ------     --------------  ----- \n",
      " 0   name       14 non-null     object\n",
      " 1   regions    14 non-null     object\n",
      " 2   start_dt   14 non-null     object\n",
      " 3   finish_dt  14 non-null     object\n",
      "dtypes: object(4)\n",
      "memory usage: 576.0+ bytes\n",
      "\n",
      "Количество дубликатов =  0\n",
      "Количество строк/столбцов ->  (14, 4)\n",
      "\n",
      "\n",
      "\u001b[1mОбщая информация о DataFrame new_users\n"
     ]
    },
    {
     "data": {
      "text/html": [
       "<div>\n",
       "<style scoped>\n",
       "    .dataframe tbody tr th:only-of-type {\n",
       "        vertical-align: middle;\n",
       "    }\n",
       "\n",
       "    .dataframe tbody tr th {\n",
       "        vertical-align: top;\n",
       "    }\n",
       "\n",
       "    .dataframe thead th {\n",
       "        text-align: right;\n",
       "    }\n",
       "</style>\n",
       "<table border=\"1\" class=\"dataframe\">\n",
       "  <thead>\n",
       "    <tr style=\"text-align: right;\">\n",
       "      <th></th>\n",
       "      <th>user_id</th>\n",
       "      <th>first_date</th>\n",
       "      <th>region</th>\n",
       "      <th>device</th>\n",
       "    </tr>\n",
       "  </thead>\n",
       "  <tbody>\n",
       "    <tr>\n",
       "      <th>0</th>\n",
       "      <td>D72A72121175D8BE</td>\n",
       "      <td>2020-12-07</td>\n",
       "      <td>EU</td>\n",
       "      <td>PC</td>\n",
       "    </tr>\n",
       "    <tr>\n",
       "      <th>1</th>\n",
       "      <td>F1C668619DFE6E65</td>\n",
       "      <td>2020-12-07</td>\n",
       "      <td>N.America</td>\n",
       "      <td>Android</td>\n",
       "    </tr>\n",
       "    <tr>\n",
       "      <th>2</th>\n",
       "      <td>2E1BF1D4C37EA01F</td>\n",
       "      <td>2020-12-07</td>\n",
       "      <td>EU</td>\n",
       "      <td>PC</td>\n",
       "    </tr>\n",
       "    <tr>\n",
       "      <th>3</th>\n",
       "      <td>50734A22C0C63768</td>\n",
       "      <td>2020-12-07</td>\n",
       "      <td>EU</td>\n",
       "      <td>iPhone</td>\n",
       "    </tr>\n",
       "    <tr>\n",
       "      <th>4</th>\n",
       "      <td>E1BDDCE0DAFA2679</td>\n",
       "      <td>2020-12-07</td>\n",
       "      <td>N.America</td>\n",
       "      <td>iPhone</td>\n",
       "    </tr>\n",
       "  </tbody>\n",
       "</table>\n",
       "</div>"
      ],
      "text/plain": [
       "            user_id  first_date     region   device\n",
       "0  D72A72121175D8BE  2020-12-07         EU       PC\n",
       "1  F1C668619DFE6E65  2020-12-07  N.America  Android\n",
       "2  2E1BF1D4C37EA01F  2020-12-07         EU       PC\n",
       "3  50734A22C0C63768  2020-12-07         EU   iPhone\n",
       "4  E1BDDCE0DAFA2679  2020-12-07  N.America   iPhone"
      ]
     },
     "metadata": {},
     "output_type": "display_data"
    },
    {
     "name": "stdout",
     "output_type": "stream",
     "text": [
      "<class 'pandas.core.frame.DataFrame'>\n",
      "RangeIndex: 61733 entries, 0 to 61732\n",
      "Data columns (total 4 columns):\n",
      " #   Column      Non-Null Count  Dtype \n",
      "---  ------      --------------  ----- \n",
      " 0   user_id     61733 non-null  object\n",
      " 1   first_date  61733 non-null  object\n",
      " 2   region      61733 non-null  object\n",
      " 3   device      61733 non-null  object\n",
      "dtypes: object(4)\n",
      "memory usage: 1.9+ MB\n",
      "\n",
      "Количество дубликатов =  0\n",
      "Количество строк/столбцов ->  (61733, 4)\n",
      "\n",
      "\n",
      "\u001b[1mОбщая информация о DataFrame participants\n"
     ]
    },
    {
     "data": {
      "text/html": [
       "<div>\n",
       "<style scoped>\n",
       "    .dataframe tbody tr th:only-of-type {\n",
       "        vertical-align: middle;\n",
       "    }\n",
       "\n",
       "    .dataframe tbody tr th {\n",
       "        vertical-align: top;\n",
       "    }\n",
       "\n",
       "    .dataframe thead th {\n",
       "        text-align: right;\n",
       "    }\n",
       "</style>\n",
       "<table border=\"1\" class=\"dataframe\">\n",
       "  <thead>\n",
       "    <tr style=\"text-align: right;\">\n",
       "      <th></th>\n",
       "      <th>user_id</th>\n",
       "      <th>group</th>\n",
       "      <th>ab_test</th>\n",
       "    </tr>\n",
       "  </thead>\n",
       "  <tbody>\n",
       "    <tr>\n",
       "      <th>0</th>\n",
       "      <td>D1ABA3E2887B6A73</td>\n",
       "      <td>A</td>\n",
       "      <td>recommender_system_test</td>\n",
       "    </tr>\n",
       "    <tr>\n",
       "      <th>1</th>\n",
       "      <td>A7A3664BD6242119</td>\n",
       "      <td>A</td>\n",
       "      <td>recommender_system_test</td>\n",
       "    </tr>\n",
       "    <tr>\n",
       "      <th>2</th>\n",
       "      <td>DABC14FDDFADD29E</td>\n",
       "      <td>A</td>\n",
       "      <td>recommender_system_test</td>\n",
       "    </tr>\n",
       "    <tr>\n",
       "      <th>3</th>\n",
       "      <td>04988C5DF189632E</td>\n",
       "      <td>A</td>\n",
       "      <td>recommender_system_test</td>\n",
       "    </tr>\n",
       "    <tr>\n",
       "      <th>4</th>\n",
       "      <td>482F14783456D21B</td>\n",
       "      <td>B</td>\n",
       "      <td>recommender_system_test</td>\n",
       "    </tr>\n",
       "  </tbody>\n",
       "</table>\n",
       "</div>"
      ],
      "text/plain": [
       "            user_id group                  ab_test\n",
       "0  D1ABA3E2887B6A73     A  recommender_system_test\n",
       "1  A7A3664BD6242119     A  recommender_system_test\n",
       "2  DABC14FDDFADD29E     A  recommender_system_test\n",
       "3  04988C5DF189632E     A  recommender_system_test\n",
       "4  482F14783456D21B     B  recommender_system_test"
      ]
     },
     "metadata": {},
     "output_type": "display_data"
    },
    {
     "name": "stdout",
     "output_type": "stream",
     "text": [
      "<class 'pandas.core.frame.DataFrame'>\n",
      "RangeIndex: 18268 entries, 0 to 18267\n",
      "Data columns (total 3 columns):\n",
      " #   Column   Non-Null Count  Dtype \n",
      "---  ------   --------------  ----- \n",
      " 0   user_id  18268 non-null  object\n",
      " 1   group    18268 non-null  object\n",
      " 2   ab_test  18268 non-null  object\n",
      "dtypes: object(3)\n",
      "memory usage: 428.3+ KB\n",
      "\n",
      "Количество дубликатов =  0\n",
      "Количество строк/столбцов ->  (18268, 3)\n",
      "\n"
     ]
    }
   ],
   "source": [
    "for df, name  in zip (datasets_list, name_list):\n",
    "    print()\n",
    "    print ('\\033[1m'+'Общая информация о DataFrame', name)\n",
    "    display (df.head())\n",
    "    df.info()\n",
    "    print ()\n",
    "    print ('Количество дубликатов = ', df.duplicated().sum())\n",
    "    print ('Количество строк/столбцов -> ', df.shape)\n",
    "    print ()"
   ]
  },
  {
   "cell_type": "markdown",
   "metadata": {},
   "source": [
    "Оценим количество пропусков в events ['details']"
   ]
  },
  {
   "cell_type": "code",
   "execution_count": 5,
   "metadata": {},
   "outputs": [
    {
     "name": "stdout",
     "output_type": "stream",
     "text": [
      "0.86\n"
     ]
    }
   ],
   "source": [
    "print(round (1 - user_events['details'].count()/user_events.shape[0], 2))"
   ]
  },
  {
   "cell_type": "code",
   "execution_count": 6,
   "metadata": {},
   "outputs": [
    {
     "data": {
      "text/plain": [
       "event_name\n",
       "login               0\n",
       "product_cart        0\n",
       "product_page        0\n",
       "purchase        62740\n",
       "Name: details, dtype: int64"
      ]
     },
     "execution_count": 6,
     "metadata": {},
     "output_type": "execute_result"
    }
   ],
   "source": [
    "user_events.groupby('event_name')['details'].count()"
   ]
  },
  {
   "cell_type": "markdown",
   "metadata": {},
   "source": [
    "В таблице events имеем большое количество пропусков (порядка 86%) в столбце details. Данное поле несет в себе информацию о стоимости покупки и заполнено только для события purchase. Т.е. пропуски абсолютно естественны.\n",
    "\n",
    "Таким образом пропуски зависят от данных, их нельзя отбрасывать, т.к. это приведёт к заметным искажениям"
   ]
  },
  {
   "cell_type": "markdown",
   "metadata": {},
   "source": [
    "**Вывод:**\n",
    "\n",
    "На данном шаге познакомились с данными:\n",
    "\n",
    "- дубликаты отсутсвуют;\n",
    "- пропуски есть только в столбце events['details'], но носят естественный характер"
   ]
  },
  {
   "cell_type": "markdown",
   "metadata": {},
   "source": [
    "## Предобработка данных"
   ]
  },
  {
   "cell_type": "markdown",
   "metadata": {},
   "source": [
    "Приведем столбцы к нужным типам"
   ]
  },
  {
   "cell_type": "code",
   "execution_count": 7,
   "metadata": {},
   "outputs": [],
   "source": [
    "# преобразование типов данных\n",
    "pm_events['start_dt'] = pm_events['start_dt'].astype('datetime64[D]')\n",
    "pm_events['finish_dt'] = pm_events['finish_dt'].astype('datetime64[D]')\n",
    "\n",
    "new_users['first_date'] = new_users['first_date'].astype('datetime64[D]')\n",
    "\n",
    "user_events['event_dt_time'] = pd.to_datetime(user_events['event_dt'], format='%Y-%m-%d %H:%M:%S')\n",
    "user_events['event_dt'] = user_events['event_dt'].astype('datetime64[D]')"
   ]
  },
  {
   "cell_type": "markdown",
   "metadata": {},
   "source": [
    "## Оценка корректности теста"
   ]
  },
  {
   "cell_type": "markdown",
   "metadata": {},
   "source": [
    "### Проверка корректности ТЗ"
   ]
  },
  {
   "cell_type": "code",
   "execution_count": 8,
   "metadata": {},
   "outputs": [
    {
     "data": {
      "text/plain": [
       "ab_test\n",
       "interface_eu_test          11567\n",
       "recommender_system_test     6701\n",
       "Name: user_id, dtype: int64"
      ]
     },
     "execution_count": 8,
     "metadata": {},
     "output_type": "execute_result"
    }
   ],
   "source": [
    "# считаем количество записей по каждому тесту\n",
    "participants.groupby('ab_test')['user_id'].count()"
   ]
  },
  {
   "cell_type": "code",
   "execution_count": 9,
   "metadata": {},
   "outputs": [
    {
     "data": {
      "text/plain": [
       "group\n",
       "A    3824\n",
       "B    2877\n",
       "Name: user_id, dtype: int64"
      ]
     },
     "execution_count": 9,
     "metadata": {},
     "output_type": "execute_result"
    }
   ],
   "source": [
    "# считаем количество записей для групп A и В для теста 'recommender_system_test'\n",
    "participants.query(\"ab_test == 'recommender_system_test'\").groupby('group')['user_id'].count()"
   ]
  },
  {
   "cell_type": "markdown",
   "metadata": {},
   "source": [
    "В искомом тесте recommender_system_test присутствуют 6 701 запись, разделение на группы в тесте также есть."
   ]
  },
  {
   "cell_type": "code",
   "execution_count": 10,
   "metadata": {},
   "outputs": [
    {
     "data": {
      "text/plain": [
       "Timestamp('2020-12-23 00:00:00')"
      ]
     },
     "execution_count": 10,
     "metadata": {},
     "output_type": "execute_result"
    }
   ],
   "source": [
    "new_users['first_date'].max()"
   ]
  },
  {
   "cell_type": "code",
   "execution_count": 11,
   "metadata": {},
   "outputs": [],
   "source": [
    "# делаем фильтр до 21 декабря\n",
    "new_new_users = new_users[new_users['first_date'] <= \"2020-12-21 00:00:00\"]"
   ]
  },
  {
   "cell_type": "code",
   "execution_count": 12,
   "metadata": {},
   "outputs": [
    {
     "data": {
      "text/plain": [
       "Timestamp('2020-12-21 00:00:00')"
      ]
     },
     "execution_count": 12,
     "metadata": {},
     "output_type": "execute_result"
    }
   ],
   "source": [
    "new_new_users['first_date'].max()"
   ]
  },
  {
   "cell_type": "code",
   "execution_count": 13,
   "metadata": {},
   "outputs": [],
   "source": [
    "# фильтр по нужному нам тесту\n",
    "recom_users = new_new_users[new_new_users['user_id'].isin(participants.query('ab_test == \"recommender_system_test\"')['user_id'])]"
   ]
  },
  {
   "cell_type": "code",
   "execution_count": 14,
   "metadata": {},
   "outputs": [
    {
     "data": {
      "text/plain": [
       "Timestamp('2020-12-07 00:00:00')"
      ]
     },
     "metadata": {},
     "output_type": "display_data"
    },
    {
     "data": {
      "text/plain": [
       "Timestamp('2020-12-21 00:00:00')"
      ]
     },
     "execution_count": 14,
     "metadata": {},
     "output_type": "execute_result"
    }
   ],
   "source": [
    "# проверяем даты запуска теста и дата окончания набора новых пользователей\n",
    "display(recom_users['first_date'].min())\n",
    "recom_users['first_date'].max()"
   ]
  },
  {
   "cell_type": "markdown",
   "metadata": {},
   "source": [
    "Даты запуска теста и дата окончания набора новых пользователей верны - 7 и 21 декабря 2020"
   ]
  },
  {
   "cell_type": "code",
   "execution_count": 15,
   "metadata": {},
   "outputs": [
    {
     "data": {
      "text/plain": [
       "Timestamp('2020-12-30 00:00:00')"
      ]
     },
     "execution_count": 15,
     "metadata": {},
     "output_type": "execute_result"
    }
   ],
   "source": [
    "#смотрим дату последнего события\n",
    "user_events['event_dt'].max()"
   ]
  },
  {
   "cell_type": "markdown",
   "metadata": {},
   "source": [
    "Записи в таблице с событиями завершаются датой 30-12-2020. Это не хорошо, ведь у нас не все пользователи будут иметь возможность совершать события в первые 14 дней после регистрации."
   ]
  },
  {
   "cell_type": "code",
   "execution_count": 16,
   "metadata": {},
   "outputs": [
    {
     "data": {
      "text/plain": [
       "EU           6351\n",
       "N.America     223\n",
       "APAC           72\n",
       "CIS            55\n",
       "Name: region, dtype: int64"
      ]
     },
     "metadata": {},
     "output_type": "display_data"
    },
    {
     "data": {
      "text/plain": [
       "EU           42340\n",
       "N.America     8347\n",
       "CIS           2900\n",
       "APAC          2883\n",
       "Name: region, dtype: int64"
      ]
     },
     "metadata": {},
     "output_type": "display_data"
    }
   ],
   "source": [
    "display(recom_users['region'].value_counts())\n",
    "display(new_new_users['region'].value_counts())"
   ]
  },
  {
   "cell_type": "code",
   "execution_count": 17,
   "metadata": {
    "scrolled": true
   },
   "outputs": [
    {
     "data": {
      "text/plain": [
       "15.0"
      ]
     },
     "execution_count": 17,
     "metadata": {},
     "output_type": "execute_result"
    }
   ],
   "source": [
    "# Считаем процент пользователей из EU\n",
    "round((recom_users.query('region == \"EU\"')['region'].count()/new_new_users.query('region == \"EU\"')['region'].count())*100,2)"
   ]
  },
  {
   "cell_type": "markdown",
   "metadata": {},
   "source": [
    "Аудитория теста - это в основном пользователи из Европы, также присутствуют пользователи из других стран. По ТЗ сказано, что аудиторией теста должны быть 15% новых пользователей из региона EU, по данным видно, что аудитория из Европы составляет 6351 из всех 43340 новых клиентов с этого региона, что соответствует ТЗ в 15%."
   ]
  },
  {
   "cell_type": "markdown",
   "metadata": {},
   "source": [
    "### Время проведения теста"
   ]
  },
  {
   "cell_type": "markdown",
   "metadata": {},
   "source": [
    "Проверим время и географию проведения маркетинговых компаний и сравним со временем проведения нашего теста. По условию задачи набор новых пользователей проводился с 07.12.2020 по 21.12.2020 и ориентирован на регион EU, окончен тест был 04.01.2021."
   ]
  },
  {
   "cell_type": "code",
   "execution_count": 18,
   "metadata": {},
   "outputs": [
    {
     "data": {
      "text/html": [
       "<div>\n",
       "<style scoped>\n",
       "    .dataframe tbody tr th:only-of-type {\n",
       "        vertical-align: middle;\n",
       "    }\n",
       "\n",
       "    .dataframe tbody tr th {\n",
       "        vertical-align: top;\n",
       "    }\n",
       "\n",
       "    .dataframe thead th {\n",
       "        text-align: right;\n",
       "    }\n",
       "</style>\n",
       "<table border=\"1\" class=\"dataframe\">\n",
       "  <thead>\n",
       "    <tr style=\"text-align: right;\">\n",
       "      <th></th>\n",
       "      <th>name</th>\n",
       "      <th>regions</th>\n",
       "      <th>start_dt</th>\n",
       "      <th>finish_dt</th>\n",
       "    </tr>\n",
       "  </thead>\n",
       "  <tbody>\n",
       "  </tbody>\n",
       "</table>\n",
       "</div>"
      ],
      "text/plain": [
       "Empty DataFrame\n",
       "Columns: [name, regions, start_dt, finish_dt]\n",
       "Index: []"
      ]
     },
     "execution_count": 18,
     "metadata": {},
     "output_type": "execute_result"
    }
   ],
   "source": [
    "# сравниваем периоды маркетинговых активностей со временем набора пользователей\n",
    "pm_events.query(\"start_dt>datetime(2020,12,7) & start_dt<datetime(2020,12,21)\")"
   ]
  },
  {
   "cell_type": "code",
   "execution_count": 19,
   "metadata": {},
   "outputs": [
    {
     "data": {
      "text/html": [
       "<div>\n",
       "<style scoped>\n",
       "    .dataframe tbody tr th:only-of-type {\n",
       "        vertical-align: middle;\n",
       "    }\n",
       "\n",
       "    .dataframe tbody tr th {\n",
       "        vertical-align: top;\n",
       "    }\n",
       "\n",
       "    .dataframe thead th {\n",
       "        text-align: right;\n",
       "    }\n",
       "</style>\n",
       "<table border=\"1\" class=\"dataframe\">\n",
       "  <thead>\n",
       "    <tr style=\"text-align: right;\">\n",
       "      <th></th>\n",
       "      <th>name</th>\n",
       "      <th>regions</th>\n",
       "      <th>start_dt</th>\n",
       "      <th>finish_dt</th>\n",
       "    </tr>\n",
       "  </thead>\n",
       "  <tbody>\n",
       "    <tr>\n",
       "      <th>0</th>\n",
       "      <td>Christmas&amp;New Year Promo</td>\n",
       "      <td>EU, N.America</td>\n",
       "      <td>2020-12-25</td>\n",
       "      <td>2021-01-03</td>\n",
       "    </tr>\n",
       "    <tr>\n",
       "      <th>10</th>\n",
       "      <td>CIS New Year Gift Lottery</td>\n",
       "      <td>CIS</td>\n",
       "      <td>2020-12-30</td>\n",
       "      <td>2021-01-07</td>\n",
       "    </tr>\n",
       "  </tbody>\n",
       "</table>\n",
       "</div>"
      ],
      "text/plain": [
       "                         name        regions   start_dt  finish_dt\n",
       "0    Christmas&New Year Promo  EU, N.America 2020-12-25 2021-01-03\n",
       "10  CIS New Year Gift Lottery            CIS 2020-12-30 2021-01-07"
      ]
     },
     "execution_count": 19,
     "metadata": {},
     "output_type": "execute_result"
    }
   ],
   "source": [
    "# сравниваем периоды маркетинговых активностей с общим периодом проведения теста.\n",
    "pm_events.query(\"start_dt>datetime(2020,12,7) & start_dt<datetime(2021,1,4)\")"
   ]
  },
  {
   "cell_type": "markdown",
   "metadata": {},
   "source": [
    "В наш временной период попадают 2 акции. Акция Christmas&New Year Promo может оказать большее влияние, т.к. даты её проведения попадают в исследуемый период с 12 декабря - по 4 января, плюс эта акция проводится в регионе EU, именно этот регион преобладает в тесте."
   ]
  },
  {
   "cell_type": "markdown",
   "metadata": {},
   "source": [
    "### Проверка аудитории теста"
   ]
  },
  {
   "cell_type": "markdown",
   "metadata": {},
   "source": [
    "Проверим нет ли у нас пользователей попавших в оба теста одновременно."
   ]
  },
  {
   "cell_type": "code",
   "execution_count": 20,
   "metadata": {},
   "outputs": [
    {
     "name": "stdout",
     "output_type": "stream",
     "text": [
      "Количество пользователей, попавших в обе группы =  1602\n",
      "Доля пользователей, попавших в обе группы =  0.09\n"
     ]
    }
   ],
   "source": [
    "# отбираем группы  \n",
    "group_a=participants.query(\"ab_test == 'recommender_system_test'\") \n",
    "group_b=participants.query(\"ab_test == 'interface_eu_test'\") \n",
    "  \n",
    "# получаем id пользователей, попавших в обе группы \n",
    "group_intersections=list(np.intersect1d(group_a['user_id'], group_b['user_id']))\n",
    "print ('Количество пользователей, попавших в обе группы = ', len(group_intersections))\n",
    "print ('Доля пользователей, попавших в обе группы = ', round (len(group_intersections)/participants.shape[0],2))"
   ]
  },
  {
   "cell_type": "markdown",
   "metadata": {},
   "source": [
    "Получаем 1 602 пользователя участвовавших в обоих тестах. Сказать какой из тестов повлиял на их решение мы не можем, поэтому оставлять информацию о них в данных нельзя, это может исказить результаты."
   ]
  },
  {
   "cell_type": "code",
   "execution_count": 21,
   "metadata": {},
   "outputs": [],
   "source": [
    "# удаляем данные о пользователях попавших в оба теста\n",
    "participants = participants.query('user_id not in @group_intersections')"
   ]
  },
  {
   "cell_type": "markdown",
   "metadata": {},
   "source": [
    "Теперь проверим нет ли пользователей, участвующих в двух группах одновременно"
   ]
  },
  {
   "cell_type": "code",
   "execution_count": 22,
   "metadata": {},
   "outputs": [
    {
     "name": "stdout",
     "output_type": "stream",
     "text": [
      "Количество пользователей, попавших в обе группы =  0\n",
      "Доля пользователей, попавших в обе группы =  0.0\n"
     ]
    }
   ],
   "source": [
    "# отбираем группы  \n",
    "group_a=participants.query('group == \"A\"') \n",
    "group_b=participants.query('group == \"B\"') \n",
    "  \n",
    "# получаем id пользователей, попавших в обе группы \n",
    "group_intersections=list(np.intersect1d(group_a['user_id'], group_b['user_id']))\n",
    "print ('Количество пользователей, попавших в обе группы = ', len(group_intersections))\n",
    "print ('Доля пользователей, попавших в обе группы = ', round (len(group_intersections)/participants.shape[0],2))"
   ]
  },
  {
   "cell_type": "markdown",
   "metadata": {},
   "source": [
    "Также уберем из данных записи о interface_eu_test, т.к. для нашей работы они нам не нужны."
   ]
  },
  {
   "cell_type": "code",
   "execution_count": 23,
   "metadata": {},
   "outputs": [
    {
     "data": {
      "text/plain": [
       "5099"
      ]
     },
     "execution_count": 23,
     "metadata": {},
     "output_type": "execute_result"
    }
   ],
   "source": [
    "participants = participants.query(\"ab_test == 'recommender_system_test'\")\n",
    "len (participants)"
   ]
  },
  {
   "cell_type": "markdown",
   "metadata": {},
   "source": [
    "Остались записи только 5 099 пользователях.\n",
    "\n",
    "Проверим сколько пользователей у нас попали в каждую из групп."
   ]
  },
  {
   "cell_type": "code",
   "execution_count": 24,
   "metadata": {},
   "outputs": [
    {
     "name": "stdout",
     "output_type": "stream",
     "text": [
      "Количество пользователей в группе A =  2903\n",
      "Количество пользователей в группе B =  2196\n",
      "Доля пользователей группы A  =  0.57\n",
      "Доля пользователей группы B  =  0.43\n"
     ]
    }
   ],
   "source": [
    "print ('Количество пользователей в группе A = ', len(participants.query('group == \"A\"')))\n",
    "print ('Количество пользователей в группе B = ', len(participants.query('group == \"B\"')))\n",
    "print ('Доля пользователей группы A  = ', round(len(participants.query('group == \"A\"')) / len (participants), 2))\n",
    "print ('Доля пользователей группы B  = ', round(len(participants.query('group == \"B\"')) / len (participants), 2))"
   ]
  },
  {
   "cell_type": "code",
   "execution_count": 25,
   "metadata": {
    "scrolled": true
   },
   "outputs": [
    {
     "data": {
      "text/plain": [
       "5099"
      ]
     },
     "metadata": {},
     "output_type": "display_data"
    },
    {
     "data": {
      "text/plain": [
       "5099"
      ]
     },
     "metadata": {},
     "output_type": "display_data"
    }
   ],
   "source": [
    "# объединяем таблицы \n",
    "participants_events  = recom_users.merge(participants.query('ab_test == \"recommender_system_test\"'), on='user_id')\n",
    "display(participants_events.user_id.nunique())\n",
    "participants_events  = participants_events.merge(user_events, how='left', on='user_id')\n",
    "display(participants_events.user_id.nunique())"
   ]
  },
  {
   "cell_type": "code",
   "execution_count": 26,
   "metadata": {
    "scrolled": false
   },
   "outputs": [
    {
     "data": {
      "text/plain": [
       "5099"
      ]
     },
     "metadata": {},
     "output_type": "display_data"
    },
    {
     "data": {
      "text/plain": [
       "5099"
      ]
     },
     "metadata": {},
     "output_type": "display_data"
    },
    {
     "data": {
      "text/plain": [
       "2788"
      ]
     },
     "metadata": {},
     "output_type": "display_data"
    }
   ],
   "source": [
    "# делаем фильтр в 14 дней\n",
    "\n",
    "#горизонт событий - 14 дней, \n",
    "#последняя дата наблюдения - 4 января, \n",
    "#последняя подходящая для анализа дата (4 января - 14 дней) \n",
    "\n",
    "horizon_days = 14\n",
    "observation_date = datetime(2021, 1, 4).date()\n",
    "last_suitable_acquisition_date = observation_date - timedelta(days = horizon_days - 1)\n",
    "\n",
    "#фильтруем по дате последнего набора пользователей \n",
    "#добавляем лайфтайм пользователя\n",
    "#делаем по нему фильтр в 14 дней \n",
    "display(participants_events.user_id.nunique())\n",
    "test_1 = participants_events\n",
    "recom_users_ab = participants_events.query('event_dt <= @last_suitable_acquisition_date')\n",
    "display(participants_events.user_id.nunique())\n",
    "participants_events['lifetime'] = (participants_events['event_dt'] - participants_events['first_date']).dt.days\n",
    "participants_events = participants_events.query('lifetime < 14')\n",
    "display(participants_events.user_id.nunique())"
   ]
  },
  {
   "cell_type": "markdown",
   "metadata": {},
   "source": [
    "Всего 2 788, т.е. гораздо меньше чем ожидалось в ТЗ."
   ]
  },
  {
   "cell_type": "code",
   "execution_count": 27,
   "metadata": {},
   "outputs": [
    {
     "data": {
      "text/plain": [
       "14"
      ]
     },
     "execution_count": 27,
     "metadata": {},
     "output_type": "execute_result"
    }
   ],
   "source": [
    "participants_events.lifetime.nunique()"
   ]
  },
  {
   "cell_type": "markdown",
   "metadata": {},
   "source": [
    "**Вывод**\n",
    "\n",
    "На данном шаге проверили корректность теста. Были выявлены пересечения с другим тестом. Записи о пользователях попавших в оба теста пришло удалить.\n",
    "\n",
    "Кроме этого, при проверке данных о тесте представленных для анализа выявлены серьезные проблемы, в частности:\n",
    "\n",
    "- время и география проведения теста пересекается с маркетинговой акцией Christmas&New Year Promo;\n",
    "- количество участников теста более чем в два раза меньше чем указано в ТЗ."
   ]
  },
  {
   "cell_type": "markdown",
   "metadata": {},
   "source": [
    "## Исследовательский анализ данных"
   ]
  },
  {
   "cell_type": "markdown",
   "metadata": {},
   "source": [
    "### Распределение количества событий на пользователя"
   ]
  },
  {
   "cell_type": "code",
   "execution_count": 28,
   "metadata": {},
   "outputs": [
    {
     "name": "stdout",
     "output_type": "stream",
     "text": [
      "Усредненное количество событий на пользователя в группе А =  7.0\n"
     ]
    }
   ],
   "source": [
    "print ('Усредненное количество событий на пользователя в группе А = ', \\\n",
    "    round (participants_events.query('group == \"A\"')['event_name'].count() / participants_events.query('group == \"A\"')['user_id'].nunique(), 0))"
   ]
  },
  {
   "cell_type": "code",
   "execution_count": 29,
   "metadata": {},
   "outputs": [
    {
     "name": "stdout",
     "output_type": "stream",
     "text": [
      "Усредненное количество событий на пользователя в группе B =  5.0\n"
     ]
    }
   ],
   "source": [
    "print ('Усредненное количество событий на пользователя в группе B = ', \\\n",
    "    round (participants_events.query('group == \"B\"')['event_name'].count() / participants_events.query('group == \"B\"')['user_id'].nunique(), 0))"
   ]
  },
  {
   "cell_type": "markdown",
   "metadata": {},
   "source": [
    "События распределены схоже но неравномерно, т.к. в группе А гораздо больше пользователей"
   ]
  },
  {
   "cell_type": "markdown",
   "metadata": {},
   "source": [
    "### Распределение числа событий по дням"
   ]
  },
  {
   "cell_type": "code",
   "execution_count": 30,
   "metadata": {},
   "outputs": [
    {
     "data": {
      "image/png": "[encoded data removed]",
      "text/plain": [
       "<Figure size 1080x288 with 1 Axes>"
      ]
     },
     "metadata": {},
     "output_type": "display_data"
    }
   ],
   "source": [
    "# создаем DataFrame event_by_date, на основнаии которого будем строить гарфик\n",
    "event_by_date = participants_events.groupby(['event_dt', 'group'])['user_id'].count().reset_index()\n",
    "\n",
    "# строим график\n",
    "plt.figure(figsize=(15, 4))\n",
    "sns.set_style(\"whitegrid\")\n",
    "ax = sns.lineplot(data=event_by_date, x='event_dt', y='user_id', hue='group')\n",
    "ax.set_xticks(event_by_date['event_dt'])\n",
    "ax.set_title('Распределение количества событий в группах по дням')\n",
    "plt.xticks(rotation=45);"
   ]
  },
  {
   "cell_type": "markdown",
   "metadata": {},
   "source": [
    "- наблюдается резкий рост числа событий в группе А в период с 13 по 21 декабря;\n",
    "- 30 декабря количество событий в группе B падает до нуля, а по группе A вообще нет информации."
   ]
  },
  {
   "cell_type": "code",
   "execution_count": 31,
   "metadata": {},
   "outputs": [],
   "source": [
    "# соберем все необходимые для дальнейшей работы данные в одну таблицу\n",
    "df_all_data = participants_events.merge(new_users, how='left', on='user_id').dropna(axis='index', how='any',subset=['group'])"
   ]
  },
  {
   "cell_type": "markdown",
   "metadata": {},
   "source": [
    "### Изменение конверсии в воронке"
   ]
  },
  {
   "cell_type": "code",
   "execution_count": 32,
   "metadata": {},
   "outputs": [],
   "source": [
    "# определяем переменные для создания воронки\n",
    "funnel_A = participants_events[participants_events['group']==\"A\"].groupby('event_name').agg({'event_name':'count', 'user_id':'nunique'})\n",
    "funnel_A.columns = ['event_count','user_count']\n",
    "funnel_A = funnel_A.sort_values(by = 'event_count', ascending = False).reset_index()\n",
    "\n",
    "funnel_B = participants_events[participants_events['group']==\"B\"].groupby('event_name').agg({'event_name':'count', 'user_id':'nunique'})\n",
    "funnel_B.columns = ['event_count','user_count']\n",
    "funnel_B = funnel_B.sort_values(by = 'event_count', ascending = False).reset_index()"
   ]
  },
  {
   "cell_type": "markdown",
   "metadata": {},
   "source": [
    "Сначало пользователь совершает \"login\" (вход) затем заходит на \"product_page\"(карту товара), затем по логике он идет в корзину (product_cart), и потом совершает покупку (purchase)."
   ]
  },
  {
   "cell_type": "code",
   "execution_count": 33,
   "metadata": {},
   "outputs": [
    {
     "data": {
      "text/html": [
       "<div>\n",
       "<style scoped>\n",
       "    .dataframe tbody tr th:only-of-type {\n",
       "        vertical-align: middle;\n",
       "    }\n",
       "\n",
       "    .dataframe tbody tr th {\n",
       "        vertical-align: top;\n",
       "    }\n",
       "\n",
       "    .dataframe thead th {\n",
       "        text-align: right;\n",
       "    }\n",
       "</style>\n",
       "<table border=\"1\" class=\"dataframe\">\n",
       "  <thead>\n",
       "    <tr style=\"text-align: right;\">\n",
       "      <th></th>\n",
       "      <th>event_name</th>\n",
       "      <th>event_count</th>\n",
       "      <th>user_count</th>\n",
       "    </tr>\n",
       "  </thead>\n",
       "  <tbody>\n",
       "    <tr>\n",
       "      <th>0</th>\n",
       "      <td>login</td>\n",
       "      <td>6345</td>\n",
       "      <td>2082</td>\n",
       "    </tr>\n",
       "    <tr>\n",
       "      <th>1</th>\n",
       "      <td>product_page</td>\n",
       "      <td>4126</td>\n",
       "      <td>1360</td>\n",
       "    </tr>\n",
       "    <tr>\n",
       "      <th>2</th>\n",
       "      <td>product_cart</td>\n",
       "      <td>1940</td>\n",
       "      <td>631</td>\n",
       "    </tr>\n",
       "    <tr>\n",
       "      <th>3</th>\n",
       "      <td>purchase</td>\n",
       "      <td>1929</td>\n",
       "      <td>652</td>\n",
       "    </tr>\n",
       "  </tbody>\n",
       "</table>\n",
       "</div>"
      ],
      "text/plain": [
       "     event_name  event_count  user_count\n",
       "0         login         6345        2082\n",
       "1  product_page         4126        1360\n",
       "2  product_cart         1940         631\n",
       "3      purchase         1929         652"
      ]
     },
     "execution_count": 33,
     "metadata": {},
     "output_type": "execute_result"
    }
   ],
   "source": [
    "funnel_A"
   ]
  },
  {
   "cell_type": "code",
   "execution_count": 34,
   "metadata": {
    "scrolled": true
   },
   "outputs": [
    {
     "data": {
      "text/html": [
       "<div>\n",
       "<style scoped>\n",
       "    .dataframe tbody tr th:only-of-type {\n",
       "        vertical-align: middle;\n",
       "    }\n",
       "\n",
       "    .dataframe tbody tr th {\n",
       "        vertical-align: top;\n",
       "    }\n",
       "\n",
       "    .dataframe thead th {\n",
       "        text-align: right;\n",
       "    }\n",
       "</style>\n",
       "<table border=\"1\" class=\"dataframe\">\n",
       "  <thead>\n",
       "    <tr style=\"text-align: right;\">\n",
       "      <th></th>\n",
       "      <th>event_name</th>\n",
       "      <th>event_count</th>\n",
       "      <th>user_count</th>\n",
       "    </tr>\n",
       "  </thead>\n",
       "  <tbody>\n",
       "    <tr>\n",
       "      <th>0</th>\n",
       "      <td>login</td>\n",
       "      <td>1849</td>\n",
       "      <td>705</td>\n",
       "    </tr>\n",
       "    <tr>\n",
       "      <th>1</th>\n",
       "      <td>product_page</td>\n",
       "      <td>982</td>\n",
       "      <td>397</td>\n",
       "    </tr>\n",
       "    <tr>\n",
       "      <th>2</th>\n",
       "      <td>product_cart</td>\n",
       "      <td>506</td>\n",
       "      <td>195</td>\n",
       "    </tr>\n",
       "    <tr>\n",
       "      <th>3</th>\n",
       "      <td>purchase</td>\n",
       "      <td>477</td>\n",
       "      <td>198</td>\n",
       "    </tr>\n",
       "  </tbody>\n",
       "</table>\n",
       "</div>"
      ],
      "text/plain": [
       "     event_name  event_count  user_count\n",
       "0         login         1849         705\n",
       "1  product_page          982         397\n",
       "2  product_cart          506         195\n",
       "3      purchase          477         198"
      ]
     },
     "execution_count": 34,
     "metadata": {},
     "output_type": "execute_result"
    }
   ],
   "source": [
    "funnel_B"
   ]
  },
  {
   "cell_type": "code",
   "execution_count": 35,
   "metadata": {
    "scrolled": true
   },
   "outputs": [
    {
     "data": {
      "image/png": "[encoded data removed]"
     },
     "metadata": {},
     "output_type": "display_data"
    }
   ],
   "source": [
    "# строим воронку конверсии событий по группам\n",
    "\n",
    "fig = go.Figure()\n",
    "\n",
    "fig.add_trace(go.Funnel(\n",
    "    name = 'A',\n",
    "    y = funnel_A['event_name'],\n",
    "    x = funnel_A['user_count'],\n",
    "    opacity = 0.85, marker = {\"color\": [\"#3C79F5\", \"#3C79F5\", \"#3C79F5\", \"#3C79F5\"],\n",
    "    \"line\": {\"width\": [6, 4, 3, 2, 1], \"color\": [\"black\", \"black\", \"black\", \"black\"]}},\n",
    "    textinfo = \"value+percent initial\"))\n",
    "\n",
    "fig.add_trace(go.Funnel(\n",
    "    name = 'B',\n",
    "    orientation = \"h\",\n",
    "    y = funnel_B['event_name'],\n",
    "    x = funnel_B['user_count'],\n",
    "    opacity = 0.85, marker = {\"color\": [\"#FF884B\", \"#FF884B\", \"#FF884B\", \"#FF884B\"],\n",
    "    \"line\": {\"width\": [6, 4, 4, 2, 1], \"color\": [\"black\", \"black\", \"black\", \"black\"]}},\n",
    "    textposition = \"inside\",\n",
    "    textinfo = \"value+percent initial\"))\n",
    "\n",
    "fig.update_layout(title_text = 'Воронка конверсии событий по группам')\n",
    "fig.show(\"png\")"
   ]
  },
  {
   "cell_type": "markdown",
   "metadata": {},
   "source": [
    "**Вывод:**\n",
    "\n",
    "До покупки доходят 31% пользователей группы А и 28% пользователей группы В. Меньше всего разница в конверсии между product_cart и purchase - добавлением товара в корзине и его покупкой (разница в 1% у группы А и у группы В нет разницы) Больше всего падает конверсия между login и product_page уровнями - логином и просмотром страницы товара (-35% у группы А и -44% у группы В)"
   ]
  },
  {
   "cell_type": "markdown",
   "metadata": {},
   "source": [
    "## Оценка результатов A/B тестирования"
   ]
  },
  {
   "cell_type": "markdown",
   "metadata": {},
   "source": [
    "### Конверсия"
   ]
  },
  {
   "cell_type": "markdown",
   "metadata": {},
   "source": [
    "Изучим кумулятивную конверсию по значимым событиям для каждой из групп. Для это вначале опишем функции по сбору кумулятивных данных и построению графиков."
   ]
  },
  {
   "cell_type": "code",
   "execution_count": 36,
   "metadata": {},
   "outputs": [],
   "source": [
    "def cumulative_data(df, event):\n",
    "    \n",
    "    \"\"\"       \n",
    "        Функция создает DataFrame c агрегированными кумулятивными данными о пользователях по дням.\n",
    "        Таким образом при вызове функции получим DataFrame, где будут находиться такие данные,\n",
    "        как будто мы ежедневно считали результаты тестирования до выбранного дня включительно и сохраняли\n",
    "        их в строках таблиц.             \n",
    "        \n",
    "    \"\"\"\n",
    "    # Выбираем из данных строки с заданным событием\n",
    "    df_filtred_event = df.query('event_name == @event')\n",
    "    # Создадим массив уникальных пар значений дат и групп теста \n",
    "    datesGroups = df_filtred_event[['event_dt','group']].drop_duplicates()\n",
    "    \n",
    "    # Соберём агрегированные кумулятивные данные о покупках по дням\n",
    "    df_purchase_agg = datesGroups.apply(lambda x: df_filtred_event[np.logical_and(df_filtred_event['event_dt'] <= x['event_dt'],\n",
    "                                                                           df_filtred_event['group'] == x['group'])]\n",
    "                                      .agg({'event_dt': 'max', 'group': 'max', 'user_id': 'nunique'}),\n",
    "                                                                            axis=1).sort_values(by=['event_dt','group'])\n",
    "    \n",
    "    # Соберём агрегированные кумулятивные данные о покупателях\n",
    "    df_buyers_agg = datesGroups.apply(lambda x: df_filtred_event[np.logical_and(df_filtred_event['event_dt'] <= x['event_dt'],\n",
    "                                                                         df_filtred_event['group'] == x['group'])]\n",
    "                                    .agg({'event_dt': 'max', 'group': 'max', 'user_id': 'count'}),\n",
    "                                                                            axis=1).sort_values(by=['event_dt','group'])\n",
    "    \n",
    "    # Объединим кумулятивные данные в одной таблице и переименуем столбцы\n",
    "    result = df_purchase_agg.merge(df_buyers_agg, on=['event_dt','group'])\n",
    "    result.columns = ['date', 'group', 'visitors', 'orders']\n",
    "    return result"
   ]
  },
  {
   "cell_type": "code",
   "execution_count": 37,
   "metadata": {},
   "outputs": [],
   "source": [
    "# Соберём кумулятивные значения для анализа относительных показателей и события \"просмотр карточек\"\n",
    "cumulativeData_product_page = cumulative_data(df_all_data, 'product_page')\n",
    "\n",
    "# добавляем столбец расчета конверсии\n",
    "cumulativeData_product_page['conversion'] = cumulativeData_product_page['orders']/cumulativeData_product_page['visitors']\n",
    "\n",
    "# датафрейм с кумулятивным количеством заказов и кумулятивной выручкой по дням в группе А\n",
    "cumulativeData_product_page_A = cumulativeData_product_page.query('group == \"A\"')\n",
    "\n",
    "# датафрейм с кумулятивным количеством заказов и кумулятивной выручкой по дням в группе В\n",
    "cumulativeData_product_page_B = cumulativeData_product_page.query('group == \"B\"')"
   ]
  },
  {
   "cell_type": "code",
   "execution_count": 38,
   "metadata": {},
   "outputs": [],
   "source": [
    "# Функция построения сравнительного графика\n",
    "def plot_conversion(cumulativeData_A, cumulativeData_B, column, date, title, ylabel):\n",
    "    \n",
    "    \"\"\" \n",
    "        Функция для отображения кумулятивной конверсии в разбивке по группам\n",
    "    \n",
    "    \"\"\"\n",
    "    \n",
    "    sns.set_style(\"whitegrid\")\n",
    "    fig, ax = plt.subplots(figsize=(18,6))\n",
    "    ax.set(title=title, xlabel='дата', ylabel=ylabel)\n",
    "    ax.plot(cumulativeData_A['date'], cumulativeData_A[column])\n",
    "    ax.plot(cumulativeData_B['date'], cumulativeData_B[column])\n",
    "    ax.plot(cumulativeData_A['date'], cumulativeData_A[column], '.-',label='A')\n",
    "    ax.plot(cumulativeData_B['date'], cumulativeData_B[column], '.-',label='B' )\n",
    "    ax.legend() \n",
    "    \n",
    "\n",
    "    plt.show()"
   ]
  },
  {
   "cell_type": "code",
   "execution_count": 39,
   "metadata": {},
   "outputs": [
    {
     "data": {
      "image/png": "[encoded data removed]",
      "text/plain": [
       "<Figure size 1296x432 with 1 Axes>"
      ]
     },
     "metadata": {},
     "output_type": "display_data"
    }
   ],
   "source": [
    "# построение графика\n",
    "plot_conversion(cumulativeData_product_page_A, cumulativeData_product_page_B,\n",
    "                'conversion', 'date', 'Кумулятивная конверсия просмотр карточек', 'кумулятивная конверсия')"
   ]
  },
  {
   "cell_type": "markdown",
   "metadata": {},
   "source": [
    "взглянув на график, можем отметить следующее:\n",
    "\n",
    "- до 9 декабря в обоих группах темп роста кумулятивной конверсии в просмотр карточек рос с одинаковым темпом, и был почти равен;\n",
    "- затем данный показатель в группе B колебался возле значения 1,9-2,1 до 21 декабря, а в группе A наблюдался резкий спад 14 декабря;\n",
    "- после этого темп роста показателя кумулятивной конверсии в просмотр карточек для группы A начал значительно увеличиваться и после 21 декабря перегнал показатель группы B."
   ]
  },
  {
   "cell_type": "code",
   "execution_count": 40,
   "metadata": {},
   "outputs": [
    {
     "data": {
      "image/png": "[encoded data removed]",
      "text/plain": [
       "<Figure size 1296x432 with 1 Axes>"
      ]
     },
     "metadata": {},
     "output_type": "display_data"
    }
   ],
   "source": [
    "# аналогично для корзины\n",
    "cumulativeData_product_cart = cumulative_data(df_all_data, 'product_cart')\n",
    "cumulativeData_product_cart['conversion'] = cumulativeData_product_cart['orders']/cumulativeData_product_cart['visitors']\n",
    "cumulativeData_product_cart_A = cumulativeData_product_cart.query('group == \"A\"')\n",
    "cumulativeData_product_cart_B = cumulativeData_product_cart.query('group == \"B\"')\n",
    "\n",
    "# построение графика\n",
    "plot_conversion(cumulativeData_product_cart_A, cumulativeData_product_cart_B,\n",
    "                'conversion', 'date', 'Кумулятивная конверсия просмотр корзины', 'кумулятивная конверсия')"
   ]
  },
  {
   "cell_type": "markdown",
   "metadata": {},
   "source": [
    "теперь опишем график кумулятивной конверсии просмотра корзины:\n",
    "\n",
    "- до 13 декабря 2020 года наблюдался стабильный рост в обоих группах;\n",
    "- в дальнейшие периоды конверсии групп росли с редкими небольшими просадками (в основном в группе А);\n",
    "- рост наблюдался в целом с преобладанием кумулятивной конверсии просмотров корзины группы B над группой A со старта до 21 декабря;\n",
    "- после 21 декабря кумулятивная конверсия просмотров корзины в группе A превысила показатель группы B."
   ]
  },
  {
   "cell_type": "code",
   "execution_count": 41,
   "metadata": {},
   "outputs": [
    {
     "data": {
      "image/png": "[encoded data removed]",
      "text/plain": [
       "<Figure size 1296x432 with 1 Axes>"
      ]
     },
     "metadata": {},
     "output_type": "display_data"
    }
   ],
   "source": [
    "# анлогично для покупки\n",
    "cumulativeData_purchase = cumulative_data(df_all_data, 'purchase')\n",
    "cumulativeData_purchase['conversion'] = cumulativeData_purchase['orders']/cumulativeData_purchase['visitors']\n",
    "cumulativeData_purchase_A = cumulativeData_purchase.query('group == \"A\"')\n",
    "cumulativeData_purchase_B = cumulativeData_purchase.query('group == \"B\"')\n",
    "\n",
    "# построение графика\n",
    "plot_conversion(cumulativeData_purchase_A, cumulativeData_purchase_B, 'conversion', 'date',\n",
    "          'Кумулятивная конверсия покупки', 'кумулятивная конверсия')"
   ]
  },
  {
   "cell_type": "markdown",
   "metadata": {},
   "source": [
    "Для показателя кумулятивной конверсии покупок наблюдается в целом схожая тенденция:\n",
    "\n",
    "- до 13 декабря показатель группы B немного превышает показатель группы A;\n",
    "- далее конверсия покупок в группе A устанавливается на постоянном уровне около 2, а конверсия группы B резко падает 14 декабря;\n",
    "- после чего конверсия группы B стабильно растет и с 21 декабря превосходит показатель группы A (который тоже начинает расти, но медленнее)."
   ]
  },
  {
   "cell_type": "markdown",
   "metadata": {},
   "source": [
    "### Относительное изменение кумулятивной конверсии"
   ]
  },
  {
   "cell_type": "markdown",
   "metadata": {},
   "source": [
    "Согласно ТЗ ожидается увеличение не менее чем на 10% каждой из метрик:\n",
    "\n",
    "- конверсии в просмотр карточек товаров — событие product_page ,\n",
    "- просмотры корзины — product_cart ,\n",
    "- покупки — purchase .\n",
    "Чтобы оценить изменения построим графики относительного изменениея конверсий группы В к группе А на каждом из шагов."
   ]
  },
  {
   "cell_type": "markdown",
   "metadata": {},
   "source": [
    "Чтобы оценить изменения построим графики относительного изменениея конверсий группы В к группе А на каждом из шагов."
   ]
  },
  {
   "cell_type": "code",
   "execution_count": 42,
   "metadata": {},
   "outputs": [],
   "source": [
    "def plot_relative_change(cumulativeDataA, cumulativeDataB, title):\n",
    "    \n",
    "    \"\"\"\n",
    "        Функция для построение относительного изменения кумулятивной конверсии между двумя группами\n",
    "    \n",
    "    \"\"\"\n",
    "    \n",
    "    # собираем данные в одном датафрейме\n",
    "    mergedCumulativeConversions = cumulativeDataA[['date','conversion']].merge(cumulativeDataB[['date','conversion']], left_on='date', right_on='date', how='left', suffixes=['A', 'B'])\n",
    "    \n",
    "    # задаем размер поля\n",
    "    plt.subplots(figsize=(20,7))\n",
    "    \n",
    "    # cтроим отношение средних данных\n",
    "    plt.plot(mergedCumulativeConversions['date'], mergedCumulativeConversions['conversionB']/mergedCumulativeConversions['conversionA']-1, label=\"Относительный прирост конверсии группы B относительно группы A\")\n",
    "    plt.legend()\n",
    "    \n",
    "    \n",
    "    # добавляем ось X\n",
    "    plt.axhline(y=0, color='black', linestyle='--')\n",
    "    plt.axhline(y=0.1, color='grey', linestyle='--')\n",
    "    plt.axis([dt.datetime(2020, 12, 7), dt.datetime(2020, 12, 29), -0.3, 0.3])\n",
    "    \n",
    "    # размер шрифта по оси x\n",
    "    plt.tick_params(axis='x', which='major', labelsize=15)\n",
    "\n",
    "    plt.title(title)\n",
    "    plt.xlabel('Дата')\n",
    "    plt.ylabel('Кумулятивная конверсия')"
   ]
  },
  {
   "cell_type": "code",
   "execution_count": 43,
   "metadata": {},
   "outputs": [
    {
     "data": {
      "image/png": "[encoded data removed]",
      "text/plain": [
       "<Figure size 1440x504 with 1 Axes>"
      ]
     },
     "metadata": {},
     "output_type": "display_data"
    }
   ],
   "source": [
    "# построение графика относительного изменения кумулятиной конверсии просмотра продукта\n",
    "plot_relative_change (cumulativeData_product_page_A, cumulativeData_product_page_B, \n",
    "                      'График относительного изменения кумулятиной конверсии просмотра продукта')"
   ]
  },
  {
   "cell_type": "markdown",
   "metadata": {},
   "source": [
    "- в начале теста группа B превосходила группу A по показателю кумулятивной конверсии в просмотр карточек:\n",
    "- с 14 декабря наблюдается стабильное снижение показателя метрики в группе B.\n",
    "- с 20 декабря группа A вырвалась вперёд, а группа B стала показывать худшие результаты по относительному показателю, которые стабильно ухудшались до окончания теста."
   ]
  },
  {
   "cell_type": "code",
   "execution_count": 44,
   "metadata": {},
   "outputs": [
    {
     "data": {
      "image/png": "[encoded data removed]",
      "text/plain": [
       "<Figure size 1440x504 with 1 Axes>"
      ]
     },
     "metadata": {},
     "output_type": "display_data"
    }
   ],
   "source": [
    "# построение графика относительного изменения кумулятиной конверсии просмотра корзины\n",
    "plot_relative_change (cumulativeData_product_cart_A, cumulativeData_product_cart_B,\n",
    "                     'График относительного изменения кумулятиной конверсии просмотра корзины')"
   ]
  },
  {
   "cell_type": "markdown",
   "metadata": {},
   "source": [
    "Схожую ситуацию наблюдаем и по относительному показателю просмотров корзины:\n",
    "\n",
    "- в начале теста группа B превосходила тоже группу A;\n",
    "- с 16 декабря наблюдается стабильное снижение показателя метрики в группе B;\n",
    "- с 22 декабря группа A вырвалась вперёд, а группа B стала показывать худшие результаты по относительному показателю, которые стабильно ухудшались до окончания теста."
   ]
  },
  {
   "cell_type": "code",
   "execution_count": 45,
   "metadata": {},
   "outputs": [
    {
     "data": {
      "image/png": "[encoded data removed]",
      "text/plain": [
       "<Figure size 1440x504 with 1 Axes>"
      ]
     },
     "metadata": {},
     "output_type": "display_data"
    }
   ],
   "source": [
    "# построение гарфика относительного изменения кумулятиной конверсии покупок\n",
    "plot_relative_change (cumulativeData_purchase_A, cumulativeData_purchase_B,\n",
    "                     'График относительного изменения кумулятиной конверсии покупок')"
   ]
  },
  {
   "cell_type": "markdown",
   "metadata": {},
   "source": [
    "С покупками уже ожидаемо картина аналогична, необольшая разница только в датах, когда начало происходить снижение:\n",
    "\n",
    "- в начале теста группа B превосходила тоже группу A;\n",
    "- с 15 декабря наблюдается стабильное снижение показателя метрики в группе B;\n",
    "- с 20 декабря группа A вырвалась вперёд, а группа B стала показывать худшие результаты по относительному показателю, которые стабильно ухудшались до окончания теста."
   ]
  },
  {
   "cell_type": "markdown",
   "metadata": {},
   "source": [
    "Так же, посмотрим на изменение метрик в процентном соотношении "
   ]
  },
  {
   "cell_type": "code",
   "execution_count": 46,
   "metadata": {},
   "outputs": [
    {
     "data": {
      "text/html": [
       "<div>\n",
       "<style scoped>\n",
       "    .dataframe tbody tr th:only-of-type {\n",
       "        vertical-align: middle;\n",
       "    }\n",
       "\n",
       "    .dataframe tbody tr th {\n",
       "        vertical-align: top;\n",
       "    }\n",
       "\n",
       "    .dataframe thead th {\n",
       "        text-align: right;\n",
       "    }\n",
       "</style>\n",
       "<table border=\"1\" class=\"dataframe\">\n",
       "  <thead>\n",
       "    <tr style=\"text-align: right;\">\n",
       "      <th></th>\n",
       "      <th>lifetime</th>\n",
       "      <th>group</th>\n",
       "      <th>event_name</th>\n",
       "      <th>events_count</th>\n",
       "    </tr>\n",
       "  </thead>\n",
       "  <tbody>\n",
       "    <tr>\n",
       "      <th>0</th>\n",
       "      <td>0.0</td>\n",
       "      <td>A</td>\n",
       "      <td>login</td>\n",
       "      <td>2073</td>\n",
       "    </tr>\n",
       "    <tr>\n",
       "      <th>1</th>\n",
       "      <td>0.0</td>\n",
       "      <td>A</td>\n",
       "      <td>product_cart</td>\n",
       "      <td>630</td>\n",
       "    </tr>\n",
       "    <tr>\n",
       "      <th>2</th>\n",
       "      <td>0.0</td>\n",
       "      <td>A</td>\n",
       "      <td>product_page</td>\n",
       "      <td>1357</td>\n",
       "    </tr>\n",
       "    <tr>\n",
       "      <th>3</th>\n",
       "      <td>0.0</td>\n",
       "      <td>A</td>\n",
       "      <td>purchase</td>\n",
       "      <td>650</td>\n",
       "    </tr>\n",
       "    <tr>\n",
       "      <th>4</th>\n",
       "      <td>0.0</td>\n",
       "      <td>B</td>\n",
       "      <td>login</td>\n",
       "      <td>694</td>\n",
       "    </tr>\n",
       "  </tbody>\n",
       "</table>\n",
       "</div>"
      ],
      "text/plain": [
       "   lifetime group    event_name  events_count\n",
       "0       0.0     A         login          2073\n",
       "1       0.0     A  product_cart           630\n",
       "2       0.0     A  product_page          1357\n",
       "3       0.0     A      purchase           650\n",
       "4       0.0     B         login           694"
      ]
     },
     "execution_count": 46,
     "metadata": {},
     "output_type": "execute_result"
    }
   ],
   "source": [
    "#создаем табличку по столбцам 'lifetime', 'group', 'event_name' и с кол-вом событий\n",
    "conversion = (participants_events.groupby(['lifetime', 'group', 'event_name'], as_index=False)['user_id'].count()\n",
    "                  .rename(columns={'user_id':'events_count'}))\n",
    "conversion.head()"
   ]
  },
  {
   "cell_type": "code",
   "execution_count": 47,
   "metadata": {},
   "outputs": [
    {
     "name": "stderr",
     "output_type": "stream",
     "text": [
      "/tmp/ipykernel_1015/3643218439.py:4: SettingWithCopyWarning:\n",
      "\n",
      "\n",
      "A value is trying to be set on a copy of a slice from a DataFrame.\n",
      "Try using .loc[row_indexer,col_indexer] = value instead\n",
      "\n",
      "See the caveats in the documentation: https://pandas.pydata.org/pandas-docs/stable/user_guide/indexing.html#returning-a-view-versus-a-copy\n",
      "\n"
     ]
    }
   ],
   "source": [
    "# создаем датафрейм с событиями product_page\n",
    "product_pages = conversion.query('event_name == \"product_page\"')\n",
    "# добавляем расчёт cumsum от количества событий\n",
    "product_pages['events_cumsum'] = product_pages.groupby('group')['events_count'].cumsum()\n",
    "\n",
    "# расчёт роста количества событий типа product_page для двух групп за 14 дней лайфтайма\n",
    "a_product_pages = round((product_pages.iloc[-2]['events_cumsum'] - product_pages.iloc[0]['events_cumsum']) \n",
    "                        / product_pages.iloc[0]['events_cumsum'], 3) \n",
    "b_product_pages = round((product_pages.iloc[-1]['events_cumsum'] - product_pages.iloc[1]['events_cumsum']) \n",
    "                        / product_pages.iloc[1]['events_cumsum'], 3) "
   ]
  },
  {
   "cell_type": "code",
   "execution_count": 48,
   "metadata": {},
   "outputs": [
    {
     "name": "stderr",
     "output_type": "stream",
     "text": [
      "/tmp/ipykernel_1015/3603666536.py:4: SettingWithCopyWarning:\n",
      "\n",
      "\n",
      "A value is trying to be set on a copy of a slice from a DataFrame.\n",
      "Try using .loc[row_indexer,col_indexer] = value instead\n",
      "\n",
      "See the caveats in the documentation: https://pandas.pydata.org/pandas-docs/stable/user_guide/indexing.html#returning-a-view-versus-a-copy\n",
      "\n"
     ]
    }
   ],
   "source": [
    "# аналогичные действия для события product_cart\n",
    "\n",
    "product_carts = conversion.query('event_name == \"product_cart\"')\n",
    "product_carts['events_cumsum'] = product_carts.groupby('group')['events_count'].cumsum()\n",
    "\n",
    "#расчёт роста количества событий типа product_cart для двух групп за 14 дней лайфтайма\n",
    "a_product_carts = round((product_carts.iloc[-2]['events_cumsum'] - product_carts.iloc[0]['events_cumsum']) \n",
    "                        / product_carts.iloc[0]['events_cumsum'], 3) \n",
    "b_product_carts = round((product_carts.iloc[-1]['events_cumsum'] - product_carts.iloc[1]['events_cumsum']) \n",
    "                        / product_carts.iloc[1]['events_cumsum'], 3)"
   ]
  },
  {
   "cell_type": "code",
   "execution_count": 49,
   "metadata": {},
   "outputs": [
    {
     "name": "stderr",
     "output_type": "stream",
     "text": [
      "/tmp/ipykernel_1015/1270745560.py:5: SettingWithCopyWarning:\n",
      "\n",
      "\n",
      "A value is trying to be set on a copy of a slice from a DataFrame.\n",
      "Try using .loc[row_indexer,col_indexer] = value instead\n",
      "\n",
      "See the caveats in the documentation: https://pandas.pydata.org/pandas-docs/stable/user_guide/indexing.html#returning-a-view-versus-a-copy\n",
      "\n"
     ]
    }
   ],
   "source": [
    "# аналогичные действия для события purchases\n",
    "\n",
    "#датафрейм только с событиями типа purchases\n",
    "purchases = conversion.query('event_name == \"purchase\"')\n",
    "purchases['events_cumsum'] = purchases.groupby('group')['events_count'].cumsum()\n",
    "\n",
    "#расчёт роста количества событий типа purchases для двух групп за 14 дней лайфтайма\n",
    "a_purchases = round((purchases.iloc[-2]['events_cumsum'] - purchases.iloc[0]['events_cumsum']) \n",
    "                     / purchases.iloc[0]['events_cumsum'], 3) \n",
    "b_purchases = round((purchases.iloc[-1]['events_cumsum'] - purchases.iloc[1]['events_cumsum']) \n",
    "                    / purchases.iloc[1]['events_cumsum'], 3)"
   ]
  },
  {
   "cell_type": "code",
   "execution_count": 50,
   "metadata": {
    "scrolled": false
   },
   "outputs": [
    {
     "name": "stdout",
     "output_type": "stream",
     "text": [
      "Группа А - просмотр страницы товара: 2.041\n",
      "Группа B - просмотр страницы товара: 1.524\n",
      "\n",
      "---------------------------------------------------------------------------------------------------------\n",
      "Группа A - добавление товара в корзину: 2.079\n",
      "Группа B - добавление товара в корзину: 1.635\n",
      "\n",
      "---------------------------------------------------------------------------------------------------------\n",
      "Группа А - покупки: 1.968\n",
      "Группа B - покупки: 1.446\n"
     ]
    }
   ],
   "source": [
    "# выводим получившиеся рез-ты\n",
    "\n",
    "print(\"Группа А - просмотр страницы товара:\", a_product_pages)\n",
    "print(\"Группа B - просмотр страницы товара:\", b_product_pages, end='\\n\\n')\n",
    "print('---------------------------------------------------------------------------------------------------------')\n",
    "print(\"Группа A - добавление товара в корзину:\", a_product_carts)\n",
    "print(\"Группа B - добавление товара в корзину:\", b_product_carts, end='\\n\\n')\n",
    "print('---------------------------------------------------------------------------------------------------------')\n",
    "print(\"Группа А - покупки:\", a_purchases)\n",
    "print(\"Группа B - покупки:\", b_purchases)"
   ]
  },
  {
   "cell_type": "markdown",
   "metadata": {},
   "source": [
    "### Статистическая разница долей"
   ]
  },
  {
   "cell_type": "markdown",
   "metadata": {},
   "source": [
    "Оценим статистическую значимость разницы среднего количества пользователей, совершивших значимые действия product_cart, product_page, purchase. Согласно условию задачи, для проверки будем использовать z-критерий.\n",
    "\n",
    "Опишем функцию для проверки статистической разницы долей z-критерием."
   ]
  },
  {
   "cell_type": "markdown",
   "metadata": {},
   "source": [
    "Сформулируем гипотезы. Под значимым событием понимаются действия product_cart, product_page, purchase."
   ]
  },
  {
   "cell_type": "markdown",
   "metadata": {},
   "source": [
    "**H0:Доли значений метрик в группах равны**\n",
    "\n",
    "**H1:Доли значений метрик в группах не равны**"
   ]
  },
  {
   "cell_type": "code",
   "execution_count": 51,
   "metadata": {
    "scrolled": true
   },
   "outputs": [],
   "source": [
    "#таблица по lifetime, group, + количество событий\n",
    "users_count = (participants_events.groupby(['lifetime','group'], as_index=False)['user_id'].nunique()\n",
    "               .rename(columns={'user_id':'users_count'}))\n",
    "\n",
    "#события типа product_page\n",
    "product_pages = product_pages.merge(users_count, on=['lifetime', 'group'])\n",
    "product_pages['event_by_user'] = product_pages['events_count'] / product_pages['users_count']\n",
    "\n",
    "#события типа product_cart\n",
    "product_carts = product_carts.merge(users_count, on=['lifetime', 'group'])\n",
    "product_carts['event_by_user'] = product_carts['events_count'] / product_carts['users_count']\n",
    "\n",
    "#события типа purchase\n",
    "purchases = purchases.merge(users_count, on=['lifetime', 'group'])\n",
    "purchases['event_by_user'] = purchases['events_count'] / purchases['users_count']"
   ]
  },
  {
   "cell_type": "code",
   "execution_count": 52,
   "metadata": {
    "scrolled": false
   },
   "outputs": [
    {
     "name": "stdout",
     "output_type": "stream",
     "text": [
      "Тип события product_pages\n"
     ]
    },
    {
     "data": {
      "text/plain": [
       "group\n",
       "A    0.649682\n",
       "B    0.516244\n",
       "Name: event_by_user, dtype: float64"
      ]
     },
     "metadata": {},
     "output_type": "display_data"
    },
    {
     "name": "stdout",
     "output_type": "stream",
     "text": [
      "Тип события product_carts\n"
     ]
    },
    {
     "data": {
      "text/plain": [
       "group\n",
       "A    0.306943\n",
       "B    0.274925\n",
       "Name: event_by_user, dtype: float64"
      ]
     },
     "metadata": {},
     "output_type": "display_data"
    },
    {
     "name": "stdout",
     "output_type": "stream",
     "text": [
      "Тип события purchases\n"
     ]
    },
    {
     "data": {
      "text/plain": [
       "group\n",
       "A    0.298587\n",
       "B    0.245304\n",
       "Name: event_by_user, dtype: float64"
      ]
     },
     "metadata": {},
     "output_type": "display_data"
    }
   ],
   "source": [
    "# смотрим на средние значения ключевых метрик\n",
    "print('Тип события product_pages')\n",
    "display(product_pages.groupby('group')['event_by_user'].mean())\n",
    "print('Тип события product_carts')\n",
    "display(product_carts.groupby('group')['event_by_user'].mean())\n",
    "print('Тип события purchases')\n",
    "display(purchases.groupby('group')['event_by_user'].mean())"
   ]
  },
  {
   "cell_type": "markdown",
   "metadata": {},
   "source": [
    "Можно заметить, что наибольшее отличие в количестве событий на пользователя для метрики product_pages, для остальных метрик разницы в значениях почти нет."
   ]
  },
  {
   "cell_type": "code",
   "execution_count": 53,
   "metadata": {},
   "outputs": [],
   "source": [
    "# функция для расчета z-test\n",
    "def func_z_test(event_name):\n",
    "    z_test = ztest(event_name.query('group == \"A\"')['event_by_user'], \n",
    "                   event_name.query('group == \"B\"')['event_by_user'], value=0)[1]\n",
    "    print(\"p-value:\", z_test)"
   ]
  },
  {
   "cell_type": "code",
   "execution_count": 54,
   "metadata": {
    "scrolled": true
   },
   "outputs": [
    {
     "name": "stdout",
     "output_type": "stream",
     "text": [
      "p-value: 4.295825974356236e-08\n"
     ]
    }
   ],
   "source": [
    "func_z_test(product_pages)"
   ]
  },
  {
   "cell_type": "code",
   "execution_count": 55,
   "metadata": {},
   "outputs": [
    {
     "name": "stdout",
     "output_type": "stream",
     "text": [
      "p-value: 0.03176333477796466\n"
     ]
    }
   ],
   "source": [
    "func_z_test(product_carts)"
   ]
  },
  {
   "cell_type": "code",
   "execution_count": 56,
   "metadata": {},
   "outputs": [
    {
     "name": "stdout",
     "output_type": "stream",
     "text": [
      "p-value: 0.0028200031917980607\n"
     ]
    }
   ],
   "source": [
    "func_z_test(purchases)"
   ]
  },
  {
   "cell_type": "markdown",
   "metadata": {},
   "source": [
    "**Вывод:**\n",
    "\n",
    "На данном шаге мы построили кумулятивные графики конверсий и подробно описали их.\n",
    "\n",
    "В целом относительные метрики показывают провальные результаты теста, целевые значения в группе B не только не увеличились на искомые 10% относительно А, а наоборот ухудшились.\n",
    "\n",
    "Касаемо относительной конверсии по всем ключевым событиям можно сказать следующее:\n",
    "\n",
    "- в начале теста группа B превосходила группу A по показателю кумулятивной конверсии в просмотр карточек:\n",
    "- с 14 - 16 декабря наблюдается стабильное снижение всех показателей метрик в группе B.\n",
    "- с 20 - 22 декабря группа A вырвалась вперёд, а группа B стала показывать худшие результаты по относительному показателю всех метрик, которые стабильно ухудшались до окончания теста.\n",
    "\n",
    "Наблюдается статистическая разница долей групп А и B для события product_page. Для остальных событий статистической разницы не обнаружено.\n",
    "\n",
    "Необходимо выяснить что поризошло на сайте 29-30 декабря. Похоже, что проходили какие - то обновления связанные с корзиной и покупкой, как следствие группа А перестала видеть корзину, такого рода изменения могли сказаться на конверсии в группах и дополнительно исказить результаты теста"
   ]
  },
  {
   "cell_type": "markdown",
   "metadata": {},
   "source": [
    "## Общий вывод"
   ]
  },
  {
   "cell_type": "markdown",
   "metadata": {},
   "source": [
    "Проведя исследование, можно дать рекомендацию о том, что тест необходимо продолжить . Однако следует увеличить количество пользователей в группе B.\n",
    "\n",
    "Несмотря на то, что все целевые показатели в группе В не только не увеличились, а наоборот ухудшились относительно группы А, однозначно утверждать, что тест неудачен нельзя. Показатели разнились долгое время и окончательное утверждение группы А в качестве лидера по конверсии всех показателей произошло только в районе 20-22 декабря, когда в эту группу влили большое количество новых пользователей.\n",
    "\n",
    "В случае принятия решения о продлении тестирования по его завершении дополнительно следует изучить данные о среднем чеке и ключевые метрики в разрезе устройств. Это может полезно, однако в рамках данного исследования такая задача не ставилась.\n",
    "\n",
    "На сегодняшний день можно дополнительно дать следующие рекомендации:\n",
    "\n",
    "**Данные:**\n",
    "\n",
    "- пользователи в группах распределены неравномерно имется значительный перекос в пользу группы А;\n",
    "- нет данных о последней неделе теста;\n",
    "- тест по времени пересекается с новогодней маркетинговой акцией.\n",
    "\n",
    "**Рекомендации:**\n",
    "\n",
    "- проверить и по возможности исправить технические алгоритмы по разделению на группы;\n",
    "- выяснить у ответственных сотрудников, что произошло с данными за последниюю неделю теста и что за работы происходили 29-30 декабря.\n",
    "\n",
    "**Конверсия:**\n",
    "\n",
    "- на каждом шаге мы теряем довольно большое количество пользователей (порядка половины)\n",
    "- оценить конверсию между корзиной и покупкой невозможно из - за особенностей сайта заказчика"
   ]
  }
 ],
 "metadata": {
  "ExecuteTimeLog": [
   {
    "duration": 1300,
    "start_time": "2023-06-14T22:47:15.475Z"
   },
   {
    "duration": 1267,
    "start_time": "2023-06-14T22:47:40.780Z"
   },
   {
    "duration": 2,
    "start_time": "2023-06-14T22:47:51.561Z"
   },
   {
    "duration": 335,
    "start_time": "2023-06-14T22:48:01.729Z"
   },
   {
    "duration": 4,
    "start_time": "2023-06-14T22:49:36.465Z"
   },
   {
    "duration": 34,
    "start_time": "2023-06-14T22:49:43.498Z"
   },
   {
    "duration": 174,
    "start_time": "2023-06-14T22:50:55.410Z"
   },
   {
    "duration": 6,
    "start_time": "2023-06-14T22:51:47.228Z"
   },
   {
    "duration": 9,
    "start_time": "2023-06-14T22:51:55.751Z"
   },
   {
    "duration": 4,
    "start_time": "2023-06-14T22:52:12.787Z"
   },
   {
    "duration": 5,
    "start_time": "2023-06-14T22:52:26.663Z"
   },
   {
    "duration": 13,
    "start_time": "2023-06-14T22:53:48.799Z"
   },
   {
    "duration": 8,
    "start_time": "2023-06-14T22:54:26.253Z"
   },
   {
    "duration": 10,
    "start_time": "2023-06-14T22:54:33.058Z"
   },
   {
    "duration": 26,
    "start_time": "2023-06-14T22:55:16.866Z"
   },
   {
    "duration": 6,
    "start_time": "2023-06-14T22:55:34.511Z"
   },
   {
    "duration": 22,
    "start_time": "2023-06-14T22:55:51.077Z"
   },
   {
    "duration": 5,
    "start_time": "2023-06-14T22:56:07.283Z"
   },
   {
    "duration": 10,
    "start_time": "2023-06-14T22:56:26.847Z"
   },
   {
    "duration": 195,
    "start_time": "2023-06-14T22:56:44.546Z"
   },
   {
    "duration": 7,
    "start_time": "2023-06-14T22:56:52.765Z"
   },
   {
    "duration": 22,
    "start_time": "2023-06-14T22:57:07.263Z"
   },
   {
    "duration": 11,
    "start_time": "2023-06-14T22:58:01.206Z"
   },
   {
    "duration": 9,
    "start_time": "2023-06-14T22:58:10.310Z"
   },
   {
    "duration": 531,
    "start_time": "2023-06-14T22:58:39.755Z"
   },
   {
    "duration": 33,
    "start_time": "2023-06-14T22:59:00.477Z"
   },
   {
    "duration": 10,
    "start_time": "2023-06-14T22:59:13.965Z"
   },
   {
    "duration": 18,
    "start_time": "2023-06-14T22:59:52.869Z"
   },
   {
    "duration": 171,
    "start_time": "2023-06-14T23:00:08.966Z"
   },
   {
    "duration": 17,
    "start_time": "2023-06-14T23:00:29.555Z"
   },
   {
    "duration": 31,
    "start_time": "2023-06-14T23:00:35.492Z"
   },
   {
    "duration": 11,
    "start_time": "2023-06-14T23:00:42.844Z"
   },
   {
    "duration": 5,
    "start_time": "2023-06-14T23:01:32.849Z"
   },
   {
    "duration": 233,
    "start_time": "2023-06-14T23:01:39.425Z"
   },
   {
    "duration": 4,
    "start_time": "2023-06-14T23:01:46.753Z"
   },
   {
    "duration": 233,
    "start_time": "2023-06-14T23:01:52.356Z"
   },
   {
    "duration": 406,
    "start_time": "2023-06-14T23:02:14.618Z"
   },
   {
    "duration": 467,
    "start_time": "2023-06-14T23:02:40.419Z"
   },
   {
    "duration": 440,
    "start_time": "2023-06-14T23:03:43.764Z"
   },
   {
    "duration": 419,
    "start_time": "2023-06-14T23:04:02.277Z"
   },
   {
    "duration": 383,
    "start_time": "2023-06-14T23:04:19.208Z"
   },
   {
    "duration": 5,
    "start_time": "2023-06-14T23:04:55.777Z"
   },
   {
    "duration": 8,
    "start_time": "2023-06-14T23:05:23.400Z"
   },
   {
    "duration": 1404,
    "start_time": "2023-06-15T21:50:43.975Z"
   },
   {
    "duration": 1695,
    "start_time": "2023-06-15T21:50:45.381Z"
   },
   {
    "duration": 3,
    "start_time": "2023-06-15T21:50:47.077Z"
   },
   {
    "duration": 471,
    "start_time": "2023-06-15T21:50:47.082Z"
   },
   {
    "duration": 4,
    "start_time": "2023-06-15T21:50:47.555Z"
   },
   {
    "duration": 57,
    "start_time": "2023-06-15T21:50:47.561Z"
   },
   {
    "duration": 207,
    "start_time": "2023-06-15T21:50:47.620Z"
   },
   {
    "duration": 10,
    "start_time": "2023-06-15T21:50:47.829Z"
   },
   {
    "duration": 40,
    "start_time": "2023-06-15T21:50:47.841Z"
   },
   {
    "duration": 32,
    "start_time": "2023-06-15T21:50:47.884Z"
   },
   {
    "duration": 18,
    "start_time": "2023-06-15T21:50:47.919Z"
   },
   {
    "duration": 35,
    "start_time": "2023-06-15T21:50:47.938Z"
   },
   {
    "duration": 10,
    "start_time": "2023-06-15T21:50:47.974Z"
   },
   {
    "duration": 31,
    "start_time": "2023-06-15T21:50:47.986Z"
   },
   {
    "duration": 37,
    "start_time": "2023-06-15T21:50:48.018Z"
   },
   {
    "duration": 9,
    "start_time": "2023-06-15T21:50:48.057Z"
   },
   {
    "duration": 34,
    "start_time": "2023-06-15T21:50:48.068Z"
   },
   {
    "duration": 17,
    "start_time": "2023-06-15T21:50:48.104Z"
   },
   {
    "duration": 38,
    "start_time": "2023-06-15T21:50:48.123Z"
   },
   {
    "duration": 303,
    "start_time": "2023-06-15T21:50:48.163Z"
   },
   {
    "duration": 9,
    "start_time": "2023-06-15T21:50:48.467Z"
   },
   {
    "duration": 44,
    "start_time": "2023-06-15T21:50:48.478Z"
   },
   {
    "duration": 14,
    "start_time": "2023-06-15T21:50:48.524Z"
   },
   {
    "duration": 12,
    "start_time": "2023-06-15T21:50:48.540Z"
   },
   {
    "duration": 686,
    "start_time": "2023-06-15T21:50:48.563Z"
   },
   {
    "duration": 62,
    "start_time": "2023-06-15T21:50:49.251Z"
   },
   {
    "duration": 14,
    "start_time": "2023-06-15T21:50:49.315Z"
   },
   {
    "duration": 23,
    "start_time": "2023-06-15T21:50:49.333Z"
   },
   {
    "duration": 409,
    "start_time": "2023-06-15T21:50:49.358Z"
   },
   {
    "duration": 44,
    "start_time": "2023-06-15T21:50:49.769Z"
   },
   {
    "duration": 94,
    "start_time": "2023-06-15T21:50:49.817Z"
   },
   {
    "duration": 15,
    "start_time": "2023-06-15T21:50:49.913Z"
   },
   {
    "duration": 8,
    "start_time": "2023-06-15T21:50:49.930Z"
   },
   {
    "duration": 330,
    "start_time": "2023-06-15T21:50:49.940Z"
   },
   {
    "duration": 5,
    "start_time": "2023-06-15T21:50:50.272Z"
   },
   {
    "duration": 356,
    "start_time": "2023-06-15T21:50:50.278Z"
   },
   {
    "duration": 549,
    "start_time": "2023-06-15T21:50:50.636Z"
   },
   {
    "duration": 553,
    "start_time": "2023-06-15T21:50:51.187Z"
   },
   {
    "duration": 516,
    "start_time": "2023-06-15T21:50:51.743Z"
   },
   {
    "duration": 457,
    "start_time": "2023-06-15T21:50:52.262Z"
   },
   {
    "duration": 407,
    "start_time": "2023-06-15T21:50:52.721Z"
   },
   {
    "duration": 5,
    "start_time": "2023-06-15T21:50:53.130Z"
   },
   {
    "duration": 14,
    "start_time": "2023-06-15T21:50:53.137Z"
   },
   {
    "duration": 1333,
    "start_time": "2023-06-16T15:08:58.556Z"
   },
   {
    "duration": 1380,
    "start_time": "2023-06-16T15:08:59.891Z"
   },
   {
    "duration": 3,
    "start_time": "2023-06-16T15:09:01.272Z"
   },
   {
    "duration": 505,
    "start_time": "2023-06-16T15:09:01.276Z"
   },
   {
    "duration": 3,
    "start_time": "2023-06-16T15:09:01.783Z"
   },
   {
    "duration": 63,
    "start_time": "2023-06-16T15:09:01.788Z"
   },
   {
    "duration": 251,
    "start_time": "2023-06-16T15:09:01.856Z"
   },
   {
    "duration": 8,
    "start_time": "2023-06-16T15:09:02.109Z"
   },
   {
    "duration": 63,
    "start_time": "2023-06-16T15:09:02.119Z"
   },
   {
    "duration": 15,
    "start_time": "2023-06-16T15:09:02.184Z"
   },
   {
    "duration": 15,
    "start_time": "2023-06-16T15:09:02.200Z"
   },
   {
    "duration": 77,
    "start_time": "2023-06-16T15:09:02.216Z"
   },
   {
    "duration": 16,
    "start_time": "2023-06-16T15:09:02.295Z"
   },
   {
    "duration": 52,
    "start_time": "2023-06-16T15:09:02.314Z"
   },
   {
    "duration": 50,
    "start_time": "2023-06-16T15:09:02.368Z"
   },
   {
    "duration": 17,
    "start_time": "2023-06-16T15:09:02.420Z"
   },
   {
    "duration": 82,
    "start_time": "2023-06-16T15:09:02.439Z"
   },
   {
    "duration": 84,
    "start_time": "2023-06-16T15:09:02.523Z"
   },
   {
    "duration": 65,
    "start_time": "2023-06-16T15:09:02.609Z"
   },
   {
    "duration": 302,
    "start_time": "2023-06-16T15:09:02.675Z"
   },
   {
    "duration": 8,
    "start_time": "2023-06-16T15:09:02.978Z"
   },
   {
    "duration": 36,
    "start_time": "2023-06-16T15:09:02.987Z"
   },
   {
    "duration": 46,
    "start_time": "2023-06-16T15:09:03.024Z"
   },
   {
    "duration": 18,
    "start_time": "2023-06-16T15:09:03.071Z"
   },
   {
    "duration": 628,
    "start_time": "2023-06-16T15:09:03.090Z"
   },
   {
    "duration": 48,
    "start_time": "2023-06-16T15:09:03.720Z"
   },
   {
    "duration": 21,
    "start_time": "2023-06-16T15:09:03.770Z"
   },
   {
    "duration": 61,
    "start_time": "2023-06-16T15:09:03.792Z"
   },
   {
    "duration": 163,
    "start_time": "2023-06-16T15:09:03.857Z"
   },
   {
    "duration": 31,
    "start_time": "2023-06-16T15:09:04.022Z"
   },
   {
    "duration": 102,
    "start_time": "2023-06-16T15:09:04.057Z"
   },
   {
    "duration": 10,
    "start_time": "2023-06-16T15:09:04.161Z"
   },
   {
    "duration": 13,
    "start_time": "2023-06-16T15:09:04.173Z"
   },
   {
    "duration": 274,
    "start_time": "2023-06-16T15:09:04.187Z"
   },
   {
    "duration": 4,
    "start_time": "2023-06-16T15:09:04.462Z"
   },
   {
    "duration": 266,
    "start_time": "2023-06-16T15:09:04.468Z"
   },
   {
    "duration": 521,
    "start_time": "2023-06-16T15:09:04.739Z"
   },
   {
    "duration": 500,
    "start_time": "2023-06-16T15:09:05.262Z"
   },
   {
    "duration": 415,
    "start_time": "2023-06-16T15:09:05.764Z"
   },
   {
    "duration": 482,
    "start_time": "2023-06-16T15:09:06.180Z"
   },
   {
    "duration": 396,
    "start_time": "2023-06-16T15:09:06.665Z"
   },
   {
    "duration": 5,
    "start_time": "2023-06-16T15:09:07.063Z"
   },
   {
    "duration": 25,
    "start_time": "2023-06-16T15:09:07.070Z"
   },
   {
    "duration": 136,
    "start_time": "2023-06-16T16:44:06.667Z"
   },
   {
    "duration": 47,
    "start_time": "2023-06-16T16:46:23.512Z"
   },
   {
    "duration": 27,
    "start_time": "2023-06-16T16:46:37.695Z"
   },
   {
    "duration": 1184,
    "start_time": "2023-06-16T16:46:57.021Z"
   },
   {
    "duration": 1485,
    "start_time": "2023-06-16T16:46:58.207Z"
   },
   {
    "duration": 3,
    "start_time": "2023-06-16T16:46:59.693Z"
   },
   {
    "duration": 452,
    "start_time": "2023-06-16T16:46:59.697Z"
   },
   {
    "duration": 5,
    "start_time": "2023-06-16T16:47:00.150Z"
   },
   {
    "duration": 74,
    "start_time": "2023-06-16T16:47:00.156Z"
   },
   {
    "duration": 224,
    "start_time": "2023-06-16T16:47:00.236Z"
   },
   {
    "duration": 11,
    "start_time": "2023-06-16T16:47:00.462Z"
   },
   {
    "duration": 21,
    "start_time": "2023-06-16T16:47:00.474Z"
   },
   {
    "duration": 16,
    "start_time": "2023-06-16T16:47:00.498Z"
   },
   {
    "duration": 63,
    "start_time": "2023-06-16T16:47:00.516Z"
   },
   {
    "duration": 110,
    "start_time": "2023-06-16T16:47:00.580Z"
   },
   {
    "duration": 191,
    "start_time": "2023-06-16T16:47:00.691Z"
   },
   {
    "duration": 131,
    "start_time": "2023-06-16T16:47:00.883Z"
   },
   {
    "duration": 28,
    "start_time": "2023-06-16T16:47:01.016Z"
   },
   {
    "duration": 53,
    "start_time": "2023-06-16T16:47:01.045Z"
   },
   {
    "duration": 110,
    "start_time": "2023-06-16T16:47:01.100Z"
   },
   {
    "duration": 96,
    "start_time": "2023-06-16T16:47:01.211Z"
   },
   {
    "duration": 98,
    "start_time": "2023-06-16T16:47:01.308Z"
   },
   {
    "duration": 19,
    "start_time": "2023-06-16T16:47:01.408Z"
   },
   {
    "duration": 81,
    "start_time": "2023-06-16T16:47:01.428Z"
   },
   {
    "duration": 284,
    "start_time": "2023-06-16T16:47:01.511Z"
   },
   {
    "duration": 9,
    "start_time": "2023-06-16T16:47:01.796Z"
   },
   {
    "duration": 89,
    "start_time": "2023-06-16T16:47:01.807Z"
   },
   {
    "duration": 16,
    "start_time": "2023-06-16T16:47:01.897Z"
   },
   {
    "duration": 66,
    "start_time": "2023-06-16T16:47:01.914Z"
   },
   {
    "duration": 721,
    "start_time": "2023-06-16T16:47:01.982Z"
   },
   {
    "duration": 52,
    "start_time": "2023-06-16T16:47:02.706Z"
   },
   {
    "duration": 21,
    "start_time": "2023-06-16T16:47:02.764Z"
   },
   {
    "duration": 42,
    "start_time": "2023-06-16T16:47:02.787Z"
   },
   {
    "duration": 216,
    "start_time": "2023-06-16T16:47:02.831Z"
   },
   {
    "duration": 36,
    "start_time": "2023-06-16T16:47:03.049Z"
   },
   {
    "duration": 71,
    "start_time": "2023-06-16T16:47:03.086Z"
   },
   {
    "duration": 16,
    "start_time": "2023-06-16T16:47:03.158Z"
   },
   {
    "duration": 126,
    "start_time": "2023-06-16T16:47:03.175Z"
   },
   {
    "duration": 336,
    "start_time": "2023-06-16T16:47:03.303Z"
   },
   {
    "duration": 11,
    "start_time": "2023-06-16T16:47:03.640Z"
   },
   {
    "duration": 307,
    "start_time": "2023-06-16T16:47:03.653Z"
   },
   {
    "duration": 507,
    "start_time": "2023-06-16T16:47:03.962Z"
   },
   {
    "duration": 547,
    "start_time": "2023-06-16T16:47:04.475Z"
   },
   {
    "duration": 423,
    "start_time": "2023-06-16T16:47:05.031Z"
   },
   {
    "duration": 512,
    "start_time": "2023-06-16T16:47:05.456Z"
   },
   {
    "duration": 379,
    "start_time": "2023-06-16T16:47:05.973Z"
   },
   {
    "duration": 13,
    "start_time": "2023-06-16T16:47:06.355Z"
   },
   {
    "duration": 26,
    "start_time": "2023-06-16T16:47:06.372Z"
   },
   {
    "duration": 116,
    "start_time": "2023-06-16T16:49:37.570Z"
   },
   {
    "duration": 47,
    "start_time": "2023-06-16T16:50:14.326Z"
   },
   {
    "duration": 21,
    "start_time": "2023-06-16T16:50:21.900Z"
   },
   {
    "duration": 7,
    "start_time": "2023-06-16T16:58:15.737Z"
   },
   {
    "duration": 6,
    "start_time": "2023-06-16T16:58:24.201Z"
   },
   {
    "duration": 7,
    "start_time": "2023-06-16T16:58:32.467Z"
   },
   {
    "duration": 14,
    "start_time": "2023-06-16T16:58:59.948Z"
   },
   {
    "duration": 8,
    "start_time": "2023-06-16T16:59:15.085Z"
   },
   {
    "duration": 9,
    "start_time": "2023-06-16T17:00:16.497Z"
   },
   {
    "duration": 5,
    "start_time": "2023-06-16T17:00:40.010Z"
   },
   {
    "duration": 18,
    "start_time": "2023-06-16T17:01:15.357Z"
   },
   {
    "duration": 17,
    "start_time": "2023-06-16T17:01:33.502Z"
   },
   {
    "duration": 1190,
    "start_time": "2023-06-16T17:01:40.911Z"
   },
   {
    "duration": 1286,
    "start_time": "2023-06-16T17:01:42.102Z"
   },
   {
    "duration": 3,
    "start_time": "2023-06-16T17:01:43.389Z"
   },
   {
    "duration": 476,
    "start_time": "2023-06-16T17:01:43.395Z"
   },
   {
    "duration": 6,
    "start_time": "2023-06-16T17:01:43.872Z"
   },
   {
    "duration": 58,
    "start_time": "2023-06-16T17:01:43.879Z"
   },
   {
    "duration": 270,
    "start_time": "2023-06-16T17:01:43.941Z"
   },
   {
    "duration": 8,
    "start_time": "2023-06-16T17:01:44.213Z"
   },
   {
    "duration": 50,
    "start_time": "2023-06-16T17:01:44.231Z"
   },
   {
    "duration": 17,
    "start_time": "2023-06-16T17:01:44.284Z"
   },
   {
    "duration": 10,
    "start_time": "2023-06-16T17:01:44.302Z"
   },
   {
    "duration": 5,
    "start_time": "2023-06-16T17:01:44.313Z"
   },
   {
    "duration": 34,
    "start_time": "2023-06-16T17:01:44.319Z"
   },
   {
    "duration": 31,
    "start_time": "2023-06-16T17:01:44.359Z"
   },
   {
    "duration": 12,
    "start_time": "2023-06-16T17:01:44.391Z"
   },
   {
    "duration": 15,
    "start_time": "2023-06-16T17:01:44.405Z"
   },
   {
    "duration": 31,
    "start_time": "2023-06-16T17:01:44.421Z"
   },
   {
    "duration": 46,
    "start_time": "2023-06-16T17:01:44.455Z"
   },
   {
    "duration": 9,
    "start_time": "2023-06-16T17:01:44.503Z"
   },
   {
    "duration": 72,
    "start_time": "2023-06-16T17:01:44.513Z"
   },
   {
    "duration": 57,
    "start_time": "2023-06-16T17:01:44.587Z"
   },
   {
    "duration": 17,
    "start_time": "2023-06-16T17:01:44.646Z"
   },
   {
    "duration": 40,
    "start_time": "2023-06-16T17:01:44.674Z"
   },
   {
    "duration": 7,
    "start_time": "2023-06-16T17:01:44.716Z"
   },
   {
    "duration": 79,
    "start_time": "2023-06-16T17:01:44.725Z"
   },
   {
    "duration": 310,
    "start_time": "2023-06-16T17:01:44.806Z"
   },
   {
    "duration": 19,
    "start_time": "2023-06-16T17:01:45.118Z"
   },
   {
    "duration": 49,
    "start_time": "2023-06-16T17:01:45.149Z"
   },
   {
    "duration": 45,
    "start_time": "2023-06-16T17:01:45.200Z"
   },
   {
    "duration": 45,
    "start_time": "2023-06-16T17:01:45.246Z"
   },
   {
    "duration": 718,
    "start_time": "2023-06-16T17:01:45.292Z"
   },
   {
    "duration": 76,
    "start_time": "2023-06-16T17:01:46.012Z"
   },
   {
    "duration": 46,
    "start_time": "2023-06-16T17:01:46.090Z"
   },
   {
    "duration": 65,
    "start_time": "2023-06-16T17:01:46.139Z"
   },
   {
    "duration": 173,
    "start_time": "2023-06-16T17:01:46.206Z"
   },
   {
    "duration": 24,
    "start_time": "2023-06-16T17:01:46.381Z"
   },
   {
    "duration": 46,
    "start_time": "2023-06-16T17:01:46.406Z"
   },
   {
    "duration": 42,
    "start_time": "2023-06-16T17:01:46.458Z"
   },
   {
    "duration": 19,
    "start_time": "2023-06-16T17:01:46.502Z"
   },
   {
    "duration": 314,
    "start_time": "2023-06-16T17:01:46.539Z"
   },
   {
    "duration": 7,
    "start_time": "2023-06-16T17:01:46.854Z"
   },
   {
    "duration": 302,
    "start_time": "2023-06-16T17:01:46.863Z"
   },
   {
    "duration": 533,
    "start_time": "2023-06-16T17:01:47.169Z"
   },
   {
    "duration": 592,
    "start_time": "2023-06-16T17:01:47.704Z"
   },
   {
    "duration": 427,
    "start_time": "2023-06-16T17:01:48.297Z"
   },
   {
    "duration": 501,
    "start_time": "2023-06-16T17:01:48.725Z"
   },
   {
    "duration": 451,
    "start_time": "2023-06-16T17:01:49.227Z"
   },
   {
    "duration": 6,
    "start_time": "2023-06-16T17:01:49.683Z"
   },
   {
    "duration": 20,
    "start_time": "2023-06-16T17:01:49.691Z"
   },
   {
    "duration": 125,
    "start_time": "2023-06-16T17:13:02.558Z"
   },
   {
    "duration": 14,
    "start_time": "2023-06-16T17:17:26.386Z"
   },
   {
    "duration": 7,
    "start_time": "2023-06-16T17:18:13.710Z"
   },
   {
    "duration": 15,
    "start_time": "2023-06-16T17:18:34.949Z"
   },
   {
    "duration": 32,
    "start_time": "2023-06-16T17:21:33.752Z"
   },
   {
    "duration": 172,
    "start_time": "2023-06-16T17:22:03.881Z"
   },
   {
    "duration": 42,
    "start_time": "2023-06-16T17:23:08.224Z"
   },
   {
    "duration": 4,
    "start_time": "2023-06-16T17:23:32.412Z"
   },
   {
    "duration": 22,
    "start_time": "2023-06-16T17:25:16.297Z"
   },
   {
    "duration": 36,
    "start_time": "2023-06-16T17:26:44.156Z"
   },
   {
    "duration": 23,
    "start_time": "2023-06-16T17:26:55.019Z"
   },
   {
    "duration": 8,
    "start_time": "2023-06-16T17:27:00.263Z"
   },
   {
    "duration": 12,
    "start_time": "2023-06-16T17:27:05.544Z"
   },
   {
    "duration": 91,
    "start_time": "2023-06-16T17:27:40.419Z"
   },
   {
    "duration": 139,
    "start_time": "2023-06-16T17:27:59.428Z"
   },
   {
    "duration": 8468,
    "start_time": "2023-06-16T17:28:03.809Z"
   },
   {
    "duration": 30,
    "start_time": "2023-06-16T17:28:16.363Z"
   },
   {
    "duration": 1154,
    "start_time": "2023-06-16T17:28:31.687Z"
   },
   {
    "duration": 1442,
    "start_time": "2023-06-16T17:28:32.843Z"
   },
   {
    "duration": 2,
    "start_time": "2023-06-16T17:28:34.287Z"
   },
   {
    "duration": 485,
    "start_time": "2023-06-16T17:28:34.291Z"
   },
   {
    "duration": 5,
    "start_time": "2023-06-16T17:28:34.779Z"
   },
   {
    "duration": 57,
    "start_time": "2023-06-16T17:28:34.786Z"
   },
   {
    "duration": 230,
    "start_time": "2023-06-16T17:28:34.844Z"
   },
   {
    "duration": 7,
    "start_time": "2023-06-16T17:28:35.075Z"
   },
   {
    "duration": 10,
    "start_time": "2023-06-16T17:28:35.084Z"
   },
   {
    "duration": 13,
    "start_time": "2023-06-16T17:28:35.096Z"
   },
   {
    "duration": 10,
    "start_time": "2023-06-16T17:28:35.110Z"
   },
   {
    "duration": 8,
    "start_time": "2023-06-16T17:28:35.121Z"
   },
   {
    "duration": 69,
    "start_time": "2023-06-16T17:28:35.130Z"
   },
   {
    "duration": 19,
    "start_time": "2023-06-16T17:28:35.200Z"
   },
   {
    "duration": 22,
    "start_time": "2023-06-16T17:28:35.221Z"
   },
   {
    "duration": 52,
    "start_time": "2023-06-16T17:28:35.244Z"
   },
   {
    "duration": 16,
    "start_time": "2023-06-16T17:28:35.298Z"
   },
   {
    "duration": 9,
    "start_time": "2023-06-16T17:28:35.315Z"
   },
   {
    "duration": 61,
    "start_time": "2023-06-16T17:28:35.325Z"
   },
   {
    "duration": 42,
    "start_time": "2023-06-16T17:28:35.387Z"
   },
   {
    "duration": 54,
    "start_time": "2023-06-16T17:28:35.430Z"
   },
   {
    "duration": 42,
    "start_time": "2023-06-16T17:28:35.486Z"
   },
   {
    "duration": 36,
    "start_time": "2023-06-16T17:28:35.529Z"
   },
   {
    "duration": 29,
    "start_time": "2023-06-16T17:28:35.571Z"
   },
   {
    "duration": 200,
    "start_time": "2023-06-16T17:28:35.602Z"
   },
   {
    "duration": 41,
    "start_time": "2023-06-16T17:28:35.803Z"
   },
   {
    "duration": 17,
    "start_time": "2023-06-16T17:28:35.846Z"
   },
   {
    "duration": 112,
    "start_time": "2023-06-16T17:28:35.874Z"
   },
   {
    "duration": 0,
    "start_time": "2023-06-16T17:28:35.988Z"
   },
   {
    "duration": 0,
    "start_time": "2023-06-16T17:28:35.989Z"
   },
   {
    "duration": 0,
    "start_time": "2023-06-16T17:28:35.990Z"
   },
   {
    "duration": 0,
    "start_time": "2023-06-16T17:28:35.991Z"
   },
   {
    "duration": 0,
    "start_time": "2023-06-16T17:28:35.992Z"
   },
   {
    "duration": 0,
    "start_time": "2023-06-16T17:28:35.993Z"
   },
   {
    "duration": 0,
    "start_time": "2023-06-16T17:28:35.994Z"
   },
   {
    "duration": 0,
    "start_time": "2023-06-16T17:28:35.994Z"
   },
   {
    "duration": 1,
    "start_time": "2023-06-16T17:28:35.995Z"
   },
   {
    "duration": 0,
    "start_time": "2023-06-16T17:28:35.997Z"
   },
   {
    "duration": 0,
    "start_time": "2023-06-16T17:28:35.998Z"
   },
   {
    "duration": 0,
    "start_time": "2023-06-16T17:28:35.999Z"
   },
   {
    "duration": 0,
    "start_time": "2023-06-16T17:28:36.000Z"
   },
   {
    "duration": 0,
    "start_time": "2023-06-16T17:28:36.001Z"
   },
   {
    "duration": 0,
    "start_time": "2023-06-16T17:28:36.002Z"
   },
   {
    "duration": 0,
    "start_time": "2023-06-16T17:28:36.003Z"
   },
   {
    "duration": 0,
    "start_time": "2023-06-16T17:28:36.032Z"
   },
   {
    "duration": 0,
    "start_time": "2023-06-16T17:28:36.033Z"
   },
   {
    "duration": 0,
    "start_time": "2023-06-16T17:28:36.035Z"
   },
   {
    "duration": 0,
    "start_time": "2023-06-16T17:28:36.036Z"
   },
   {
    "duration": 0,
    "start_time": "2023-06-16T17:28:36.037Z"
   },
   {
    "duration": 0,
    "start_time": "2023-06-16T17:28:36.038Z"
   },
   {
    "duration": 0,
    "start_time": "2023-06-16T17:28:36.039Z"
   },
   {
    "duration": 0,
    "start_time": "2023-06-16T17:28:36.040Z"
   },
   {
    "duration": 0,
    "start_time": "2023-06-16T17:28:36.040Z"
   },
   {
    "duration": 33,
    "start_time": "2023-06-16T17:28:58.453Z"
   },
   {
    "duration": 1336,
    "start_time": "2023-06-16T17:29:24.935Z"
   },
   {
    "duration": 1216,
    "start_time": "2023-06-16T17:29:26.273Z"
   },
   {
    "duration": 3,
    "start_time": "2023-06-16T17:29:27.491Z"
   },
   {
    "duration": 474,
    "start_time": "2023-06-16T17:29:27.496Z"
   },
   {
    "duration": 4,
    "start_time": "2023-06-16T17:29:27.973Z"
   },
   {
    "duration": 33,
    "start_time": "2023-06-16T17:29:27.979Z"
   },
   {
    "duration": 231,
    "start_time": "2023-06-16T17:29:28.014Z"
   },
   {
    "duration": 16,
    "start_time": "2023-06-16T17:29:28.246Z"
   },
   {
    "duration": 26,
    "start_time": "2023-06-16T17:29:28.263Z"
   },
   {
    "duration": 4,
    "start_time": "2023-06-16T17:29:28.291Z"
   },
   {
    "duration": 10,
    "start_time": "2023-06-16T17:29:28.296Z"
   },
   {
    "duration": 6,
    "start_time": "2023-06-16T17:29:28.307Z"
   },
   {
    "duration": 14,
    "start_time": "2023-06-16T17:29:28.314Z"
   },
   {
    "duration": 51,
    "start_time": "2023-06-16T17:29:28.330Z"
   },
   {
    "duration": 13,
    "start_time": "2023-06-16T17:29:28.382Z"
   },
   {
    "duration": 17,
    "start_time": "2023-06-16T17:29:28.397Z"
   },
   {
    "duration": 16,
    "start_time": "2023-06-16T17:29:28.415Z"
   },
   {
    "duration": 12,
    "start_time": "2023-06-16T17:29:28.433Z"
   },
   {
    "duration": 38,
    "start_time": "2023-06-16T17:29:28.446Z"
   },
   {
    "duration": 32,
    "start_time": "2023-06-16T17:29:28.486Z"
   },
   {
    "duration": 7,
    "start_time": "2023-06-16T17:29:28.520Z"
   },
   {
    "duration": 64,
    "start_time": "2023-06-16T17:29:28.528Z"
   },
   {
    "duration": 6,
    "start_time": "2023-06-16T17:29:28.593Z"
   },
   {
    "duration": 39,
    "start_time": "2023-06-16T17:29:28.600Z"
   },
   {
    "duration": 176,
    "start_time": "2023-06-16T17:29:28.640Z"
   },
   {
    "duration": 34,
    "start_time": "2023-06-16T17:29:28.818Z"
   },
   {
    "duration": 30,
    "start_time": "2023-06-16T17:29:28.856Z"
   },
   {
    "duration": 122,
    "start_time": "2023-06-16T17:29:28.889Z"
   },
   {
    "duration": 0,
    "start_time": "2023-06-16T17:29:29.013Z"
   },
   {
    "duration": 0,
    "start_time": "2023-06-16T17:29:29.013Z"
   },
   {
    "duration": 0,
    "start_time": "2023-06-16T17:29:29.015Z"
   },
   {
    "duration": 0,
    "start_time": "2023-06-16T17:29:29.015Z"
   },
   {
    "duration": 0,
    "start_time": "2023-06-16T17:29:29.016Z"
   },
   {
    "duration": 0,
    "start_time": "2023-06-16T17:29:29.017Z"
   },
   {
    "duration": 0,
    "start_time": "2023-06-16T17:29:29.018Z"
   },
   {
    "duration": 0,
    "start_time": "2023-06-16T17:29:29.019Z"
   },
   {
    "duration": 0,
    "start_time": "2023-06-16T17:29:29.035Z"
   },
   {
    "duration": 0,
    "start_time": "2023-06-16T17:29:29.041Z"
   },
   {
    "duration": 0,
    "start_time": "2023-06-16T17:29:29.045Z"
   },
   {
    "duration": 0,
    "start_time": "2023-06-16T17:29:29.049Z"
   },
   {
    "duration": 0,
    "start_time": "2023-06-16T17:29:29.053Z"
   },
   {
    "duration": 0,
    "start_time": "2023-06-16T17:29:29.056Z"
   },
   {
    "duration": 0,
    "start_time": "2023-06-16T17:29:29.058Z"
   },
   {
    "duration": 0,
    "start_time": "2023-06-16T17:29:29.062Z"
   },
   {
    "duration": 0,
    "start_time": "2023-06-16T17:29:29.064Z"
   },
   {
    "duration": 0,
    "start_time": "2023-06-16T17:29:29.065Z"
   },
   {
    "duration": 0,
    "start_time": "2023-06-16T17:29:29.066Z"
   },
   {
    "duration": 0,
    "start_time": "2023-06-16T17:29:29.070Z"
   },
   {
    "duration": 0,
    "start_time": "2023-06-16T17:29:29.071Z"
   },
   {
    "duration": 0,
    "start_time": "2023-06-16T17:29:29.072Z"
   },
   {
    "duration": 0,
    "start_time": "2023-06-16T17:29:29.073Z"
   },
   {
    "duration": 1,
    "start_time": "2023-06-16T17:29:29.075Z"
   },
   {
    "duration": 0,
    "start_time": "2023-06-16T17:29:29.076Z"
   },
   {
    "duration": 11,
    "start_time": "2023-06-16T17:30:36.468Z"
   },
   {
    "duration": 175,
    "start_time": "2023-06-16T17:31:40.986Z"
   },
   {
    "duration": 1159,
    "start_time": "2023-06-16T17:31:56.059Z"
   },
   {
    "duration": 1096,
    "start_time": "2023-06-16T17:31:57.220Z"
   },
   {
    "duration": 2,
    "start_time": "2023-06-16T17:31:58.318Z"
   },
   {
    "duration": 480,
    "start_time": "2023-06-16T17:31:58.322Z"
   },
   {
    "duration": 4,
    "start_time": "2023-06-16T17:31:58.804Z"
   },
   {
    "duration": 67,
    "start_time": "2023-06-16T17:31:58.809Z"
   },
   {
    "duration": 238,
    "start_time": "2023-06-16T17:31:58.878Z"
   },
   {
    "duration": 7,
    "start_time": "2023-06-16T17:31:59.117Z"
   },
   {
    "duration": 50,
    "start_time": "2023-06-16T17:31:59.137Z"
   },
   {
    "duration": 9,
    "start_time": "2023-06-16T17:31:59.189Z"
   },
   {
    "duration": 26,
    "start_time": "2023-06-16T17:31:59.199Z"
   },
   {
    "duration": 18,
    "start_time": "2023-06-16T17:31:59.226Z"
   },
   {
    "duration": 53,
    "start_time": "2023-06-16T17:31:59.250Z"
   },
   {
    "duration": 10,
    "start_time": "2023-06-16T17:31:59.305Z"
   },
   {
    "duration": 28,
    "start_time": "2023-06-16T17:31:59.316Z"
   },
   {
    "duration": 39,
    "start_time": "2023-06-16T17:31:59.350Z"
   },
   {
    "duration": 34,
    "start_time": "2023-06-16T17:31:59.390Z"
   },
   {
    "duration": 53,
    "start_time": "2023-06-16T17:31:59.425Z"
   },
   {
    "duration": 24,
    "start_time": "2023-06-16T17:31:59.479Z"
   },
   {
    "duration": 55,
    "start_time": "2023-06-16T17:31:59.505Z"
   },
   {
    "duration": 8,
    "start_time": "2023-06-16T17:31:59.568Z"
   },
   {
    "duration": 42,
    "start_time": "2023-06-16T17:31:59.578Z"
   },
   {
    "duration": 6,
    "start_time": "2023-06-16T17:31:59.622Z"
   },
   {
    "duration": 56,
    "start_time": "2023-06-16T17:31:59.629Z"
   },
   {
    "duration": 172,
    "start_time": "2023-06-16T17:31:59.687Z"
   },
   {
    "duration": 0,
    "start_time": "2023-06-16T17:31:59.868Z"
   },
   {
    "duration": 0,
    "start_time": "2023-06-16T17:31:59.868Z"
   },
   {
    "duration": 0,
    "start_time": "2023-06-16T17:31:59.869Z"
   },
   {
    "duration": 0,
    "start_time": "2023-06-16T17:31:59.871Z"
   },
   {
    "duration": 0,
    "start_time": "2023-06-16T17:31:59.871Z"
   },
   {
    "duration": 0,
    "start_time": "2023-06-16T17:31:59.872Z"
   },
   {
    "duration": 1,
    "start_time": "2023-06-16T17:31:59.872Z"
   },
   {
    "duration": 0,
    "start_time": "2023-06-16T17:31:59.873Z"
   },
   {
    "duration": 0,
    "start_time": "2023-06-16T17:31:59.874Z"
   },
   {
    "duration": 0,
    "start_time": "2023-06-16T17:31:59.874Z"
   },
   {
    "duration": 0,
    "start_time": "2023-06-16T17:31:59.877Z"
   },
   {
    "duration": 0,
    "start_time": "2023-06-16T17:31:59.878Z"
   },
   {
    "duration": 0,
    "start_time": "2023-06-16T17:31:59.878Z"
   },
   {
    "duration": 0,
    "start_time": "2023-06-16T17:31:59.880Z"
   },
   {
    "duration": 0,
    "start_time": "2023-06-16T17:31:59.881Z"
   },
   {
    "duration": 0,
    "start_time": "2023-06-16T17:31:59.882Z"
   },
   {
    "duration": 0,
    "start_time": "2023-06-16T17:31:59.882Z"
   },
   {
    "duration": 0,
    "start_time": "2023-06-16T17:31:59.884Z"
   },
   {
    "duration": 0,
    "start_time": "2023-06-16T17:31:59.885Z"
   },
   {
    "duration": 0,
    "start_time": "2023-06-16T17:31:59.886Z"
   },
   {
    "duration": 0,
    "start_time": "2023-06-16T17:31:59.886Z"
   },
   {
    "duration": 0,
    "start_time": "2023-06-16T17:31:59.887Z"
   },
   {
    "duration": 0,
    "start_time": "2023-06-16T17:31:59.888Z"
   },
   {
    "duration": 0,
    "start_time": "2023-06-16T17:31:59.889Z"
   },
   {
    "duration": 0,
    "start_time": "2023-06-16T17:31:59.890Z"
   },
   {
    "duration": 0,
    "start_time": "2023-06-16T17:31:59.891Z"
   },
   {
    "duration": 0,
    "start_time": "2023-06-16T17:31:59.892Z"
   },
   {
    "duration": 0,
    "start_time": "2023-06-16T17:31:59.893Z"
   },
   {
    "duration": 23,
    "start_time": "2023-06-16T17:32:47.714Z"
   },
   {
    "duration": 152,
    "start_time": "2023-06-16T17:32:58.960Z"
   },
   {
    "duration": 29,
    "start_time": "2023-06-16T17:33:34.773Z"
   },
   {
    "duration": 4,
    "start_time": "2023-06-16T17:33:42.023Z"
   },
   {
    "duration": 13,
    "start_time": "2023-06-16T17:33:45.772Z"
   },
   {
    "duration": 16,
    "start_time": "2023-06-16T17:33:49.062Z"
   },
   {
    "duration": 801,
    "start_time": "2023-06-16T17:34:08.958Z"
   },
   {
    "duration": 1090,
    "start_time": "2023-06-16T17:34:18.368Z"
   },
   {
    "duration": 1356,
    "start_time": "2023-06-16T17:34:19.459Z"
   },
   {
    "duration": 3,
    "start_time": "2023-06-16T17:34:20.816Z"
   },
   {
    "duration": 546,
    "start_time": "2023-06-16T17:34:20.821Z"
   },
   {
    "duration": 8,
    "start_time": "2023-06-16T17:34:21.370Z"
   },
   {
    "duration": 45,
    "start_time": "2023-06-16T17:34:21.380Z"
   },
   {
    "duration": 262,
    "start_time": "2023-06-16T17:34:21.426Z"
   },
   {
    "duration": 8,
    "start_time": "2023-06-16T17:34:21.690Z"
   },
   {
    "duration": 11,
    "start_time": "2023-06-16T17:34:21.700Z"
   },
   {
    "duration": 30,
    "start_time": "2023-06-16T17:34:21.713Z"
   },
   {
    "duration": 36,
    "start_time": "2023-06-16T17:34:21.745Z"
   },
   {
    "duration": 16,
    "start_time": "2023-06-16T17:34:21.783Z"
   },
   {
    "duration": 15,
    "start_time": "2023-06-16T17:34:21.800Z"
   },
   {
    "duration": 6,
    "start_time": "2023-06-16T17:34:21.818Z"
   },
   {
    "duration": 17,
    "start_time": "2023-06-16T17:34:21.826Z"
   },
   {
    "duration": 47,
    "start_time": "2023-06-16T17:34:21.846Z"
   },
   {
    "duration": 16,
    "start_time": "2023-06-16T17:34:21.895Z"
   },
   {
    "duration": 9,
    "start_time": "2023-06-16T17:34:21.913Z"
   },
   {
    "duration": 62,
    "start_time": "2023-06-16T17:34:21.924Z"
   },
   {
    "duration": 35,
    "start_time": "2023-06-16T17:34:21.988Z"
   },
   {
    "duration": 14,
    "start_time": "2023-06-16T17:34:22.025Z"
   },
   {
    "duration": 69,
    "start_time": "2023-06-16T17:34:22.040Z"
   },
   {
    "duration": 7,
    "start_time": "2023-06-16T17:34:22.110Z"
   },
   {
    "duration": 29,
    "start_time": "2023-06-16T17:34:22.118Z"
   },
   {
    "duration": 221,
    "start_time": "2023-06-16T17:34:22.151Z"
   },
   {
    "duration": 32,
    "start_time": "2023-06-16T17:34:22.374Z"
   },
   {
    "duration": 5,
    "start_time": "2023-06-16T17:34:22.407Z"
   },
   {
    "duration": 46,
    "start_time": "2023-06-16T17:34:22.413Z"
   },
   {
    "duration": 25,
    "start_time": "2023-06-16T17:34:22.464Z"
   },
   {
    "duration": 738,
    "start_time": "2023-06-16T17:34:22.491Z"
   },
   {
    "duration": 53,
    "start_time": "2023-06-16T17:34:23.231Z"
   },
   {
    "duration": 194,
    "start_time": "2023-06-16T17:34:23.286Z"
   },
   {
    "duration": 0,
    "start_time": "2023-06-16T17:34:23.483Z"
   },
   {
    "duration": 0,
    "start_time": "2023-06-16T17:34:23.485Z"
   },
   {
    "duration": 0,
    "start_time": "2023-06-16T17:34:23.488Z"
   },
   {
    "duration": 0,
    "start_time": "2023-06-16T17:34:23.490Z"
   },
   {
    "duration": 0,
    "start_time": "2023-06-16T17:34:23.491Z"
   },
   {
    "duration": 0,
    "start_time": "2023-06-16T17:34:23.493Z"
   },
   {
    "duration": 0,
    "start_time": "2023-06-16T17:34:23.494Z"
   },
   {
    "duration": 0,
    "start_time": "2023-06-16T17:34:23.496Z"
   },
   {
    "duration": 0,
    "start_time": "2023-06-16T17:34:23.498Z"
   },
   {
    "duration": 0,
    "start_time": "2023-06-16T17:34:23.499Z"
   },
   {
    "duration": 0,
    "start_time": "2023-06-16T17:34:23.502Z"
   },
   {
    "duration": 0,
    "start_time": "2023-06-16T17:34:23.503Z"
   },
   {
    "duration": 0,
    "start_time": "2023-06-16T17:34:23.504Z"
   },
   {
    "duration": 0,
    "start_time": "2023-06-16T17:34:23.536Z"
   },
   {
    "duration": 0,
    "start_time": "2023-06-16T17:34:23.537Z"
   },
   {
    "duration": 0,
    "start_time": "2023-06-16T17:34:23.538Z"
   },
   {
    "duration": 0,
    "start_time": "2023-06-16T17:34:23.538Z"
   },
   {
    "duration": 0,
    "start_time": "2023-06-16T17:34:23.539Z"
   },
   {
    "duration": 0,
    "start_time": "2023-06-16T17:34:23.540Z"
   },
   {
    "duration": 0,
    "start_time": "2023-06-16T17:34:23.541Z"
   },
   {
    "duration": 0,
    "start_time": "2023-06-16T17:34:23.542Z"
   },
   {
    "duration": 36,
    "start_time": "2023-06-16T17:37:53.432Z"
   },
   {
    "duration": 6,
    "start_time": "2023-06-16T17:37:56.390Z"
   },
   {
    "duration": 11,
    "start_time": "2023-06-16T17:37:57.929Z"
   },
   {
    "duration": 40,
    "start_time": "2023-06-16T17:38:01.030Z"
   },
   {
    "duration": 1120,
    "start_time": "2023-06-16T17:38:07.265Z"
   },
   {
    "duration": 89,
    "start_time": "2023-06-16T17:38:19.166Z"
   },
   {
    "duration": 32,
    "start_time": "2023-06-16T17:38:25.164Z"
   },
   {
    "duration": 53,
    "start_time": "2023-06-16T17:38:28.150Z"
   },
   {
    "duration": 38,
    "start_time": "2023-06-16T17:38:32.125Z"
   },
   {
    "duration": 30,
    "start_time": "2023-06-16T17:38:34.170Z"
   },
   {
    "duration": 178,
    "start_time": "2023-06-16T17:49:51.114Z"
   },
   {
    "duration": 29,
    "start_time": "2023-06-16T17:49:55.125Z"
   },
   {
    "duration": 11,
    "start_time": "2023-06-16T17:49:57.261Z"
   },
   {
    "duration": 7,
    "start_time": "2023-06-16T17:50:02.710Z"
   },
   {
    "duration": 17,
    "start_time": "2023-06-16T17:50:06.881Z"
   },
   {
    "duration": 102,
    "start_time": "2023-06-16T17:50:30.813Z"
   },
   {
    "duration": 1367,
    "start_time": "2023-06-16T18:31:37.578Z"
   },
   {
    "duration": 1579,
    "start_time": "2023-06-16T18:31:38.947Z"
   },
   {
    "duration": 3,
    "start_time": "2023-06-16T18:31:40.528Z"
   },
   {
    "duration": 520,
    "start_time": "2023-06-16T18:31:40.544Z"
   },
   {
    "duration": 6,
    "start_time": "2023-06-16T18:31:41.065Z"
   },
   {
    "duration": 95,
    "start_time": "2023-06-16T18:31:41.072Z"
   },
   {
    "duration": 246,
    "start_time": "2023-06-16T18:31:41.174Z"
   },
   {
    "duration": 10,
    "start_time": "2023-06-16T18:31:41.422Z"
   },
   {
    "duration": 66,
    "start_time": "2023-06-16T18:31:41.433Z"
   },
   {
    "duration": 8,
    "start_time": "2023-06-16T18:31:41.503Z"
   },
   {
    "duration": 8,
    "start_time": "2023-06-16T18:31:41.513Z"
   },
   {
    "duration": 76,
    "start_time": "2023-06-16T18:31:41.523Z"
   },
   {
    "duration": 16,
    "start_time": "2023-06-16T18:31:41.601Z"
   },
   {
    "duration": 7,
    "start_time": "2023-06-16T18:31:41.619Z"
   },
   {
    "duration": 93,
    "start_time": "2023-06-16T18:31:41.628Z"
   },
   {
    "duration": 86,
    "start_time": "2023-06-16T18:31:41.723Z"
   },
   {
    "duration": 103,
    "start_time": "2023-06-16T18:31:41.811Z"
   },
   {
    "duration": 24,
    "start_time": "2023-06-16T18:31:41.915Z"
   },
   {
    "duration": 107,
    "start_time": "2023-06-16T18:31:41.941Z"
   },
   {
    "duration": 115,
    "start_time": "2023-06-16T18:31:42.051Z"
   },
   {
    "duration": 35,
    "start_time": "2023-06-16T18:31:42.171Z"
   },
   {
    "duration": 50,
    "start_time": "2023-06-16T18:31:42.212Z"
   },
   {
    "duration": 22,
    "start_time": "2023-06-16T18:31:42.268Z"
   },
   {
    "duration": 52,
    "start_time": "2023-06-16T18:31:42.294Z"
   },
   {
    "duration": 270,
    "start_time": "2023-06-16T18:31:42.347Z"
   },
   {
    "duration": 38,
    "start_time": "2023-06-16T18:31:42.621Z"
   },
   {
    "duration": 65,
    "start_time": "2023-06-16T18:31:42.662Z"
   },
   {
    "duration": 87,
    "start_time": "2023-06-16T18:31:42.732Z"
   },
   {
    "duration": 18,
    "start_time": "2023-06-16T18:31:42.821Z"
   },
   {
    "duration": 914,
    "start_time": "2023-06-16T18:31:42.845Z"
   },
   {
    "duration": 48,
    "start_time": "2023-06-16T18:31:43.770Z"
   },
   {
    "duration": 183,
    "start_time": "2023-06-16T18:31:43.821Z"
   },
   {
    "duration": 0,
    "start_time": "2023-06-16T18:31:44.006Z"
   },
   {
    "duration": 0,
    "start_time": "2023-06-16T18:31:44.007Z"
   },
   {
    "duration": 0,
    "start_time": "2023-06-16T18:31:44.008Z"
   },
   {
    "duration": 0,
    "start_time": "2023-06-16T18:31:44.009Z"
   },
   {
    "duration": 0,
    "start_time": "2023-06-16T18:31:44.011Z"
   },
   {
    "duration": 0,
    "start_time": "2023-06-16T18:31:44.013Z"
   },
   {
    "duration": 0,
    "start_time": "2023-06-16T18:31:44.014Z"
   },
   {
    "duration": 0,
    "start_time": "2023-06-16T18:31:44.016Z"
   },
   {
    "duration": 0,
    "start_time": "2023-06-16T18:31:44.032Z"
   },
   {
    "duration": 0,
    "start_time": "2023-06-16T18:31:44.033Z"
   },
   {
    "duration": 0,
    "start_time": "2023-06-16T18:31:44.034Z"
   },
   {
    "duration": 0,
    "start_time": "2023-06-16T18:31:44.035Z"
   },
   {
    "duration": 0,
    "start_time": "2023-06-16T18:31:44.036Z"
   },
   {
    "duration": 0,
    "start_time": "2023-06-16T18:31:44.037Z"
   },
   {
    "duration": 0,
    "start_time": "2023-06-16T18:31:44.037Z"
   },
   {
    "duration": 63,
    "start_time": "2023-06-16T18:34:19.814Z"
   },
   {
    "duration": 1435,
    "start_time": "2023-06-16T18:34:25.361Z"
   },
   {
    "duration": 1516,
    "start_time": "2023-06-16T18:34:26.798Z"
   },
   {
    "duration": 4,
    "start_time": "2023-06-16T18:34:28.316Z"
   },
   {
    "duration": 535,
    "start_time": "2023-06-16T18:34:28.322Z"
   },
   {
    "duration": 15,
    "start_time": "2023-06-16T18:34:28.860Z"
   },
   {
    "duration": 48,
    "start_time": "2023-06-16T18:34:28.876Z"
   },
   {
    "duration": 304,
    "start_time": "2023-06-16T18:34:28.925Z"
   },
   {
    "duration": 10,
    "start_time": "2023-06-16T18:34:29.234Z"
   },
   {
    "duration": 56,
    "start_time": "2023-06-16T18:34:29.246Z"
   },
   {
    "duration": 5,
    "start_time": "2023-06-16T18:34:29.304Z"
   },
   {
    "duration": 12,
    "start_time": "2023-06-16T18:34:29.310Z"
   },
   {
    "duration": 13,
    "start_time": "2023-06-16T18:34:29.324Z"
   },
   {
    "duration": 68,
    "start_time": "2023-06-16T18:34:29.341Z"
   },
   {
    "duration": 7,
    "start_time": "2023-06-16T18:34:29.411Z"
   },
   {
    "duration": 11,
    "start_time": "2023-06-16T18:34:29.419Z"
   },
   {
    "duration": 48,
    "start_time": "2023-06-16T18:34:29.443Z"
   },
   {
    "duration": 18,
    "start_time": "2023-06-16T18:34:29.493Z"
   },
   {
    "duration": 11,
    "start_time": "2023-06-16T18:34:29.513Z"
   },
   {
    "duration": 21,
    "start_time": "2023-06-16T18:34:29.525Z"
   },
   {
    "duration": 101,
    "start_time": "2023-06-16T18:34:29.551Z"
   },
   {
    "duration": 10,
    "start_time": "2023-06-16T18:34:29.662Z"
   },
   {
    "duration": 54,
    "start_time": "2023-06-16T18:34:29.674Z"
   },
   {
    "duration": 15,
    "start_time": "2023-06-16T18:34:29.729Z"
   },
   {
    "duration": 54,
    "start_time": "2023-06-16T18:34:29.749Z"
   },
   {
    "duration": 169,
    "start_time": "2023-06-16T18:34:29.804Z"
   },
   {
    "duration": 38,
    "start_time": "2023-06-16T18:34:29.978Z"
   },
   {
    "duration": 69,
    "start_time": "2023-06-16T18:34:30.018Z"
   },
   {
    "duration": 99,
    "start_time": "2023-06-16T18:34:30.091Z"
   },
   {
    "duration": 98,
    "start_time": "2023-06-16T18:34:30.192Z"
   },
   {
    "duration": 741,
    "start_time": "2023-06-16T18:34:30.292Z"
   },
   {
    "duration": 57,
    "start_time": "2023-06-16T18:34:31.037Z"
   },
   {
    "duration": 85,
    "start_time": "2023-06-16T18:34:31.097Z"
   },
   {
    "duration": 34,
    "start_time": "2023-06-16T18:34:31.184Z"
   },
   {
    "duration": 89,
    "start_time": "2023-06-16T18:34:31.220Z"
   },
   {
    "duration": 1353,
    "start_time": "2023-06-16T18:34:31.311Z"
   },
   {
    "duration": 22,
    "start_time": "2023-06-16T18:34:32.678Z"
   },
   {
    "duration": 489,
    "start_time": "2023-06-16T18:34:32.707Z"
   },
   {
    "duration": 8,
    "start_time": "2023-06-16T18:34:33.198Z"
   },
   {
    "duration": 431,
    "start_time": "2023-06-16T18:34:33.211Z"
   },
   {
    "duration": 655,
    "start_time": "2023-06-16T18:34:33.645Z"
   },
   {
    "duration": 621,
    "start_time": "2023-06-16T18:34:34.302Z"
   },
   {
    "duration": 492,
    "start_time": "2023-06-16T18:34:34.925Z"
   },
   {
    "duration": 557,
    "start_time": "2023-06-16T18:34:35.418Z"
   },
   {
    "duration": 379,
    "start_time": "2023-06-16T18:34:35.976Z"
   },
   {
    "duration": 7,
    "start_time": "2023-06-16T18:34:36.357Z"
   },
   {
    "duration": 147,
    "start_time": "2023-06-16T18:34:36.367Z"
   },
   {
    "duration": 15,
    "start_time": "2023-06-16T18:42:47.346Z"
   },
   {
    "duration": 26,
    "start_time": "2023-06-16T18:45:29.826Z"
   },
   {
    "duration": 8,
    "start_time": "2023-06-16T18:47:46.307Z"
   },
   {
    "duration": 11,
    "start_time": "2023-06-16T18:48:07.183Z"
   },
   {
    "duration": 13,
    "start_time": "2023-06-16T18:48:13.211Z"
   },
   {
    "duration": 22,
    "start_time": "2023-06-16T18:52:32.220Z"
   },
   {
    "duration": 23,
    "start_time": "2023-06-16T18:52:42.302Z"
   },
   {
    "duration": 30,
    "start_time": "2023-06-16T18:54:41.861Z"
   },
   {
    "duration": 1162,
    "start_time": "2023-06-16T18:54:51.812Z"
   },
   {
    "duration": 1435,
    "start_time": "2023-06-16T18:54:52.977Z"
   },
   {
    "duration": 3,
    "start_time": "2023-06-16T18:54:54.413Z"
   },
   {
    "duration": 550,
    "start_time": "2023-06-16T18:54:54.417Z"
   },
   {
    "duration": 7,
    "start_time": "2023-06-16T18:54:54.970Z"
   },
   {
    "duration": 58,
    "start_time": "2023-06-16T18:54:54.980Z"
   },
   {
    "duration": 254,
    "start_time": "2023-06-16T18:54:55.047Z"
   },
   {
    "duration": 7,
    "start_time": "2023-06-16T18:54:55.303Z"
   },
   {
    "duration": 31,
    "start_time": "2023-06-16T18:54:55.311Z"
   },
   {
    "duration": 167,
    "start_time": "2023-06-16T18:54:55.344Z"
   },
   {
    "duration": 84,
    "start_time": "2023-06-16T18:54:55.513Z"
   },
   {
    "duration": 27,
    "start_time": "2023-06-16T18:54:55.599Z"
   },
   {
    "duration": 104,
    "start_time": "2023-06-16T18:54:55.627Z"
   },
   {
    "duration": 81,
    "start_time": "2023-06-16T18:54:55.732Z"
   },
   {
    "duration": 59,
    "start_time": "2023-06-16T18:54:55.814Z"
   },
   {
    "duration": 31,
    "start_time": "2023-06-16T18:54:55.874Z"
   },
   {
    "duration": 14,
    "start_time": "2023-06-16T18:54:55.906Z"
   },
   {
    "duration": 8,
    "start_time": "2023-06-16T18:54:55.922Z"
   },
   {
    "duration": 64,
    "start_time": "2023-06-16T18:54:55.940Z"
   },
   {
    "duration": 47,
    "start_time": "2023-06-16T18:54:56.006Z"
   },
   {
    "duration": 15,
    "start_time": "2023-06-16T18:54:56.060Z"
   },
   {
    "duration": 31,
    "start_time": "2023-06-16T18:54:56.076Z"
   },
   {
    "duration": 6,
    "start_time": "2023-06-16T18:54:56.109Z"
   },
   {
    "duration": 73,
    "start_time": "2023-06-16T18:54:56.116Z"
   },
   {
    "duration": 139,
    "start_time": "2023-06-16T18:54:56.190Z"
   },
   {
    "duration": 38,
    "start_time": "2023-06-16T18:54:56.342Z"
   },
   {
    "duration": 4,
    "start_time": "2023-06-16T18:54:56.381Z"
   },
   {
    "duration": 14,
    "start_time": "2023-06-16T18:54:56.388Z"
   },
   {
    "duration": 23,
    "start_time": "2023-06-16T18:54:56.403Z"
   },
   {
    "duration": 655,
    "start_time": "2023-06-16T18:54:56.427Z"
   },
   {
    "duration": 36,
    "start_time": "2023-06-16T18:54:57.083Z"
   },
   {
    "duration": 28,
    "start_time": "2023-06-16T18:54:57.136Z"
   },
   {
    "duration": 23,
    "start_time": "2023-06-16T18:54:57.165Z"
   },
   {
    "duration": 18,
    "start_time": "2023-06-16T18:54:57.189Z"
   },
   {
    "duration": 1085,
    "start_time": "2023-06-16T18:54:57.208Z"
   },
   {
    "duration": 7,
    "start_time": "2023-06-16T18:54:58.296Z"
   },
   {
    "duration": 323,
    "start_time": "2023-06-16T18:54:58.305Z"
   },
   {
    "duration": 7,
    "start_time": "2023-06-16T18:54:58.631Z"
   },
   {
    "duration": 299,
    "start_time": "2023-06-16T18:54:58.639Z"
   },
   {
    "duration": 498,
    "start_time": "2023-06-16T18:54:58.943Z"
   },
   {
    "duration": 531,
    "start_time": "2023-06-16T18:54:59.443Z"
   },
   {
    "duration": 449,
    "start_time": "2023-06-16T18:54:59.977Z"
   },
   {
    "duration": 540,
    "start_time": "2023-06-16T18:55:00.427Z"
   },
   {
    "duration": 396,
    "start_time": "2023-06-16T18:55:00.968Z"
   },
   {
    "duration": 125,
    "start_time": "2023-06-16T18:55:01.369Z"
   },
   {
    "duration": 0,
    "start_time": "2023-06-16T18:55:01.495Z"
   },
   {
    "duration": 0,
    "start_time": "2023-06-16T18:55:01.497Z"
   },
   {
    "duration": 28,
    "start_time": "2023-06-16T18:57:13.364Z"
   },
   {
    "duration": 15,
    "start_time": "2023-06-16T19:02:16.774Z"
   },
   {
    "duration": 17,
    "start_time": "2023-06-16T19:02:25.976Z"
   },
   {
    "duration": 13,
    "start_time": "2023-06-16T19:02:36.781Z"
   },
   {
    "duration": 17,
    "start_time": "2023-06-16T19:02:48.910Z"
   },
   {
    "duration": 9,
    "start_time": "2023-06-16T19:03:16.170Z"
   },
   {
    "duration": 19,
    "start_time": "2023-06-16T19:03:24.256Z"
   },
   {
    "duration": 9,
    "start_time": "2023-06-16T19:03:30.914Z"
   },
   {
    "duration": 10,
    "start_time": "2023-06-16T19:03:42.560Z"
   },
   {
    "duration": 41,
    "start_time": "2023-06-16T19:05:04.668Z"
   },
   {
    "duration": 17,
    "start_time": "2023-06-16T19:05:11.709Z"
   },
   {
    "duration": 12,
    "start_time": "2023-06-16T19:05:14.858Z"
   },
   {
    "duration": 8,
    "start_time": "2023-06-16T19:05:16.312Z"
   },
   {
    "duration": 14,
    "start_time": "2023-06-16T19:05:18.956Z"
   },
   {
    "duration": 10,
    "start_time": "2023-06-16T19:05:21.060Z"
   },
   {
    "duration": 8,
    "start_time": "2023-06-16T19:06:06.932Z"
   },
   {
    "duration": 467,
    "start_time": "2023-06-16T19:06:14.613Z"
   },
   {
    "duration": 435,
    "start_time": "2023-06-16T19:06:44.263Z"
   },
   {
    "duration": 444,
    "start_time": "2023-06-16T19:07:11.827Z"
   },
   {
    "duration": 1236,
    "start_time": "2023-06-16T19:09:36.824Z"
   },
   {
    "duration": 1640,
    "start_time": "2023-06-16T19:09:38.067Z"
   },
   {
    "duration": 3,
    "start_time": "2023-06-16T19:09:39.708Z"
   },
   {
    "duration": 524,
    "start_time": "2023-06-16T19:09:39.713Z"
   },
   {
    "duration": 7,
    "start_time": "2023-06-16T19:09:40.239Z"
   },
   {
    "duration": 83,
    "start_time": "2023-06-16T19:09:40.247Z"
   },
   {
    "duration": 337,
    "start_time": "2023-06-16T19:09:40.336Z"
   },
   {
    "duration": 12,
    "start_time": "2023-06-16T19:09:40.676Z"
   },
   {
    "duration": 38,
    "start_time": "2023-06-16T19:09:40.690Z"
   },
   {
    "duration": 11,
    "start_time": "2023-06-16T19:09:40.729Z"
   },
   {
    "duration": 66,
    "start_time": "2023-06-16T19:09:40.741Z"
   },
   {
    "duration": 8,
    "start_time": "2023-06-16T19:09:40.809Z"
   },
   {
    "duration": 20,
    "start_time": "2023-06-16T19:09:40.819Z"
   },
   {
    "duration": 63,
    "start_time": "2023-06-16T19:09:40.842Z"
   },
   {
    "duration": 6,
    "start_time": "2023-06-16T19:09:40.907Z"
   },
   {
    "duration": 26,
    "start_time": "2023-06-16T19:09:40.915Z"
   },
   {
    "duration": 70,
    "start_time": "2023-06-16T19:09:40.943Z"
   },
   {
    "duration": 12,
    "start_time": "2023-06-16T19:09:41.015Z"
   },
   {
    "duration": 82,
    "start_time": "2023-06-16T19:09:41.028Z"
   },
   {
    "duration": 83,
    "start_time": "2023-06-16T19:09:41.114Z"
   },
   {
    "duration": 8,
    "start_time": "2023-06-16T19:09:41.199Z"
   },
   {
    "duration": 67,
    "start_time": "2023-06-16T19:09:41.209Z"
   },
   {
    "duration": 33,
    "start_time": "2023-06-16T19:09:41.278Z"
   },
   {
    "duration": 13,
    "start_time": "2023-06-16T19:09:41.313Z"
   },
   {
    "duration": 225,
    "start_time": "2023-06-16T19:09:41.328Z"
   },
   {
    "duration": 40,
    "start_time": "2023-06-16T19:09:41.557Z"
   },
   {
    "duration": 12,
    "start_time": "2023-06-16T19:09:41.599Z"
   },
   {
    "duration": 30,
    "start_time": "2023-06-16T19:09:41.613Z"
   },
   {
    "duration": 63,
    "start_time": "2023-06-16T19:09:41.646Z"
   },
   {
    "duration": 713,
    "start_time": "2023-06-16T19:09:41.711Z"
   },
   {
    "duration": 63,
    "start_time": "2023-06-16T19:09:42.426Z"
   },
   {
    "duration": 28,
    "start_time": "2023-06-16T19:09:42.491Z"
   },
   {
    "duration": 7,
    "start_time": "2023-06-16T19:09:42.520Z"
   },
   {
    "duration": 65,
    "start_time": "2023-06-16T19:09:42.534Z"
   },
   {
    "duration": 1159,
    "start_time": "2023-06-16T19:09:42.601Z"
   },
   {
    "duration": 18,
    "start_time": "2023-06-16T19:09:43.766Z"
   },
   {
    "duration": 455,
    "start_time": "2023-06-16T19:09:43.789Z"
   },
   {
    "duration": 7,
    "start_time": "2023-06-16T19:09:44.254Z"
   },
   {
    "duration": 372,
    "start_time": "2023-06-16T19:09:44.263Z"
   },
   {
    "duration": 608,
    "start_time": "2023-06-16T19:09:44.636Z"
   },
   {
    "duration": 625,
    "start_time": "2023-06-16T19:09:45.248Z"
   },
   {
    "duration": 10,
    "start_time": "2023-06-16T19:09:45.880Z"
   },
   {
    "duration": 499,
    "start_time": "2023-06-16T19:09:45.891Z"
   },
   {
    "duration": 557,
    "start_time": "2023-06-16T19:09:46.393Z"
   },
   {
    "duration": 455,
    "start_time": "2023-06-16T19:09:46.957Z"
   },
   {
    "duration": 53,
    "start_time": "2023-06-16T19:09:47.414Z"
   },
   {
    "duration": 24,
    "start_time": "2023-06-16T19:09:47.472Z"
   },
   {
    "duration": 17,
    "start_time": "2023-06-16T19:09:47.501Z"
   },
   {
    "duration": 82,
    "start_time": "2023-06-16T19:09:47.521Z"
   },
   {
    "duration": 97,
    "start_time": "2023-06-16T19:09:47.605Z"
   },
   {
    "duration": 106,
    "start_time": "2023-06-16T19:09:47.704Z"
   },
   {
    "duration": 111,
    "start_time": "2023-06-16T19:09:47.818Z"
   },
   {
    "duration": 246,
    "start_time": "2023-06-16T19:09:47.931Z"
   },
   {
    "duration": 2133,
    "start_time": "2023-06-16T19:11:32.289Z"
   },
   {
    "duration": 1200,
    "start_time": "2023-06-16T19:13:14.375Z"
   },
   {
    "duration": 1442,
    "start_time": "2023-06-16T19:13:15.576Z"
   },
   {
    "duration": 3,
    "start_time": "2023-06-16T19:13:17.019Z"
   },
   {
    "duration": 501,
    "start_time": "2023-06-16T19:13:17.023Z"
   },
   {
    "duration": 16,
    "start_time": "2023-06-16T19:13:17.532Z"
   },
   {
    "duration": 54,
    "start_time": "2023-06-16T19:13:17.553Z"
   },
   {
    "duration": 259,
    "start_time": "2023-06-16T19:13:17.608Z"
   },
   {
    "duration": 14,
    "start_time": "2023-06-16T19:13:17.875Z"
   },
   {
    "duration": 24,
    "start_time": "2023-06-16T19:13:17.892Z"
   },
   {
    "duration": 5,
    "start_time": "2023-06-16T19:13:17.917Z"
   },
   {
    "duration": 17,
    "start_time": "2023-06-16T19:13:17.923Z"
   },
   {
    "duration": 43,
    "start_time": "2023-06-16T19:13:17.941Z"
   },
   {
    "duration": 35,
    "start_time": "2023-06-16T19:13:17.985Z"
   },
   {
    "duration": 7,
    "start_time": "2023-06-16T19:13:18.024Z"
   },
   {
    "duration": 44,
    "start_time": "2023-06-16T19:13:18.037Z"
   },
   {
    "duration": 18,
    "start_time": "2023-06-16T19:13:18.083Z"
   },
   {
    "duration": 19,
    "start_time": "2023-06-16T19:13:18.103Z"
   },
   {
    "duration": 27,
    "start_time": "2023-06-16T19:13:18.124Z"
   },
   {
    "duration": 36,
    "start_time": "2023-06-16T19:13:18.156Z"
   },
   {
    "duration": 29,
    "start_time": "2023-06-16T19:13:18.193Z"
   },
   {
    "duration": 6,
    "start_time": "2023-06-16T19:13:18.224Z"
   },
   {
    "duration": 90,
    "start_time": "2023-06-16T19:13:18.231Z"
   },
   {
    "duration": 57,
    "start_time": "2023-06-16T19:13:18.323Z"
   },
   {
    "duration": 11,
    "start_time": "2023-06-16T19:13:18.381Z"
   },
   {
    "duration": 178,
    "start_time": "2023-06-16T19:13:18.394Z"
   },
   {
    "duration": 33,
    "start_time": "2023-06-16T19:13:18.575Z"
   },
   {
    "duration": 4,
    "start_time": "2023-06-16T19:13:18.609Z"
   },
   {
    "duration": 31,
    "start_time": "2023-06-16T19:13:18.614Z"
   },
   {
    "duration": 36,
    "start_time": "2023-06-16T19:13:18.651Z"
   },
   {
    "duration": 708,
    "start_time": "2023-06-16T19:13:18.688Z"
   },
   {
    "duration": 55,
    "start_time": "2023-06-16T19:13:19.398Z"
   },
   {
    "duration": 24,
    "start_time": "2023-06-16T19:13:19.459Z"
   },
   {
    "duration": 21,
    "start_time": "2023-06-16T19:13:19.485Z"
   },
   {
    "duration": 13,
    "start_time": "2023-06-16T19:13:19.508Z"
   },
   {
    "duration": 1145,
    "start_time": "2023-06-16T19:13:19.522Z"
   },
   {
    "duration": 14,
    "start_time": "2023-06-16T19:13:20.670Z"
   },
   {
    "duration": 375,
    "start_time": "2023-06-16T19:13:20.686Z"
   },
   {
    "duration": 9,
    "start_time": "2023-06-16T19:13:21.062Z"
   },
   {
    "duration": 320,
    "start_time": "2023-06-16T19:13:21.076Z"
   },
   {
    "duration": 610,
    "start_time": "2023-06-16T19:13:21.398Z"
   },
   {
    "duration": 664,
    "start_time": "2023-06-16T19:13:22.013Z"
   },
   {
    "duration": 8,
    "start_time": "2023-06-16T19:13:22.680Z"
   },
   {
    "duration": 515,
    "start_time": "2023-06-16T19:13:22.691Z"
   },
   {
    "duration": 599,
    "start_time": "2023-06-16T19:13:23.208Z"
   },
   {
    "duration": 497,
    "start_time": "2023-06-16T19:13:23.810Z"
   },
   {
    "duration": 45,
    "start_time": "2023-06-16T19:13:24.309Z"
   },
   {
    "duration": 16,
    "start_time": "2023-06-16T19:13:24.361Z"
   },
   {
    "duration": 22,
    "start_time": "2023-06-16T19:13:24.379Z"
   },
   {
    "duration": 20,
    "start_time": "2023-06-16T19:13:24.403Z"
   },
   {
    "duration": 59,
    "start_time": "2023-06-16T19:13:24.425Z"
   },
   {
    "duration": 37,
    "start_time": "2023-06-16T19:13:24.487Z"
   },
   {
    "duration": 15,
    "start_time": "2023-06-16T19:13:24.526Z"
   },
   {
    "duration": 221,
    "start_time": "2023-06-16T19:13:24.544Z"
   },
   {
    "duration": 1881,
    "start_time": "2023-06-16T19:13:56.547Z"
   },
   {
    "duration": 14,
    "start_time": "2023-06-16T19:14:13.972Z"
   },
   {
    "duration": 1198,
    "start_time": "2023-06-16T19:14:33.254Z"
   },
   {
    "duration": 1400,
    "start_time": "2023-06-16T19:14:34.455Z"
   },
   {
    "duration": 3,
    "start_time": "2023-06-16T19:14:35.857Z"
   },
   {
    "duration": 520,
    "start_time": "2023-06-16T19:14:35.862Z"
   },
   {
    "duration": 7,
    "start_time": "2023-06-16T19:14:36.386Z"
   },
   {
    "duration": 33,
    "start_time": "2023-06-16T19:14:36.395Z"
   },
   {
    "duration": 325,
    "start_time": "2023-06-16T19:14:36.429Z"
   },
   {
    "duration": 19,
    "start_time": "2023-06-16T19:14:36.755Z"
   },
   {
    "duration": 15,
    "start_time": "2023-06-16T19:14:36.778Z"
   },
   {
    "duration": 10,
    "start_time": "2023-06-16T19:14:36.795Z"
   },
   {
    "duration": 20,
    "start_time": "2023-06-16T19:14:36.806Z"
   },
   {
    "duration": 50,
    "start_time": "2023-06-16T19:14:36.827Z"
   },
   {
    "duration": 56,
    "start_time": "2023-06-16T19:14:36.879Z"
   },
   {
    "duration": 40,
    "start_time": "2023-06-16T19:14:36.941Z"
   },
   {
    "duration": 15,
    "start_time": "2023-06-16T19:14:36.983Z"
   },
   {
    "duration": 21,
    "start_time": "2023-06-16T19:14:37.000Z"
   },
   {
    "duration": 58,
    "start_time": "2023-06-16T19:14:37.022Z"
   },
   {
    "duration": 11,
    "start_time": "2023-06-16T19:14:37.081Z"
   },
   {
    "duration": 13,
    "start_time": "2023-06-16T19:14:37.094Z"
   },
   {
    "duration": 46,
    "start_time": "2023-06-16T19:14:37.108Z"
   },
   {
    "duration": 9,
    "start_time": "2023-06-16T19:14:37.155Z"
   },
   {
    "duration": 46,
    "start_time": "2023-06-16T19:14:37.166Z"
   },
   {
    "duration": 6,
    "start_time": "2023-06-16T19:14:37.213Z"
   },
   {
    "duration": 21,
    "start_time": "2023-06-16T19:14:37.220Z"
   },
   {
    "duration": 198,
    "start_time": "2023-06-16T19:14:37.242Z"
   },
   {
    "duration": 39,
    "start_time": "2023-06-16T19:14:37.441Z"
   },
   {
    "duration": 18,
    "start_time": "2023-06-16T19:14:37.481Z"
   },
   {
    "duration": 54,
    "start_time": "2023-06-16T19:14:37.502Z"
   },
   {
    "duration": 45,
    "start_time": "2023-06-16T19:14:37.558Z"
   },
   {
    "duration": 708,
    "start_time": "2023-06-16T19:14:37.605Z"
   },
   {
    "duration": 52,
    "start_time": "2023-06-16T19:14:38.314Z"
   },
   {
    "duration": 24,
    "start_time": "2023-06-16T19:14:38.368Z"
   },
   {
    "duration": 6,
    "start_time": "2023-06-16T19:14:38.393Z"
   },
   {
    "duration": 23,
    "start_time": "2023-06-16T19:14:38.401Z"
   },
   {
    "duration": 1062,
    "start_time": "2023-06-16T19:14:38.425Z"
   },
   {
    "duration": 8,
    "start_time": "2023-06-16T19:14:39.490Z"
   },
   {
    "duration": 317,
    "start_time": "2023-06-16T19:14:39.500Z"
   },
   {
    "duration": 4,
    "start_time": "2023-06-16T19:14:39.819Z"
   },
   {
    "duration": 373,
    "start_time": "2023-06-16T19:14:39.824Z"
   },
   {
    "duration": 530,
    "start_time": "2023-06-16T19:14:40.199Z"
   },
   {
    "duration": 545,
    "start_time": "2023-06-16T19:14:40.739Z"
   },
   {
    "duration": 5,
    "start_time": "2023-06-16T19:14:41.286Z"
   },
   {
    "duration": 497,
    "start_time": "2023-06-16T19:14:41.292Z"
   },
   {
    "duration": 499,
    "start_time": "2023-06-16T19:14:41.791Z"
   },
   {
    "duration": 394,
    "start_time": "2023-06-16T19:14:42.292Z"
   },
   {
    "duration": 22,
    "start_time": "2023-06-16T19:14:42.688Z"
   },
   {
    "duration": 11,
    "start_time": "2023-06-16T19:14:42.712Z"
   },
   {
    "duration": 14,
    "start_time": "2023-06-16T19:14:42.724Z"
   },
   {
    "duration": 11,
    "start_time": "2023-06-16T19:14:42.740Z"
   },
   {
    "duration": 18,
    "start_time": "2023-06-16T19:14:42.753Z"
   },
   {
    "duration": 127,
    "start_time": "2023-06-16T19:14:42.773Z"
   },
   {
    "duration": 0,
    "start_time": "2023-06-16T19:14:42.901Z"
   },
   {
    "duration": 0,
    "start_time": "2023-06-16T19:14:42.902Z"
   },
   {
    "duration": 1274,
    "start_time": "2023-06-16T19:14:57.774Z"
   },
   {
    "duration": 1257,
    "start_time": "2023-06-16T19:14:59.050Z"
   },
   {
    "duration": 3,
    "start_time": "2023-06-16T19:15:00.308Z"
   },
   {
    "duration": 557,
    "start_time": "2023-06-16T19:15:00.313Z"
   },
   {
    "duration": 8,
    "start_time": "2023-06-16T19:15:00.873Z"
   },
   {
    "duration": 117,
    "start_time": "2023-06-16T19:15:00.885Z"
   },
   {
    "duration": 320,
    "start_time": "2023-06-16T19:15:01.004Z"
   },
   {
    "duration": 16,
    "start_time": "2023-06-16T19:15:01.326Z"
   },
   {
    "duration": 492,
    "start_time": "2023-06-16T19:15:01.344Z"
   },
   {
    "duration": 463,
    "start_time": "2023-06-16T19:15:01.842Z"
   },
   {
    "duration": 269,
    "start_time": "2023-06-16T19:15:02.307Z"
   },
   {
    "duration": 201,
    "start_time": "2023-06-16T19:15:02.580Z"
   },
   {
    "duration": 33,
    "start_time": "2023-06-16T19:15:02.782Z"
   },
   {
    "duration": 48,
    "start_time": "2023-06-16T19:15:02.819Z"
   },
   {
    "duration": 20,
    "start_time": "2023-06-16T19:15:02.868Z"
   },
   {
    "duration": 115,
    "start_time": "2023-06-16T19:15:02.890Z"
   },
   {
    "duration": 90,
    "start_time": "2023-06-16T19:15:03.007Z"
   },
   {
    "duration": 275,
    "start_time": "2023-06-16T19:15:03.099Z"
   },
   {
    "duration": 29,
    "start_time": "2023-06-16T19:15:03.379Z"
   },
   {
    "duration": 109,
    "start_time": "2023-06-16T19:15:03.410Z"
   },
   {
    "duration": 6,
    "start_time": "2023-06-16T19:15:03.521Z"
   },
   {
    "duration": 96,
    "start_time": "2023-06-16T19:15:03.528Z"
   },
   {
    "duration": 24,
    "start_time": "2023-06-16T19:15:03.626Z"
   },
   {
    "duration": 51,
    "start_time": "2023-06-16T19:15:03.652Z"
   },
   {
    "duration": 156,
    "start_time": "2023-06-16T19:15:03.705Z"
   },
   {
    "duration": 38,
    "start_time": "2023-06-16T19:15:03.864Z"
   },
   {
    "duration": 15,
    "start_time": "2023-06-16T19:15:03.903Z"
   },
   {
    "duration": 60,
    "start_time": "2023-06-16T19:15:03.919Z"
   },
   {
    "duration": 16,
    "start_time": "2023-06-16T19:15:03.981Z"
   },
   {
    "duration": 623,
    "start_time": "2023-06-16T19:15:03.999Z"
   },
   {
    "duration": 61,
    "start_time": "2023-06-16T19:15:04.624Z"
   },
   {
    "duration": 25,
    "start_time": "2023-06-16T19:15:04.691Z"
   },
   {
    "duration": 7,
    "start_time": "2023-06-16T19:15:04.718Z"
   },
   {
    "duration": 61,
    "start_time": "2023-06-16T19:15:04.731Z"
   },
   {
    "duration": 1098,
    "start_time": "2023-06-16T19:15:04.794Z"
   },
   {
    "duration": 7,
    "start_time": "2023-06-16T19:15:05.894Z"
   },
   {
    "duration": 400,
    "start_time": "2023-06-16T19:15:05.902Z"
   },
   {
    "duration": 4,
    "start_time": "2023-06-16T19:15:06.304Z"
   },
   {
    "duration": 314,
    "start_time": "2023-06-16T19:15:06.309Z"
   },
   {
    "duration": 540,
    "start_time": "2023-06-16T19:15:06.624Z"
   },
   {
    "duration": 527,
    "start_time": "2023-06-16T19:15:07.174Z"
   },
   {
    "duration": 6,
    "start_time": "2023-06-16T19:15:07.702Z"
   },
   {
    "duration": 503,
    "start_time": "2023-06-16T19:15:07.709Z"
   },
   {
    "duration": 477,
    "start_time": "2023-06-16T19:15:08.214Z"
   },
   {
    "duration": 387,
    "start_time": "2023-06-16T19:15:08.692Z"
   },
   {
    "duration": 17,
    "start_time": "2023-06-16T19:15:09.081Z"
   },
   {
    "duration": 8,
    "start_time": "2023-06-16T19:15:09.100Z"
   },
   {
    "duration": 30,
    "start_time": "2023-06-16T19:15:09.109Z"
   },
   {
    "duration": 13,
    "start_time": "2023-06-16T19:15:09.141Z"
   },
   {
    "duration": 34,
    "start_time": "2023-06-16T19:15:09.156Z"
   },
   {
    "duration": 31,
    "start_time": "2023-06-16T19:15:09.192Z"
   },
   {
    "duration": 19,
    "start_time": "2023-06-16T19:15:09.224Z"
   },
   {
    "duration": 178,
    "start_time": "2023-06-16T19:15:09.245Z"
   },
   {
    "duration": 4,
    "start_time": "2023-06-16T19:17:17.524Z"
   },
   {
    "duration": 30,
    "start_time": "2023-06-16T19:17:24.861Z"
   },
   {
    "duration": 5,
    "start_time": "2023-06-16T19:17:36.973Z"
   },
   {
    "duration": 18,
    "start_time": "2023-06-16T19:17:38.664Z"
   },
   {
    "duration": 3,
    "start_time": "2023-06-16T19:18:45.483Z"
   },
   {
    "duration": 12,
    "start_time": "2023-06-16T19:18:47.717Z"
   },
   {
    "duration": 4,
    "start_time": "2023-06-16T19:19:07.901Z"
   },
   {
    "duration": 12,
    "start_time": "2023-06-16T19:19:09.273Z"
   },
   {
    "duration": 12,
    "start_time": "2023-06-16T19:20:14.790Z"
   },
   {
    "duration": 4,
    "start_time": "2023-06-16T19:20:20.876Z"
   },
   {
    "duration": 17,
    "start_time": "2023-06-16T19:20:22.531Z"
   },
   {
    "duration": 7,
    "start_time": "2023-06-16T19:20:37.130Z"
   },
   {
    "duration": 10,
    "start_time": "2023-06-16T19:20:38.860Z"
   },
   {
    "duration": 9,
    "start_time": "2023-06-16T19:21:18.888Z"
   },
   {
    "duration": 13,
    "start_time": "2023-06-16T19:21:25.174Z"
   },
   {
    "duration": 7,
    "start_time": "2023-06-16T19:21:28.789Z"
   },
   {
    "duration": 1187,
    "start_time": "2023-06-16T19:21:37.060Z"
   },
   {
    "duration": 1667,
    "start_time": "2023-06-16T19:21:38.257Z"
   },
   {
    "duration": 3,
    "start_time": "2023-06-16T19:21:39.925Z"
   },
   {
    "duration": 517,
    "start_time": "2023-06-16T19:21:39.930Z"
   },
   {
    "duration": 12,
    "start_time": "2023-06-16T19:21:40.452Z"
   },
   {
    "duration": 48,
    "start_time": "2023-06-16T19:21:40.471Z"
   },
   {
    "duration": 261,
    "start_time": "2023-06-16T19:21:40.522Z"
   },
   {
    "duration": 10,
    "start_time": "2023-06-16T19:21:40.784Z"
   },
   {
    "duration": 9,
    "start_time": "2023-06-16T19:21:40.796Z"
   },
   {
    "duration": 5,
    "start_time": "2023-06-16T19:21:40.807Z"
   },
   {
    "duration": 34,
    "start_time": "2023-06-16T19:21:40.813Z"
   },
   {
    "duration": 11,
    "start_time": "2023-06-16T19:21:40.858Z"
   },
   {
    "duration": 34,
    "start_time": "2023-06-16T19:21:40.870Z"
   },
   {
    "duration": 6,
    "start_time": "2023-06-16T19:21:40.907Z"
   },
   {
    "duration": 8,
    "start_time": "2023-06-16T19:21:40.914Z"
   },
   {
    "duration": 34,
    "start_time": "2023-06-16T19:21:40.923Z"
   },
   {
    "duration": 47,
    "start_time": "2023-06-16T19:21:40.963Z"
   },
   {
    "duration": 11,
    "start_time": "2023-06-16T19:21:41.012Z"
   },
   {
    "duration": 47,
    "start_time": "2023-06-16T19:21:41.024Z"
   },
   {
    "duration": 42,
    "start_time": "2023-06-16T19:21:41.072Z"
   },
   {
    "duration": 6,
    "start_time": "2023-06-16T19:21:41.116Z"
   },
   {
    "duration": 49,
    "start_time": "2023-06-16T19:21:41.123Z"
   },
   {
    "duration": 32,
    "start_time": "2023-06-16T19:21:41.174Z"
   },
   {
    "duration": 13,
    "start_time": "2023-06-16T19:21:41.208Z"
   },
   {
    "duration": 224,
    "start_time": "2023-06-16T19:21:41.223Z"
   },
   {
    "duration": 51,
    "start_time": "2023-06-16T19:21:41.449Z"
   },
   {
    "duration": 71,
    "start_time": "2023-06-16T19:21:41.509Z"
   },
   {
    "duration": 43,
    "start_time": "2023-06-16T19:21:41.584Z"
   },
   {
    "duration": 85,
    "start_time": "2023-06-16T19:21:41.630Z"
   },
   {
    "duration": 853,
    "start_time": "2023-06-16T19:21:41.717Z"
   },
   {
    "duration": 40,
    "start_time": "2023-06-16T19:21:42.571Z"
   },
   {
    "duration": 40,
    "start_time": "2023-06-16T19:21:42.612Z"
   },
   {
    "duration": 10,
    "start_time": "2023-06-16T19:21:42.656Z"
   },
   {
    "duration": 44,
    "start_time": "2023-06-16T19:21:42.669Z"
   },
   {
    "duration": 1109,
    "start_time": "2023-06-16T19:21:42.715Z"
   },
   {
    "duration": 35,
    "start_time": "2023-06-16T19:21:43.826Z"
   },
   {
    "duration": 380,
    "start_time": "2023-06-16T19:21:43.863Z"
   },
   {
    "duration": 6,
    "start_time": "2023-06-16T19:21:44.246Z"
   },
   {
    "duration": 339,
    "start_time": "2023-06-16T19:21:44.253Z"
   },
   {
    "duration": 652,
    "start_time": "2023-06-16T19:21:44.595Z"
   },
   {
    "duration": 563,
    "start_time": "2023-06-16T19:21:45.254Z"
   },
   {
    "duration": 20,
    "start_time": "2023-06-16T19:21:45.819Z"
   },
   {
    "duration": 634,
    "start_time": "2023-06-16T19:21:45.840Z"
   },
   {
    "duration": 417,
    "start_time": "2023-06-16T19:21:46.488Z"
   },
   {
    "duration": 446,
    "start_time": "2023-06-16T19:21:46.907Z"
   },
   {
    "duration": 32,
    "start_time": "2023-06-16T19:21:47.357Z"
   },
   {
    "duration": 12,
    "start_time": "2023-06-16T19:21:47.391Z"
   },
   {
    "duration": 10,
    "start_time": "2023-06-16T19:21:47.405Z"
   },
   {
    "duration": 16,
    "start_time": "2023-06-16T19:21:47.417Z"
   },
   {
    "duration": 27,
    "start_time": "2023-06-16T19:21:47.439Z"
   },
   {
    "duration": 48,
    "start_time": "2023-06-16T19:21:47.468Z"
   },
   {
    "duration": 34,
    "start_time": "2023-06-16T19:21:47.518Z"
   },
   {
    "duration": 43,
    "start_time": "2023-06-16T19:21:47.556Z"
   },
   {
    "duration": 18,
    "start_time": "2023-06-16T19:21:47.601Z"
   },
   {
    "duration": 16,
    "start_time": "2023-06-16T19:21:47.621Z"
   },
   {
    "duration": 20,
    "start_time": "2023-06-16T19:21:47.648Z"
   },
   {
    "duration": 3,
    "start_time": "2023-06-16T19:24:17.219Z"
   },
   {
    "duration": 163,
    "start_time": "2023-06-16T19:24:19.416Z"
   },
   {
    "duration": 3,
    "start_time": "2023-06-16T19:24:35.981Z"
   },
   {
    "duration": 58,
    "start_time": "2023-06-16T19:24:38.221Z"
   },
   {
    "duration": 3,
    "start_time": "2023-06-16T19:25:01.217Z"
   },
   {
    "duration": 8,
    "start_time": "2023-06-16T19:25:03.187Z"
   },
   {
    "duration": 4,
    "start_time": "2023-06-16T19:29:10.418Z"
   },
   {
    "duration": 13,
    "start_time": "2023-06-16T19:29:12.627Z"
   },
   {
    "duration": 1308,
    "start_time": "2023-06-16T19:31:18.486Z"
   },
   {
    "duration": 1613,
    "start_time": "2023-06-16T19:31:19.797Z"
   },
   {
    "duration": 4,
    "start_time": "2023-06-16T19:31:21.412Z"
   },
   {
    "duration": 542,
    "start_time": "2023-06-16T19:31:21.419Z"
   },
   {
    "duration": 16,
    "start_time": "2023-06-16T19:31:21.963Z"
   },
   {
    "duration": 39,
    "start_time": "2023-06-16T19:31:21.986Z"
   },
   {
    "duration": 265,
    "start_time": "2023-06-16T19:31:22.026Z"
   },
   {
    "duration": 8,
    "start_time": "2023-06-16T19:31:22.292Z"
   },
   {
    "duration": 11,
    "start_time": "2023-06-16T19:31:22.302Z"
   },
   {
    "duration": 29,
    "start_time": "2023-06-16T19:31:22.316Z"
   },
   {
    "duration": 51,
    "start_time": "2023-06-16T19:31:22.348Z"
   },
   {
    "duration": 5,
    "start_time": "2023-06-16T19:31:22.401Z"
   },
   {
    "duration": 17,
    "start_time": "2023-06-16T19:31:22.407Z"
   },
   {
    "duration": 13,
    "start_time": "2023-06-16T19:31:22.426Z"
   },
   {
    "duration": 56,
    "start_time": "2023-06-16T19:31:22.440Z"
   },
   {
    "duration": 12,
    "start_time": "2023-06-16T19:31:22.498Z"
   },
   {
    "duration": 46,
    "start_time": "2023-06-16T19:31:22.511Z"
   },
   {
    "duration": 59,
    "start_time": "2023-06-16T19:31:22.558Z"
   },
   {
    "duration": 33,
    "start_time": "2023-06-16T19:31:22.618Z"
   },
   {
    "duration": 63,
    "start_time": "2023-06-16T19:31:22.652Z"
   },
   {
    "duration": 8,
    "start_time": "2023-06-16T19:31:22.716Z"
   },
   {
    "duration": 125,
    "start_time": "2023-06-16T19:31:22.726Z"
   },
   {
    "duration": 9,
    "start_time": "2023-06-16T19:31:22.864Z"
   },
   {
    "duration": 32,
    "start_time": "2023-06-16T19:31:22.875Z"
   },
   {
    "duration": 158,
    "start_time": "2023-06-16T19:31:22.909Z"
   },
   {
    "duration": 31,
    "start_time": "2023-06-16T19:31:23.068Z"
   },
   {
    "duration": 4,
    "start_time": "2023-06-16T19:31:23.101Z"
   },
   {
    "duration": 47,
    "start_time": "2023-06-16T19:31:23.109Z"
   },
   {
    "duration": 36,
    "start_time": "2023-06-16T19:31:23.161Z"
   },
   {
    "duration": 723,
    "start_time": "2023-06-16T19:31:23.198Z"
   },
   {
    "duration": 53,
    "start_time": "2023-06-16T19:31:23.923Z"
   },
   {
    "duration": 28,
    "start_time": "2023-06-16T19:31:23.978Z"
   },
   {
    "duration": 13,
    "start_time": "2023-06-16T19:31:24.008Z"
   },
   {
    "duration": 68,
    "start_time": "2023-06-16T19:31:24.023Z"
   },
   {
    "duration": 1235,
    "start_time": "2023-06-16T19:31:24.092Z"
   },
   {
    "duration": 16,
    "start_time": "2023-06-16T19:31:25.329Z"
   },
   {
    "duration": 409,
    "start_time": "2023-06-16T19:31:25.351Z"
   },
   {
    "duration": 8,
    "start_time": "2023-06-16T19:31:25.765Z"
   },
   {
    "duration": 392,
    "start_time": "2023-06-16T19:31:25.776Z"
   },
   {
    "duration": 607,
    "start_time": "2023-06-16T19:31:26.170Z"
   },
   {
    "duration": 591,
    "start_time": "2023-06-16T19:31:26.779Z"
   },
   {
    "duration": 7,
    "start_time": "2023-06-16T19:31:27.371Z"
   },
   {
    "duration": 620,
    "start_time": "2023-06-16T19:31:27.379Z"
   },
   {
    "duration": 441,
    "start_time": "2023-06-16T19:31:28.001Z"
   },
   {
    "duration": 417,
    "start_time": "2023-06-16T19:31:28.449Z"
   },
   {
    "duration": 26,
    "start_time": "2023-06-16T19:31:28.868Z"
   },
   {
    "duration": 32,
    "start_time": "2023-06-16T19:31:28.896Z"
   },
   {
    "duration": 81,
    "start_time": "2023-06-16T19:31:28.930Z"
   },
   {
    "duration": 79,
    "start_time": "2023-06-16T19:31:29.013Z"
   },
   {
    "duration": 13,
    "start_time": "2023-06-16T19:31:29.094Z"
   },
   {
    "duration": 64,
    "start_time": "2023-06-16T19:31:29.109Z"
   },
   {
    "duration": 56,
    "start_time": "2023-06-16T19:31:29.174Z"
   },
   {
    "duration": 57,
    "start_time": "2023-06-16T19:31:29.237Z"
   },
   {
    "duration": 16,
    "start_time": "2023-06-16T19:31:29.296Z"
   },
   {
    "duration": 16,
    "start_time": "2023-06-16T19:31:29.314Z"
   },
   {
    "duration": 67,
    "start_time": "2023-06-16T19:31:29.334Z"
   }
  ],
  "kernelspec": {
   "display_name": "Python 3 (ipykernel)",
   "language": "python",
   "name": "python3"
  },
  "language_info": {
   "codemirror_mode": {
    "name": "ipython",
    "version": 3
   },
   "file_extension": ".py",
   "mimetype": "text/x-python",
   "name": "python",
   "nbconvert_exporter": "python",
   "pygments_lexer": "ipython3",
   "version": "3.9.5"
  },
  "toc": {
   "base_numbering": 1,
   "nav_menu": {},
   "number_sections": true,
   "sideBar": true,
   "skip_h1_title": true,
   "title_cell": "Table of Contents",
   "title_sidebar": "Contents",
   "toc_cell": false,
   "toc_position": {
    "height": "calc(100% - 180px)",
    "left": "10px",
    "top": "150px",
    "width": "165px"
   },
   "toc_section_display": true,
   "toc_window_display": true
  }
 },
 "nbformat": 4,
 "nbformat_minor": 2
}
