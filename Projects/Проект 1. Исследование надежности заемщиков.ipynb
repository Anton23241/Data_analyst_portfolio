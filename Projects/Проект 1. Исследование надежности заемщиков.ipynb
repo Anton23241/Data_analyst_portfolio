{
 "cells": [
  {
   "cell_type": "markdown",
   "id": "e2b966bd",
   "metadata": {
    "deletable": false,
    "editable": false,
    "id": "c81daeeb"
   },
   "source": [
    "# Исследование надежности заемщиков\n"
   ]
  },
  {
   "cell_type": "markdown",
   "id": "2ba2cb1e",
   "metadata": {
    "deletable": false,
    "editable": false,
    "id": "827c20bf"
   },
   "source": [
    "Во второй части проекта вы выполните шаги 3 и 4. Их вручную проверит ревьюер.\n",
    "Чтобы вам не пришлось писать код заново для шагов 1 и 2, мы добавили авторские решения в ячейки с кодом. \n",
    "\n"
   ]
  },
  {
   "cell_type": "markdown",
   "id": "7080a5ef",
   "metadata": {
    "deletable": false,
    "editable": false,
    "id": "744d7639"
   },
   "source": [
    "## Откройте таблицу и изучите общую информацию о данных"
   ]
  },
  {
   "cell_type": "markdown",
   "id": "5417dde9",
   "metadata": {
    "deletable": false,
    "editable": false,
    "id": "e7a14c31"
   },
   "source": [
    "**Задание 1. Импортируйте библиотеку pandas. Считайте данные из csv-файла в датафрейм и сохраните в переменную `data`. Путь к файлу:**\n",
    "\n",
    "`/datasets/data.csv`"
   ]
  },
  {
   "cell_type": "code",
   "execution_count": 1,
   "id": "81b94d16",
   "metadata": {
    "deletable": false,
    "id": "7bcf75c9"
   },
   "outputs": [],
   "source": [
    "import pandas as pd\n",
    "\n",
    "try:\n",
    "    data = pd.read_csv('/datasets/data.csv')\n",
    "except:\n",
    "    data = pd.read_csv('https://code.s3.yandex.net/datasets/data.csv')"
   ]
  },
  {
   "cell_type": "markdown",
   "id": "525b19d7",
   "metadata": {
    "deletable": false,
    "editable": false,
    "id": "b8038fe3"
   },
   "source": [
    "**Задание 2. Выведите первые 20 строчек датафрейма `data` на экран.**"
   ]
  },
  {
   "cell_type": "code",
   "execution_count": 2,
   "id": "d317bf7e",
   "metadata": {
    "deletable": false,
    "id": "2a7cab99",
    "outputId": "1a8f3ef2-d323-4ec2-ddf7-89670b5944c4"
   },
   "outputs": [
    {
     "data": {
      "text/html": [
       "<div>\n",
       "<style scoped>\n",
       "    .dataframe tbody tr th:only-of-type {\n",
       "        vertical-align: middle;\n",
       "    }\n",
       "\n",
       "    .dataframe tbody tr th {\n",
       "        vertical-align: top;\n",
       "    }\n",
       "\n",
       "    .dataframe thead th {\n",
       "        text-align: right;\n",
       "    }\n",
       "</style>\n",
       "<table border=\"1\" class=\"dataframe\">\n",
       "  <thead>\n",
       "    <tr style=\"text-align: right;\">\n",
       "      <th></th>\n",
       "      <th>children</th>\n",
       "      <th>days_employed</th>\n",
       "      <th>dob_years</th>\n",
       "      <th>education</th>\n",
       "      <th>education_id</th>\n",
       "      <th>family_status</th>\n",
       "      <th>family_status_id</th>\n",
       "      <th>gender</th>\n",
       "      <th>income_type</th>\n",
       "      <th>debt</th>\n",
       "      <th>total_income</th>\n",
       "      <th>purpose</th>\n",
       "    </tr>\n",
       "  </thead>\n",
       "  <tbody>\n",
       "    <tr>\n",
       "      <th>0</th>\n",
       "      <td>1</td>\n",
       "      <td>-8437.673028</td>\n",
       "      <td>42</td>\n",
       "      <td>высшее</td>\n",
       "      <td>0</td>\n",
       "      <td>женат / замужем</td>\n",
       "      <td>0</td>\n",
       "      <td>F</td>\n",
       "      <td>сотрудник</td>\n",
       "      <td>0</td>\n",
       "      <td>253875.639453</td>\n",
       "      <td>покупка жилья</td>\n",
       "    </tr>\n",
       "    <tr>\n",
       "      <th>1</th>\n",
       "      <td>1</td>\n",
       "      <td>-4024.803754</td>\n",
       "      <td>36</td>\n",
       "      <td>среднее</td>\n",
       "      <td>1</td>\n",
       "      <td>женат / замужем</td>\n",
       "      <td>0</td>\n",
       "      <td>F</td>\n",
       "      <td>сотрудник</td>\n",
       "      <td>0</td>\n",
       "      <td>112080.014102</td>\n",
       "      <td>приобретение автомобиля</td>\n",
       "    </tr>\n",
       "    <tr>\n",
       "      <th>2</th>\n",
       "      <td>0</td>\n",
       "      <td>-5623.422610</td>\n",
       "      <td>33</td>\n",
       "      <td>Среднее</td>\n",
       "      <td>1</td>\n",
       "      <td>женат / замужем</td>\n",
       "      <td>0</td>\n",
       "      <td>M</td>\n",
       "      <td>сотрудник</td>\n",
       "      <td>0</td>\n",
       "      <td>145885.952297</td>\n",
       "      <td>покупка жилья</td>\n",
       "    </tr>\n",
       "    <tr>\n",
       "      <th>3</th>\n",
       "      <td>3</td>\n",
       "      <td>-4124.747207</td>\n",
       "      <td>32</td>\n",
       "      <td>среднее</td>\n",
       "      <td>1</td>\n",
       "      <td>женат / замужем</td>\n",
       "      <td>0</td>\n",
       "      <td>M</td>\n",
       "      <td>сотрудник</td>\n",
       "      <td>0</td>\n",
       "      <td>267628.550329</td>\n",
       "      <td>дополнительное образование</td>\n",
       "    </tr>\n",
       "    <tr>\n",
       "      <th>4</th>\n",
       "      <td>0</td>\n",
       "      <td>340266.072047</td>\n",
       "      <td>53</td>\n",
       "      <td>среднее</td>\n",
       "      <td>1</td>\n",
       "      <td>гражданский брак</td>\n",
       "      <td>1</td>\n",
       "      <td>F</td>\n",
       "      <td>пенсионер</td>\n",
       "      <td>0</td>\n",
       "      <td>158616.077870</td>\n",
       "      <td>сыграть свадьбу</td>\n",
       "    </tr>\n",
       "    <tr>\n",
       "      <th>5</th>\n",
       "      <td>0</td>\n",
       "      <td>-926.185831</td>\n",
       "      <td>27</td>\n",
       "      <td>высшее</td>\n",
       "      <td>0</td>\n",
       "      <td>гражданский брак</td>\n",
       "      <td>1</td>\n",
       "      <td>M</td>\n",
       "      <td>компаньон</td>\n",
       "      <td>0</td>\n",
       "      <td>255763.565419</td>\n",
       "      <td>покупка жилья</td>\n",
       "    </tr>\n",
       "    <tr>\n",
       "      <th>6</th>\n",
       "      <td>0</td>\n",
       "      <td>-2879.202052</td>\n",
       "      <td>43</td>\n",
       "      <td>высшее</td>\n",
       "      <td>0</td>\n",
       "      <td>женат / замужем</td>\n",
       "      <td>0</td>\n",
       "      <td>F</td>\n",
       "      <td>компаньон</td>\n",
       "      <td>0</td>\n",
       "      <td>240525.971920</td>\n",
       "      <td>операции с жильем</td>\n",
       "    </tr>\n",
       "    <tr>\n",
       "      <th>7</th>\n",
       "      <td>0</td>\n",
       "      <td>-152.779569</td>\n",
       "      <td>50</td>\n",
       "      <td>СРЕДНЕЕ</td>\n",
       "      <td>1</td>\n",
       "      <td>женат / замужем</td>\n",
       "      <td>0</td>\n",
       "      <td>M</td>\n",
       "      <td>сотрудник</td>\n",
       "      <td>0</td>\n",
       "      <td>135823.934197</td>\n",
       "      <td>образование</td>\n",
       "    </tr>\n",
       "    <tr>\n",
       "      <th>8</th>\n",
       "      <td>2</td>\n",
       "      <td>-6929.865299</td>\n",
       "      <td>35</td>\n",
       "      <td>ВЫСШЕЕ</td>\n",
       "      <td>0</td>\n",
       "      <td>гражданский брак</td>\n",
       "      <td>1</td>\n",
       "      <td>F</td>\n",
       "      <td>сотрудник</td>\n",
       "      <td>0</td>\n",
       "      <td>95856.832424</td>\n",
       "      <td>на проведение свадьбы</td>\n",
       "    </tr>\n",
       "    <tr>\n",
       "      <th>9</th>\n",
       "      <td>0</td>\n",
       "      <td>-2188.756445</td>\n",
       "      <td>41</td>\n",
       "      <td>среднее</td>\n",
       "      <td>1</td>\n",
       "      <td>женат / замужем</td>\n",
       "      <td>0</td>\n",
       "      <td>M</td>\n",
       "      <td>сотрудник</td>\n",
       "      <td>0</td>\n",
       "      <td>144425.938277</td>\n",
       "      <td>покупка жилья для семьи</td>\n",
       "    </tr>\n",
       "    <tr>\n",
       "      <th>10</th>\n",
       "      <td>2</td>\n",
       "      <td>-4171.483647</td>\n",
       "      <td>36</td>\n",
       "      <td>высшее</td>\n",
       "      <td>0</td>\n",
       "      <td>женат / замужем</td>\n",
       "      <td>0</td>\n",
       "      <td>M</td>\n",
       "      <td>компаньон</td>\n",
       "      <td>0</td>\n",
       "      <td>113943.491460</td>\n",
       "      <td>покупка недвижимости</td>\n",
       "    </tr>\n",
       "    <tr>\n",
       "      <th>11</th>\n",
       "      <td>0</td>\n",
       "      <td>-792.701887</td>\n",
       "      <td>40</td>\n",
       "      <td>среднее</td>\n",
       "      <td>1</td>\n",
       "      <td>женат / замужем</td>\n",
       "      <td>0</td>\n",
       "      <td>F</td>\n",
       "      <td>сотрудник</td>\n",
       "      <td>0</td>\n",
       "      <td>77069.234271</td>\n",
       "      <td>покупка коммерческой недвижимости</td>\n",
       "    </tr>\n",
       "    <tr>\n",
       "      <th>12</th>\n",
       "      <td>0</td>\n",
       "      <td>NaN</td>\n",
       "      <td>65</td>\n",
       "      <td>среднее</td>\n",
       "      <td>1</td>\n",
       "      <td>гражданский брак</td>\n",
       "      <td>1</td>\n",
       "      <td>M</td>\n",
       "      <td>пенсионер</td>\n",
       "      <td>0</td>\n",
       "      <td>NaN</td>\n",
       "      <td>сыграть свадьбу</td>\n",
       "    </tr>\n",
       "    <tr>\n",
       "      <th>13</th>\n",
       "      <td>0</td>\n",
       "      <td>-1846.641941</td>\n",
       "      <td>54</td>\n",
       "      <td>неоконченное высшее</td>\n",
       "      <td>2</td>\n",
       "      <td>женат / замужем</td>\n",
       "      <td>0</td>\n",
       "      <td>F</td>\n",
       "      <td>сотрудник</td>\n",
       "      <td>0</td>\n",
       "      <td>130458.228857</td>\n",
       "      <td>приобретение автомобиля</td>\n",
       "    </tr>\n",
       "    <tr>\n",
       "      <th>14</th>\n",
       "      <td>0</td>\n",
       "      <td>-1844.956182</td>\n",
       "      <td>56</td>\n",
       "      <td>высшее</td>\n",
       "      <td>0</td>\n",
       "      <td>гражданский брак</td>\n",
       "      <td>1</td>\n",
       "      <td>F</td>\n",
       "      <td>компаньон</td>\n",
       "      <td>1</td>\n",
       "      <td>165127.911772</td>\n",
       "      <td>покупка жилой недвижимости</td>\n",
       "    </tr>\n",
       "    <tr>\n",
       "      <th>15</th>\n",
       "      <td>1</td>\n",
       "      <td>-972.364419</td>\n",
       "      <td>26</td>\n",
       "      <td>среднее</td>\n",
       "      <td>1</td>\n",
       "      <td>женат / замужем</td>\n",
       "      <td>0</td>\n",
       "      <td>F</td>\n",
       "      <td>сотрудник</td>\n",
       "      <td>0</td>\n",
       "      <td>116820.904450</td>\n",
       "      <td>строительство собственной недвижимости</td>\n",
       "    </tr>\n",
       "    <tr>\n",
       "      <th>16</th>\n",
       "      <td>0</td>\n",
       "      <td>-1719.934226</td>\n",
       "      <td>35</td>\n",
       "      <td>среднее</td>\n",
       "      <td>1</td>\n",
       "      <td>женат / замужем</td>\n",
       "      <td>0</td>\n",
       "      <td>F</td>\n",
       "      <td>сотрудник</td>\n",
       "      <td>0</td>\n",
       "      <td>289202.704229</td>\n",
       "      <td>недвижимость</td>\n",
       "    </tr>\n",
       "    <tr>\n",
       "      <th>17</th>\n",
       "      <td>0</td>\n",
       "      <td>-2369.999720</td>\n",
       "      <td>33</td>\n",
       "      <td>высшее</td>\n",
       "      <td>0</td>\n",
       "      <td>гражданский брак</td>\n",
       "      <td>1</td>\n",
       "      <td>M</td>\n",
       "      <td>сотрудник</td>\n",
       "      <td>0</td>\n",
       "      <td>90410.586745</td>\n",
       "      <td>строительство недвижимости</td>\n",
       "    </tr>\n",
       "    <tr>\n",
       "      <th>18</th>\n",
       "      <td>0</td>\n",
       "      <td>400281.136913</td>\n",
       "      <td>53</td>\n",
       "      <td>среднее</td>\n",
       "      <td>1</td>\n",
       "      <td>вдовец / вдова</td>\n",
       "      <td>2</td>\n",
       "      <td>F</td>\n",
       "      <td>пенсионер</td>\n",
       "      <td>0</td>\n",
       "      <td>56823.777243</td>\n",
       "      <td>на покупку подержанного автомобиля</td>\n",
       "    </tr>\n",
       "    <tr>\n",
       "      <th>19</th>\n",
       "      <td>0</td>\n",
       "      <td>-10038.818549</td>\n",
       "      <td>48</td>\n",
       "      <td>СРЕДНЕЕ</td>\n",
       "      <td>1</td>\n",
       "      <td>в разводе</td>\n",
       "      <td>3</td>\n",
       "      <td>F</td>\n",
       "      <td>сотрудник</td>\n",
       "      <td>0</td>\n",
       "      <td>242831.107982</td>\n",
       "      <td>на покупку своего автомобиля</td>\n",
       "    </tr>\n",
       "  </tbody>\n",
       "</table>\n",
       "</div>"
      ],
      "text/plain": [
       "    children  days_employed  dob_years            education  education_id  \\\n",
       "0          1   -8437.673028         42               высшее             0   \n",
       "1          1   -4024.803754         36              среднее             1   \n",
       "2          0   -5623.422610         33              Среднее             1   \n",
       "3          3   -4124.747207         32              среднее             1   \n",
       "4          0  340266.072047         53              среднее             1   \n",
       "5          0    -926.185831         27               высшее             0   \n",
       "6          0   -2879.202052         43               высшее             0   \n",
       "7          0    -152.779569         50              СРЕДНЕЕ             1   \n",
       "8          2   -6929.865299         35               ВЫСШЕЕ             0   \n",
       "9          0   -2188.756445         41              среднее             1   \n",
       "10         2   -4171.483647         36               высшее             0   \n",
       "11         0    -792.701887         40              среднее             1   \n",
       "12         0            NaN         65              среднее             1   \n",
       "13         0   -1846.641941         54  неоконченное высшее             2   \n",
       "14         0   -1844.956182         56               высшее             0   \n",
       "15         1    -972.364419         26              среднее             1   \n",
       "16         0   -1719.934226         35              среднее             1   \n",
       "17         0   -2369.999720         33               высшее             0   \n",
       "18         0  400281.136913         53              среднее             1   \n",
       "19         0  -10038.818549         48              СРЕДНЕЕ             1   \n",
       "\n",
       "       family_status  family_status_id gender income_type  debt  \\\n",
       "0    женат / замужем                 0      F   сотрудник     0   \n",
       "1    женат / замужем                 0      F   сотрудник     0   \n",
       "2    женат / замужем                 0      M   сотрудник     0   \n",
       "3    женат / замужем                 0      M   сотрудник     0   \n",
       "4   гражданский брак                 1      F   пенсионер     0   \n",
       "5   гражданский брак                 1      M   компаньон     0   \n",
       "6    женат / замужем                 0      F   компаньон     0   \n",
       "7    женат / замужем                 0      M   сотрудник     0   \n",
       "8   гражданский брак                 1      F   сотрудник     0   \n",
       "9    женат / замужем                 0      M   сотрудник     0   \n",
       "10   женат / замужем                 0      M   компаньон     0   \n",
       "11   женат / замужем                 0      F   сотрудник     0   \n",
       "12  гражданский брак                 1      M   пенсионер     0   \n",
       "13   женат / замужем                 0      F   сотрудник     0   \n",
       "14  гражданский брак                 1      F   компаньон     1   \n",
       "15   женат / замужем                 0      F   сотрудник     0   \n",
       "16   женат / замужем                 0      F   сотрудник     0   \n",
       "17  гражданский брак                 1      M   сотрудник     0   \n",
       "18    вдовец / вдова                 2      F   пенсионер     0   \n",
       "19         в разводе                 3      F   сотрудник     0   \n",
       "\n",
       "     total_income                                 purpose  \n",
       "0   253875.639453                           покупка жилья  \n",
       "1   112080.014102                 приобретение автомобиля  \n",
       "2   145885.952297                           покупка жилья  \n",
       "3   267628.550329              дополнительное образование  \n",
       "4   158616.077870                         сыграть свадьбу  \n",
       "5   255763.565419                           покупка жилья  \n",
       "6   240525.971920                       операции с жильем  \n",
       "7   135823.934197                             образование  \n",
       "8    95856.832424                   на проведение свадьбы  \n",
       "9   144425.938277                 покупка жилья для семьи  \n",
       "10  113943.491460                    покупка недвижимости  \n",
       "11   77069.234271       покупка коммерческой недвижимости  \n",
       "12            NaN                         сыграть свадьбу  \n",
       "13  130458.228857                 приобретение автомобиля  \n",
       "14  165127.911772              покупка жилой недвижимости  \n",
       "15  116820.904450  строительство собственной недвижимости  \n",
       "16  289202.704229                            недвижимость  \n",
       "17   90410.586745              строительство недвижимости  \n",
       "18   56823.777243      на покупку подержанного автомобиля  \n",
       "19  242831.107982            на покупку своего автомобиля  "
      ]
     },
     "execution_count": 2,
     "metadata": {},
     "output_type": "execute_result"
    }
   ],
   "source": [
    "data.head(20)"
   ]
  },
  {
   "cell_type": "markdown",
   "id": "49178072",
   "metadata": {
    "deletable": false,
    "editable": false,
    "id": "1c12e233"
   },
   "source": [
    "**Задание 3. Выведите основную информацию о датафрейме с помощью метода `info()`.**"
   ]
  },
  {
   "cell_type": "code",
   "execution_count": 3,
   "id": "8baca491",
   "metadata": {
    "deletable": false,
    "id": "2b757bca",
    "outputId": "15376089-8dad-46c9-b520-c05248d43158"
   },
   "outputs": [
    {
     "name": "stdout",
     "output_type": "stream",
     "text": [
      "<class 'pandas.core.frame.DataFrame'>\n",
      "RangeIndex: 21525 entries, 0 to 21524\n",
      "Data columns (total 12 columns):\n",
      " #   Column            Non-Null Count  Dtype  \n",
      "---  ------            --------------  -----  \n",
      " 0   children          21525 non-null  int64  \n",
      " 1   days_employed     19351 non-null  float64\n",
      " 2   dob_years         21525 non-null  int64  \n",
      " 3   education         21525 non-null  object \n",
      " 4   education_id      21525 non-null  int64  \n",
      " 5   family_status     21525 non-null  object \n",
      " 6   family_status_id  21525 non-null  int64  \n",
      " 7   gender            21525 non-null  object \n",
      " 8   income_type       21525 non-null  object \n",
      " 9   debt              21525 non-null  int64  \n",
      " 10  total_income      19351 non-null  float64\n",
      " 11  purpose           21525 non-null  object \n",
      "dtypes: float64(2), int64(5), object(5)\n",
      "memory usage: 2.0+ MB\n"
     ]
    }
   ],
   "source": [
    "data.info()"
   ]
  },
  {
   "cell_type": "markdown",
   "id": "96829c7d",
   "metadata": {
    "deletable": false,
    "editable": false,
    "id": "333ec665"
   },
   "source": [
    "## Предобработка данных"
   ]
  },
  {
   "cell_type": "markdown",
   "id": "0cb8a9da",
   "metadata": {
    "deletable": false,
    "editable": false,
    "id": "02d92d53"
   },
   "source": [
    "### Удаление пропусков"
   ]
  },
  {
   "cell_type": "markdown",
   "id": "a5a7c607",
   "metadata": {
    "deletable": false,
    "editable": false,
    "id": "cd84967c"
   },
   "source": [
    "**Задание 4. Выведите количество пропущенных значений для каждого столбца. Используйте комбинацию двух методов.**"
   ]
  },
  {
   "cell_type": "code",
   "execution_count": 4,
   "id": "170efeca",
   "metadata": {
    "deletable": false,
    "id": "7f9b2309",
    "outputId": "81f4d817-781c-465c-ed15-91ce4446810d"
   },
   "outputs": [
    {
     "data": {
      "text/plain": [
       "children               0\n",
       "days_employed       2174\n",
       "dob_years              0\n",
       "education              0\n",
       "education_id           0\n",
       "family_status          0\n",
       "family_status_id       0\n",
       "gender                 0\n",
       "income_type            0\n",
       "debt                   0\n",
       "total_income        2174\n",
       "purpose                0\n",
       "dtype: int64"
      ]
     },
     "execution_count": 4,
     "metadata": {},
     "output_type": "execute_result"
    }
   ],
   "source": [
    "data.isna().sum()"
   ]
  },
  {
   "cell_type": "markdown",
   "id": "f3c912ad",
   "metadata": {
    "deletable": false,
    "editable": false,
    "id": "db86e27b"
   },
   "source": [
    "**Задание 5. В двух столбцах есть пропущенные значения. Один из них — `days_employed`. Пропуски в этом столбце вы обработаете на следующем этапе. Другой столбец с пропущенными значениями — `total_income` — хранит данные о доходах. На сумму дохода сильнее всего влияет тип занятости, поэтому заполнить пропуски в этом столбце нужно медианным значением по каждому типу из столбца `income_type`. Например, у человека с типом занятости `сотрудник` пропуск в столбце `total_income` должен быть заполнен медианным доходом среди всех записей с тем же типом.**"
   ]
  },
  {
   "cell_type": "code",
   "execution_count": 5,
   "id": "1683dc31",
   "metadata": {
    "deletable": false,
    "id": "42006a93"
   },
   "outputs": [],
   "source": [
    "for t in data['income_type'].unique():\n",
    "    data.loc[(data['income_type'] == t) & (data['total_income'].isna()), 'total_income'] = \\\n",
    "    data.loc[(data['income_type'] == t), 'total_income'].median()"
   ]
  },
  {
   "cell_type": "markdown",
   "id": "8172b774",
   "metadata": {
    "deletable": false,
    "editable": false,
    "id": "89da5ece"
   },
   "source": [
    "### Обработка аномальных значений"
   ]
  },
  {
   "cell_type": "markdown",
   "id": "bbb39798",
   "metadata": {
    "deletable": false,
    "editable": false,
    "id": "57964554"
   },
   "source": [
    "**Задание 6. В данных могут встречаться артефакты (аномалии) — значения, которые не отражают действительность и появились по какой-то ошибке. таким артефактом будет отрицательное количество дней трудового стажа в столбце `days_employed`. Для реальных данных это нормально. Обработайте значения в этом столбце: замените все отрицательные значения положительными с помощью метода `abs()`.**"
   ]
  },
  {
   "cell_type": "code",
   "execution_count": 6,
   "id": "708d7beb",
   "metadata": {
    "deletable": false,
    "id": "f6f055bf"
   },
   "outputs": [],
   "source": [
    "data['days_employed'] = data['days_employed'].abs()"
   ]
  },
  {
   "cell_type": "markdown",
   "id": "7c5a59b8",
   "metadata": {
    "deletable": false,
    "editable": false,
    "id": "6107dd2f"
   },
   "source": [
    "**Задание 7. Для каждого типа занятости выведите медианное значение трудового стажа `days_employed` в днях.**"
   ]
  },
  {
   "cell_type": "code",
   "execution_count": 7,
   "id": "073d27ba",
   "metadata": {
    "deletable": false,
    "id": "85a5faf6",
    "outputId": "801ef80e-522b-4668-f34e-565af7432bcf"
   },
   "outputs": [
    {
     "data": {
      "text/plain": [
       "income_type\n",
       "безработный        366413.652744\n",
       "в декрете            3296.759962\n",
       "госслужащий          2689.368353\n",
       "компаньон            1547.382223\n",
       "пенсионер          365213.306266\n",
       "предприниматель       520.848083\n",
       "сотрудник            1574.202821\n",
       "студент               578.751554\n",
       "Name: days_employed, dtype: float64"
      ]
     },
     "execution_count": 7,
     "metadata": {},
     "output_type": "execute_result"
    }
   ],
   "source": [
    "data.groupby('income_type')['days_employed'].agg('median')"
   ]
  },
  {
   "cell_type": "markdown",
   "id": "16ac8978",
   "metadata": {
    "deletable": false,
    "editable": false,
    "id": "38d1a030"
   },
   "source": [
    "У двух типов (безработные и пенсионеры) получатся аномально большие значения. Исправить такие значения сложно, поэтому оставьте их как есть. Тем более этот столбец не понадобится вам для исследования."
   ]
  },
  {
   "cell_type": "markdown",
   "id": "beb728d0",
   "metadata": {
    "deletable": false,
    "editable": false,
    "id": "d8a9f147"
   },
   "source": [
    "**Задание 8. Выведите перечень уникальных значений столбца `children`.**"
   ]
  },
  {
   "cell_type": "code",
   "execution_count": 8,
   "id": "c4d09120",
   "metadata": {
    "deletable": false,
    "id": "ef5056eb",
    "outputId": "6975b15c-7f95-4697-d16d-a0c79b657b03"
   },
   "outputs": [
    {
     "data": {
      "text/plain": [
       "array([ 1,  0,  3,  2, -1,  4, 20,  5], dtype=int64)"
      ]
     },
     "execution_count": 8,
     "metadata": {},
     "output_type": "execute_result"
    }
   ],
   "source": [
    "data['children'].unique()"
   ]
  },
  {
   "cell_type": "markdown",
   "id": "f0b00578",
   "metadata": {
    "deletable": false,
    "editable": false,
    "id": "40b9ebf2"
   },
   "source": [
    "**Задание 9. В столбце `children` есть два аномальных значения. Удалите строки, в которых встречаются такие аномальные значения из датафрейма `data`.**"
   ]
  },
  {
   "cell_type": "code",
   "execution_count": 9,
   "id": "0c87395c",
   "metadata": {
    "deletable": false,
    "id": "3ff9801d"
   },
   "outputs": [],
   "source": [
    "data = data[(data['children'] != -1) & (data['children'] != 20)]"
   ]
  },
  {
   "cell_type": "markdown",
   "id": "d4b47f8e",
   "metadata": {
    "deletable": false,
    "editable": false,
    "id": "bbc4d0ce"
   },
   "source": [
    "**Задание 10. Ещё раз выведите перечень уникальных значений столбца `children`, чтобы убедиться, что артефакты удалены.**"
   ]
  },
  {
   "cell_type": "code",
   "execution_count": 10,
   "id": "1130a5d7",
   "metadata": {
    "deletable": false,
    "id": "ad4fa8b7",
    "outputId": "b2097101-d49d-44d9-901b-32a65c9463d1"
   },
   "outputs": [
    {
     "data": {
      "text/plain": [
       "array([1, 0, 3, 2, 4, 5], dtype=int64)"
      ]
     },
     "execution_count": 10,
     "metadata": {},
     "output_type": "execute_result"
    }
   ],
   "source": [
    "data['children'].unique()"
   ]
  },
  {
   "cell_type": "markdown",
   "id": "32df8302",
   "metadata": {
    "deletable": false,
    "editable": false,
    "id": "75440b63"
   },
   "source": [
    "### Удаление пропусков (продолжение)"
   ]
  },
  {
   "cell_type": "markdown",
   "id": "4b574118",
   "metadata": {
    "deletable": false,
    "editable": false,
    "id": "f4ea573f"
   },
   "source": [
    "**Задание 11. Заполните пропуски в столбце `days_employed` медианными значениями по каждого типа занятости `income_type`.**"
   ]
  },
  {
   "cell_type": "code",
   "execution_count": 11,
   "id": "696da20d",
   "metadata": {
    "deletable": false,
    "id": "af6b1a7e"
   },
   "outputs": [],
   "source": [
    "for t in data['income_type'].unique():\n",
    "    data.loc[(data['income_type'] == t) & (data['days_employed'].isna()), 'days_employed'] = \\\n",
    "    data.loc[(data['income_type'] == t), 'days_employed'].median()"
   ]
  },
  {
   "cell_type": "markdown",
   "id": "46a2ee71",
   "metadata": {
    "deletable": false,
    "editable": false,
    "id": "2753f40d"
   },
   "source": [
    "**Задание 12. Убедитесь, что все пропуски заполнены. Проверьте себя и ещё раз выведите количество пропущенных значений для каждого столбца с помощью двух методов.**"
   ]
  },
  {
   "cell_type": "code",
   "execution_count": 12,
   "id": "b1e623a5",
   "metadata": {
    "deletable": false,
    "id": "55f78bc2",
    "outputId": "8da1e4e1-358e-4e87-98c9-f261bce0a7b2"
   },
   "outputs": [
    {
     "data": {
      "text/plain": [
       "children            0\n",
       "days_employed       0\n",
       "dob_years           0\n",
       "education           0\n",
       "education_id        0\n",
       "family_status       0\n",
       "family_status_id    0\n",
       "gender              0\n",
       "income_type         0\n",
       "debt                0\n",
       "total_income        0\n",
       "purpose             0\n",
       "dtype: int64"
      ]
     },
     "execution_count": 12,
     "metadata": {},
     "output_type": "execute_result"
    }
   ],
   "source": [
    "data.isna().sum()"
   ]
  },
  {
   "cell_type": "markdown",
   "id": "034d214a",
   "metadata": {
    "deletable": false,
    "editable": false,
    "id": "ddc81e43"
   },
   "source": [
    "### Изменение типов данных"
   ]
  },
  {
   "cell_type": "markdown",
   "id": "10ca8fd1",
   "metadata": {
    "deletable": false,
    "editable": false,
    "id": "42d19d24"
   },
   "source": [
    "**Задание 13. Замените вещественный тип данных в столбце `total_income` на целочисленный с помощью метода `astype()`.**"
   ]
  },
  {
   "cell_type": "code",
   "execution_count": 13,
   "id": "3ac2fa87",
   "metadata": {
    "deletable": false,
    "id": "920b65ad"
   },
   "outputs": [],
   "source": [
    "data['total_income'] = data['total_income'].astype(int)"
   ]
  },
  {
   "cell_type": "markdown",
   "id": "d326bc2d",
   "metadata": {
    "deletable": false,
    "editable": false,
    "id": "80c420ba"
   },
   "source": [
    "### Обработка дубликатов"
   ]
  },
  {
   "cell_type": "markdown",
   "id": "6bc5c1ce",
   "metadata": {
    "deletable": false,
    "editable": false
   },
   "source": [
    "**Задание 14. Обработайте неявные дубликаты в столбце `education`. В этом столбце есть одни и те же значения, но записанные по-разному: с использованием заглавных и строчных букв. Приведите их к нижнему регистру. Проверьте остальные столбцы.**"
   ]
  },
  {
   "cell_type": "code",
   "execution_count": 14,
   "id": "228c0b07",
   "metadata": {
    "deletable": false
   },
   "outputs": [],
   "source": [
    "data['education'] = data['education'].str.lower()"
   ]
  },
  {
   "cell_type": "markdown",
   "id": "a84bbe8f",
   "metadata": {
    "deletable": false,
    "editable": false,
    "id": "dc587695"
   },
   "source": [
    "**Задание 15. Выведите на экран количество строк-дубликатов в данных. Если такие строки присутствуют, удалите их.**"
   ]
  },
  {
   "cell_type": "code",
   "execution_count": 15,
   "id": "a2d38742",
   "metadata": {
    "deletable": false,
    "id": "3ee445e4",
    "outputId": "9684deba-1934-42d1-99e1-cda61740f822"
   },
   "outputs": [
    {
     "data": {
      "text/plain": [
       "71"
      ]
     },
     "execution_count": 15,
     "metadata": {},
     "output_type": "execute_result"
    }
   ],
   "source": [
    "data.duplicated().sum()"
   ]
  },
  {
   "cell_type": "code",
   "execution_count": 16,
   "id": "4532a87f",
   "metadata": {
    "deletable": false,
    "id": "8575fe05"
   },
   "outputs": [],
   "source": [
    "data = data.drop_duplicates()"
   ]
  },
  {
   "cell_type": "markdown",
   "id": "be39d41e",
   "metadata": {
    "deletable": false,
    "editable": false,
    "id": "9904cf55"
   },
   "source": [
    "### Категоризация данных"
   ]
  },
  {
   "cell_type": "markdown",
   "id": "e159aae7",
   "metadata": {
    "deletable": false,
    "editable": false,
    "id": "72fcc8a2"
   },
   "source": [
    "**Задание 16. На основании диапазонов, указанных ниже, создайте в датафрейме `data` столбец `total_income_category` с категориями:**\n",
    "\n",
    "- 0–30000 — `'E'`;\n",
    "- 30001–50000 — `'D'`;\n",
    "- 50001–200000 — `'C'`;\n",
    "- 200001–1000000 — `'B'`;\n",
    "- 1000001 и выше — `'A'`.\n",
    "\n",
    "\n",
    "**Например, кредитополучателю с доходом 25000 нужно назначить категорию `'E'`, а клиенту, получающему 235000, — `'B'`. Используйте собственную функцию с именем `categorize_income()` и метод `apply()`.**"
   ]
  },
  {
   "cell_type": "code",
   "execution_count": 17,
   "id": "43aee92a",
   "metadata": {
    "deletable": false,
    "id": "e1771346"
   },
   "outputs": [],
   "source": [
    "def categorize_income(income):\n",
    "    try:\n",
    "        if 0 <= income <= 30000:\n",
    "            return 'E'\n",
    "        elif 30001 <= income <= 50000:\n",
    "            return 'D'\n",
    "        elif 50001 <= income <= 200000:\n",
    "            return 'C'\n",
    "        elif 200001 <= income <= 1000000:\n",
    "            return 'B'\n",
    "        elif income >= 1000001:\n",
    "            return 'A'\n",
    "    except:\n",
    "        pass"
   ]
  },
  {
   "cell_type": "code",
   "execution_count": 18,
   "id": "1ea8745a",
   "metadata": {
    "deletable": false,
    "id": "d5f3586d"
   },
   "outputs": [],
   "source": [
    "data['total_income_category'] = data['total_income'].apply(categorize_income)"
   ]
  },
  {
   "cell_type": "markdown",
   "id": "7e071b92",
   "metadata": {
    "deletable": false,
    "editable": false,
    "id": "dde49b5c"
   },
   "source": [
    "**Задание 17. Выведите на экран перечень уникальных целей взятия кредита из столбца `purpose`.**"
   ]
  },
  {
   "cell_type": "code",
   "execution_count": 19,
   "id": "5e68c805",
   "metadata": {
    "deletable": false,
    "id": "f67ce9b3",
    "outputId": "673c12d9-7d7e-4ae0-9812-c622c89dd244"
   },
   "outputs": [
    {
     "data": {
      "text/plain": [
       "array(['покупка жилья', 'приобретение автомобиля',\n",
       "       'дополнительное образование', 'сыграть свадьбу',\n",
       "       'операции с жильем', 'образование', 'на проведение свадьбы',\n",
       "       'покупка жилья для семьи', 'покупка недвижимости',\n",
       "       'покупка коммерческой недвижимости', 'покупка жилой недвижимости',\n",
       "       'строительство собственной недвижимости', 'недвижимость',\n",
       "       'строительство недвижимости', 'на покупку подержанного автомобиля',\n",
       "       'на покупку своего автомобиля',\n",
       "       'операции с коммерческой недвижимостью',\n",
       "       'строительство жилой недвижимости', 'жилье',\n",
       "       'операции со своей недвижимостью', 'автомобили',\n",
       "       'заняться образованием', 'сделка с подержанным автомобилем',\n",
       "       'получение образования', 'автомобиль', 'свадьба',\n",
       "       'получение дополнительного образования', 'покупка своего жилья',\n",
       "       'операции с недвижимостью', 'получение высшего образования',\n",
       "       'свой автомобиль', 'сделка с автомобилем',\n",
       "       'профильное образование', 'высшее образование',\n",
       "       'покупка жилья для сдачи', 'на покупку автомобиля', 'ремонт жилью',\n",
       "       'заняться высшим образованием'], dtype=object)"
      ]
     },
     "execution_count": 19,
     "metadata": {},
     "output_type": "execute_result"
    }
   ],
   "source": [
    "data['purpose'].unique()"
   ]
  },
  {
   "cell_type": "markdown",
   "id": "61b5868f",
   "metadata": {
    "deletable": false,
    "editable": false,
    "id": "85d0aef0"
   },
   "source": [
    "**Задание 18. Создайте функцию, которая на основании данных из столбца `purpose` сформирует новый столбец `purpose_category`, в который войдут следующие категории:**\n",
    "\n",
    "- `'операции с автомобилем'`,\n",
    "- `'операции с недвижимостью'`,\n",
    "- `'проведение свадьбы'`,\n",
    "- `'получение образования'`.\n",
    "\n",
    "**Например, если в столбце `purpose` находится подстрока `'на покупку автомобиля'`, то в столбце `purpose_category` должна появиться строка `'операции с автомобилем'`.**\n",
    "\n",
    "**Используйте собственную функцию с именем `categorize_purpose()` и метод `apply()`. Изучите данные в столбце `purpose` и определите, какие подстроки помогут вам правильно определить категорию.**"
   ]
  },
  {
   "cell_type": "code",
   "execution_count": 20,
   "id": "4d7fbfbe",
   "metadata": {
    "deletable": false,
    "id": "e149fab4"
   },
   "outputs": [],
   "source": [
    "def categorize_purpose(row):\n",
    "    try:\n",
    "        if 'автом' in row:\n",
    "            return 'операции с автомобилем'\n",
    "        elif 'жил' in row or 'недвиж' in row:\n",
    "            return 'операции с недвижимостью'\n",
    "        elif 'свад' in row:\n",
    "            return 'проведение свадьбы'\n",
    "        elif 'образов' in row:\n",
    "            return 'получение образования'\n",
    "    except:\n",
    "        return 'нет категории'"
   ]
  },
  {
   "cell_type": "code",
   "execution_count": 21,
   "id": "6c230c34",
   "metadata": {
    "deletable": false,
    "id": "bf36e69b"
   },
   "outputs": [],
   "source": [
    "data['purpose_category'] = data['purpose'].apply(categorize_purpose)"
   ]
  },
  {
   "cell_type": "markdown",
   "id": "a1cd9bab",
   "metadata": {
    "deletable": false,
    "editable": false,
    "id": "09b242bf"
   },
   "source": [
    "### Шаг 3. Исследуйте данные и ответьте на вопросы"
   ]
  },
  {
   "cell_type": "markdown",
   "id": "e6d1b703",
   "metadata": {
    "deletable": false,
    "editable": false,
    "id": "c5d66278"
   },
   "source": [
    "#### 3.1 Есть ли зависимость между количеством детей и возвратом кредита в срок?"
   ]
  },
  {
   "cell_type": "code",
   "execution_count": 22,
   "id": "df957562",
   "metadata": {
    "deletable": false,
    "id": "2cacfc4a",
    "scrolled": true
   },
   "outputs": [
    {
     "data": {
      "text/html": [
       "<style type=\"text/css\">\n",
       "</style>\n",
       "<table id=\"T_4852a\">\n",
       "  <thead>\n",
       "    <tr>\n",
       "      <th class=\"blank level0\" >&nbsp;</th>\n",
       "      <th id=\"T_4852a_level0_col0\" class=\"col_heading level0 col0\" colspan=\"3\">debt</th>\n",
       "    </tr>\n",
       "    <tr>\n",
       "      <th class=\"blank level1\" >&nbsp;</th>\n",
       "      <th id=\"T_4852a_level1_col0\" class=\"col_heading level1 col0\" >count</th>\n",
       "      <th id=\"T_4852a_level1_col1\" class=\"col_heading level1 col1\" >mean</th>\n",
       "      <th id=\"T_4852a_level1_col2\" class=\"col_heading level1 col2\" >sum</th>\n",
       "    </tr>\n",
       "    <tr>\n",
       "      <th class=\"index_name level0\" >children</th>\n",
       "      <th class=\"blank col0\" >&nbsp;</th>\n",
       "      <th class=\"blank col1\" >&nbsp;</th>\n",
       "      <th class=\"blank col2\" >&nbsp;</th>\n",
       "    </tr>\n",
       "  </thead>\n",
       "  <tbody>\n",
       "    <tr>\n",
       "      <th id=\"T_4852a_level0_row0\" class=\"row_heading level0 row0\" >0</th>\n",
       "      <td id=\"T_4852a_row0_col0\" class=\"data row0 col0\" >14091</td>\n",
       "      <td id=\"T_4852a_row0_col1\" class=\"data row0 col1\" >7.54%</td>\n",
       "      <td id=\"T_4852a_row0_col2\" class=\"data row0 col2\" >1063</td>\n",
       "    </tr>\n",
       "    <tr>\n",
       "      <th id=\"T_4852a_level0_row1\" class=\"row_heading level0 row1\" >1</th>\n",
       "      <td id=\"T_4852a_row1_col0\" class=\"data row1 col0\" >4808</td>\n",
       "      <td id=\"T_4852a_row1_col1\" class=\"data row1 col1\" >9.23%</td>\n",
       "      <td id=\"T_4852a_row1_col2\" class=\"data row1 col2\" >444</td>\n",
       "    </tr>\n",
       "    <tr>\n",
       "      <th id=\"T_4852a_level0_row2\" class=\"row_heading level0 row2\" >2</th>\n",
       "      <td id=\"T_4852a_row2_col0\" class=\"data row2 col0\" >2052</td>\n",
       "      <td id=\"T_4852a_row2_col1\" class=\"data row2 col1\" >9.45%</td>\n",
       "      <td id=\"T_4852a_row2_col2\" class=\"data row2 col2\" >194</td>\n",
       "    </tr>\n",
       "    <tr>\n",
       "      <th id=\"T_4852a_level0_row3\" class=\"row_heading level0 row3\" >3</th>\n",
       "      <td id=\"T_4852a_row3_col0\" class=\"data row3 col0\" >330</td>\n",
       "      <td id=\"T_4852a_row3_col1\" class=\"data row3 col1\" >8.18%</td>\n",
       "      <td id=\"T_4852a_row3_col2\" class=\"data row3 col2\" >27</td>\n",
       "    </tr>\n",
       "    <tr>\n",
       "      <th id=\"T_4852a_level0_row4\" class=\"row_heading level0 row4\" >4</th>\n",
       "      <td id=\"T_4852a_row4_col0\" class=\"data row4 col0\" >41</td>\n",
       "      <td id=\"T_4852a_row4_col1\" class=\"data row4 col1\" >9.76%</td>\n",
       "      <td id=\"T_4852a_row4_col2\" class=\"data row4 col2\" >4</td>\n",
       "    </tr>\n",
       "    <tr>\n",
       "      <th id=\"T_4852a_level0_row5\" class=\"row_heading level0 row5\" >5</th>\n",
       "      <td id=\"T_4852a_row5_col0\" class=\"data row5 col0\" >9</td>\n",
       "      <td id=\"T_4852a_row5_col1\" class=\"data row5 col1\" >0.00%</td>\n",
       "      <td id=\"T_4852a_row5_col2\" class=\"data row5 col2\" >0</td>\n",
       "    </tr>\n",
       "  </tbody>\n",
       "</table>\n"
      ],
      "text/plain": [
       "<pandas.io.formats.style.Styler at 0x15b22cc7400>"
      ]
     },
     "execution_count": 22,
     "metadata": {},
     "output_type": "execute_result"
    }
   ],
   "source": [
    "# Построим сводную таблицу, отражающую зависимость между кол-вом детей и возвратом кредита в срок\n",
    "data_pivot_children = data.pivot_table(index='children', values=['debt'], aggfunc= {'debt': ['sum', 'count', 'mean']})\n",
    "# В столбце 'sum' показано кол-во, имеющих задолженности по кредитам в каждой группе\n",
    "# В столбце 'count' показано общее кол-во кредитов в каждой группе \n",
    "# В столбце 'mean' показано доля с задолженностями по кредитам от общего кол-ва кредитов в зависимости от кол-ва детей\n",
    "data_pivot_children.style.format({('debt', 'mean'):'{:0.2%}',\n",
    "                    ('debt', 'sum'):'{:.0f}',\n",
    "                    ('debt', 'count'):'{:.0f}'})"
   ]
  },
  {
   "cell_type": "markdown",
   "id": "ca8e421d",
   "metadata": {
    "deletable": false,
    "id": "3a6b99ec"
   },
   "source": [
    "**Вывод:** Когда кол-во детей = 0, то вероятность возникновения задолженности самая низкая (7.54%) в сравнении с другими группами. Стоит отметить, что когда кол-во детей = 3, то задолженность возникает примерно на том же уровне (8.18%). В остальных же группах вероятность просрочки выше. Но если анализизировать разницу между всеми группами, то можно заметить, что разница не такая большая."
   ]
  },
  {
   "cell_type": "markdown",
   "id": "1cba2b49",
   "metadata": {
    "deletable": false,
    "editable": false,
    "id": "97be82ca"
   },
   "source": [
    "#### 3.2 Есть ли зависимость между семейным положением и возвратом кредита в срок?"
   ]
  },
  {
   "cell_type": "code",
   "execution_count": 23,
   "id": "8af2d6df",
   "metadata": {
    "deletable": false,
    "id": "dc3f7ee8"
   },
   "outputs": [
    {
     "data": {
      "text/html": [
       "<style type=\"text/css\">\n",
       "</style>\n",
       "<table id=\"T_b679f\">\n",
       "  <thead>\n",
       "    <tr>\n",
       "      <th class=\"blank level0\" >&nbsp;</th>\n",
       "      <th id=\"T_b679f_level0_col0\" class=\"col_heading level0 col0\" colspan=\"3\">debt</th>\n",
       "    </tr>\n",
       "    <tr>\n",
       "      <th class=\"blank level1\" >&nbsp;</th>\n",
       "      <th id=\"T_b679f_level1_col0\" class=\"col_heading level1 col0\" >count</th>\n",
       "      <th id=\"T_b679f_level1_col1\" class=\"col_heading level1 col1\" >mean</th>\n",
       "      <th id=\"T_b679f_level1_col2\" class=\"col_heading level1 col2\" >sum</th>\n",
       "    </tr>\n",
       "    <tr>\n",
       "      <th class=\"index_name level0\" >family_status</th>\n",
       "      <th class=\"blank col0\" >&nbsp;</th>\n",
       "      <th class=\"blank col1\" >&nbsp;</th>\n",
       "      <th class=\"blank col2\" >&nbsp;</th>\n",
       "    </tr>\n",
       "  </thead>\n",
       "  <tbody>\n",
       "    <tr>\n",
       "      <th id=\"T_b679f_level0_row0\" class=\"row_heading level0 row0\" >Не женат / не замужем</th>\n",
       "      <td id=\"T_b679f_row0_col0\" class=\"data row0 col0\" >2796</td>\n",
       "      <td id=\"T_b679f_row0_col1\" class=\"data row0 col1\" >9.76%</td>\n",
       "      <td id=\"T_b679f_row0_col2\" class=\"data row0 col2\" >273</td>\n",
       "    </tr>\n",
       "    <tr>\n",
       "      <th id=\"T_b679f_level0_row1\" class=\"row_heading level0 row1\" >в разводе</th>\n",
       "      <td id=\"T_b679f_row1_col0\" class=\"data row1 col0\" >1189</td>\n",
       "      <td id=\"T_b679f_row1_col1\" class=\"data row1 col1\" >7.06%</td>\n",
       "      <td id=\"T_b679f_row1_col2\" class=\"data row1 col2\" >84</td>\n",
       "    </tr>\n",
       "    <tr>\n",
       "      <th id=\"T_b679f_level0_row2\" class=\"row_heading level0 row2\" >вдовец / вдова</th>\n",
       "      <td id=\"T_b679f_row2_col0\" class=\"data row2 col0\" >951</td>\n",
       "      <td id=\"T_b679f_row2_col1\" class=\"data row2 col1\" >6.62%</td>\n",
       "      <td id=\"T_b679f_row2_col2\" class=\"data row2 col2\" >63</td>\n",
       "    </tr>\n",
       "    <tr>\n",
       "      <th id=\"T_b679f_level0_row3\" class=\"row_heading level0 row3\" >гражданский брак</th>\n",
       "      <td id=\"T_b679f_row3_col0\" class=\"data row3 col0\" >4134</td>\n",
       "      <td id=\"T_b679f_row3_col1\" class=\"data row3 col1\" >9.31%</td>\n",
       "      <td id=\"T_b679f_row3_col2\" class=\"data row3 col2\" >385</td>\n",
       "    </tr>\n",
       "    <tr>\n",
       "      <th id=\"T_b679f_level0_row4\" class=\"row_heading level0 row4\" >женат / замужем</th>\n",
       "      <td id=\"T_b679f_row4_col0\" class=\"data row4 col0\" >12261</td>\n",
       "      <td id=\"T_b679f_row4_col1\" class=\"data row4 col1\" >7.56%</td>\n",
       "      <td id=\"T_b679f_row4_col2\" class=\"data row4 col2\" >927</td>\n",
       "    </tr>\n",
       "  </tbody>\n",
       "</table>\n"
      ],
      "text/plain": [
       "<pandas.io.formats.style.Styler at 0x15b24eada60>"
      ]
     },
     "execution_count": 23,
     "metadata": {},
     "output_type": "execute_result"
    }
   ],
   "source": [
    "# Построим сводную таблицу, отражающую зависимость между семейным положением и возвратом кредита в срок\n",
    "data_pivot_family_status = data.pivot_table(index='family_status', values=['debt'], aggfunc= {'debt': ['sum', 'count', 'mean']})\n",
    "# В столбце 'sum' показано кол-во, имеющих задолженности по кредитам в каждой группе\n",
    "# В столбце 'count' показано общее кол-во кредитов в каждой группе \n",
    "# В столбце 'mean' показано доля с задолженностями по кредитам от общего кол-ва кредитов в зависимости от семейного положения\n",
    "data_pivot_family_status.style.format({('debt', 'mean'):'{:0.2%}',\n",
    "                    ('debt', 'sum'):'{:.0f}',\n",
    "                    ('debt', 'count'):'{:.0f}'})\n"
   ]
  },
  {
   "cell_type": "markdown",
   "id": "71bce789",
   "metadata": {
    "deletable": false,
    "id": "1cef7837"
   },
   "source": [
    "**Вывод:** Проанализировав данные, можно сделать вывод, что наименьший риск просрочки кредита имеют группы: вдовец/вдова (6.62%), в разводе(7.06%) и женат/замужем(7.56%). Возможно, что люди, которые состоят в данных группах берут кредит более осознанно с правильным распределением своих доходов.\n",
    "Оставшиеся же две группы имеют наивысший риск просрочки кредита: гражданский брак (9.31%) и не женат/не замужем (9.76%)."
   ]
  },
  {
   "cell_type": "markdown",
   "id": "d1ac4ff1",
   "metadata": {
    "deletable": false,
    "editable": false,
    "id": "1e8b2fca"
   },
   "source": [
    "#### 3.3 Есть ли зависимость между уровнем дохода и возвратом кредита в срок?"
   ]
  },
  {
   "cell_type": "code",
   "execution_count": 24,
   "id": "6b7a4111",
   "metadata": {
    "deletable": false,
    "id": "cd7e3720",
    "scrolled": true
   },
   "outputs": [
    {
     "data": {
      "text/html": [
       "<style type=\"text/css\">\n",
       "</style>\n",
       "<table id=\"T_d269d\">\n",
       "  <thead>\n",
       "    <tr>\n",
       "      <th class=\"blank level0\" >&nbsp;</th>\n",
       "      <th id=\"T_d269d_level0_col0\" class=\"col_heading level0 col0\" colspan=\"3\">debt</th>\n",
       "    </tr>\n",
       "    <tr>\n",
       "      <th class=\"blank level1\" >&nbsp;</th>\n",
       "      <th id=\"T_d269d_level1_col0\" class=\"col_heading level1 col0\" >count</th>\n",
       "      <th id=\"T_d269d_level1_col1\" class=\"col_heading level1 col1\" >mean</th>\n",
       "      <th id=\"T_d269d_level1_col2\" class=\"col_heading level1 col2\" >sum</th>\n",
       "    </tr>\n",
       "    <tr>\n",
       "      <th class=\"index_name level0\" >total_income_category</th>\n",
       "      <th class=\"blank col0\" >&nbsp;</th>\n",
       "      <th class=\"blank col1\" >&nbsp;</th>\n",
       "      <th class=\"blank col2\" >&nbsp;</th>\n",
       "    </tr>\n",
       "  </thead>\n",
       "  <tbody>\n",
       "    <tr>\n",
       "      <th id=\"T_d269d_level0_row0\" class=\"row_heading level0 row0\" >A</th>\n",
       "      <td id=\"T_d269d_row0_col0\" class=\"data row0 col0\" >25</td>\n",
       "      <td id=\"T_d269d_row0_col1\" class=\"data row0 col1\" >8.00%</td>\n",
       "      <td id=\"T_d269d_row0_col2\" class=\"data row0 col2\" >2</td>\n",
       "    </tr>\n",
       "    <tr>\n",
       "      <th id=\"T_d269d_level0_row1\" class=\"row_heading level0 row1\" >B</th>\n",
       "      <td id=\"T_d269d_row1_col0\" class=\"data row1 col0\" >5014</td>\n",
       "      <td id=\"T_d269d_row1_col1\" class=\"data row1 col1\" >7.06%</td>\n",
       "      <td id=\"T_d269d_row1_col2\" class=\"data row1 col2\" >354</td>\n",
       "    </tr>\n",
       "    <tr>\n",
       "      <th id=\"T_d269d_level0_row2\" class=\"row_heading level0 row2\" >C</th>\n",
       "      <td id=\"T_d269d_row2_col0\" class=\"data row2 col0\" >15921</td>\n",
       "      <td id=\"T_d269d_row2_col1\" class=\"data row2 col1\" >8.50%</td>\n",
       "      <td id=\"T_d269d_row2_col2\" class=\"data row2 col2\" >1353</td>\n",
       "    </tr>\n",
       "    <tr>\n",
       "      <th id=\"T_d269d_level0_row3\" class=\"row_heading level0 row3\" >D</th>\n",
       "      <td id=\"T_d269d_row3_col0\" class=\"data row3 col0\" >349</td>\n",
       "      <td id=\"T_d269d_row3_col1\" class=\"data row3 col1\" >6.02%</td>\n",
       "      <td id=\"T_d269d_row3_col2\" class=\"data row3 col2\" >21</td>\n",
       "    </tr>\n",
       "    <tr>\n",
       "      <th id=\"T_d269d_level0_row4\" class=\"row_heading level0 row4\" >E</th>\n",
       "      <td id=\"T_d269d_row4_col0\" class=\"data row4 col0\" >22</td>\n",
       "      <td id=\"T_d269d_row4_col1\" class=\"data row4 col1\" >9.09%</td>\n",
       "      <td id=\"T_d269d_row4_col2\" class=\"data row4 col2\" >2</td>\n",
       "    </tr>\n",
       "  </tbody>\n",
       "</table>\n"
      ],
      "text/plain": [
       "<pandas.io.formats.style.Styler at 0x15b24ecf8b0>"
      ]
     },
     "execution_count": 24,
     "metadata": {},
     "output_type": "execute_result"
    }
   ],
   "source": [
    "# Построим сводную таблицу, отражающую зависимость между уровнем дохода и возвратом кредита в срок\n",
    "data_pivot_total_income = data.pivot_table(index='total_income_category', values=['debt'], aggfunc= {'debt': ['sum', 'count', 'mean']})\n",
    "# В столбце 'sum' показано кол-во, имеющих задолженности по кредитам в каждой группе\n",
    "# В столбце 'count' показано общее кол-во кредитов в каждой группе \n",
    "# В столбце 'mean' показано доля  с задолженностями по кредитам от общего кол-ва кредитов в зависимости от уровня дохода\n",
    "data_pivot_total_income.style.format({('debt', 'mean'):'{:0.2%}',\n",
    "                    ('debt', 'sum'):'{:.0f}',\n",
    "                    ('debt', 'count'):'{:.0f}'})"
   ]
  },
  {
   "cell_type": "markdown",
   "id": "c295b40a",
   "metadata": {
    "deletable": false,
    "id": "e8593def"
   },
   "source": [
    "**Вывод:** При анализе зависимости между уровнем дохода и возвратом кредита в срок сложно провести корректный анализ, так как только у двух групп достаточное для анализа кол-во клиентов.\n",
    "У групп A, D и Е недостаточно клиентов для корректного анализа. По этим группам можно сделать вывод, что люди со сверхдоходами не так часто нуждаются в кредитах, а также и то, что люди с малым количеством дохода также опасаются их брать. Однако же, это означает, что итоговые данные по этим выборкам могут быть статистически неточными. \n",
    "По оставшимся двум группам: наименьший риск просрочки имеет группа B (7.06%), а наивысший риск просрочки имеет группа C (8.50%). И это имеет вполне логичное объяснение. У клиентов в группе B заработок больше в сравнение с группой С, поэтому вероятность просрочки кредита и меньше, чем у клиентов в группе C. \n"
   ]
  },
  {
   "cell_type": "markdown",
   "id": "9ad6cffc",
   "metadata": {
    "deletable": false,
    "editable": false,
    "id": "99ecbd1f"
   },
   "source": [
    "#### 3.4 Как разные цели кредита влияют на его возврат в срок?"
   ]
  },
  {
   "cell_type": "code",
   "execution_count": 25,
   "id": "15678079",
   "metadata": {
    "deletable": false,
    "id": "2b687290",
    "scrolled": true
   },
   "outputs": [
    {
     "data": {
      "text/html": [
       "<style type=\"text/css\">\n",
       "</style>\n",
       "<table id=\"T_2ba64\">\n",
       "  <thead>\n",
       "    <tr>\n",
       "      <th class=\"blank level0\" >&nbsp;</th>\n",
       "      <th id=\"T_2ba64_level0_col0\" class=\"col_heading level0 col0\" colspan=\"3\">debt</th>\n",
       "    </tr>\n",
       "    <tr>\n",
       "      <th class=\"blank level1\" >&nbsp;</th>\n",
       "      <th id=\"T_2ba64_level1_col0\" class=\"col_heading level1 col0\" >count</th>\n",
       "      <th id=\"T_2ba64_level1_col1\" class=\"col_heading level1 col1\" >mean</th>\n",
       "      <th id=\"T_2ba64_level1_col2\" class=\"col_heading level1 col2\" >sum</th>\n",
       "    </tr>\n",
       "    <tr>\n",
       "      <th class=\"index_name level0\" >purpose_category</th>\n",
       "      <th class=\"blank col0\" >&nbsp;</th>\n",
       "      <th class=\"blank col1\" >&nbsp;</th>\n",
       "      <th class=\"blank col2\" >&nbsp;</th>\n",
       "    </tr>\n",
       "  </thead>\n",
       "  <tbody>\n",
       "    <tr>\n",
       "      <th id=\"T_2ba64_level0_row0\" class=\"row_heading level0 row0\" >операции с автомобилем</th>\n",
       "      <td id=\"T_2ba64_row0_col0\" class=\"data row0 col0\" >4279</td>\n",
       "      <td id=\"T_2ba64_row0_col1\" class=\"data row0 col1\" >9.35%</td>\n",
       "      <td id=\"T_2ba64_row0_col2\" class=\"data row0 col2\" >400</td>\n",
       "    </tr>\n",
       "    <tr>\n",
       "      <th id=\"T_2ba64_level0_row1\" class=\"row_heading level0 row1\" >операции с недвижимостью</th>\n",
       "      <td id=\"T_2ba64_row1_col0\" class=\"data row1 col0\" >10751</td>\n",
       "      <td id=\"T_2ba64_row1_col1\" class=\"data row1 col1\" >7.26%</td>\n",
       "      <td id=\"T_2ba64_row1_col2\" class=\"data row1 col2\" >780</td>\n",
       "    </tr>\n",
       "    <tr>\n",
       "      <th id=\"T_2ba64_level0_row2\" class=\"row_heading level0 row2\" >получение образования</th>\n",
       "      <td id=\"T_2ba64_row2_col0\" class=\"data row2 col0\" >3988</td>\n",
       "      <td id=\"T_2ba64_row2_col1\" class=\"data row2 col1\" >9.25%</td>\n",
       "      <td id=\"T_2ba64_row2_col2\" class=\"data row2 col2\" >369</td>\n",
       "    </tr>\n",
       "    <tr>\n",
       "      <th id=\"T_2ba64_level0_row3\" class=\"row_heading level0 row3\" >проведение свадьбы</th>\n",
       "      <td id=\"T_2ba64_row3_col0\" class=\"data row3 col0\" >2313</td>\n",
       "      <td id=\"T_2ba64_row3_col1\" class=\"data row3 col1\" >7.91%</td>\n",
       "      <td id=\"T_2ba64_row3_col2\" class=\"data row3 col2\" >183</td>\n",
       "    </tr>\n",
       "  </tbody>\n",
       "</table>\n"
      ],
      "text/plain": [
       "<pandas.io.formats.style.Styler at 0x15b22f7b6d0>"
      ]
     },
     "execution_count": 25,
     "metadata": {},
     "output_type": "execute_result"
    }
   ],
   "source": [
    "# Построим сводную таблицу, отражающую зависимость между целью кредита и возвратом кредита в срок\n",
    "data_pivot_purpose = data.pivot_table(index='purpose_category', values=['debt'], aggfunc= {'debt': ['sum', 'count', 'mean']})\n",
    "# В столбце 'sum' показано кол-во, имеющих задолженности по кредитам в каждой группе\n",
    "# В столбце 'count' показано общее кол-во кредитов в каждой группе \n",
    "# В столбце 'mean' показано доля с задолженностями по кредитам от общего кол-ва кредитов в зависимости от цели кредита\n",
    "data_pivot_purpose.style.format({('debt', 'mean'):'{:0.2%}',\n",
    "                    ('debt', 'sum'):'{:.0f}',\n",
    "                    ('debt', 'count'):'{:.0f}'})"
   ]
  },
  {
   "cell_type": "markdown",
   "id": "cf3938cf",
   "metadata": {
    "deletable": false,
    "id": "b4bb2ce6"
   },
   "source": [
    "**Вывод:** Здесь стоит выделить 2 категории, которые имеют наименьший риск просрочки кредита: операции с недвижимостью (7.26%) и проведение свадьбы (7.91%). Вероятнее всего, к данным целям кредита люди подходят более осознанно, понимая уровень своих доходов, а также их правильного распределения.\t\n",
    "Остальные же 2 категории имеют наивысший риск просрочки кредита: получение образования (9.25%) и операции с автомобилем (9.35%). "
   ]
  },
  {
   "cell_type": "markdown",
   "id": "0f43b530",
   "metadata": {
    "deletable": false,
    "editable": false,
    "id": "09c3ac4c"
   },
   "source": [
    "#### 3.5 Приведите возможные причины появления пропусков в исходных данных."
   ]
  },
  {
   "cell_type": "markdown",
   "id": "2b4a7605",
   "metadata": {
    "deletable": false,
    "id": "9da2ceda"
   },
   "source": [
    "*Ответ:* Вероятнее всего пропуски в стоблцах days_employed (общий трудовой стаж в днях) и total_income (ежемесячный доход) связаны с тем, что у данных клиентов нет трудового стажа, а значит и отсутсвует ежемесячный доход. Можно предположить, что к примеру, кредит на получение образование берет человек, который не работает, а для того получения кредита у него есть поручитель (к примеру кто-то из родителей). Этим и обусловлены пропуски в данных столбцах."
   ]
  },
  {
   "cell_type": "markdown",
   "id": "9be2cdf1",
   "metadata": {
    "deletable": false,
    "editable": false,
    "id": "7b0487d6"
   },
   "source": [
    "#### 3.6 Объясните, почему заполнить пропуски медианным значением — лучшее решение для количественных переменных."
   ]
  },
  {
   "cell_type": "markdown",
   "id": "fad24adc",
   "metadata": {
    "deletable": false,
    "id": "7ecf2b8e"
   },
   "source": [
    "*Ответ:* На практике чаще используют заполнение медианным значением, так как медиана является более устойчивым показателем к выбросам в данных. Стоит отметить, что если данные имеют нормальное распределение и их количество велико, то медиана будет равняться среднему значению."
   ]
  },
  {
   "cell_type": "markdown",
   "id": "8f6397a4",
   "metadata": {
    "deletable": false,
    "editable": false,
    "id": "6db5255a"
   },
   "source": [
    "### Шаг 4: общий вывод."
   ]
  },
  {
   "cell_type": "markdown",
   "id": "8a662d10",
   "metadata": {
    "deletable": false,
    "id": "bad65432"
   },
   "source": [
    "Проанализировав данные по всем группам,можно сделать вывод: самый идеальный заемщик - это человек без детей, состоящий или состоявший в официальных отношениях, имеющий уровень дохода выше среднего и целью кредита которого - операции с недвижимостью.\n",
    "\n",
    "Разброс просроченных выплат по каждой из категорий примерно одинаковый. В среднем, это диапазоны от 7 до 9 процентов. В остальном разница в абсолютных цифрах не такая большая. Однако в относительных разница составляет в среднем 2 процента, что означает разницу в вероятности просрочки платежа более чем на 20%.\n",
    "\n",
    "Детально по категориям:\n",
    "\n",
    "Влияние наличия детей на вероятность просрочки платежа\n",
    "По наличию детей\n",
    "0 - 7.54%\n",
    "1 - 9.23%\n",
    "2 - 9.45%\n",
    "3 - 8.18%\n",
    "4 - 9.76%\n",
    "5 - 0.00%\n",
    "В группах с 3 детьми и более недостаточно клиентов, для того чтобы провести корректный анализ. Поэтому анализ проведем по первым трем группам:\n",
    "Абсолютная разница между минимальным и максимальным значением - 1.91%\n",
    "Относительная разница между минимальным и максимальным значением - 20.21%\n",
    "\n",
    "Влияние семейного положения на вероятность просрочки платежа\n",
    "По семейному положению\n",
    "вдовец / вдова - 6.62%\n",
    "в разводе - 7.06%\n",
    "женат / замужем - 7.56%\n",
    "гражданский брак - 9.31%\n",
    "не женат / не замужем - 9.76%\n",
    "Абсолютная разница между минимальным и максимальным значением - 3.14%\n",
    "Относительная разница между минимальным и максимальным значением - 32,17%\n",
    "\n",
    "Влияние уровня дохода на просрочку платежа\n",
    "По уровню дохода\n",
    "A - 8.00%\t\n",
    "B - 7.06%\t\n",
    "C - 8.50%\t\n",
    "D - 6.02%\t\n",
    "E - 9.09%\n",
    "При анализе зависимости между уровнем дохода и возвратом кредита в срок сложно провести корректный анализ, так как только у двух групп достаточное для анализа кол-во клиентов. У групп A, D и Е недостаточно клиентов для корректного анализа. По этим группам можно сделать вывод, что люди со сверхдоходами не так часто нуждаются в кредитах, а также и то, что люди с малым количеством дохода также опасаются их брать. Однако же, это означает, что итоговые данные по этим выборкам могут быть статистически неточными. По оставшимся двум группам: наименьший риск просрочки имеет группа B (7.06%), а наивысший риск просрочки имеет группа C (8.50%). И это имеет вполне логичное объяснение. У клиентов в группе B заработок больше в сравнение с группой С, поэтому вероятность просрочки кредита и меньше, чем у клиентов в группе C. Поэтому проводить здесь анализ по двум группа не совсем корректно, но очевидно, что чем больше доход у клиента, тем меньше шансов у него просрочить платеж по кредиту.\n",
    "\n",
    "\n",
    "Влияние цели кредита на вероятность возврата кредита в срок\n",
    "По цели кредита\n",
    "операции с недвижимостью - 7.26%\n",
    "проведение свадьба - 7.91%\n",
    "получение образования - 9.25%\n",
    "операции с автомобилем - 9.35%\n",
    "Абсолютная разница между минимальным и максимальным значением - 2.09%\n",
    "Относительная разница между минимальным и максимальным значением - 22.35%\n",
    "\n",
    "Таким образом, несмотря на схожий в процентном отношении разброс значений, наибольшее влияние на вероятность просрочки показывает именно семейное положение. Меньшее влияние оказывают цели кредита и наличие детей.\n",
    "Влияние дохода не удалось корректно проанализировать, но очевидно, что доход сильно влияет на вероятность просрочки."
   ]
  },
  {
   "cell_type": "code",
   "execution_count": null,
   "id": "aa7d0387",
   "metadata": {},
   "outputs": [],
   "source": []
  }
 ],
 "metadata": {
  "ExecuteTimeLog": [
   {
    "duration": 45,
    "start_time": "2022-12-23T14:18:27.357Z"
   },
   {
    "duration": 561,
    "start_time": "2022-12-23T14:18:45.038Z"
   },
   {
    "duration": 23,
    "start_time": "2022-12-23T14:18:45.601Z"
   },
   {
    "duration": 39,
    "start_time": "2022-12-23T14:18:45.625Z"
   },
   {
    "duration": 15,
    "start_time": "2022-12-23T14:18:45.666Z"
   },
   {
    "duration": 44,
    "start_time": "2022-12-23T14:18:45.682Z"
   },
   {
    "duration": 4,
    "start_time": "2022-12-23T14:18:45.727Z"
   },
   {
    "duration": 26,
    "start_time": "2022-12-23T14:18:45.733Z"
   },
   {
    "duration": 13,
    "start_time": "2022-12-23T14:18:45.761Z"
   },
   {
    "duration": 13,
    "start_time": "2022-12-23T14:18:45.776Z"
   },
   {
    "duration": 5,
    "start_time": "2022-12-23T14:18:45.792Z"
   },
   {
    "duration": 37,
    "start_time": "2022-12-23T14:18:45.798Z"
   },
   {
    "duration": 20,
    "start_time": "2022-12-23T14:18:45.837Z"
   },
   {
    "duration": 4,
    "start_time": "2022-12-23T14:18:45.858Z"
   },
   {
    "duration": 13,
    "start_time": "2022-12-23T14:18:45.864Z"
   },
   {
    "duration": 23,
    "start_time": "2022-12-23T14:18:45.879Z"
   },
   {
    "duration": 18,
    "start_time": "2022-12-23T14:18:45.904Z"
   },
   {
    "duration": 29,
    "start_time": "2022-12-23T14:18:45.924Z"
   },
   {
    "duration": 14,
    "start_time": "2022-12-23T14:18:45.955Z"
   },
   {
    "duration": 10,
    "start_time": "2022-12-23T14:18:45.971Z"
   },
   {
    "duration": 4,
    "start_time": "2022-12-23T14:18:45.982Z"
   },
   {
    "duration": 16,
    "start_time": "2022-12-23T14:18:45.988Z"
   },
   {
    "duration": 30,
    "start_time": "2022-12-23T14:18:46.006Z"
   },
   {
    "duration": 31,
    "start_time": "2022-12-23T14:18:46.052Z"
   },
   {
    "duration": 2,
    "start_time": "2022-12-23T14:18:46.085Z"
   },
   {
    "duration": 9,
    "start_time": "2022-12-23T14:18:46.088Z"
   },
   {
    "duration": 24,
    "start_time": "2022-12-23T14:20:29.323Z"
   },
   {
    "duration": 23,
    "start_time": "2022-12-23T14:21:14.916Z"
   },
   {
    "duration": 27,
    "start_time": "2022-12-23T14:21:18.008Z"
   },
   {
    "duration": 450,
    "start_time": "2022-12-23T14:21:28.574Z"
   },
   {
    "duration": 21,
    "start_time": "2022-12-23T14:21:29.026Z"
   },
   {
    "duration": 20,
    "start_time": "2022-12-23T14:21:29.048Z"
   },
   {
    "duration": 10,
    "start_time": "2022-12-23T14:21:29.070Z"
   },
   {
    "duration": 32,
    "start_time": "2022-12-23T14:21:29.082Z"
   },
   {
    "duration": 3,
    "start_time": "2022-12-23T14:21:29.116Z"
   },
   {
    "duration": 43,
    "start_time": "2022-12-23T14:21:29.121Z"
   },
   {
    "duration": 6,
    "start_time": "2022-12-23T14:21:29.166Z"
   },
   {
    "duration": 11,
    "start_time": "2022-12-23T14:21:29.173Z"
   },
   {
    "duration": 4,
    "start_time": "2022-12-23T14:21:29.188Z"
   },
   {
    "duration": 38,
    "start_time": "2022-12-23T14:21:29.194Z"
   },
   {
    "duration": 28,
    "start_time": "2022-12-23T14:21:29.234Z"
   },
   {
    "duration": 7,
    "start_time": "2022-12-23T14:21:29.263Z"
   },
   {
    "duration": 13,
    "start_time": "2022-12-23T14:21:29.272Z"
   },
   {
    "duration": 17,
    "start_time": "2022-12-23T14:21:29.287Z"
   },
   {
    "duration": 16,
    "start_time": "2022-12-23T14:21:29.306Z"
   },
   {
    "duration": 4,
    "start_time": "2022-12-23T14:21:29.323Z"
   },
   {
    "duration": 28,
    "start_time": "2022-12-23T14:21:29.328Z"
   },
   {
    "duration": 11,
    "start_time": "2022-12-23T14:21:29.357Z"
   },
   {
    "duration": 7,
    "start_time": "2022-12-23T14:21:29.370Z"
   },
   {
    "duration": 14,
    "start_time": "2022-12-23T14:21:29.378Z"
   },
   {
    "duration": 82,
    "start_time": "2022-12-23T14:21:29.393Z"
   },
   {
    "duration": 0,
    "start_time": "2022-12-23T14:21:29.476Z"
   },
   {
    "duration": 0,
    "start_time": "2022-12-23T14:21:29.478Z"
   },
   {
    "duration": 0,
    "start_time": "2022-12-23T14:21:29.479Z"
   },
   {
    "duration": 23,
    "start_time": "2022-12-23T14:21:45.908Z"
   },
   {
    "duration": 52,
    "start_time": "2022-12-23T14:23:15.845Z"
   },
   {
    "duration": 82,
    "start_time": "2022-12-23T14:24:25.756Z"
   },
   {
    "duration": 22,
    "start_time": "2022-12-23T14:24:36.742Z"
   },
   {
    "duration": 22,
    "start_time": "2022-12-23T14:27:54.200Z"
   },
   {
    "duration": 21,
    "start_time": "2022-12-23T14:28:29.362Z"
   },
   {
    "duration": 85,
    "start_time": "2022-12-23T14:28:43.988Z"
   },
   {
    "duration": 8,
    "start_time": "2022-12-23T14:29:03.456Z"
   },
   {
    "duration": 21,
    "start_time": "2022-12-23T14:29:14.983Z"
   },
   {
    "duration": 20,
    "start_time": "2022-12-23T14:32:02.302Z"
   },
   {
    "duration": 442,
    "start_time": "2022-12-23T14:32:16.073Z"
   },
   {
    "duration": 25,
    "start_time": "2022-12-23T14:33:30.584Z"
   },
   {
    "duration": 19,
    "start_time": "2022-12-23T14:35:35.541Z"
   },
   {
    "duration": 23,
    "start_time": "2022-12-23T14:35:43.307Z"
   },
   {
    "duration": 32,
    "start_time": "2022-12-23T14:36:12.967Z"
   },
   {
    "duration": 29,
    "start_time": "2022-12-23T14:37:26.702Z"
   },
   {
    "duration": 19,
    "start_time": "2022-12-23T14:37:39.237Z"
   },
   {
    "duration": 25,
    "start_time": "2022-12-23T14:38:01.418Z"
   },
   {
    "duration": 22,
    "start_time": "2022-12-23T14:38:10.859Z"
   },
   {
    "duration": 23,
    "start_time": "2022-12-23T14:50:49.378Z"
   },
   {
    "duration": 28,
    "start_time": "2022-12-23T14:51:34.281Z"
   },
   {
    "duration": 34,
    "start_time": "2022-12-23T14:53:17.777Z"
   },
   {
    "duration": 29,
    "start_time": "2022-12-23T14:54:14.220Z"
   },
   {
    "duration": 26,
    "start_time": "2022-12-23T15:00:20.403Z"
   },
   {
    "duration": 24,
    "start_time": "2022-12-23T15:01:05.218Z"
   },
   {
    "duration": 22,
    "start_time": "2022-12-23T15:01:21.711Z"
   },
   {
    "duration": 26,
    "start_time": "2022-12-23T15:01:46.443Z"
   },
   {
    "duration": 26,
    "start_time": "2022-12-23T15:01:53.024Z"
   },
   {
    "duration": 20,
    "start_time": "2022-12-23T15:02:37.621Z"
   },
   {
    "duration": 28,
    "start_time": "2022-12-23T15:02:42.450Z"
   },
   {
    "duration": 22,
    "start_time": "2022-12-23T15:12:27.313Z"
   },
   {
    "duration": 24,
    "start_time": "2022-12-23T15:44:02.969Z"
   },
   {
    "duration": 24,
    "start_time": "2022-12-23T15:45:21.478Z"
   },
   {
    "duration": 26,
    "start_time": "2022-12-23T15:45:25.711Z"
   },
   {
    "duration": 18,
    "start_time": "2022-12-23T15:45:57.073Z"
   },
   {
    "duration": 22,
    "start_time": "2022-12-23T15:46:00.801Z"
   },
   {
    "duration": 22,
    "start_time": "2022-12-23T16:47:45.897Z"
   },
   {
    "duration": 23,
    "start_time": "2022-12-23T17:42:27.980Z"
   },
   {
    "duration": 23,
    "start_time": "2022-12-23T17:43:07.336Z"
   },
   {
    "duration": 23,
    "start_time": "2022-12-23T17:44:11.310Z"
   },
   {
    "duration": 178,
    "start_time": "2022-12-27T13:40:14.131Z"
   },
   {
    "duration": 74,
    "start_time": "2022-12-27T13:40:59.723Z"
   },
   {
    "duration": 80,
    "start_time": "2022-12-27T13:41:31.788Z"
   },
   {
    "duration": 71,
    "start_time": "2022-12-27T13:44:38.786Z"
   },
   {
    "duration": 95,
    "start_time": "2022-12-27T13:46:42.396Z"
   },
   {
    "duration": 598,
    "start_time": "2022-12-27T13:53:52.140Z"
   },
   {
    "duration": 31,
    "start_time": "2022-12-27T13:53:52.740Z"
   },
   {
    "duration": 23,
    "start_time": "2022-12-27T13:53:52.772Z"
   },
   {
    "duration": 22,
    "start_time": "2022-12-27T13:53:52.797Z"
   },
   {
    "duration": 53,
    "start_time": "2022-12-27T13:53:52.821Z"
   },
   {
    "duration": 3,
    "start_time": "2022-12-27T13:53:52.875Z"
   },
   {
    "duration": 19,
    "start_time": "2022-12-27T13:53:52.879Z"
   },
   {
    "duration": 13,
    "start_time": "2022-12-27T13:53:52.900Z"
   },
   {
    "duration": 15,
    "start_time": "2022-12-27T13:53:52.915Z"
   },
   {
    "duration": 33,
    "start_time": "2022-12-27T13:53:52.933Z"
   },
   {
    "duration": 40,
    "start_time": "2022-12-27T13:53:52.968Z"
   },
   {
    "duration": 8,
    "start_time": "2022-12-27T13:53:53.010Z"
   },
   {
    "duration": 13,
    "start_time": "2022-12-27T13:53:53.020Z"
   },
   {
    "duration": 27,
    "start_time": "2022-12-27T13:53:53.035Z"
   },
   {
    "duration": 27,
    "start_time": "2022-12-27T13:53:53.064Z"
   },
   {
    "duration": 20,
    "start_time": "2022-12-27T13:53:53.093Z"
   },
   {
    "duration": 6,
    "start_time": "2022-12-27T13:53:53.114Z"
   },
   {
    "duration": 23,
    "start_time": "2022-12-27T13:53:53.121Z"
   },
   {
    "duration": 40,
    "start_time": "2022-12-27T13:53:53.146Z"
   },
   {
    "duration": 27,
    "start_time": "2022-12-27T13:53:53.188Z"
   },
   {
    "duration": 25,
    "start_time": "2022-12-27T13:53:53.217Z"
   },
   {
    "duration": 499,
    "start_time": "2022-12-27T13:53:53.244Z"
   },
   {
    "duration": 31,
    "start_time": "2022-12-27T13:53:53.745Z"
   },
   {
    "duration": 26,
    "start_time": "2022-12-27T13:53:53.778Z"
   },
   {
    "duration": 21,
    "start_time": "2022-12-27T13:53:53.806Z"
   },
   {
    "duration": 454,
    "start_time": "2022-12-27T14:10:47.062Z"
   },
   {
    "duration": 20,
    "start_time": "2022-12-27T14:10:47.518Z"
   },
   {
    "duration": 22,
    "start_time": "2022-12-27T14:10:47.540Z"
   },
   {
    "duration": 13,
    "start_time": "2022-12-27T14:10:47.564Z"
   },
   {
    "duration": 54,
    "start_time": "2022-12-27T14:10:47.578Z"
   },
   {
    "duration": 4,
    "start_time": "2022-12-27T14:10:47.633Z"
   },
   {
    "duration": 15,
    "start_time": "2022-12-27T14:10:47.638Z"
   },
   {
    "duration": 4,
    "start_time": "2022-12-27T14:10:47.654Z"
   },
   {
    "duration": 10,
    "start_time": "2022-12-27T14:10:47.660Z"
   },
   {
    "duration": 6,
    "start_time": "2022-12-27T14:10:47.672Z"
   },
   {
    "duration": 34,
    "start_time": "2022-12-27T14:10:47.679Z"
   },
   {
    "duration": 8,
    "start_time": "2022-12-27T14:10:47.715Z"
   },
   {
    "duration": 6,
    "start_time": "2022-12-27T14:10:47.724Z"
   },
   {
    "duration": 28,
    "start_time": "2022-12-27T14:10:47.732Z"
   },
   {
    "duration": 18,
    "start_time": "2022-12-27T14:10:47.761Z"
   },
   {
    "duration": 16,
    "start_time": "2022-12-27T14:10:47.781Z"
   },
   {
    "duration": 4,
    "start_time": "2022-12-27T14:10:47.798Z"
   },
   {
    "duration": 13,
    "start_time": "2022-12-27T14:10:47.803Z"
   },
   {
    "duration": 10,
    "start_time": "2022-12-27T14:10:47.817Z"
   },
   {
    "duration": 27,
    "start_time": "2022-12-27T14:10:47.828Z"
   },
   {
    "duration": 14,
    "start_time": "2022-12-27T14:10:47.857Z"
   },
   {
    "duration": 273,
    "start_time": "2022-12-27T14:10:47.872Z"
   },
   {
    "duration": 25,
    "start_time": "2022-12-27T14:10:48.146Z"
   },
   {
    "duration": 23,
    "start_time": "2022-12-27T14:10:48.172Z"
   },
   {
    "duration": 23,
    "start_time": "2022-12-27T14:10:48.197Z"
   }
  ],
  "colab": {
   "name": "dpp_template_part2.ipynb",
   "provenance": []
  },
  "kernelspec": {
   "display_name": "Python 3 (ipykernel)",
   "language": "python",
   "name": "python3"
  },
  "language_info": {
   "codemirror_mode": {
    "name": "ipython",
    "version": 3
   },
   "file_extension": ".py",
   "mimetype": "text/x-python",
   "name": "python",
   "nbconvert_exporter": "python",
   "pygments_lexer": "ipython3",
   "version": "3.9.13"
  },
  "toc": {
   "base_numbering": 1,
   "nav_menu": {},
   "number_sections": true,
   "sideBar": true,
   "skip_h1_title": true,
   "title_cell": "Table of Contents",
   "title_sidebar": "Contents",
   "toc_cell": false,
   "toc_position": {},
   "toc_section_display": true,
   "toc_window_display": false
  }
 },
 "nbformat": 4,
 "nbformat_minor": 5
}
