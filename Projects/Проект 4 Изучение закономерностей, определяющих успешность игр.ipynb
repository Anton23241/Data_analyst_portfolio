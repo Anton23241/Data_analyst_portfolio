{
 "cells": [
  {
   "cell_type": "markdown",
   "metadata": {},
   "source": [
    "# Описание проекта"
   ]
  },
  {
   "cell_type": "markdown",
   "metadata": {},
   "source": [
    "Вы работаете в интернет-магазине «Стримчик», который продаёт по всему миру компьютерные игры. Из открытых источников доступны исторические данные о продажах игр, оценки пользователей и экспертов, жанры и платформы (например, Xbox или PlayStation). Вам нужно выявить определяющие успешность игры закономерности. Это позволит сделать ставку на потенциально популярный продукт и спланировать рекламные кампании. Перед вами данные до 2016 года. Представим, что сейчас декабрь 2016 г., и вы планируете кампанию на 2017-й. Нужно отработать принцип работы с данными. Неважно, прогнозируете ли вы продажи на 2017 год по данным 2016-го или же 2027-й — по данным 2026 года. В наборе данных попадается аббревиатура ESRB (Entertainment Software Rating Board) — это ассоциация, определяющая возрастной рейтинг компьютерных игр. ESRB оценивает игровой контент и присваивает ему подходящую возрастную категорию, например, «Для взрослых», «Для детей младшего возраста» или «Для подростков»."
   ]
  },
  {
   "cell_type": "markdown",
   "metadata": {},
   "source": [
    "# Содержание работы:\n",
    "\n",
    "1. Изучение данных\n",
    "2. Предобработка данных\n",
    "3. Исследовательский анализ данных\n",
    "4. Портрет пользователя каждого региона\n",
    "5. Проверка гипотез"
   ]
  },
  {
   "cell_type": "markdown",
   "metadata": {},
   "source": [
    "## Изучение данных"
   ]
  },
  {
   "cell_type": "code",
   "execution_count": 1,
   "metadata": {},
   "outputs": [],
   "source": [
    "import pandas as pd\n",
    "import numpy as np\n",
    "from scipy import stats as st\n",
    "import math\n",
    "import matplotlib.pyplot as plt\n",
    "import seaborn as sns"
   ]
  },
  {
   "cell_type": "code",
   "execution_count": 2,
   "metadata": {},
   "outputs": [
    {
     "data": {
      "text/html": [
       "<div>\n",
       "<style scoped>\n",
       "    .dataframe tbody tr th:only-of-type {\n",
       "        vertical-align: middle;\n",
       "    }\n",
       "\n",
       "    .dataframe tbody tr th {\n",
       "        vertical-align: top;\n",
       "    }\n",
       "\n",
       "    .dataframe thead th {\n",
       "        text-align: right;\n",
       "    }\n",
       "</style>\n",
       "<table border=\"1\" class=\"dataframe\">\n",
       "  <thead>\n",
       "    <tr style=\"text-align: right;\">\n",
       "      <th></th>\n",
       "      <th>Name</th>\n",
       "      <th>Platform</th>\n",
       "      <th>Year_of_Release</th>\n",
       "      <th>Genre</th>\n",
       "      <th>NA_sales</th>\n",
       "      <th>EU_sales</th>\n",
       "      <th>JP_sales</th>\n",
       "      <th>Other_sales</th>\n",
       "      <th>Critic_Score</th>\n",
       "      <th>User_Score</th>\n",
       "      <th>Rating</th>\n",
       "    </tr>\n",
       "  </thead>\n",
       "  <tbody>\n",
       "    <tr>\n",
       "      <th>0</th>\n",
       "      <td>Wii Sports</td>\n",
       "      <td>Wii</td>\n",
       "      <td>2006.0</td>\n",
       "      <td>Sports</td>\n",
       "      <td>41.36</td>\n",
       "      <td>28.96</td>\n",
       "      <td>3.77</td>\n",
       "      <td>8.45</td>\n",
       "      <td>76.0</td>\n",
       "      <td>8</td>\n",
       "      <td>E</td>\n",
       "    </tr>\n",
       "    <tr>\n",
       "      <th>1</th>\n",
       "      <td>Super Mario Bros.</td>\n",
       "      <td>NES</td>\n",
       "      <td>1985.0</td>\n",
       "      <td>Platform</td>\n",
       "      <td>29.08</td>\n",
       "      <td>3.58</td>\n",
       "      <td>6.81</td>\n",
       "      <td>0.77</td>\n",
       "      <td>NaN</td>\n",
       "      <td>NaN</td>\n",
       "      <td>NaN</td>\n",
       "    </tr>\n",
       "    <tr>\n",
       "      <th>2</th>\n",
       "      <td>Mario Kart Wii</td>\n",
       "      <td>Wii</td>\n",
       "      <td>2008.0</td>\n",
       "      <td>Racing</td>\n",
       "      <td>15.68</td>\n",
       "      <td>12.76</td>\n",
       "      <td>3.79</td>\n",
       "      <td>3.29</td>\n",
       "      <td>82.0</td>\n",
       "      <td>8.3</td>\n",
       "      <td>E</td>\n",
       "    </tr>\n",
       "    <tr>\n",
       "      <th>3</th>\n",
       "      <td>Wii Sports Resort</td>\n",
       "      <td>Wii</td>\n",
       "      <td>2009.0</td>\n",
       "      <td>Sports</td>\n",
       "      <td>15.61</td>\n",
       "      <td>10.93</td>\n",
       "      <td>3.28</td>\n",
       "      <td>2.95</td>\n",
       "      <td>80.0</td>\n",
       "      <td>8</td>\n",
       "      <td>E</td>\n",
       "    </tr>\n",
       "    <tr>\n",
       "      <th>4</th>\n",
       "      <td>Pokemon Red/Pokemon Blue</td>\n",
       "      <td>GB</td>\n",
       "      <td>1996.0</td>\n",
       "      <td>Role-Playing</td>\n",
       "      <td>11.27</td>\n",
       "      <td>8.89</td>\n",
       "      <td>10.22</td>\n",
       "      <td>1.00</td>\n",
       "      <td>NaN</td>\n",
       "      <td>NaN</td>\n",
       "      <td>NaN</td>\n",
       "    </tr>\n",
       "  </tbody>\n",
       "</table>\n",
       "</div>"
      ],
      "text/plain": [
       "                       Name Platform  Year_of_Release         Genre  NA_sales  \\\n",
       "0                Wii Sports      Wii           2006.0        Sports     41.36   \n",
       "1         Super Mario Bros.      NES           1985.0      Platform     29.08   \n",
       "2            Mario Kart Wii      Wii           2008.0        Racing     15.68   \n",
       "3         Wii Sports Resort      Wii           2009.0        Sports     15.61   \n",
       "4  Pokemon Red/Pokemon Blue       GB           1996.0  Role-Playing     11.27   \n",
       "\n",
       "   EU_sales  JP_sales  Other_sales  Critic_Score User_Score Rating  \n",
       "0     28.96      3.77         8.45          76.0          8      E  \n",
       "1      3.58      6.81         0.77           NaN        NaN    NaN  \n",
       "2     12.76      3.79         3.29          82.0        8.3      E  \n",
       "3     10.93      3.28         2.95          80.0          8      E  \n",
       "4      8.89     10.22         1.00           NaN        NaN    NaN  "
      ]
     },
     "execution_count": 2,
     "metadata": {},
     "output_type": "execute_result"
    }
   ],
   "source": [
    "games = pd.read_csv('/datasets/games.csv')\n",
    "games.head()"
   ]
  },
  {
   "cell_type": "code",
   "execution_count": 3,
   "metadata": {
    "scrolled": false
   },
   "outputs": [
    {
     "name": "stdout",
     "output_type": "stream",
     "text": [
      "<class 'pandas.core.frame.DataFrame'>\n",
      "RangeIndex: 16715 entries, 0 to 16714\n",
      "Data columns (total 11 columns):\n",
      " #   Column           Non-Null Count  Dtype  \n",
      "---  ------           --------------  -----  \n",
      " 0   Name             16713 non-null  object \n",
      " 1   Platform         16715 non-null  object \n",
      " 2   Year_of_Release  16446 non-null  float64\n",
      " 3   Genre            16713 non-null  object \n",
      " 4   NA_sales         16715 non-null  float64\n",
      " 5   EU_sales         16715 non-null  float64\n",
      " 6   JP_sales         16715 non-null  float64\n",
      " 7   Other_sales      16715 non-null  float64\n",
      " 8   Critic_Score     8137 non-null   float64\n",
      " 9   User_Score       10014 non-null  object \n",
      " 10  Rating           9949 non-null   object \n",
      "dtypes: float64(6), object(5)\n",
      "memory usage: 1.4+ MB\n"
     ]
    }
   ],
   "source": [
    "games.info()"
   ]
  },
  {
   "cell_type": "markdown",
   "metadata": {},
   "source": [
    "Сразу бросается в глаза, что названия столбцов не приведены к нижнему регистру. При дальнейшей работе с данными это будет неудобно. Так же изучив данные, видно, что в столбцах 'year_of_release', 'critic_score' и 'user_score' некорректные типы данных, которые в дальнейшем следует изменить. "
   ]
  },
  {
   "cell_type": "markdown",
   "metadata": {},
   "source": [
    "## Предобработка данных"
   ]
  },
  {
   "cell_type": "code",
   "execution_count": 4,
   "metadata": {
    "scrolled": true
   },
   "outputs": [
    {
     "name": "stdout",
     "output_type": "stream",
     "text": [
      "<class 'pandas.core.frame.DataFrame'>\n",
      "RangeIndex: 16715 entries, 0 to 16714\n",
      "Data columns (total 11 columns):\n",
      " #   Column           Non-Null Count  Dtype  \n",
      "---  ------           --------------  -----  \n",
      " 0   name             16713 non-null  object \n",
      " 1   platform         16715 non-null  object \n",
      " 2   year_of_release  16446 non-null  float64\n",
      " 3   genre            16713 non-null  object \n",
      " 4   na_sales         16715 non-null  float64\n",
      " 5   eu_sales         16715 non-null  float64\n",
      " 6   jp_sales         16715 non-null  float64\n",
      " 7   other_sales      16715 non-null  float64\n",
      " 8   critic_score     8137 non-null   float64\n",
      " 9   user_score       10014 non-null  object \n",
      " 10  rating           9949 non-null   object \n",
      "dtypes: float64(6), object(5)\n",
      "memory usage: 1.4+ MB\n"
     ]
    }
   ],
   "source": [
    "#Приведем названия столбцов к нижнему регистру.\n",
    "games.columns = games.columns.str.lower()\n",
    "games.info()"
   ]
  },
  {
   "cell_type": "code",
   "execution_count": 5,
   "metadata": {},
   "outputs": [],
   "source": [
    "#Приведем к числовому типу данных столбцы 'year_of_release', 'critic_score'\n",
    "games['year_of_release'] = games['year_of_release'].astype('Int64')\n",
    "games['critic_score'] = games['critic_score'].astype('Int64')"
   ]
  },
  {
   "cell_type": "code",
   "execution_count": 6,
   "metadata": {},
   "outputs": [
    {
     "data": {
      "text/plain": [
       "name                  2\n",
       "platform              0\n",
       "year_of_release     269\n",
       "genre                 2\n",
       "na_sales              0\n",
       "eu_sales              0\n",
       "jp_sales              0\n",
       "other_sales           0\n",
       "critic_score       8578\n",
       "user_score         6701\n",
       "rating             6766\n",
       "dtype: int64"
      ]
     },
     "execution_count": 6,
     "metadata": {},
     "output_type": "execute_result"
    }
   ],
   "source": [
    "games.isna().sum()\n",
    "#В name и genre всего по два пропуска:"
   ]
  },
  {
   "cell_type": "code",
   "execution_count": 7,
   "metadata": {},
   "outputs": [],
   "source": [
    "games[games['name'].isnull()]\n",
    "#Оказалась что пропуски у этих столбцов совпадают. Заполнить их как-либо нет возможности, поэтому их лучше отбросить.\n",
    "games = games.dropna(subset=['name'])"
   ]
  },
  {
   "cell_type": "code",
   "execution_count": 8,
   "metadata": {},
   "outputs": [],
   "source": [
    "#Пропусков в столбце 'year_of_release' не много. Заполнить их не предоставляется возможным, поэтому отбросим их\n",
    "games = games.dropna(subset=['year_of_release'])"
   ]
  },
  {
   "cell_type": "code",
   "execution_count": 9,
   "metadata": {},
   "outputs": [],
   "source": [
    "#Пропусков в столбцах critic_score и user_score очень много и заполнить их также не представляется возможным, как и удалить.\n",
    "#Однако есть любопытные пропуски в user_score - 'tbd'.\n",
    "#Абревиатура 'tbd' (to be defined) означает, что данные скоро будут обнародованы. Для нас это значение равнозначно пропуску\n",
    "#Можно просто заменить на nan\n",
    "#Приведем к вещественному типу данных столбец 'user_score'\n",
    "games.loc[games['user_score'] == 'tbd', 'user_score'] = np.nan\n",
    "games['user_score'] = games['user_score'].astype('float')"
   ]
  },
  {
   "cell_type": "markdown",
   "metadata": {},
   "source": [
    "В столбце rating заменим все пропуски на 'unknown', т.е. рейтинг неизвестный. Так сможем учесть эти данные при дальнейшем анализе."
   ]
  },
  {
   "cell_type": "code",
   "execution_count": 10,
   "metadata": {},
   "outputs": [
    {
     "data": {
      "text/plain": [
       "name                  0\n",
       "platform              0\n",
       "year_of_release       0\n",
       "genre                 0\n",
       "na_sales              0\n",
       "eu_sales              0\n",
       "jp_sales              0\n",
       "other_sales           0\n",
       "critic_score       8461\n",
       "user_score         8981\n",
       "rating                0\n",
       "dtype: int64"
      ]
     },
     "execution_count": 10,
     "metadata": {},
     "output_type": "execute_result"
    }
   ],
   "source": [
    "games['rating'] = games['rating'].fillna('unknown')\n",
    "games.isna().sum()"
   ]
  },
  {
   "cell_type": "code",
   "execution_count": 11,
   "metadata": {},
   "outputs": [
    {
     "data": {
      "text/plain": [
       "0"
      ]
     },
     "execution_count": 11,
     "metadata": {},
     "output_type": "execute_result"
    }
   ],
   "source": [
    "#Проверим наличие дубликатов\n",
    "games.duplicated().sum()"
   ]
  },
  {
   "cell_type": "code",
   "execution_count": 12,
   "metadata": {},
   "outputs": [
    {
     "data": {
      "text/html": [
       "<div>\n",
       "<style scoped>\n",
       "    .dataframe tbody tr th:only-of-type {\n",
       "        vertical-align: middle;\n",
       "    }\n",
       "\n",
       "    .dataframe tbody tr th {\n",
       "        vertical-align: top;\n",
       "    }\n",
       "\n",
       "    .dataframe thead th {\n",
       "        text-align: right;\n",
       "    }\n",
       "</style>\n",
       "<table border=\"1\" class=\"dataframe\">\n",
       "  <thead>\n",
       "    <tr style=\"text-align: right;\">\n",
       "      <th></th>\n",
       "      <th>name</th>\n",
       "      <th>platform</th>\n",
       "      <th>year_of_release</th>\n",
       "      <th>genre</th>\n",
       "      <th>na_sales</th>\n",
       "      <th>eu_sales</th>\n",
       "      <th>jp_sales</th>\n",
       "      <th>other_sales</th>\n",
       "      <th>critic_score</th>\n",
       "      <th>user_score</th>\n",
       "      <th>rating</th>\n",
       "      <th>total_sales</th>\n",
       "    </tr>\n",
       "  </thead>\n",
       "  <tbody>\n",
       "    <tr>\n",
       "      <th>0</th>\n",
       "      <td>Wii Sports</td>\n",
       "      <td>Wii</td>\n",
       "      <td>2006</td>\n",
       "      <td>Sports</td>\n",
       "      <td>41.36</td>\n",
       "      <td>28.96</td>\n",
       "      <td>3.77</td>\n",
       "      <td>8.45</td>\n",
       "      <td>76</td>\n",
       "      <td>8.0</td>\n",
       "      <td>E</td>\n",
       "      <td>82.54</td>\n",
       "    </tr>\n",
       "    <tr>\n",
       "      <th>1</th>\n",
       "      <td>Super Mario Bros.</td>\n",
       "      <td>NES</td>\n",
       "      <td>1985</td>\n",
       "      <td>Platform</td>\n",
       "      <td>29.08</td>\n",
       "      <td>3.58</td>\n",
       "      <td>6.81</td>\n",
       "      <td>0.77</td>\n",
       "      <td>&lt;NA&gt;</td>\n",
       "      <td>NaN</td>\n",
       "      <td>unknown</td>\n",
       "      <td>40.24</td>\n",
       "    </tr>\n",
       "    <tr>\n",
       "      <th>2</th>\n",
       "      <td>Mario Kart Wii</td>\n",
       "      <td>Wii</td>\n",
       "      <td>2008</td>\n",
       "      <td>Racing</td>\n",
       "      <td>15.68</td>\n",
       "      <td>12.76</td>\n",
       "      <td>3.79</td>\n",
       "      <td>3.29</td>\n",
       "      <td>82</td>\n",
       "      <td>8.3</td>\n",
       "      <td>E</td>\n",
       "      <td>35.52</td>\n",
       "    </tr>\n",
       "    <tr>\n",
       "      <th>3</th>\n",
       "      <td>Wii Sports Resort</td>\n",
       "      <td>Wii</td>\n",
       "      <td>2009</td>\n",
       "      <td>Sports</td>\n",
       "      <td>15.61</td>\n",
       "      <td>10.93</td>\n",
       "      <td>3.28</td>\n",
       "      <td>2.95</td>\n",
       "      <td>80</td>\n",
       "      <td>8.0</td>\n",
       "      <td>E</td>\n",
       "      <td>32.77</td>\n",
       "    </tr>\n",
       "    <tr>\n",
       "      <th>4</th>\n",
       "      <td>Pokemon Red/Pokemon Blue</td>\n",
       "      <td>GB</td>\n",
       "      <td>1996</td>\n",
       "      <td>Role-Playing</td>\n",
       "      <td>11.27</td>\n",
       "      <td>8.89</td>\n",
       "      <td>10.22</td>\n",
       "      <td>1.00</td>\n",
       "      <td>&lt;NA&gt;</td>\n",
       "      <td>NaN</td>\n",
       "      <td>unknown</td>\n",
       "      <td>31.38</td>\n",
       "    </tr>\n",
       "  </tbody>\n",
       "</table>\n",
       "</div>"
      ],
      "text/plain": [
       "                       name platform  year_of_release         genre  na_sales  \\\n",
       "0                Wii Sports      Wii             2006        Sports     41.36   \n",
       "1         Super Mario Bros.      NES             1985      Platform     29.08   \n",
       "2            Mario Kart Wii      Wii             2008        Racing     15.68   \n",
       "3         Wii Sports Resort      Wii             2009        Sports     15.61   \n",
       "4  Pokemon Red/Pokemon Blue       GB             1996  Role-Playing     11.27   \n",
       "\n",
       "   eu_sales  jp_sales  other_sales  critic_score  user_score   rating  \\\n",
       "0     28.96      3.77         8.45            76         8.0        E   \n",
       "1      3.58      6.81         0.77          <NA>         NaN  unknown   \n",
       "2     12.76      3.79         3.29            82         8.3        E   \n",
       "3     10.93      3.28         2.95            80         8.0        E   \n",
       "4      8.89     10.22         1.00          <NA>         NaN  unknown   \n",
       "\n",
       "   total_sales  \n",
       "0        82.54  \n",
       "1        40.24  \n",
       "2        35.52  \n",
       "3        32.77  \n",
       "4        31.38  "
      ]
     },
     "execution_count": 12,
     "metadata": {},
     "output_type": "execute_result"
    }
   ],
   "source": [
    "#Добавим к исходной таблице столбец, в котором будет сумма продаж по всем регионам для каждой игры.\n",
    "games['total_sales'] = games[['na_sales', 'eu_sales', 'jp_sales', 'other_sales']].sum(axis = 1)\n",
    "games.head()"
   ]
  },
  {
   "cell_type": "markdown",
   "metadata": {},
   "source": [
    "Получилось много пропусков в столбцах critic_score, user_score. Можно предположить, что игры могут быть новыми, которые не успели оценить критики и пользователи. Эти данные нельзя просто так отбросить, потому что ещё могут пригодиться для дальнейшего анализа."
   ]
  },
  {
   "cell_type": "markdown",
   "metadata": {},
   "source": [
    "## Исследовательский анализ данных"
   ]
  },
  {
   "cell_type": "code",
   "execution_count": 13,
   "metadata": {},
   "outputs": [
    {
     "data": {
      "text/html": [
       "<div>\n",
       "<style scoped>\n",
       "    .dataframe tbody tr th:only-of-type {\n",
       "        vertical-align: middle;\n",
       "    }\n",
       "\n",
       "    .dataframe tbody tr th {\n",
       "        vertical-align: top;\n",
       "    }\n",
       "\n",
       "    .dataframe thead th {\n",
       "        text-align: right;\n",
       "    }\n",
       "</style>\n",
       "<table border=\"1\" class=\"dataframe\">\n",
       "  <thead>\n",
       "    <tr style=\"text-align: right;\">\n",
       "      <th></th>\n",
       "      <th>counts_of_games</th>\n",
       "    </tr>\n",
       "    <tr>\n",
       "      <th>year_of_release</th>\n",
       "      <th></th>\n",
       "    </tr>\n",
       "  </thead>\n",
       "  <tbody>\n",
       "    <tr>\n",
       "      <th>1980</th>\n",
       "      <td>9</td>\n",
       "    </tr>\n",
       "    <tr>\n",
       "      <th>1981</th>\n",
       "      <td>46</td>\n",
       "    </tr>\n",
       "    <tr>\n",
       "      <th>1982</th>\n",
       "      <td>36</td>\n",
       "    </tr>\n",
       "    <tr>\n",
       "      <th>1983</th>\n",
       "      <td>17</td>\n",
       "    </tr>\n",
       "    <tr>\n",
       "      <th>1984</th>\n",
       "      <td>14</td>\n",
       "    </tr>\n",
       "    <tr>\n",
       "      <th>1985</th>\n",
       "      <td>14</td>\n",
       "    </tr>\n",
       "    <tr>\n",
       "      <th>1986</th>\n",
       "      <td>21</td>\n",
       "    </tr>\n",
       "    <tr>\n",
       "      <th>1987</th>\n",
       "      <td>16</td>\n",
       "    </tr>\n",
       "    <tr>\n",
       "      <th>1988</th>\n",
       "      <td>15</td>\n",
       "    </tr>\n",
       "    <tr>\n",
       "      <th>1989</th>\n",
       "      <td>17</td>\n",
       "    </tr>\n",
       "    <tr>\n",
       "      <th>1990</th>\n",
       "      <td>16</td>\n",
       "    </tr>\n",
       "    <tr>\n",
       "      <th>1991</th>\n",
       "      <td>41</td>\n",
       "    </tr>\n",
       "    <tr>\n",
       "      <th>1992</th>\n",
       "      <td>43</td>\n",
       "    </tr>\n",
       "    <tr>\n",
       "      <th>1993</th>\n",
       "      <td>60</td>\n",
       "    </tr>\n",
       "    <tr>\n",
       "      <th>1994</th>\n",
       "      <td>121</td>\n",
       "    </tr>\n",
       "    <tr>\n",
       "      <th>1995</th>\n",
       "      <td>219</td>\n",
       "    </tr>\n",
       "    <tr>\n",
       "      <th>1996</th>\n",
       "      <td>263</td>\n",
       "    </tr>\n",
       "    <tr>\n",
       "      <th>1997</th>\n",
       "      <td>289</td>\n",
       "    </tr>\n",
       "    <tr>\n",
       "      <th>1998</th>\n",
       "      <td>379</td>\n",
       "    </tr>\n",
       "    <tr>\n",
       "      <th>1999</th>\n",
       "      <td>338</td>\n",
       "    </tr>\n",
       "    <tr>\n",
       "      <th>2000</th>\n",
       "      <td>350</td>\n",
       "    </tr>\n",
       "    <tr>\n",
       "      <th>2001</th>\n",
       "      <td>482</td>\n",
       "    </tr>\n",
       "    <tr>\n",
       "      <th>2002</th>\n",
       "      <td>829</td>\n",
       "    </tr>\n",
       "    <tr>\n",
       "      <th>2003</th>\n",
       "      <td>775</td>\n",
       "    </tr>\n",
       "    <tr>\n",
       "      <th>2004</th>\n",
       "      <td>762</td>\n",
       "    </tr>\n",
       "    <tr>\n",
       "      <th>2005</th>\n",
       "      <td>939</td>\n",
       "    </tr>\n",
       "    <tr>\n",
       "      <th>2006</th>\n",
       "      <td>1006</td>\n",
       "    </tr>\n",
       "    <tr>\n",
       "      <th>2007</th>\n",
       "      <td>1197</td>\n",
       "    </tr>\n",
       "    <tr>\n",
       "      <th>2008</th>\n",
       "      <td>1427</td>\n",
       "    </tr>\n",
       "    <tr>\n",
       "      <th>2009</th>\n",
       "      <td>1426</td>\n",
       "    </tr>\n",
       "    <tr>\n",
       "      <th>2010</th>\n",
       "      <td>1255</td>\n",
       "    </tr>\n",
       "    <tr>\n",
       "      <th>2011</th>\n",
       "      <td>1136</td>\n",
       "    </tr>\n",
       "    <tr>\n",
       "      <th>2012</th>\n",
       "      <td>653</td>\n",
       "    </tr>\n",
       "    <tr>\n",
       "      <th>2013</th>\n",
       "      <td>544</td>\n",
       "    </tr>\n",
       "    <tr>\n",
       "      <th>2014</th>\n",
       "      <td>581</td>\n",
       "    </tr>\n",
       "    <tr>\n",
       "      <th>2015</th>\n",
       "      <td>606</td>\n",
       "    </tr>\n",
       "    <tr>\n",
       "      <th>2016</th>\n",
       "      <td>502</td>\n",
       "    </tr>\n",
       "  </tbody>\n",
       "</table>\n",
       "</div>"
      ],
      "text/plain": [
       "                 counts_of_games\n",
       "year_of_release                 \n",
       "1980                           9\n",
       "1981                          46\n",
       "1982                          36\n",
       "1983                          17\n",
       "1984                          14\n",
       "1985                          14\n",
       "1986                          21\n",
       "1987                          16\n",
       "1988                          15\n",
       "1989                          17\n",
       "1990                          16\n",
       "1991                          41\n",
       "1992                          43\n",
       "1993                          60\n",
       "1994                         121\n",
       "1995                         219\n",
       "1996                         263\n",
       "1997                         289\n",
       "1998                         379\n",
       "1999                         338\n",
       "2000                         350\n",
       "2001                         482\n",
       "2002                         829\n",
       "2003                         775\n",
       "2004                         762\n",
       "2005                         939\n",
       "2006                        1006\n",
       "2007                        1197\n",
       "2008                        1427\n",
       "2009                        1426\n",
       "2010                        1255\n",
       "2011                        1136\n",
       "2012                         653\n",
       "2013                         544\n",
       "2014                         581\n",
       "2015                         606\n",
       "2016                         502"
      ]
     },
     "execution_count": 13,
     "metadata": {},
     "output_type": "execute_result"
    }
   ],
   "source": [
    "# с помощью сводной таблицы сгруппируем данные по годам и посчитаем количество выпущенных игр для каждого года\n",
    "year_games_count = games.pivot_table(index='year_of_release', aggfunc={'name':'count'})\n",
    "year_games_count.columns = ['counts_of_games']\n",
    "year_games_count"
   ]
  },
  {
   "cell_type": "code",
   "execution_count": 14,
   "metadata": {
    "scrolled": false
   },
   "outputs": [
    {
     "data": {
      "text/plain": [
       "Text(0, 0.5, 'Количество игр')"
      ]
     },
     "execution_count": 14,
     "metadata": {},
     "output_type": "execute_result"
    },
    {
     "data": {
      "image/png": "[encoded data removed]",
      "text/plain": [
       "<Figure size 864x504 with 1 Axes>"
      ]
     },
     "metadata": {
      "needs_background": "light"
     },
     "output_type": "display_data"
    }
   ],
   "source": [
    "#построим график распределения количества выпущенных игр в течение интересующего нас отрезка времени\n",
    "year_games_count.plot(y='counts_of_games', kind='bar', figsize=(12, 7), legend=False)\n",
    "plt.title(label='Распределение количества выпущенных игр с 1980 по 2016 года\\n', fontsize=18, fontweight=\"bold\")\n",
    "plt.xlabel(\"\\nГод релиза игры\", fontsize=14, fontweight=\"bold\")\n",
    "plt.ylabel(\"Количество игр\", fontsize=14, fontweight=\"bold\")"
   ]
  },
  {
   "cell_type": "markdown",
   "metadata": {},
   "source": [
    "Видим что произошел скачок в разработке игр после 1993 года, так продолжалось до 2009 года, после чего пошел спад и резкое падение в разработке в 2012 году.\n",
    "\n",
    "Для нашего анализа данные за весь предоставленный период не нужны, а нужны только те, которые отражают тенденции последних лет. В данном случае это данные после 2011 года."
   ]
  },
  {
   "cell_type": "code",
   "execution_count": 15,
   "metadata": {},
   "outputs": [
    {
     "data": {
      "text/html": [
       "<div>\n",
       "<style scoped>\n",
       "    .dataframe tbody tr th:only-of-type {\n",
       "        vertical-align: middle;\n",
       "    }\n",
       "\n",
       "    .dataframe tbody tr th {\n",
       "        vertical-align: top;\n",
       "    }\n",
       "\n",
       "    .dataframe thead th {\n",
       "        text-align: right;\n",
       "    }\n",
       "</style>\n",
       "<table border=\"1\" class=\"dataframe\">\n",
       "  <thead>\n",
       "    <tr style=\"text-align: right;\">\n",
       "      <th></th>\n",
       "      <th>total_sales</th>\n",
       "    </tr>\n",
       "    <tr>\n",
       "      <th>platform</th>\n",
       "      <th></th>\n",
       "    </tr>\n",
       "  </thead>\n",
       "  <tbody>\n",
       "    <tr>\n",
       "      <th>PS2</th>\n",
       "      <td>1233.56</td>\n",
       "    </tr>\n",
       "    <tr>\n",
       "      <th>X360</th>\n",
       "      <td>961.24</td>\n",
       "    </tr>\n",
       "    <tr>\n",
       "      <th>PS3</th>\n",
       "      <td>931.34</td>\n",
       "    </tr>\n",
       "    <tr>\n",
       "      <th>Wii</th>\n",
       "      <td>891.18</td>\n",
       "    </tr>\n",
       "    <tr>\n",
       "      <th>DS</th>\n",
       "      <td>802.78</td>\n",
       "    </tr>\n",
       "    <tr>\n",
       "      <th>PS</th>\n",
       "      <td>727.58</td>\n",
       "    </tr>\n",
       "    <tr>\n",
       "      <th>PS4</th>\n",
       "      <td>314.14</td>\n",
       "    </tr>\n",
       "    <tr>\n",
       "      <th>GBA</th>\n",
       "      <td>312.88</td>\n",
       "    </tr>\n",
       "    <tr>\n",
       "      <th>PSP</th>\n",
       "      <td>289.53</td>\n",
       "    </tr>\n",
       "    <tr>\n",
       "      <th>3DS</th>\n",
       "      <td>257.81</td>\n",
       "    </tr>\n",
       "  </tbody>\n",
       "</table>\n",
       "</div>"
      ],
      "text/plain": [
       "          total_sales\n",
       "platform             \n",
       "PS2           1233.56\n",
       "X360           961.24\n",
       "PS3            931.34\n",
       "Wii            891.18\n",
       "DS             802.78\n",
       "PS             727.58\n",
       "PS4            314.14\n",
       "GBA            312.88\n",
       "PSP            289.53\n",
       "3DS            257.81"
      ]
     },
     "execution_count": 15,
     "metadata": {},
     "output_type": "execute_result"
    }
   ],
   "source": [
    "#Определим десять платформ с наибольшими суммарными продажами\n",
    "platform_sales_sum = (games\n",
    "                      .pivot_table(index=['platform'], aggfunc={'total_sales':sum})\n",
    "                      .nlargest(10, columns='total_sales')\n",
    "                     )\n",
    "platform_sales_sum"
   ]
  },
  {
   "cell_type": "code",
   "execution_count": 16,
   "metadata": {},
   "outputs": [
    {
     "data": {
      "text/html": [
       "<div>\n",
       "<style scoped>\n",
       "    .dataframe tbody tr th:only-of-type {\n",
       "        vertical-align: middle;\n",
       "    }\n",
       "\n",
       "    .dataframe tbody tr th {\n",
       "        vertical-align: top;\n",
       "    }\n",
       "\n",
       "    .dataframe thead th {\n",
       "        text-align: right;\n",
       "    }\n",
       "</style>\n",
       "<table border=\"1\" class=\"dataframe\">\n",
       "  <thead>\n",
       "    <tr style=\"text-align: right;\">\n",
       "      <th></th>\n",
       "      <th>name</th>\n",
       "      <th>platform</th>\n",
       "      <th>year_of_release</th>\n",
       "      <th>genre</th>\n",
       "      <th>na_sales</th>\n",
       "      <th>eu_sales</th>\n",
       "      <th>jp_sales</th>\n",
       "      <th>other_sales</th>\n",
       "      <th>critic_score</th>\n",
       "      <th>user_score</th>\n",
       "      <th>rating</th>\n",
       "      <th>total_sales</th>\n",
       "    </tr>\n",
       "  </thead>\n",
       "  <tbody>\n",
       "    <tr>\n",
       "      <th>0</th>\n",
       "      <td>Wii Sports</td>\n",
       "      <td>Wii</td>\n",
       "      <td>2006</td>\n",
       "      <td>Sports</td>\n",
       "      <td>41.36</td>\n",
       "      <td>28.96</td>\n",
       "      <td>3.77</td>\n",
       "      <td>8.45</td>\n",
       "      <td>76</td>\n",
       "      <td>8.0</td>\n",
       "      <td>E</td>\n",
       "      <td>82.54</td>\n",
       "    </tr>\n",
       "    <tr>\n",
       "      <th>2</th>\n",
       "      <td>Mario Kart Wii</td>\n",
       "      <td>Wii</td>\n",
       "      <td>2008</td>\n",
       "      <td>Racing</td>\n",
       "      <td>15.68</td>\n",
       "      <td>12.76</td>\n",
       "      <td>3.79</td>\n",
       "      <td>3.29</td>\n",
       "      <td>82</td>\n",
       "      <td>8.3</td>\n",
       "      <td>E</td>\n",
       "      <td>35.52</td>\n",
       "    </tr>\n",
       "    <tr>\n",
       "      <th>3</th>\n",
       "      <td>Wii Sports Resort</td>\n",
       "      <td>Wii</td>\n",
       "      <td>2009</td>\n",
       "      <td>Sports</td>\n",
       "      <td>15.61</td>\n",
       "      <td>10.93</td>\n",
       "      <td>3.28</td>\n",
       "      <td>2.95</td>\n",
       "      <td>80</td>\n",
       "      <td>8.0</td>\n",
       "      <td>E</td>\n",
       "      <td>32.77</td>\n",
       "    </tr>\n",
       "    <tr>\n",
       "      <th>6</th>\n",
       "      <td>New Super Mario Bros.</td>\n",
       "      <td>DS</td>\n",
       "      <td>2006</td>\n",
       "      <td>Platform</td>\n",
       "      <td>11.28</td>\n",
       "      <td>9.14</td>\n",
       "      <td>6.50</td>\n",
       "      <td>2.88</td>\n",
       "      <td>89</td>\n",
       "      <td>8.5</td>\n",
       "      <td>E</td>\n",
       "      <td>29.80</td>\n",
       "    </tr>\n",
       "    <tr>\n",
       "      <th>7</th>\n",
       "      <td>Wii Play</td>\n",
       "      <td>Wii</td>\n",
       "      <td>2006</td>\n",
       "      <td>Misc</td>\n",
       "      <td>13.96</td>\n",
       "      <td>9.18</td>\n",
       "      <td>2.93</td>\n",
       "      <td>2.84</td>\n",
       "      <td>58</td>\n",
       "      <td>6.6</td>\n",
       "      <td>E</td>\n",
       "      <td>28.91</td>\n",
       "    </tr>\n",
       "    <tr>\n",
       "      <th>...</th>\n",
       "      <td>...</td>\n",
       "      <td>...</td>\n",
       "      <td>...</td>\n",
       "      <td>...</td>\n",
       "      <td>...</td>\n",
       "      <td>...</td>\n",
       "      <td>...</td>\n",
       "      <td>...</td>\n",
       "      <td>...</td>\n",
       "      <td>...</td>\n",
       "      <td>...</td>\n",
       "      <td>...</td>\n",
       "    </tr>\n",
       "    <tr>\n",
       "      <th>16708</th>\n",
       "      <td>Woody Woodpecker in Crazy Castle 5</td>\n",
       "      <td>GBA</td>\n",
       "      <td>2002</td>\n",
       "      <td>Platform</td>\n",
       "      <td>0.01</td>\n",
       "      <td>0.00</td>\n",
       "      <td>0.00</td>\n",
       "      <td>0.00</td>\n",
       "      <td>&lt;NA&gt;</td>\n",
       "      <td>NaN</td>\n",
       "      <td>unknown</td>\n",
       "      <td>0.01</td>\n",
       "    </tr>\n",
       "    <tr>\n",
       "      <th>16709</th>\n",
       "      <td>SCORE International Baja 1000: The Official Game</td>\n",
       "      <td>PS2</td>\n",
       "      <td>2008</td>\n",
       "      <td>Racing</td>\n",
       "      <td>0.00</td>\n",
       "      <td>0.00</td>\n",
       "      <td>0.00</td>\n",
       "      <td>0.00</td>\n",
       "      <td>&lt;NA&gt;</td>\n",
       "      <td>NaN</td>\n",
       "      <td>unknown</td>\n",
       "      <td>0.00</td>\n",
       "    </tr>\n",
       "    <tr>\n",
       "      <th>16710</th>\n",
       "      <td>Samurai Warriors: Sanada Maru</td>\n",
       "      <td>PS3</td>\n",
       "      <td>2016</td>\n",
       "      <td>Action</td>\n",
       "      <td>0.00</td>\n",
       "      <td>0.00</td>\n",
       "      <td>0.01</td>\n",
       "      <td>0.00</td>\n",
       "      <td>&lt;NA&gt;</td>\n",
       "      <td>NaN</td>\n",
       "      <td>unknown</td>\n",
       "      <td>0.01</td>\n",
       "    </tr>\n",
       "    <tr>\n",
       "      <th>16711</th>\n",
       "      <td>LMA Manager 2007</td>\n",
       "      <td>X360</td>\n",
       "      <td>2006</td>\n",
       "      <td>Sports</td>\n",
       "      <td>0.00</td>\n",
       "      <td>0.01</td>\n",
       "      <td>0.00</td>\n",
       "      <td>0.00</td>\n",
       "      <td>&lt;NA&gt;</td>\n",
       "      <td>NaN</td>\n",
       "      <td>unknown</td>\n",
       "      <td>0.01</td>\n",
       "    </tr>\n",
       "    <tr>\n",
       "      <th>16713</th>\n",
       "      <td>Spirits &amp; Spells</td>\n",
       "      <td>GBA</td>\n",
       "      <td>2003</td>\n",
       "      <td>Platform</td>\n",
       "      <td>0.01</td>\n",
       "      <td>0.00</td>\n",
       "      <td>0.00</td>\n",
       "      <td>0.00</td>\n",
       "      <td>&lt;NA&gt;</td>\n",
       "      <td>NaN</td>\n",
       "      <td>unknown</td>\n",
       "      <td>0.01</td>\n",
       "    </tr>\n",
       "  </tbody>\n",
       "</table>\n",
       "<p>12170 rows × 12 columns</p>\n",
       "</div>"
      ],
      "text/plain": [
       "                                                   name platform  \\\n",
       "0                                            Wii Sports      Wii   \n",
       "2                                        Mario Kart Wii      Wii   \n",
       "3                                     Wii Sports Resort      Wii   \n",
       "6                                 New Super Mario Bros.       DS   \n",
       "7                                              Wii Play      Wii   \n",
       "...                                                 ...      ...   \n",
       "16708                Woody Woodpecker in Crazy Castle 5      GBA   \n",
       "16709  SCORE International Baja 1000: The Official Game      PS2   \n",
       "16710                     Samurai Warriors: Sanada Maru      PS3   \n",
       "16711                                  LMA Manager 2007     X360   \n",
       "16713                                  Spirits & Spells      GBA   \n",
       "\n",
       "       year_of_release     genre  na_sales  eu_sales  jp_sales  other_sales  \\\n",
       "0                 2006    Sports     41.36     28.96      3.77         8.45   \n",
       "2                 2008    Racing     15.68     12.76      3.79         3.29   \n",
       "3                 2009    Sports     15.61     10.93      3.28         2.95   \n",
       "6                 2006  Platform     11.28      9.14      6.50         2.88   \n",
       "7                 2006      Misc     13.96      9.18      2.93         2.84   \n",
       "...                ...       ...       ...       ...       ...          ...   \n",
       "16708             2002  Platform      0.01      0.00      0.00         0.00   \n",
       "16709             2008    Racing      0.00      0.00      0.00         0.00   \n",
       "16710             2016    Action      0.00      0.00      0.01         0.00   \n",
       "16711             2006    Sports      0.00      0.01      0.00         0.00   \n",
       "16713             2003  Platform      0.01      0.00      0.00         0.00   \n",
       "\n",
       "       critic_score  user_score   rating  total_sales  \n",
       "0                76         8.0        E        82.54  \n",
       "2                82         8.3        E        35.52  \n",
       "3                80         8.0        E        32.77  \n",
       "6                89         8.5        E        29.80  \n",
       "7                58         6.6        E        28.91  \n",
       "...             ...         ...      ...          ...  \n",
       "16708          <NA>         NaN  unknown         0.01  \n",
       "16709          <NA>         NaN  unknown         0.00  \n",
       "16710          <NA>         NaN  unknown         0.01  \n",
       "16711          <NA>         NaN  unknown         0.01  \n",
       "16713          <NA>         NaN  unknown         0.01  \n",
       "\n",
       "[12170 rows x 12 columns]"
      ]
     },
     "execution_count": 16,
     "metadata": {},
     "output_type": "execute_result"
    }
   ],
   "source": [
    "# создадим новый датафрэйм отфильтрованный по топ-10 платформ:\n",
    "change_platform_years = games.query('platform in @platform_sales_sum.index')\n",
    "change_platform_years"
   ]
  },
  {
   "cell_type": "code",
   "execution_count": 17,
   "metadata": {
    "scrolled": true
   },
   "outputs": [],
   "source": [
    "# создаем список с временным диапазоном, доступным нам:\n",
    "years_list = []\n",
    "for i in range(1980, 2017):\n",
    "    years_list.append(i)"
   ]
  },
  {
   "cell_type": "code",
   "execution_count": 18,
   "metadata": {},
   "outputs": [],
   "source": [
    "# создаем список с названиями платформ:\n",
    "platform_list = change_platform_years['platform'].unique()"
   ]
  },
  {
   "cell_type": "code",
   "execution_count": 19,
   "metadata": {
    "scrolled": false
   },
   "outputs": [
    {
     "data": {
      "image/png": "[encoded data removed]",
      "text/plain": [
       "<Figure size 432x288 with 1 Axes>"
      ]
     },
     "metadata": {
      "needs_background": "light"
     },
     "output_type": "display_data"
    },
    {
     "data": {
      "image/png": "[encoded data removed]",
      "text/plain": [
       "<Figure size 432x288 with 1 Axes>"
      ]
     },
     "metadata": {
      "needs_background": "light"
     },
     "output_type": "display_data"
    },
    {
     "data": {
      "image/png": "[encoded data removed]",
      "text/plain": [
       "<Figure size 432x288 with 1 Axes>"
      ]
     },
     "metadata": {
      "needs_background": "light"
     },
     "output_type": "display_data"
    },
    {
     "data": {
      "image/png": "[encoded data removed]",
      "text/plain": [
       "<Figure size 432x288 with 1 Axes>"
      ]
     },
     "metadata": {
      "needs_background": "light"
     },
     "output_type": "display_data"
    },
    {
     "data": {
      "image/png": "[encoded data removed]",
      "text/plain": [
       "<Figure size 432x288 with 1 Axes>"
      ]
     },
     "metadata": {
      "needs_background": "light"
     },
     "output_type": "display_data"
    },
    {
     "data": {
      "image/png": "[encoded data removed]",
      "text/plain": [
       "<Figure size 432x288 with 1 Axes>"
      ]
     },
     "metadata": {
      "needs_background": "light"
     },
     "output_type": "display_data"
    },
    {
     "data": {
      "image/png": "[encoded data removed]",
      "text/plain": [
       "<Figure size 432x288 with 1 Axes>"
      ]
     },
     "metadata": {
      "needs_background": "light"
     },
     "output_type": "display_data"
    },
    {
     "data": {
      "image/png": "[encoded data removed]",
      "text/plain": [
       "<Figure size 432x288 with 1 Axes>"
      ]
     },
     "metadata": {
      "needs_background": "light"
     },
     "output_type": "display_data"
    },
    {
     "data": {
      "image/png": "[encoded data removed]",
      "text/plain": [
       "<Figure size 432x288 with 1 Axes>"
      ]
     },
     "metadata": {
      "needs_background": "light"
     },
     "output_type": "display_data"
    },
    {
     "data": {
      "image/png": "[encoded data removed]",
      "text/plain": [
       "<Figure size 432x288 with 1 Axes>"
      ]
     },
     "metadata": {
      "needs_background": "light"
     },
     "output_type": "display_data"
    }
   ],
   "source": [
    "# цикл для построения гистограмм:\n",
    "\n",
    "for j in range(0, len(platform_list)):\n",
    "    change_platform_years[change_platform_years['platform']==platform_list[j]]\\\n",
    "    .plot(kind='hist', bins=years_list, legend=False, grid=True)\n",
    "    \n",
    "    plt.title(label=platform_list[j], fontsize=14, fontweight=\"bold\")\n",
    "    plt.xlabel(\"Год релиза игры\")\n",
    "    plt.ylabel(\"Частота\")"
   ]
  },
  {
   "cell_type": "markdown",
   "metadata": {},
   "source": [
    "Графики наглядно представляют поведение платформы за время ее существования, все ее взлеты и падения. Например, некоторые платформы, такие как PSP PS GBA и другие уже прекратили свое существование.\n",
    "\n",
    "На всех консольных платформах наблюдался резкий скачок продаж в начале и конце существования."
   ]
  },
  {
   "cell_type": "markdown",
   "metadata": {},
   "source": [
    "Средний срок жизни платформы составляет 7 лет. Большинство платформ появляется в начале 2000-x, особенно в 2006 году"
   ]
  },
  {
   "cell_type": "markdown",
   "metadata": {},
   "source": [
    "Для дальнейшего анализа выберем данные за последние несколько лет, т.к. они отражают последние тенденции и на их основании можно делать различные предположения о будущем поведении.\n",
    "\n",
    "Актуальным периодом будем считать 2012 - 2016 года.\n",
    "\n",
    "Сделаем срез данных по этому периоду."
   ]
  },
  {
   "cell_type": "code",
   "execution_count": 20,
   "metadata": {
    "scrolled": true
   },
   "outputs": [
    {
     "data": {
      "text/html": [
       "<div>\n",
       "<style scoped>\n",
       "    .dataframe tbody tr th:only-of-type {\n",
       "        vertical-align: middle;\n",
       "    }\n",
       "\n",
       "    .dataframe tbody tr th {\n",
       "        vertical-align: top;\n",
       "    }\n",
       "\n",
       "    .dataframe thead th {\n",
       "        text-align: right;\n",
       "    }\n",
       "</style>\n",
       "<table border=\"1\" class=\"dataframe\">\n",
       "  <thead>\n",
       "    <tr style=\"text-align: right;\">\n",
       "      <th></th>\n",
       "      <th>name</th>\n",
       "      <th>platform</th>\n",
       "      <th>year_of_release</th>\n",
       "      <th>genre</th>\n",
       "      <th>na_sales</th>\n",
       "      <th>eu_sales</th>\n",
       "      <th>jp_sales</th>\n",
       "      <th>other_sales</th>\n",
       "      <th>critic_score</th>\n",
       "      <th>user_score</th>\n",
       "      <th>rating</th>\n",
       "      <th>total_sales</th>\n",
       "    </tr>\n",
       "  </thead>\n",
       "  <tbody>\n",
       "    <tr>\n",
       "      <th>16</th>\n",
       "      <td>Grand Theft Auto V</td>\n",
       "      <td>PS3</td>\n",
       "      <td>2013</td>\n",
       "      <td>Action</td>\n",
       "      <td>7.02</td>\n",
       "      <td>9.09</td>\n",
       "      <td>0.98</td>\n",
       "      <td>3.96</td>\n",
       "      <td>97</td>\n",
       "      <td>8.2</td>\n",
       "      <td>M</td>\n",
       "      <td>21.05</td>\n",
       "    </tr>\n",
       "    <tr>\n",
       "      <th>23</th>\n",
       "      <td>Grand Theft Auto V</td>\n",
       "      <td>X360</td>\n",
       "      <td>2013</td>\n",
       "      <td>Action</td>\n",
       "      <td>9.66</td>\n",
       "      <td>5.14</td>\n",
       "      <td>0.06</td>\n",
       "      <td>1.41</td>\n",
       "      <td>97</td>\n",
       "      <td>8.1</td>\n",
       "      <td>M</td>\n",
       "      <td>16.27</td>\n",
       "    </tr>\n",
       "    <tr>\n",
       "      <th>31</th>\n",
       "      <td>Call of Duty: Black Ops 3</td>\n",
       "      <td>PS4</td>\n",
       "      <td>2015</td>\n",
       "      <td>Shooter</td>\n",
       "      <td>6.03</td>\n",
       "      <td>5.86</td>\n",
       "      <td>0.36</td>\n",
       "      <td>2.38</td>\n",
       "      <td>&lt;NA&gt;</td>\n",
       "      <td>NaN</td>\n",
       "      <td>unknown</td>\n",
       "      <td>14.63</td>\n",
       "    </tr>\n",
       "    <tr>\n",
       "      <th>33</th>\n",
       "      <td>Pokemon X/Pokemon Y</td>\n",
       "      <td>3DS</td>\n",
       "      <td>2013</td>\n",
       "      <td>Role-Playing</td>\n",
       "      <td>5.28</td>\n",
       "      <td>4.19</td>\n",
       "      <td>4.35</td>\n",
       "      <td>0.78</td>\n",
       "      <td>&lt;NA&gt;</td>\n",
       "      <td>NaN</td>\n",
       "      <td>unknown</td>\n",
       "      <td>14.60</td>\n",
       "    </tr>\n",
       "    <tr>\n",
       "      <th>34</th>\n",
       "      <td>Call of Duty: Black Ops II</td>\n",
       "      <td>PS3</td>\n",
       "      <td>2012</td>\n",
       "      <td>Shooter</td>\n",
       "      <td>4.99</td>\n",
       "      <td>5.73</td>\n",
       "      <td>0.65</td>\n",
       "      <td>2.42</td>\n",
       "      <td>83</td>\n",
       "      <td>5.3</td>\n",
       "      <td>M</td>\n",
       "      <td>13.79</td>\n",
       "    </tr>\n",
       "    <tr>\n",
       "      <th>...</th>\n",
       "      <td>...</td>\n",
       "      <td>...</td>\n",
       "      <td>...</td>\n",
       "      <td>...</td>\n",
       "      <td>...</td>\n",
       "      <td>...</td>\n",
       "      <td>...</td>\n",
       "      <td>...</td>\n",
       "      <td>...</td>\n",
       "      <td>...</td>\n",
       "      <td>...</td>\n",
       "      <td>...</td>\n",
       "    </tr>\n",
       "    <tr>\n",
       "      <th>16703</th>\n",
       "      <td>Strawberry Nauts</td>\n",
       "      <td>PSV</td>\n",
       "      <td>2016</td>\n",
       "      <td>Adventure</td>\n",
       "      <td>0.00</td>\n",
       "      <td>0.00</td>\n",
       "      <td>0.01</td>\n",
       "      <td>0.00</td>\n",
       "      <td>&lt;NA&gt;</td>\n",
       "      <td>NaN</td>\n",
       "      <td>unknown</td>\n",
       "      <td>0.01</td>\n",
       "    </tr>\n",
       "    <tr>\n",
       "      <th>16707</th>\n",
       "      <td>Aiyoku no Eustia</td>\n",
       "      <td>PSV</td>\n",
       "      <td>2014</td>\n",
       "      <td>Misc</td>\n",
       "      <td>0.00</td>\n",
       "      <td>0.00</td>\n",
       "      <td>0.01</td>\n",
       "      <td>0.00</td>\n",
       "      <td>&lt;NA&gt;</td>\n",
       "      <td>NaN</td>\n",
       "      <td>unknown</td>\n",
       "      <td>0.01</td>\n",
       "    </tr>\n",
       "    <tr>\n",
       "      <th>16710</th>\n",
       "      <td>Samurai Warriors: Sanada Maru</td>\n",
       "      <td>PS3</td>\n",
       "      <td>2016</td>\n",
       "      <td>Action</td>\n",
       "      <td>0.00</td>\n",
       "      <td>0.00</td>\n",
       "      <td>0.01</td>\n",
       "      <td>0.00</td>\n",
       "      <td>&lt;NA&gt;</td>\n",
       "      <td>NaN</td>\n",
       "      <td>unknown</td>\n",
       "      <td>0.01</td>\n",
       "    </tr>\n",
       "    <tr>\n",
       "      <th>16712</th>\n",
       "      <td>Haitaka no Psychedelica</td>\n",
       "      <td>PSV</td>\n",
       "      <td>2016</td>\n",
       "      <td>Adventure</td>\n",
       "      <td>0.00</td>\n",
       "      <td>0.00</td>\n",
       "      <td>0.01</td>\n",
       "      <td>0.00</td>\n",
       "      <td>&lt;NA&gt;</td>\n",
       "      <td>NaN</td>\n",
       "      <td>unknown</td>\n",
       "      <td>0.01</td>\n",
       "    </tr>\n",
       "    <tr>\n",
       "      <th>16714</th>\n",
       "      <td>Winning Post 8 2016</td>\n",
       "      <td>PSV</td>\n",
       "      <td>2016</td>\n",
       "      <td>Simulation</td>\n",
       "      <td>0.00</td>\n",
       "      <td>0.00</td>\n",
       "      <td>0.01</td>\n",
       "      <td>0.00</td>\n",
       "      <td>&lt;NA&gt;</td>\n",
       "      <td>NaN</td>\n",
       "      <td>unknown</td>\n",
       "      <td>0.01</td>\n",
       "    </tr>\n",
       "  </tbody>\n",
       "</table>\n",
       "<p>2886 rows × 12 columns</p>\n",
       "</div>"
      ],
      "text/plain": [
       "                                name platform  year_of_release         genre  \\\n",
       "16                Grand Theft Auto V      PS3             2013        Action   \n",
       "23                Grand Theft Auto V     X360             2013        Action   \n",
       "31         Call of Duty: Black Ops 3      PS4             2015       Shooter   \n",
       "33               Pokemon X/Pokemon Y      3DS             2013  Role-Playing   \n",
       "34        Call of Duty: Black Ops II      PS3             2012       Shooter   \n",
       "...                              ...      ...              ...           ...   \n",
       "16703               Strawberry Nauts      PSV             2016     Adventure   \n",
       "16707               Aiyoku no Eustia      PSV             2014          Misc   \n",
       "16710  Samurai Warriors: Sanada Maru      PS3             2016        Action   \n",
       "16712        Haitaka no Psychedelica      PSV             2016     Adventure   \n",
       "16714            Winning Post 8 2016      PSV             2016    Simulation   \n",
       "\n",
       "       na_sales  eu_sales  jp_sales  other_sales  critic_score  user_score  \\\n",
       "16         7.02      9.09      0.98         3.96            97         8.2   \n",
       "23         9.66      5.14      0.06         1.41            97         8.1   \n",
       "31         6.03      5.86      0.36         2.38          <NA>         NaN   \n",
       "33         5.28      4.19      4.35         0.78          <NA>         NaN   \n",
       "34         4.99      5.73      0.65         2.42            83         5.3   \n",
       "...         ...       ...       ...          ...           ...         ...   \n",
       "16703      0.00      0.00      0.01         0.00          <NA>         NaN   \n",
       "16707      0.00      0.00      0.01         0.00          <NA>         NaN   \n",
       "16710      0.00      0.00      0.01         0.00          <NA>         NaN   \n",
       "16712      0.00      0.00      0.01         0.00          <NA>         NaN   \n",
       "16714      0.00      0.00      0.01         0.00          <NA>         NaN   \n",
       "\n",
       "        rating  total_sales  \n",
       "16           M        21.05  \n",
       "23           M        16.27  \n",
       "31     unknown        14.63  \n",
       "33     unknown        14.60  \n",
       "34           M        13.79  \n",
       "...        ...          ...  \n",
       "16703  unknown         0.01  \n",
       "16707  unknown         0.01  \n",
       "16710  unknown         0.01  \n",
       "16712  unknown         0.01  \n",
       "16714  unknown         0.01  \n",
       "\n",
       "[2886 rows x 12 columns]"
      ]
     },
     "execution_count": 20,
     "metadata": {},
     "output_type": "execute_result"
    }
   ],
   "source": [
    "relevant_years = []\n",
    "for i in range(2012, 2017):\n",
    "    relevant_years.append(i)\n",
    "\n",
    "games_relevant = games.query('year_of_release in @relevant_years')\n",
    "games_relevant"
   ]
  },
  {
   "cell_type": "markdown",
   "metadata": {},
   "source": [
    "Посмотрим какие платформы лидируют по суммарным продажам в этом периоде времени:"
   ]
  },
  {
   "cell_type": "code",
   "execution_count": 21,
   "metadata": {},
   "outputs": [
    {
     "data": {
      "text/html": [
       "<div>\n",
       "<style scoped>\n",
       "    .dataframe tbody tr th:only-of-type {\n",
       "        vertical-align: middle;\n",
       "    }\n",
       "\n",
       "    .dataframe tbody tr th {\n",
       "        vertical-align: top;\n",
       "    }\n",
       "\n",
       "    .dataframe thead th {\n",
       "        text-align: right;\n",
       "    }\n",
       "</style>\n",
       "<table border=\"1\" class=\"dataframe\">\n",
       "  <thead>\n",
       "    <tr style=\"text-align: right;\">\n",
       "      <th></th>\n",
       "      <th>total_sales</th>\n",
       "    </tr>\n",
       "    <tr>\n",
       "      <th>platform</th>\n",
       "      <th></th>\n",
       "    </tr>\n",
       "  </thead>\n",
       "  <tbody>\n",
       "    <tr>\n",
       "      <th>PS4</th>\n",
       "      <td>314.14</td>\n",
       "    </tr>\n",
       "    <tr>\n",
       "      <th>PS3</th>\n",
       "      <td>288.79</td>\n",
       "    </tr>\n",
       "    <tr>\n",
       "      <th>X360</th>\n",
       "      <td>236.54</td>\n",
       "    </tr>\n",
       "    <tr>\n",
       "      <th>3DS</th>\n",
       "      <td>194.61</td>\n",
       "    </tr>\n",
       "    <tr>\n",
       "      <th>XOne</th>\n",
       "      <td>159.32</td>\n",
       "    </tr>\n",
       "    <tr>\n",
       "      <th>WiiU</th>\n",
       "      <td>82.19</td>\n",
       "    </tr>\n",
       "    <tr>\n",
       "      <th>PC</th>\n",
       "      <td>62.65</td>\n",
       "    </tr>\n",
       "    <tr>\n",
       "      <th>PSV</th>\n",
       "      <td>49.18</td>\n",
       "    </tr>\n",
       "    <tr>\n",
       "      <th>Wii</th>\n",
       "      <td>35.37</td>\n",
       "    </tr>\n",
       "    <tr>\n",
       "      <th>DS</th>\n",
       "      <td>12.55</td>\n",
       "    </tr>\n",
       "    <tr>\n",
       "      <th>PSP</th>\n",
       "      <td>11.19</td>\n",
       "    </tr>\n",
       "  </tbody>\n",
       "</table>\n",
       "</div>"
      ],
      "text/plain": [
       "          total_sales\n",
       "platform             \n",
       "PS4            314.14\n",
       "PS3            288.79\n",
       "X360           236.54\n",
       "3DS            194.61\n",
       "XOne           159.32\n",
       "WiiU            82.19\n",
       "PC              62.65\n",
       "PSV             49.18\n",
       "Wii             35.37\n",
       "DS              12.55\n",
       "PSP             11.19"
      ]
     },
     "execution_count": 21,
     "metadata": {},
     "output_type": "execute_result"
    }
   ],
   "source": [
    "rel_platform_sales_sum = (games_relevant\n",
    "                          .pivot_table(index='platform', values='total_sales', aggfunc=sum)\n",
    "                          .sort_values(by='total_sales', ascending=False)\n",
    "                         )\n",
    "rel_platform_sales_sum"
   ]
  },
  {
   "cell_type": "code",
   "execution_count": 22,
   "metadata": {},
   "outputs": [
    {
     "data": {
      "image/png": "[encoded data removed]",
      "text/plain": [
       "<Figure size 432x288 with 1 Axes>"
      ]
     },
     "metadata": {
      "needs_background": "light"
     },
     "output_type": "display_data"
    },
    {
     "data": {
      "image/png": "[encoded data removed]",
      "text/plain": [
       "<Figure size 432x288 with 1 Axes>"
      ]
     },
     "metadata": {
      "needs_background": "light"
     },
     "output_type": "display_data"
    },
    {
     "data": {
      "image/png": "[encoded data removed]",
      "text/plain": [
       "<Figure size 432x288 with 1 Axes>"
      ]
     },
     "metadata": {
      "needs_background": "light"
     },
     "output_type": "display_data"
    },
    {
     "data": {
      "image/png": "[encoded data removed]",
      "text/plain": [
       "<Figure size 432x288 with 1 Axes>"
      ]
     },
     "metadata": {
      "needs_background": "light"
     },
     "output_type": "display_data"
    },
    {
     "data": {
      "image/png": "[encoded data removed]",
      "text/plain": [
       "<Figure size 432x288 with 1 Axes>"
      ]
     },
     "metadata": {
      "needs_background": "light"
     },
     "output_type": "display_data"
    },
    {
     "data": {
      "image/png": "[encoded data removed]",
      "text/plain": [
       "<Figure size 432x288 with 1 Axes>"
      ]
     },
     "metadata": {
      "needs_background": "light"
     },
     "output_type": "display_data"
    },
    {
     "data": {
      "image/png": "[encoded data removed]",
      "text/plain": [
       "<Figure size 432x288 with 1 Axes>"
      ]
     },
     "metadata": {
      "needs_background": "light"
     },
     "output_type": "display_data"
    },
    {
     "data": {
      "image/png": "[encoded data removed]",
      "text/plain": [
       "<Figure size 432x288 with 1 Axes>"
      ]
     },
     "metadata": {
      "needs_background": "light"
     },
     "output_type": "display_data"
    },
    {
     "data": {
      "image/png": "[encoded data removed]",
      "text/plain": [
       "<Figure size 432x288 with 1 Axes>"
      ]
     },
     "metadata": {
      "needs_background": "light"
     },
     "output_type": "display_data"
    },
    {
     "data": {
      "image/png": "[encoded data removed]",
      "text/plain": [
       "<Figure size 432x288 with 1 Axes>"
      ]
     },
     "metadata": {
      "needs_background": "light"
     },
     "output_type": "display_data"
    },
    {
     "data": {
      "image/png": "[encoded data removed]",
      "text/plain": [
       "<Figure size 432x288 with 1 Axes>"
      ]
     },
     "metadata": {
      "needs_background": "light"
     },
     "output_type": "display_data"
    }
   ],
   "source": [
    "for j in range(0, len(rel_platform_sales_sum.index)):\n",
    "    games_relevant[games_relevant['platform']==rel_platform_sales_sum.index[j]]\\\n",
    "    .plot(kind='hist', bins=years_list, legend=False, title=rel_platform_sales_sum.index[j], grid=True)\n",
    "    \n",
    "    plt.title(label=rel_platform_sales_sum.index[j], fontsize=14, fontweight=\"bold\")\n",
    "    plt.xlabel(\"Год релиза игры\")\n",
    "    plt.ylabel(\"Частота\")"
   ]
  },
  {
   "cell_type": "code",
   "execution_count": 23,
   "metadata": {},
   "outputs": [
    {
     "data": {
      "text/plain": [
       "31"
      ]
     },
     "execution_count": 23,
     "metadata": {},
     "output_type": "execute_result"
    }
   ],
   "source": [
    "# посмотрим сколько было платформ в исходном датасете\n",
    "len(games['platform'].unique())"
   ]
  },
  {
   "cell_type": "markdown",
   "metadata": {},
   "source": [
    "В актуальном периоде, который мы выбрали, из 31 платформы остались только 11. Из этих 11 платформы DS и PSP можно исключить из потенциально прибыльных платформ, т.к. DS уже прекратила свое существование, а у PSP продажи практически равно нулю. Остальные же платформы можно включить в список потенциально прибыльных платформ"
   ]
  },
  {
   "cell_type": "code",
   "execution_count": 24,
   "metadata": {},
   "outputs": [],
   "source": [
    "relevant_platforms = ['PS4', 'PS3', 'X360', '3DS', 'XOne', 'WiiU', 'PC', 'PSV', 'Wii']"
   ]
  },
  {
   "cell_type": "code",
   "execution_count": 25,
   "metadata": {
    "scrolled": false
   },
   "outputs": [
    {
     "data": {
      "text/plain": [
       "(0.0, 2.5)"
      ]
     },
     "execution_count": 25,
     "metadata": {},
     "output_type": "execute_result"
    },
    {
     "data": {
      "image/png": "[encoded data removed]",
      "text/plain": [
       "<Figure size 1080x720 with 1 Axes>"
      ]
     },
     "metadata": {
      "needs_background": "light"
     },
     "output_type": "display_data"
    }
   ],
   "source": [
    "# построим все \"ящики с усами\" на одном графике для удобства\n",
    "# используем библиотеку seaborn\n",
    "\n",
    "plt.figure(figsize=(15,10))\n",
    "sns.boxplot(data=games_relevant, x='total_sales', y='platform')\n",
    "\n",
    "plt.title(label='Диаграмма размаха по глобальным продажам игр в разбивке по платформам\\n', fontsize=18, fontweight=\"bold\")\n",
    "plt.xlabel(\"\\nСуммарные продажи\", fontsize=14, fontweight=\"bold\")\n",
    "plt.ylabel(\"Платформы\", fontsize=14, fontweight=\"bold\")\n",
    "plt.xlim(0, 2.5)"
   ]
  },
  {
   "cell_type": "markdown",
   "metadata": {},
   "source": [
    "По данным диаграммам легко определить была ли популярна платформа в интересующий нас отрезок времени. Определить можно по объему продаж, входящему в межквартильный размах и медианному значению, чем они выше тем популярнее платформа. Например PS4 или X360 несомненно популярны."
   ]
  },
  {
   "cell_type": "markdown",
   "metadata": {},
   "source": [
    "Выберем несколько популярных и потенциально прибыльных платформ и посмотрим как продажи на этих платформах зависят от оценок игр."
   ]
  },
  {
   "cell_type": "code",
   "execution_count": 26,
   "metadata": {},
   "outputs": [
    {
     "data": {
      "text/html": [
       "<div>\n",
       "<style scoped>\n",
       "    .dataframe tbody tr th:only-of-type {\n",
       "        vertical-align: middle;\n",
       "    }\n",
       "\n",
       "    .dataframe tbody tr th {\n",
       "        vertical-align: top;\n",
       "    }\n",
       "\n",
       "    .dataframe thead th {\n",
       "        text-align: right;\n",
       "    }\n",
       "</style>\n",
       "<table border=\"1\" class=\"dataframe\">\n",
       "  <thead>\n",
       "    <tr style=\"text-align: right;\">\n",
       "      <th></th>\n",
       "      <th>critic_score</th>\n",
       "      <th>user_score</th>\n",
       "      <th>total_sales</th>\n",
       "    </tr>\n",
       "  </thead>\n",
       "  <tbody>\n",
       "    <tr>\n",
       "      <th>critic_score</th>\n",
       "      <td>1.000000</td>\n",
       "      <td>0.557352</td>\n",
       "      <td>0.360573</td>\n",
       "    </tr>\n",
       "    <tr>\n",
       "      <th>user_score</th>\n",
       "      <td>0.557352</td>\n",
       "      <td>1.000000</td>\n",
       "      <td>0.006164</td>\n",
       "    </tr>\n",
       "    <tr>\n",
       "      <th>total_sales</th>\n",
       "      <td>0.360573</td>\n",
       "      <td>0.006164</td>\n",
       "      <td>1.000000</td>\n",
       "    </tr>\n",
       "  </tbody>\n",
       "</table>\n",
       "</div>"
      ],
      "text/plain": [
       "              critic_score  user_score  total_sales\n",
       "critic_score      1.000000    0.557352     0.360573\n",
       "user_score        0.557352    1.000000     0.006164\n",
       "total_sales       0.360573    0.006164     1.000000"
      ]
     },
     "execution_count": 26,
     "metadata": {},
     "output_type": "execute_result"
    }
   ],
   "source": [
    "X360 = games_relevant.query('platform == \"X360\"')\n",
    "X360_cor = X360[['critic_score','user_score', 'total_sales']]\n",
    "X360_cor.corr()"
   ]
  },
  {
   "cell_type": "code",
   "execution_count": 27,
   "metadata": {},
   "outputs": [
    {
     "data": {
      "text/plain": [
       "Text(0, 0.5, 'Продажи')"
      ]
     },
     "execution_count": 27,
     "metadata": {},
     "output_type": "execute_result"
    },
    {
     "data": {
      "image/png": "[encoded data removed]",
      "text/plain": [
       "<Figure size 432x288 with 1 Axes>"
      ]
     },
     "metadata": {
      "needs_background": "light"
     },
     "output_type": "display_data"
    },
    {
     "data": {
      "image/png": "[encoded data removed]",
      "text/plain": [
       "<Figure size 432x288 with 1 Axes>"
      ]
     },
     "metadata": {
      "needs_background": "light"
     },
     "output_type": "display_data"
    }
   ],
   "source": [
    "X360_cor.plot(x='critic_score', y='total_sales', kind='scatter', title='X360');\n",
    "plt.title(label='Зависимость продаж от оценок критиков\\n на платформе X360', fontsize=14, fontweight=\"bold\")\n",
    "plt.xlabel(\"Оценки критиков\", fontsize=14, fontweight=\"bold\")\n",
    "plt.ylabel(\"Продажи\", fontsize=14, fontweight=\"bold\")\n",
    "\n",
    "X360_cor.plot(x='user_score', y='total_sales', kind='scatter', title='X360');\n",
    "plt.title(label='Зависимость продаж от оценок пользователей\\n на платформе X360', fontsize=14, fontweight=\"bold\")\n",
    "plt.xlabel(\"Оценки пользователей\", fontsize=14, fontweight=\"bold\")\n",
    "plt.ylabel(\"Продажи\", fontsize=14, fontweight=\"bold\")"
   ]
  },
  {
   "cell_type": "code",
   "execution_count": 28,
   "metadata": {
    "scrolled": true
   },
   "outputs": [
    {
     "data": {
      "text/html": [
       "<div>\n",
       "<style scoped>\n",
       "    .dataframe tbody tr th:only-of-type {\n",
       "        vertical-align: middle;\n",
       "    }\n",
       "\n",
       "    .dataframe tbody tr th {\n",
       "        vertical-align: top;\n",
       "    }\n",
       "\n",
       "    .dataframe thead th {\n",
       "        text-align: right;\n",
       "    }\n",
       "</style>\n",
       "<table border=\"1\" class=\"dataframe\">\n",
       "  <thead>\n",
       "    <tr style=\"text-align: right;\">\n",
       "      <th></th>\n",
       "      <th>critic_score</th>\n",
       "      <th>user_score</th>\n",
       "      <th>total_sales</th>\n",
       "    </tr>\n",
       "  </thead>\n",
       "  <tbody>\n",
       "    <tr>\n",
       "      <th>critic_score</th>\n",
       "      <td>1.000000</td>\n",
       "      <td>0.557654</td>\n",
       "      <td>0.406568</td>\n",
       "    </tr>\n",
       "    <tr>\n",
       "      <th>user_score</th>\n",
       "      <td>0.557654</td>\n",
       "      <td>1.000000</td>\n",
       "      <td>-0.031957</td>\n",
       "    </tr>\n",
       "    <tr>\n",
       "      <th>total_sales</th>\n",
       "      <td>0.406568</td>\n",
       "      <td>-0.031957</td>\n",
       "      <td>1.000000</td>\n",
       "    </tr>\n",
       "  </tbody>\n",
       "</table>\n",
       "</div>"
      ],
      "text/plain": [
       "              critic_score  user_score  total_sales\n",
       "critic_score      1.000000    0.557654     0.406568\n",
       "user_score        0.557654    1.000000    -0.031957\n",
       "total_sales       0.406568   -0.031957     1.000000"
      ]
     },
     "execution_count": 28,
     "metadata": {},
     "output_type": "execute_result"
    }
   ],
   "source": [
    "PS4 = games_relevant.query('platform == \"PS4\"')\n",
    "PS4_cor = PS4[['critic_score','user_score', 'total_sales']]\n",
    "PS4_cor.corr()"
   ]
  },
  {
   "cell_type": "code",
   "execution_count": 29,
   "metadata": {},
   "outputs": [
    {
     "data": {
      "text/plain": [
       "Text(0, 0.5, 'Продажи')"
      ]
     },
     "execution_count": 29,
     "metadata": {},
     "output_type": "execute_result"
    },
    {
     "data": {
      "image/png": "[encoded data removed]",
      "text/plain": [
       "<Figure size 432x288 with 1 Axes>"
      ]
     },
     "metadata": {
      "needs_background": "light"
     },
     "output_type": "display_data"
    },
    {
     "data": {
      "image/png": "[encoded data removed]",
      "text/plain": [
       "<Figure size 432x288 with 1 Axes>"
      ]
     },
     "metadata": {
      "needs_background": "light"
     },
     "output_type": "display_data"
    }
   ],
   "source": [
    "PS4_cor.plot(x='critic_score', y='total_sales', kind='scatter', title='PS4');\n",
    "plt.title(label='Зависимость продаж от оценок критиков\\n на платформе PS4', fontsize=14, fontweight=\"bold\")\n",
    "plt.xlabel(\"Оценки критиков\", fontsize=14, fontweight=\"bold\")\n",
    "plt.ylabel(\"Продажи\", fontsize=14, fontweight=\"bold\")\n",
    "\n",
    "PS4_cor.plot(x='user_score', y='total_sales', kind='scatter', title='PS4');\n",
    "plt.title(label='Зависимость продаж от оценок пользователей\\n на платформе PS4', fontsize=14, fontweight=\"bold\")\n",
    "plt.xlabel(\"Оценки пользователей\", fontsize=14, fontweight=\"bold\")\n",
    "plt.ylabel(\"Продажи\", fontsize=14, fontweight=\"bold\")"
   ]
  },
  {
   "cell_type": "code",
   "execution_count": 30,
   "metadata": {
    "scrolled": false
   },
   "outputs": [
    {
     "data": {
      "text/html": [
       "<div>\n",
       "<style scoped>\n",
       "    .dataframe tbody tr th:only-of-type {\n",
       "        vertical-align: middle;\n",
       "    }\n",
       "\n",
       "    .dataframe tbody tr th {\n",
       "        vertical-align: top;\n",
       "    }\n",
       "\n",
       "    .dataframe thead th {\n",
       "        text-align: right;\n",
       "    }\n",
       "</style>\n",
       "<table border=\"1\" class=\"dataframe\">\n",
       "  <thead>\n",
       "    <tr style=\"text-align: right;\">\n",
       "      <th></th>\n",
       "      <th>critic_score</th>\n",
       "      <th>user_score</th>\n",
       "      <th>total_sales</th>\n",
       "    </tr>\n",
       "  </thead>\n",
       "  <tbody>\n",
       "    <tr>\n",
       "      <th>critic_score</th>\n",
       "      <td>1.000000</td>\n",
       "      <td>0.472462</td>\n",
       "      <td>0.416998</td>\n",
       "    </tr>\n",
       "    <tr>\n",
       "      <th>user_score</th>\n",
       "      <td>0.472462</td>\n",
       "      <td>1.000000</td>\n",
       "      <td>-0.068925</td>\n",
       "    </tr>\n",
       "    <tr>\n",
       "      <th>total_sales</th>\n",
       "      <td>0.416998</td>\n",
       "      <td>-0.068925</td>\n",
       "      <td>1.000000</td>\n",
       "    </tr>\n",
       "  </tbody>\n",
       "</table>\n",
       "</div>"
      ],
      "text/plain": [
       "              critic_score  user_score  total_sales\n",
       "critic_score      1.000000    0.472462     0.416998\n",
       "user_score        0.472462    1.000000    -0.068925\n",
       "total_sales       0.416998   -0.068925     1.000000"
      ]
     },
     "execution_count": 30,
     "metadata": {},
     "output_type": "execute_result"
    }
   ],
   "source": [
    "XOne = games_relevant.query('platform == \"XOne\"')\n",
    "XOne_cor = XOne[['critic_score','user_score', 'total_sales']]\n",
    "XOne_cor.corr()"
   ]
  },
  {
   "cell_type": "code",
   "execution_count": 31,
   "metadata": {},
   "outputs": [
    {
     "data": {
      "text/plain": [
       "Text(0, 0.5, 'Продажи')"
      ]
     },
     "execution_count": 31,
     "metadata": {},
     "output_type": "execute_result"
    },
    {
     "data": {
      "image/png": "[encoded data removed]",
      "text/plain": [
       "<Figure size 432x288 with 1 Axes>"
      ]
     },
     "metadata": {
      "needs_background": "light"
     },
     "output_type": "display_data"
    },
    {
     "data": {
      "image/png": "[encoded data removed]",
      "text/plain": [
       "<Figure size 432x288 with 1 Axes>"
      ]
     },
     "metadata": {
      "needs_background": "light"
     },
     "output_type": "display_data"
    }
   ],
   "source": [
    "XOne_cor.plot(x='critic_score', y='total_sales', kind='scatter', title='XOne');\n",
    "plt.title(label='Зависимость продаж от оценок критиков\\n на платформе XOne', fontsize=14, fontweight=\"bold\")\n",
    "plt.xlabel(\"Оценки критиков\", fontsize=14, fontweight=\"bold\")\n",
    "plt.ylabel(\"Продажи\", fontsize=14, fontweight=\"bold\")\n",
    "\n",
    "XOne_cor.plot(x='user_score', y='total_sales', kind='scatter', title='XOne');\n",
    "plt.title(label='Зависимость продаж от оценок пользователей\\n на платформе XOne', fontsize=14, fontweight=\"bold\")\n",
    "plt.xlabel(\"Оценки пользователей\", fontsize=14, fontweight=\"bold\")\n",
    "plt.ylabel(\"Продажи\", fontsize=14, fontweight=\"bold\")"
   ]
  },
  {
   "cell_type": "code",
   "execution_count": 32,
   "metadata": {},
   "outputs": [
    {
     "data": {
      "text/html": [
       "<div>\n",
       "<style scoped>\n",
       "    .dataframe tbody tr th:only-of-type {\n",
       "        vertical-align: middle;\n",
       "    }\n",
       "\n",
       "    .dataframe tbody tr th {\n",
       "        vertical-align: top;\n",
       "    }\n",
       "\n",
       "    .dataframe thead th {\n",
       "        text-align: right;\n",
       "    }\n",
       "</style>\n",
       "<table border=\"1\" class=\"dataframe\">\n",
       "  <thead>\n",
       "    <tr style=\"text-align: right;\">\n",
       "      <th></th>\n",
       "      <th>critic_score</th>\n",
       "      <th>user_score</th>\n",
       "      <th>total_sales</th>\n",
       "    </tr>\n",
       "  </thead>\n",
       "  <tbody>\n",
       "    <tr>\n",
       "      <th>critic_score</th>\n",
       "      <td>1.000000</td>\n",
       "      <td>0.472462</td>\n",
       "      <td>0.416998</td>\n",
       "    </tr>\n",
       "    <tr>\n",
       "      <th>user_score</th>\n",
       "      <td>0.472462</td>\n",
       "      <td>1.000000</td>\n",
       "      <td>-0.068925</td>\n",
       "    </tr>\n",
       "    <tr>\n",
       "      <th>total_sales</th>\n",
       "      <td>0.416998</td>\n",
       "      <td>-0.068925</td>\n",
       "      <td>1.000000</td>\n",
       "    </tr>\n",
       "  </tbody>\n",
       "</table>\n",
       "</div>"
      ],
      "text/plain": [
       "              critic_score  user_score  total_sales\n",
       "critic_score      1.000000    0.472462     0.416998\n",
       "user_score        0.472462    1.000000    -0.068925\n",
       "total_sales       0.416998   -0.068925     1.000000"
      ]
     },
     "execution_count": 32,
     "metadata": {},
     "output_type": "execute_result"
    }
   ],
   "source": [
    "PS3 = games_relevant.query('platform == \"PS3\"')\n",
    "PS3_cor = XOne[['critic_score','user_score', 'total_sales']]\n",
    "PS3_cor.corr()"
   ]
  },
  {
   "cell_type": "code",
   "execution_count": 33,
   "metadata": {},
   "outputs": [
    {
     "data": {
      "text/plain": [
       "Text(0, 0.5, 'Продажи')"
      ]
     },
     "execution_count": 33,
     "metadata": {},
     "output_type": "execute_result"
    },
    {
     "data": {
      "image/png": "[encoded data removed]",
      "text/plain": [
       "<Figure size 432x288 with 1 Axes>"
      ]
     },
     "metadata": {
      "needs_background": "light"
     },
     "output_type": "display_data"
    },
    {
     "data": {
      "image/png": "[encoded data removed]",
      "text/plain": [
       "<Figure size 432x288 with 1 Axes>"
      ]
     },
     "metadata": {
      "needs_background": "light"
     },
     "output_type": "display_data"
    }
   ],
   "source": [
    "PS3_cor.plot(x='critic_score', y='total_sales', kind='scatter', title='PS3');\n",
    "plt.title(label='Зависимость продаж от оценок критиков\\n на платформе PS3', fontsize=14, fontweight=\"bold\")\n",
    "plt.xlabel(\"Оценки критиков\", fontsize=14, fontweight=\"bold\")\n",
    "plt.ylabel(\"Продажи\", fontsize=14, fontweight=\"bold\")\n",
    "\n",
    "PS3_cor.plot(x='user_score', y='total_sales', kind='scatter', title='PS3');\n",
    "plt.title(label='Зависимость продаж от оценок пользователей\\n на платформе PS3', fontsize=14, fontweight=\"bold\")\n",
    "plt.xlabel(\"Оценки пользователей\", fontsize=14, fontweight=\"bold\")\n",
    "plt.ylabel(\"Продажи\", fontsize=14, fontweight=\"bold\")"
   ]
  },
  {
   "cell_type": "markdown",
   "metadata": {},
   "source": [
    "Исходя из графиков рассеяния можно сказать, что объем продаж довольно резко возрастает при оценке критиков от 60 и выше, до этой отметки продажи малы.\n",
    "Зависимость продаж от оценок пользователей менее выраженная, но можно сказать, что продажи растут начиная с отметок в 2-4 балла\n",
    "\n",
    "В целом коэффициент корреляции показывает, что зависимость продаж от оценок критиков сильнее, чем от оценок пользователей."
   ]
  },
  {
   "cell_type": "code",
   "execution_count": 34,
   "metadata": {
    "scrolled": false
   },
   "outputs": [
    {
     "data": {
      "image/png": "[encoded data removed]",
      "text/plain": [
       "<Figure size 576x576 with 1 Axes>"
      ]
     },
     "metadata": {},
     "output_type": "display_data"
    }
   ],
   "source": [
    "#Посмотрим на общее распределение игр по жанрам\n",
    "games_relevant['genre'].value_counts().plot(kind='pie', figsize=(8, 8), legend=False);"
   ]
  },
  {
   "cell_type": "markdown",
   "metadata": {},
   "source": [
    "Жанр Action лидирует с отрывом, далее идут игры ролевые, приключения, спортивные и стрелялки. Наименьшее количество игр в жанре Puzzle (довольно специфичный вид игры, который не всем нравится)."
   ]
  },
  {
   "cell_type": "code",
   "execution_count": 35,
   "metadata": {
    "scrolled": false
   },
   "outputs": [
    {
     "data": {
      "image/png": "[encoded data removed]",
      "text/plain": [
       "<Figure size 720x360 with 1 Axes>"
      ]
     },
     "metadata": {
      "needs_background": "light"
     },
     "output_type": "display_data"
    }
   ],
   "source": [
    "#Посмотрим как распределяются продажи в зависимости от жанра игры:\n",
    "(games_relevant\n",
    "                   .pivot_table(index='genre', aggfunc={'total_sales':sum})\n",
    "                   .sort_values(by='total_sales', ascending=False)\n",
    "                   .plot(y='total_sales', kind='bar', figsize=(10, 5))\n",
    ");"
   ]
  },
  {
   "cell_type": "markdown",
   "metadata": {},
   "source": [
    "В целом похожая картина. Жанр Action лидирует в продажах, далее шутеры, ролевые и спортивные. Однако игры жанра Adventure на этот раз в конце списка. Несмотря на то, что производят их довольно много продаются они крайне плохо по сравнение с остальными топовыми жанрами. Жанр Puzzle замыкает список."
   ]
  },
  {
   "cell_type": "code",
   "execution_count": 36,
   "metadata": {
    "scrolled": true
   },
   "outputs": [
    {
     "data": {
      "text/plain": [
       "(0.0, 2.5)"
      ]
     },
     "execution_count": 36,
     "metadata": {},
     "output_type": "execute_result"
    },
    {
     "data": {
      "image/png": "[encoded data removed]",
      "text/plain": [
       "<Figure size 1080x720 with 1 Axes>"
      ]
     },
     "metadata": {
      "needs_background": "light"
     },
     "output_type": "display_data"
    }
   ],
   "source": [
    "plt.figure(figsize=(15,10))\n",
    "sns.boxplot(data=games_relevant, x='total_sales', y='genre')\n",
    "\n",
    "plt.title(label='Диаграмма размаха по глобальным продажам игр в разбивке по жанрам\\n', fontsize=18, fontweight=\"bold\")\n",
    "plt.xlabel(\"\\nСуммарные продажи\", fontsize=14, fontweight=\"bold\")\n",
    "plt.ylabel(\"Жанры\", fontsize=14, fontweight=\"bold\")\n",
    "plt.xlim(0, 2.5)"
   ]
  },
  {
   "cell_type": "markdown",
   "metadata": {},
   "source": [
    "Построив график \"ящик с усами\" в разбивке по жанрам можно заметить сильное различие. Лидерства жанра Action как и не было. Здесь с большим отрывом лидирует жанр \"Shooter\", так же хорошие показатели показывают жанры \"Sports\", \"Platform\", \"Racing\" и \"Role-Playing\". И только после этих жанров идет лидириющещй при анализе ранее \"Action\"."
   ]
  },
  {
   "cell_type": "markdown",
   "metadata": {},
   "source": [
    "## Портрет пользователя каждого региона"
   ]
  },
  {
   "cell_type": "code",
   "execution_count": 37,
   "metadata": {
    "scrolled": true
   },
   "outputs": [
    {
     "data": {
      "text/html": [
       "<div>\n",
       "<style scoped>\n",
       "    .dataframe tbody tr th:only-of-type {\n",
       "        vertical-align: middle;\n",
       "    }\n",
       "\n",
       "    .dataframe tbody tr th {\n",
       "        vertical-align: top;\n",
       "    }\n",
       "\n",
       "    .dataframe thead th {\n",
       "        text-align: right;\n",
       "    }\n",
       "</style>\n",
       "<table border=\"1\" class=\"dataframe\">\n",
       "  <thead>\n",
       "    <tr style=\"text-align: right;\">\n",
       "      <th></th>\n",
       "      <th>eu_sales</th>\n",
       "      <th>jp_sales</th>\n",
       "      <th>na_sales</th>\n",
       "    </tr>\n",
       "    <tr>\n",
       "      <th>platform</th>\n",
       "      <th></th>\n",
       "      <th></th>\n",
       "      <th></th>\n",
       "    </tr>\n",
       "  </thead>\n",
       "  <tbody>\n",
       "    <tr>\n",
       "      <th>3DS</th>\n",
       "      <td>42.64</td>\n",
       "      <td>87.79</td>\n",
       "      <td>55.31</td>\n",
       "    </tr>\n",
       "    <tr>\n",
       "      <th>DS</th>\n",
       "      <td>3.53</td>\n",
       "      <td>3.72</td>\n",
       "      <td>4.59</td>\n",
       "    </tr>\n",
       "    <tr>\n",
       "      <th>PC</th>\n",
       "      <td>37.76</td>\n",
       "      <td>0.00</td>\n",
       "      <td>19.12</td>\n",
       "    </tr>\n",
       "    <tr>\n",
       "      <th>PS3</th>\n",
       "      <td>106.86</td>\n",
       "      <td>35.29</td>\n",
       "      <td>103.38</td>\n",
       "    </tr>\n",
       "    <tr>\n",
       "      <th>PS4</th>\n",
       "      <td>141.09</td>\n",
       "      <td>15.96</td>\n",
       "      <td>108.74</td>\n",
       "    </tr>\n",
       "    <tr>\n",
       "      <th>PSP</th>\n",
       "      <td>0.42</td>\n",
       "      <td>10.47</td>\n",
       "      <td>0.13</td>\n",
       "    </tr>\n",
       "    <tr>\n",
       "      <th>PSV</th>\n",
       "      <td>11.36</td>\n",
       "      <td>21.04</td>\n",
       "      <td>10.98</td>\n",
       "    </tr>\n",
       "    <tr>\n",
       "      <th>Wii</th>\n",
       "      <td>11.92</td>\n",
       "      <td>3.39</td>\n",
       "      <td>17.45</td>\n",
       "    </tr>\n",
       "    <tr>\n",
       "      <th>WiiU</th>\n",
       "      <td>25.13</td>\n",
       "      <td>13.01</td>\n",
       "      <td>38.10</td>\n",
       "    </tr>\n",
       "    <tr>\n",
       "      <th>X360</th>\n",
       "      <td>74.52</td>\n",
       "      <td>1.57</td>\n",
       "      <td>140.05</td>\n",
       "    </tr>\n",
       "    <tr>\n",
       "      <th>XOne</th>\n",
       "      <td>51.59</td>\n",
       "      <td>0.34</td>\n",
       "      <td>93.12</td>\n",
       "    </tr>\n",
       "  </tbody>\n",
       "</table>\n",
       "</div>"
      ],
      "text/plain": [
       "          eu_sales  jp_sales  na_sales\n",
       "platform                              \n",
       "3DS          42.64     87.79     55.31\n",
       "DS            3.53      3.72      4.59\n",
       "PC           37.76      0.00     19.12\n",
       "PS3         106.86     35.29    103.38\n",
       "PS4         141.09     15.96    108.74\n",
       "PSP           0.42     10.47      0.13\n",
       "PSV          11.36     21.04     10.98\n",
       "Wii          11.92      3.39     17.45\n",
       "WiiU         25.13     13.01     38.10\n",
       "X360         74.52      1.57    140.05\n",
       "XOne         51.59      0.34     93.12"
      ]
     },
     "execution_count": 37,
     "metadata": {},
     "output_type": "execute_result"
    }
   ],
   "source": [
    "top5_platforms_per_region = (games_relevant\n",
    "        .pivot_table(index='platform', aggfunc={'na_sales':sum, 'eu_sales':sum, 'jp_sales':sum})\n",
    "       )\n",
    "   \n",
    "top5_platforms_per_region"
   ]
  },
  {
   "cell_type": "markdown",
   "metadata": {},
   "source": [
    "Построим графики распределения продаж по платформам оставив самые популярные:"
   ]
  },
  {
   "cell_type": "code",
   "execution_count": 38,
   "metadata": {
    "scrolled": false
   },
   "outputs": [
    {
     "data": {
      "image/png": "[encoded data removed]",
      "text/plain": [
       "<Figure size 720x360 with 1 Axes>"
      ]
     },
     "metadata": {
      "needs_background": "light"
     },
     "output_type": "display_data"
    },
    {
     "data": {
      "image/png": "[encoded data removed]",
      "text/plain": [
       "<Figure size 720x360 with 1 Axes>"
      ]
     },
     "metadata": {
      "needs_background": "light"
     },
     "output_type": "display_data"
    },
    {
     "data": {
      "image/png": "[encoded data removed]",
      "text/plain": [
       "<Figure size 720x360 with 1 Axes>"
      ]
     },
     "metadata": {
      "needs_background": "light"
     },
     "output_type": "display_data"
    }
   ],
   "source": [
    "# список регионов для цикла\n",
    "region = ['eu_sales', 'na_sales', 'jp_sales']\n",
    "\n",
    "for i in range(0, 3):\n",
    "    (top5_platforms_per_region\n",
    "     .nlargest(5, columns=region[i])\n",
    "     .plot(y=region[i], kind='bar', figsize=(10, 5), title=region[i]+'_top_5_platforms')\n",
    "    )"
   ]
  },
  {
   "cell_type": "markdown",
   "metadata": {},
   "source": [
    "В Европе самая популярная платформа PS4, в Северной Америке X360, в Японии - Nintendo 3DS. Американцы и японцы поддерживают своих производителей."
   ]
  },
  {
   "cell_type": "markdown",
   "metadata": {},
   "source": [
    "Для каждого региона посчитаем суммарные продажи по жанрам и определим 5 самых популярных."
   ]
  },
  {
   "cell_type": "code",
   "execution_count": 39,
   "metadata": {
    "scrolled": true
   },
   "outputs": [
    {
     "data": {
      "text/html": [
       "<div>\n",
       "<style scoped>\n",
       "    .dataframe tbody tr th:only-of-type {\n",
       "        vertical-align: middle;\n",
       "    }\n",
       "\n",
       "    .dataframe tbody tr th {\n",
       "        vertical-align: top;\n",
       "    }\n",
       "\n",
       "    .dataframe thead th {\n",
       "        text-align: right;\n",
       "    }\n",
       "</style>\n",
       "<table border=\"1\" class=\"dataframe\">\n",
       "  <thead>\n",
       "    <tr style=\"text-align: right;\">\n",
       "      <th></th>\n",
       "      <th>eu_sales</th>\n",
       "      <th>jp_sales</th>\n",
       "      <th>na_sales</th>\n",
       "    </tr>\n",
       "    <tr>\n",
       "      <th>genre</th>\n",
       "      <th></th>\n",
       "      <th></th>\n",
       "      <th></th>\n",
       "    </tr>\n",
       "  </thead>\n",
       "  <tbody>\n",
       "    <tr>\n",
       "      <th>Action</th>\n",
       "      <td>159.34</td>\n",
       "      <td>52.80</td>\n",
       "      <td>177.84</td>\n",
       "    </tr>\n",
       "    <tr>\n",
       "      <th>Adventure</th>\n",
       "      <td>9.46</td>\n",
       "      <td>8.24</td>\n",
       "      <td>8.92</td>\n",
       "    </tr>\n",
       "    <tr>\n",
       "      <th>Fighting</th>\n",
       "      <td>10.79</td>\n",
       "      <td>9.44</td>\n",
       "      <td>19.79</td>\n",
       "    </tr>\n",
       "    <tr>\n",
       "      <th>Misc</th>\n",
       "      <td>26.32</td>\n",
       "      <td>12.86</td>\n",
       "      <td>38.19</td>\n",
       "    </tr>\n",
       "    <tr>\n",
       "      <th>Platform</th>\n",
       "      <td>21.41</td>\n",
       "      <td>8.63</td>\n",
       "      <td>25.38</td>\n",
       "    </tr>\n",
       "    <tr>\n",
       "      <th>Puzzle</th>\n",
       "      <td>1.40</td>\n",
       "      <td>2.14</td>\n",
       "      <td>1.13</td>\n",
       "    </tr>\n",
       "    <tr>\n",
       "      <th>Racing</th>\n",
       "      <td>27.29</td>\n",
       "      <td>2.50</td>\n",
       "      <td>17.22</td>\n",
       "    </tr>\n",
       "    <tr>\n",
       "      <th>Role-Playing</th>\n",
       "      <td>48.53</td>\n",
       "      <td>65.44</td>\n",
       "      <td>64.00</td>\n",
       "    </tr>\n",
       "    <tr>\n",
       "      <th>Shooter</th>\n",
       "      <td>113.47</td>\n",
       "      <td>9.23</td>\n",
       "      <td>144.77</td>\n",
       "    </tr>\n",
       "    <tr>\n",
       "      <th>Simulation</th>\n",
       "      <td>14.55</td>\n",
       "      <td>10.41</td>\n",
       "      <td>7.97</td>\n",
       "    </tr>\n",
       "    <tr>\n",
       "      <th>Sports</th>\n",
       "      <td>69.09</td>\n",
       "      <td>8.01</td>\n",
       "      <td>81.53</td>\n",
       "    </tr>\n",
       "    <tr>\n",
       "      <th>Strategy</th>\n",
       "      <td>5.17</td>\n",
       "      <td>2.88</td>\n",
       "      <td>4.23</td>\n",
       "    </tr>\n",
       "  </tbody>\n",
       "</table>\n",
       "</div>"
      ],
      "text/plain": [
       "              eu_sales  jp_sales  na_sales\n",
       "genre                                     \n",
       "Action          159.34     52.80    177.84\n",
       "Adventure         9.46      8.24      8.92\n",
       "Fighting         10.79      9.44     19.79\n",
       "Misc             26.32     12.86     38.19\n",
       "Platform         21.41      8.63     25.38\n",
       "Puzzle            1.40      2.14      1.13\n",
       "Racing           27.29      2.50     17.22\n",
       "Role-Playing     48.53     65.44     64.00\n",
       "Shooter         113.47      9.23    144.77\n",
       "Simulation       14.55     10.41      7.97\n",
       "Sports           69.09      8.01     81.53\n",
       "Strategy          5.17      2.88      4.23"
      ]
     },
     "execution_count": 39,
     "metadata": {},
     "output_type": "execute_result"
    }
   ],
   "source": [
    "top5_genre_per_region = (games_relevant\n",
    "        .pivot_table(index='genre', aggfunc={'na_sales':sum, 'eu_sales':sum, 'jp_sales':sum})\n",
    "       )\n",
    "   \n",
    "top5_genre_per_region"
   ]
  },
  {
   "cell_type": "code",
   "execution_count": 40,
   "metadata": {
    "scrolled": true
   },
   "outputs": [
    {
     "data": {
      "image/png": "[encoded data removed]",
      "text/plain": [
       "<Figure size 720x360 with 1 Axes>"
      ]
     },
     "metadata": {
      "needs_background": "light"
     },
     "output_type": "display_data"
    },
    {
     "data": {
      "image/png": "[encoded data removed]",
      "text/plain": [
       "<Figure size 720x360 with 1 Axes>"
      ]
     },
     "metadata": {
      "needs_background": "light"
     },
     "output_type": "display_data"
    },
    {
     "data": {
      "image/png": "[encoded data removed]",
      "text/plain": [
       "<Figure size 720x360 with 1 Axes>"
      ]
     },
     "metadata": {
      "needs_background": "light"
     },
     "output_type": "display_data"
    }
   ],
   "source": [
    "for i in range(0, 3):\n",
    "    (top5_genre_per_region\n",
    "     .nlargest(5, columns=region[i])\n",
    "     .plot(y=region[i], kind='bar', figsize=(10, 5), title=region[i]+'_top_5_genre')\n",
    "    )"
   ]
  },
  {
   "cell_type": "markdown",
   "metadata": {},
   "source": [
    "Пользователи Европы и Северной Америки практически идентичны, за исключением последнего жанра: в Европе это гонки, а в Северной Америке - аркады. Пользователи Японии как ввсегда особенные, предпочитают ролевые игры, но также разделяют любовь жителей запада к жанру Action. В Японии жанры Role и Action лидеры в продажах с большим и резким отрывом от остальных жанров."
   ]
  },
  {
   "cell_type": "markdown",
   "metadata": {},
   "source": [
    "Пользователи Европы и Северной Америки играют в целом в одни и те же консоли и игровая индустрия больше развита в игре из дома, поэтому популярны жанры - Action, Sports, Shooter. В Японии преобладают пользователи с портативными консолями, в которые можно играть не только дома, поэтому они предпочитают жанр - Role-Playing и редко играют в игры с жанром - Shooter."
   ]
  },
  {
   "cell_type": "code",
   "execution_count": 41,
   "metadata": {
    "scrolled": true
   },
   "outputs": [
    {
     "data": {
      "text/html": [
       "<div>\n",
       "<style scoped>\n",
       "    .dataframe tbody tr th:only-of-type {\n",
       "        vertical-align: middle;\n",
       "    }\n",
       "\n",
       "    .dataframe tbody tr th {\n",
       "        vertical-align: top;\n",
       "    }\n",
       "\n",
       "    .dataframe thead th {\n",
       "        text-align: right;\n",
       "    }\n",
       "</style>\n",
       "<table border=\"1\" class=\"dataframe\">\n",
       "  <thead>\n",
       "    <tr style=\"text-align: right;\">\n",
       "      <th></th>\n",
       "      <th>eu_sales</th>\n",
       "      <th>jp_sales</th>\n",
       "      <th>na_sales</th>\n",
       "    </tr>\n",
       "    <tr>\n",
       "      <th>rating</th>\n",
       "      <th></th>\n",
       "      <th></th>\n",
       "      <th></th>\n",
       "    </tr>\n",
       "  </thead>\n",
       "  <tbody>\n",
       "    <tr>\n",
       "      <th>E</th>\n",
       "      <td>113.03</td>\n",
       "      <td>28.33</td>\n",
       "      <td>114.37</td>\n",
       "    </tr>\n",
       "    <tr>\n",
       "      <th>E10+</th>\n",
       "      <td>55.37</td>\n",
       "      <td>8.19</td>\n",
       "      <td>75.70</td>\n",
       "    </tr>\n",
       "    <tr>\n",
       "      <th>M</th>\n",
       "      <td>193.96</td>\n",
       "      <td>21.20</td>\n",
       "      <td>231.57</td>\n",
       "    </tr>\n",
       "    <tr>\n",
       "      <th>T</th>\n",
       "      <td>52.96</td>\n",
       "      <td>26.02</td>\n",
       "      <td>66.02</td>\n",
       "    </tr>\n",
       "    <tr>\n",
       "      <th>unknown</th>\n",
       "      <td>91.50</td>\n",
       "      <td>108.84</td>\n",
       "      <td>103.31</td>\n",
       "    </tr>\n",
       "  </tbody>\n",
       "</table>\n",
       "</div>"
      ],
      "text/plain": [
       "         eu_sales  jp_sales  na_sales\n",
       "rating                               \n",
       "E          113.03     28.33    114.37\n",
       "E10+        55.37      8.19     75.70\n",
       "M          193.96     21.20    231.57\n",
       "T           52.96     26.02     66.02\n",
       "unknown     91.50    108.84    103.31"
      ]
     },
     "execution_count": 41,
     "metadata": {},
     "output_type": "execute_result"
    }
   ],
   "source": [
    "#Влияние рейтинга ESRB на продажи в каждом отдельном регионе\n",
    "rating_sum = games_relevant.pivot_table(index='rating', aggfunc={'na_sales':sum, 'eu_sales':sum, 'jp_sales':sum})\n",
    "rating_sum"
   ]
  },
  {
   "cell_type": "code",
   "execution_count": 42,
   "metadata": {
    "scrolled": true
   },
   "outputs": [
    {
     "data": {
      "image/png": "[encoded data removed]",
      "text/plain": [
       "<Figure size 720x360 with 1 Axes>"
      ]
     },
     "metadata": {
      "needs_background": "light"
     },
     "output_type": "display_data"
    },
    {
     "data": {
      "image/png": "[encoded data removed]",
      "text/plain": [
       "<Figure size 720x360 with 1 Axes>"
      ]
     },
     "metadata": {
      "needs_background": "light"
     },
     "output_type": "display_data"
    },
    {
     "data": {
      "image/png": "[encoded data removed]",
      "text/plain": [
       "<Figure size 720x360 with 1 Axes>"
      ]
     },
     "metadata": {
      "needs_background": "light"
     },
     "output_type": "display_data"
    }
   ],
   "source": [
    "for i in range(0, 3):\n",
    "    (rating_sum\n",
    "     .sort_values(by=region[i], ascending=False)\n",
    "     .plot(y=region[i], kind='bar', figsize=(10, 5), title=region[i]+'_rating')\n",
    "    )"
   ]
  },
  {
   "cell_type": "markdown",
   "metadata": {},
   "source": [
    "В Америке и Европе идентичное распределение продаж в зависимости от рейтингов: преобладают, с большим отрывом, игры для взрослых, далее игры для всех, на третьем месте игры с неизвестным рейтингом и замыкают игры 13+.\n",
    "\n",
    "В Японии все опять не так: лидируют игры с неизвестным рейтингом с большим отрывом, меньше всего популярны игры 10+.\n",
    "\n",
    "В целом можно сказать, что американцы и европейцы схожи в выборе платформ, жанров и возрастного рейтинга игр. Т.е. портреты пользователей идентичны.\n",
    "Японцы сильно отличаются в предпочтениях от западных игроков. Я думаю это связанно с тем, что Япония страна консервативная в плане традиций и культуры, в стране меньшее количество иммигрантов, чем в остальных областях планеты. Поэтому так хорошо и четко просматриваются различия в предпочтениях.\n"
   ]
  },
  {
   "cell_type": "markdown",
   "metadata": {},
   "source": [
    "## Проверка гипотез"
   ]
  },
  {
   "cell_type": "markdown",
   "metadata": {},
   "source": [
    "#Гипотеза 1:\n",
    "#Средние пользовательские рейтинги платформ Xbox One и PC одинаковые.\n",
    "\n",
    "#Сформулируем нулевую и альтернативную гипотезы:\n",
    "\n",
    "#H0 - средние пользовательские рейтинги платформ Xbox One и PC равны (в H0 всегда используется знак равенства);\n",
    "\n",
    "#H1 - средний пользовательский рейтинг платформы Xbox One отличается от среднего пользовательского рейтинга платформы PC.\n",
    "\n"
   ]
  },
  {
   "cell_type": "code",
   "execution_count": 43,
   "metadata": {},
   "outputs": [
    {
     "name": "stdout",
     "output_type": "stream",
     "text": [
      "Средний пользовательский рейтинг платформы Xbox One: 6.521428571428572\n",
      "Средний пользовательский рейтинг платформы PC 6.4286407766990274\n"
     ]
    }
   ],
   "source": [
    "XOne = games_relevant[(games_relevant['platform'] == 'XOne') &  (games_relevant['user_score'] > 0)]['user_score']\n",
    "PC = games_relevant[(games_relevant['platform'] == 'PC') &  (games_relevant['user_score'] > 0)]['user_score']\n",
    "print('Средний пользовательский рейтинг платформы Xbox One:', XOne.mean())\n",
    "print('Средний пользовательский рейтинг платформы PC', PC.mean())"
   ]
  },
  {
   "cell_type": "code",
   "execution_count": 44,
   "metadata": {},
   "outputs": [
    {
     "name": "stdout",
     "output_type": "stream",
     "text": [
      "p-значение: 0.5489537965134912\n",
      "Не получилось отвергнуть нулевую гипотезу\n"
     ]
    }
   ],
   "source": [
    "#проверяем первую гипотезу\n",
    "\n",
    "alpha = .05\n",
    "\n",
    "results = st.ttest_ind(XOne, PC, equal_var=False)\n",
    "\n",
    "print('p-значение:', results.pvalue)\n",
    "\n",
    "\n",
    "if (results.pvalue < alpha):\n",
    "    print(\"Отвергаем нулевую гипотезу\")\n",
    "else:\n",
    "    print(\"Не получилось отвергнуть нулевую гипотезу\")"
   ]
  },
  {
   "cell_type": "markdown",
   "metadata": {},
   "source": [
    "Вывод: 1 гипотеза подтвердилась. Средние пользовательские рейтинги платформ Xbox One и PC одинаковые"
   ]
  },
  {
   "cell_type": "markdown",
   "metadata": {},
   "source": [
    "#Гипотеза 2: #Cредние пользовательские рейтинги жанров Action (англ. «действие», экшен-игры) и Sports (англ. «спортивные соревнования») разные.\n",
    "\n",
    "#Сформулируем нулевую и альтернативную гипотезы:\n",
    "\n",
    "#H0 - средние пользовательские рейтинги жанров Action и Sports равны (в H0 всегда используется знак равенства);\n",
    "\n",
    "#H1 - средние пользовательские рейтинги жанров Action и Sports различаются."
   ]
  },
  {
   "cell_type": "code",
   "execution_count": 45,
   "metadata": {},
   "outputs": [
    {
     "name": "stdout",
     "output_type": "stream",
     "text": [
      "Средний пользовательский рейтинг жанра Action: 6.825047801147227\n",
      "Средний пользовательский рейтинг жанра Sports 5.455897435897437\n"
     ]
    }
   ],
   "source": [
    "Action = games_relevant[(games_relevant['genre'] == 'Action') &  (games_relevant['user_score'] > 0)]['user_score']\n",
    "Sports = games_relevant[(games_relevant['genre'] == 'Sports') &  (games_relevant['user_score'] > 0)]['user_score']\n",
    "print('Средний пользовательский рейтинг жанра Action:', Action.mean())\n",
    "print('Средний пользовательский рейтинг жанра Sports', Sports.mean())"
   ]
  },
  {
   "cell_type": "code",
   "execution_count": 46,
   "metadata": {},
   "outputs": [
    {
     "name": "stdout",
     "output_type": "stream",
     "text": [
      "p-значение: 4.24307776572644e-20\n",
      "Отвергаем нулевую гипотезу\n"
     ]
    }
   ],
   "source": [
    "#проверяем вторую гипотезу\n",
    "\n",
    "alpha = .05\n",
    "\n",
    "results = st.ttest_ind(Action, Sports, equal_var=False)\n",
    "\n",
    "print('p-значение:', results.pvalue)\n",
    "\n",
    "\n",
    "if (results.pvalue < alpha):\n",
    "    print(\"Отвергаем нулевую гипотезу\")\n",
    "else:\n",
    "    print(\"Не получилось отвергнуть нулевую гипотезу\")"
   ]
  },
  {
   "cell_type": "markdown",
   "metadata": {},
   "source": [
    "Вывод: 2 гипотеза подтвердилась. Средние пользовательские рейтинги жанров Action и Sports разные"
   ]
  },
  {
   "cell_type": "markdown",
   "metadata": {},
   "source": [
    "## Напишите общий вывод"
   ]
  },
  {
   "cell_type": "markdown",
   "metadata": {},
   "source": [
    "Критерии определяющие успешность игры:\n",
    "\n",
    "1.Регион\n",
    "\n",
    " - Рейтинг ассоциации, определяющей возрастной рейтинг компьютерных игр\n",
    "\n",
    " - Платформа, которая наиболее распространена в данном регионе\n",
    "\n",
    " - Жанр\n",
    "\n",
    "2.Рейтинг критиков (влияет на количество продаж во всех регионах)\n",
    "\n",
    " - Игры, которые будут продаваться в Северной Америке лучше всего:\n",
    "\n",
    "ESRB: M, E, Unknown\n",
    "\n",
    "Платформ(в порядке убывания): Xbox360, PS4, PS3, XOne, 3DS\n",
    "\n",
    "Жанры: Action, Sports, Shooter, Role-Playing, Misc\n",
    "\n",
    "\n",
    " - Игры, которые будут продаваться в Европе лучше всего:\n",
    "\n",
    "ESRB: M, E, Unknown\n",
    "\n",
    "Платформы: в PS4, PS3, Xbox360, XOne, 3DS\n",
    "\n",
    "Жанры: Action, Sports, Shooter, Role-Playing, Racing\n",
    "\n",
    "\n",
    " - Игры, которые будут продаваться в Японии лучше всего:\n",
    "\n",
    "ESRB: Unknown, E, T\n",
    "\n",
    "Платформы: 3DS, PS3, PSV, PS4, Wii\n",
    "\n",
    "Жанры: Role-Playing, Action, Misc, Sumulation, Fighting"
   ]
  },
  {
   "cell_type": "code",
   "execution_count": null,
   "metadata": {},
   "outputs": [],
   "source": []
  }
 ],
 "metadata": {
  "ExecuteTimeLog": [
   {
    "duration": 16,
    "start_time": "2023-02-07T09:26:17.681Z"
   },
   {
    "duration": 72,
    "start_time": "2023-02-07T10:08:02.461Z"
   },
   {
    "duration": 13,
    "start_time": "2023-02-07T10:08:09.151Z"
   },
   {
    "duration": 14,
    "start_time": "2023-02-07T10:08:43.381Z"
   },
   {
    "duration": 11,
    "start_time": "2023-02-07T10:12:29.227Z"
   },
   {
    "duration": 14,
    "start_time": "2023-02-07T10:13:20.338Z"
   },
   {
    "duration": 10,
    "start_time": "2023-02-07T10:14:14.447Z"
   },
   {
    "duration": 8,
    "start_time": "2023-02-07T10:14:21.515Z"
   },
   {
    "duration": 19,
    "start_time": "2023-02-07T10:14:26.283Z"
   },
   {
    "duration": 74,
    "start_time": "2023-02-07T10:17:14.579Z"
   },
   {
    "duration": 14,
    "start_time": "2023-02-07T10:17:28.163Z"
   },
   {
    "duration": 5,
    "start_time": "2023-02-07T10:17:47.028Z"
   },
   {
    "duration": 8,
    "start_time": "2023-02-07T10:21:30.650Z"
   },
   {
    "duration": 10,
    "start_time": "2023-02-07T10:21:35.238Z"
   },
   {
    "duration": 6,
    "start_time": "2023-02-07T10:27:27.552Z"
   },
   {
    "duration": 14,
    "start_time": "2023-02-07T10:27:37.813Z"
   },
   {
    "duration": 5,
    "start_time": "2023-02-07T10:27:53.701Z"
   },
   {
    "duration": 8,
    "start_time": "2023-02-07T10:31:02.261Z"
   },
   {
    "duration": 989,
    "start_time": "2023-02-07T10:31:37.045Z"
   },
   {
    "duration": 1214,
    "start_time": "2023-02-07T10:31:46.876Z"
   },
   {
    "duration": 18,
    "start_time": "2023-02-07T10:31:48.093Z"
   },
   {
    "duration": 13,
    "start_time": "2023-02-07T10:31:48.113Z"
   },
   {
    "duration": 17,
    "start_time": "2023-02-07T10:31:48.129Z"
   },
   {
    "duration": 10,
    "start_time": "2023-02-07T10:31:48.147Z"
   },
   {
    "duration": 13,
    "start_time": "2023-02-07T10:31:48.158Z"
   },
   {
    "duration": 20,
    "start_time": "2023-02-07T10:31:48.194Z"
   },
   {
    "duration": 7,
    "start_time": "2023-02-07T10:31:48.215Z"
   },
   {
    "duration": 7,
    "start_time": "2023-02-07T10:31:48.224Z"
   },
   {
    "duration": 5,
    "start_time": "2023-02-07T10:32:00.355Z"
   },
   {
    "duration": 8,
    "start_time": "2023-02-07T10:32:49.108Z"
   },
   {
    "duration": 101,
    "start_time": "2023-02-07T10:33:30.800Z"
   },
   {
    "duration": 4,
    "start_time": "2023-02-07T10:33:40.634Z"
   },
   {
    "duration": 10,
    "start_time": "2023-02-07T10:33:48.614Z"
   },
   {
    "duration": 9,
    "start_time": "2023-02-07T10:34:13.550Z"
   },
   {
    "duration": 8,
    "start_time": "2023-02-07T10:34:38.797Z"
   },
   {
    "duration": 6,
    "start_time": "2023-02-07T10:34:41.139Z"
   },
   {
    "duration": 14,
    "start_time": "2023-02-07T10:37:38.004Z"
   },
   {
    "duration": 17,
    "start_time": "2023-02-07T10:37:51.536Z"
   },
   {
    "duration": 15,
    "start_time": "2023-02-07T10:38:47.859Z"
   },
   {
    "duration": 13,
    "start_time": "2023-02-07T10:42:16.408Z"
   },
   {
    "duration": 1207,
    "start_time": "2023-02-07T10:42:26.438Z"
   },
   {
    "duration": 13,
    "start_time": "2023-02-07T10:42:27.647Z"
   },
   {
    "duration": 12,
    "start_time": "2023-02-07T10:42:27.662Z"
   },
   {
    "duration": 6,
    "start_time": "2023-02-07T10:42:27.675Z"
   },
   {
    "duration": 11,
    "start_time": "2023-02-07T10:42:27.691Z"
   },
   {
    "duration": 14,
    "start_time": "2023-02-07T10:42:27.704Z"
   },
   {
    "duration": 6,
    "start_time": "2023-02-07T10:42:27.720Z"
   },
   {
    "duration": 13,
    "start_time": "2023-02-07T10:42:27.728Z"
   },
   {
    "duration": 17,
    "start_time": "2023-02-07T10:42:27.743Z"
   },
   {
    "duration": 52,
    "start_time": "2023-02-07T10:42:27.762Z"
   },
   {
    "duration": 125,
    "start_time": "2023-02-07T11:02:36.416Z"
   },
   {
    "duration": 14,
    "start_time": "2023-02-07T11:02:47.154Z"
   },
   {
    "duration": 346,
    "start_time": "2023-02-07T11:04:23.396Z"
   },
   {
    "duration": 18,
    "start_time": "2023-02-07T11:09:08.474Z"
   },
   {
    "duration": 167,
    "start_time": "2023-02-07T11:09:38.349Z"
   },
   {
    "duration": 20,
    "start_time": "2023-02-07T11:11:43.665Z"
   },
   {
    "duration": 2038,
    "start_time": "2023-02-07T11:12:14.413Z"
   },
   {
    "duration": 15,
    "start_time": "2023-02-07T11:21:05.088Z"
   },
   {
    "duration": 119,
    "start_time": "2023-02-07T11:21:12.074Z"
   },
   {
    "duration": 16,
    "start_time": "2023-02-07T11:21:44.232Z"
   },
   {
    "duration": 18,
    "start_time": "2023-02-07T11:23:05.421Z"
   },
   {
    "duration": 11,
    "start_time": "2023-02-07T11:23:30.324Z"
   },
   {
    "duration": 26,
    "start_time": "2023-02-07T11:23:46.965Z"
   },
   {
    "duration": 15,
    "start_time": "2023-02-07T11:23:48.924Z"
   },
   {
    "duration": 134,
    "start_time": "2023-02-07T11:25:12.536Z"
   },
   {
    "duration": 154,
    "start_time": "2023-02-07T11:26:55.806Z"
   },
   {
    "duration": 201,
    "start_time": "2023-02-07T11:27:26.191Z"
   },
   {
    "duration": 14,
    "start_time": "2023-02-07T11:28:26.841Z"
   },
   {
    "duration": 167,
    "start_time": "2023-02-07T11:30:02.396Z"
   },
   {
    "duration": 366,
    "start_time": "2023-02-07T11:30:35.347Z"
   },
   {
    "duration": 23,
    "start_time": "2023-02-07T11:33:01.719Z"
   },
   {
    "duration": 14,
    "start_time": "2023-02-07T11:33:12.663Z"
   },
   {
    "duration": 1199,
    "start_time": "2023-02-07T11:33:18.727Z"
   },
   {
    "duration": 15,
    "start_time": "2023-02-07T11:33:19.928Z"
   },
   {
    "duration": 15,
    "start_time": "2023-02-07T11:33:19.944Z"
   },
   {
    "duration": 5,
    "start_time": "2023-02-07T11:33:19.960Z"
   },
   {
    "duration": 31,
    "start_time": "2023-02-07T11:33:19.967Z"
   },
   {
    "duration": 18,
    "start_time": "2023-02-07T11:33:20.000Z"
   },
   {
    "duration": 9,
    "start_time": "2023-02-07T11:33:20.020Z"
   },
   {
    "duration": 18,
    "start_time": "2023-02-07T11:33:20.030Z"
   },
   {
    "duration": 27,
    "start_time": "2023-02-07T11:33:20.049Z"
   },
   {
    "duration": 35,
    "start_time": "2023-02-07T11:33:20.078Z"
   },
   {
    "duration": 14,
    "start_time": "2023-02-07T11:33:20.115Z"
   },
   {
    "duration": 372,
    "start_time": "2023-02-07T11:33:20.131Z"
   },
   {
    "duration": 20,
    "start_time": "2023-02-07T11:33:20.505Z"
   },
   {
    "duration": 210,
    "start_time": "2023-02-07T11:33:20.527Z"
   },
   {
    "duration": 1890,
    "start_time": "2023-02-07T11:33:20.739Z"
   },
   {
    "duration": 118,
    "start_time": "2023-02-07T11:33:22.630Z"
   },
   {
    "duration": 311,
    "start_time": "2023-02-07T11:33:22.750Z"
   },
   {
    "duration": 5,
    "start_time": "2023-02-07T11:47:05.119Z"
   },
   {
    "duration": 137,
    "start_time": "2023-02-07T11:47:25.113Z"
   },
   {
    "duration": 304,
    "start_time": "2023-02-07T11:47:53.119Z"
   },
   {
    "duration": 4,
    "start_time": "2023-02-07T11:57:46.258Z"
   },
   {
    "duration": 327,
    "start_time": "2023-02-07T11:57:59.206Z"
   },
   {
    "duration": 151,
    "start_time": "2023-02-07T12:23:16.276Z"
   },
   {
    "duration": 12,
    "start_time": "2023-02-07T12:23:23.835Z"
   },
   {
    "duration": 11,
    "start_time": "2023-02-07T12:24:30.669Z"
   },
   {
    "duration": 9,
    "start_time": "2023-02-07T12:25:53.109Z"
   },
   {
    "duration": 10,
    "start_time": "2023-02-07T12:26:04.452Z"
   },
   {
    "duration": 10,
    "start_time": "2023-02-07T12:26:06.136Z"
   },
   {
    "duration": 13,
    "start_time": "2023-02-07T12:26:18.903Z"
   },
   {
    "duration": 13,
    "start_time": "2023-02-07T12:26:24.574Z"
   },
   {
    "duration": 434,
    "start_time": "2023-02-07T12:31:36.993Z"
   },
   {
    "duration": 15,
    "start_time": "2023-02-07T12:31:51.735Z"
   },
   {
    "duration": 4,
    "start_time": "2023-02-07T12:32:53.618Z"
   },
   {
    "duration": 12,
    "start_time": "2023-02-07T13:10:59.320Z"
   },
   {
    "duration": 19,
    "start_time": "2023-02-07T13:11:19.753Z"
   },
   {
    "duration": 219,
    "start_time": "2023-02-07T13:11:26.716Z"
   },
   {
    "duration": 231,
    "start_time": "2023-02-07T13:13:39.436Z"
   },
   {
    "duration": 5,
    "start_time": "2023-02-07T13:14:23.953Z"
   },
   {
    "duration": 232,
    "start_time": "2023-02-07T13:15:39.940Z"
   },
   {
    "duration": 17,
    "start_time": "2023-02-07T13:21:59.710Z"
   },
   {
    "duration": 16,
    "start_time": "2023-02-07T13:23:17.237Z"
   },
   {
    "duration": 15,
    "start_time": "2023-02-07T13:23:38.869Z"
   },
   {
    "duration": 11,
    "start_time": "2023-02-07T13:26:59.866Z"
   },
   {
    "duration": 17,
    "start_time": "2023-02-07T13:27:15.832Z"
   },
   {
    "duration": 79,
    "start_time": "2023-02-07T13:30:10.546Z"
   },
   {
    "duration": 9,
    "start_time": "2023-02-07T13:37:01.880Z"
   },
   {
    "duration": 11,
    "start_time": "2023-02-07T13:37:20.308Z"
   },
   {
    "duration": 10,
    "start_time": "2023-02-07T13:40:34.076Z"
   },
   {
    "duration": 6,
    "start_time": "2023-02-07T13:40:39.737Z"
   },
   {
    "duration": 5,
    "start_time": "2023-02-07T13:42:58.929Z"
   },
   {
    "duration": 1151,
    "start_time": "2023-02-07T14:26:29.720Z"
   },
   {
    "duration": 22,
    "start_time": "2023-02-07T14:26:30.873Z"
   },
   {
    "duration": 78,
    "start_time": "2023-02-07T14:26:30.897Z"
   },
   {
    "duration": 24,
    "start_time": "2023-02-07T14:26:30.978Z"
   },
   {
    "duration": 45,
    "start_time": "2023-02-07T14:26:31.005Z"
   },
   {
    "duration": 28,
    "start_time": "2023-02-07T14:26:31.052Z"
   },
   {
    "duration": 36,
    "start_time": "2023-02-07T14:26:31.081Z"
   },
   {
    "duration": 38,
    "start_time": "2023-02-07T14:26:31.119Z"
   },
   {
    "duration": 31,
    "start_time": "2023-02-07T14:26:31.159Z"
   },
   {
    "duration": 45,
    "start_time": "2023-02-07T14:26:31.192Z"
   },
   {
    "duration": 27,
    "start_time": "2023-02-07T14:26:31.239Z"
   },
   {
    "duration": 388,
    "start_time": "2023-02-07T14:26:31.269Z"
   },
   {
    "duration": 18,
    "start_time": "2023-02-07T14:26:31.659Z"
   },
   {
    "duration": 196,
    "start_time": "2023-02-07T14:26:31.692Z"
   },
   {
    "duration": 1913,
    "start_time": "2023-02-07T14:26:31.894Z"
   },
   {
    "duration": 300,
    "start_time": "2023-02-07T14:26:33.809Z"
   },
   {
    "duration": 385,
    "start_time": "2023-02-07T14:26:34.111Z"
   },
   {
    "duration": 158,
    "start_time": "2023-02-07T14:26:34.499Z"
   },
   {
    "duration": 9,
    "start_time": "2023-02-07T14:26:34.659Z"
   },
   {
    "duration": 23,
    "start_time": "2023-02-07T14:26:34.669Z"
   },
   {
    "duration": 10,
    "start_time": "2023-02-07T14:26:34.693Z"
   },
   {
    "duration": 23,
    "start_time": "2023-02-07T14:26:34.705Z"
   },
   {
    "duration": 11,
    "start_time": "2023-02-07T14:26:34.730Z"
   },
   {
    "duration": 355,
    "start_time": "2023-02-07T14:26:34.742Z"
   },
   {
    "duration": 18,
    "start_time": "2023-02-07T14:26:35.099Z"
   },
   {
    "duration": 255,
    "start_time": "2023-02-07T14:26:35.118Z"
   },
   {
    "duration": 229,
    "start_time": "2023-02-07T14:26:35.375Z"
   },
   {
    "duration": 241,
    "start_time": "2023-02-07T14:26:35.606Z"
   },
   {
    "duration": 14,
    "start_time": "2023-02-07T14:26:35.849Z"
   },
   {
    "duration": 15,
    "start_time": "2023-02-07T14:26:35.865Z"
   },
   {
    "duration": 24,
    "start_time": "2023-02-07T14:26:35.881Z"
   },
   {
    "duration": 16,
    "start_time": "2023-02-07T14:26:35.907Z"
   },
   {
    "duration": 13,
    "start_time": "2023-02-07T14:26:35.925Z"
   },
   {
    "duration": 9,
    "start_time": "2023-02-07T14:26:35.939Z"
   },
   {
    "duration": 12,
    "start_time": "2023-02-07T14:26:35.949Z"
   },
   {
    "duration": 33,
    "start_time": "2023-02-07T14:26:35.963Z"
   },
   {
    "duration": 8,
    "start_time": "2023-02-07T14:29:15.935Z"
   },
   {
    "duration": 12,
    "start_time": "2023-02-07T14:32:02.204Z"
   },
   {
    "duration": 10,
    "start_time": "2023-02-07T14:32:10.052Z"
   },
   {
    "duration": 6,
    "start_time": "2023-02-07T14:32:13.955Z"
   },
   {
    "duration": 5,
    "start_time": "2023-02-07T14:32:17.444Z"
   },
   {
    "duration": 1168,
    "start_time": "2023-02-07T16:38:52.398Z"
   },
   {
    "duration": 28,
    "start_time": "2023-02-07T16:38:53.569Z"
   },
   {
    "duration": 25,
    "start_time": "2023-02-07T16:38:53.599Z"
   },
   {
    "duration": 7,
    "start_time": "2023-02-07T16:38:53.627Z"
   },
   {
    "duration": 14,
    "start_time": "2023-02-07T16:38:53.635Z"
   },
   {
    "duration": 13,
    "start_time": "2023-02-07T16:38:53.651Z"
   },
   {
    "duration": 26,
    "start_time": "2023-02-07T16:38:53.666Z"
   },
   {
    "duration": 13,
    "start_time": "2023-02-07T16:38:53.694Z"
   },
   {
    "duration": 14,
    "start_time": "2023-02-07T16:38:53.709Z"
   },
   {
    "duration": 19,
    "start_time": "2023-02-07T16:38:53.727Z"
   },
   {
    "duration": 45,
    "start_time": "2023-02-07T16:38:53.748Z"
   },
   {
    "duration": 359,
    "start_time": "2023-02-07T16:38:53.796Z"
   },
   {
    "duration": 19,
    "start_time": "2023-02-07T16:38:54.156Z"
   },
   {
    "duration": 201,
    "start_time": "2023-02-07T16:38:54.192Z"
   },
   {
    "duration": 2012,
    "start_time": "2023-02-07T16:38:54.395Z"
   },
   {
    "duration": 346,
    "start_time": "2023-02-07T16:38:56.410Z"
   },
   {
    "duration": 409,
    "start_time": "2023-02-07T16:38:56.759Z"
   },
   {
    "duration": 191,
    "start_time": "2023-02-07T16:38:57.170Z"
   },
   {
    "duration": 10,
    "start_time": "2023-02-07T16:38:57.362Z"
   },
   {
    "duration": 26,
    "start_time": "2023-02-07T16:38:57.374Z"
   },
   {
    "duration": 12,
    "start_time": "2023-02-07T16:38:57.402Z"
   },
   {
    "duration": 9,
    "start_time": "2023-02-07T16:38:57.416Z"
   },
   {
    "duration": 11,
    "start_time": "2023-02-07T16:38:57.427Z"
   },
   {
    "duration": 374,
    "start_time": "2023-02-07T16:38:57.440Z"
   },
   {
    "duration": 14,
    "start_time": "2023-02-07T16:38:57.815Z"
   },
   {
    "duration": 232,
    "start_time": "2023-02-07T16:38:57.831Z"
   },
   {
    "duration": 233,
    "start_time": "2023-02-07T16:38:58.065Z"
   },
   {
    "duration": 263,
    "start_time": "2023-02-07T16:38:58.301Z"
   },
   {
    "duration": 17,
    "start_time": "2023-02-07T16:38:58.565Z"
   },
   {
    "duration": 16,
    "start_time": "2023-02-07T16:38:58.592Z"
   },
   {
    "duration": 18,
    "start_time": "2023-02-07T16:38:58.611Z"
   },
   {
    "duration": 25,
    "start_time": "2023-02-07T16:38:58.631Z"
   },
   {
    "duration": 11,
    "start_time": "2023-02-07T16:38:58.691Z"
   },
   {
    "duration": 28,
    "start_time": "2023-02-07T16:38:58.705Z"
   },
   {
    "duration": 11,
    "start_time": "2023-02-07T16:38:58.736Z"
   },
   {
    "duration": 5,
    "start_time": "2023-02-07T16:38:58.750Z"
   },
   {
    "duration": 45,
    "start_time": "2023-02-08T17:22:25.064Z"
   },
   {
    "duration": 1192,
    "start_time": "2023-02-08T17:22:29.531Z"
   },
   {
    "duration": 997,
    "start_time": "2023-02-08T17:22:37.021Z"
   },
   {
    "duration": 172,
    "start_time": "2023-02-08T17:22:38.020Z"
   },
   {
    "duration": 13,
    "start_time": "2023-02-08T17:22:38.193Z"
   },
   {
    "duration": 13,
    "start_time": "2023-02-08T17:22:38.208Z"
   },
   {
    "duration": 5,
    "start_time": "2023-02-08T17:22:38.222Z"
   },
   {
    "duration": 23,
    "start_time": "2023-02-08T17:22:38.229Z"
   },
   {
    "duration": 11,
    "start_time": "2023-02-08T17:22:38.253Z"
   },
   {
    "duration": 6,
    "start_time": "2023-02-08T17:22:38.265Z"
   },
   {
    "duration": 11,
    "start_time": "2023-02-08T17:22:38.272Z"
   },
   {
    "duration": 13,
    "start_time": "2023-02-08T17:22:38.285Z"
   },
   {
    "duration": 16,
    "start_time": "2023-02-08T17:22:38.299Z"
   },
   {
    "duration": 30,
    "start_time": "2023-02-08T17:22:38.316Z"
   },
   {
    "duration": 311,
    "start_time": "2023-02-08T17:22:38.347Z"
   },
   {
    "duration": 19,
    "start_time": "2023-02-08T17:22:38.659Z"
   },
   {
    "duration": 181,
    "start_time": "2023-02-08T17:22:38.679Z"
   },
   {
    "duration": 1718,
    "start_time": "2023-02-08T17:22:38.861Z"
   },
   {
    "duration": 272,
    "start_time": "2023-02-08T17:22:40.580Z"
   },
   {
    "duration": 352,
    "start_time": "2023-02-08T17:22:40.854Z"
   },
   {
    "duration": 142,
    "start_time": "2023-02-08T17:22:41.207Z"
   },
   {
    "duration": 10,
    "start_time": "2023-02-08T17:22:41.350Z"
   },
   {
    "duration": 11,
    "start_time": "2023-02-08T17:22:41.362Z"
   },
   {
    "duration": 8,
    "start_time": "2023-02-08T17:22:41.375Z"
   },
   {
    "duration": 8,
    "start_time": "2023-02-08T17:22:41.384Z"
   },
   {
    "duration": 8,
    "start_time": "2023-02-08T17:22:41.393Z"
   },
   {
    "duration": 348,
    "start_time": "2023-02-08T17:22:41.402Z"
   },
   {
    "duration": 13,
    "start_time": "2023-02-08T17:22:41.752Z"
   },
   {
    "duration": 204,
    "start_time": "2023-02-08T17:22:41.766Z"
   },
   {
    "duration": 212,
    "start_time": "2023-02-08T17:22:41.973Z"
   },
   {
    "duration": 213,
    "start_time": "2023-02-08T17:22:42.187Z"
   },
   {
    "duration": 36,
    "start_time": "2023-02-08T17:22:42.402Z"
   },
   {
    "duration": 35,
    "start_time": "2023-02-08T17:22:42.440Z"
   },
   {
    "duration": 16,
    "start_time": "2023-02-08T17:22:42.478Z"
   },
   {
    "duration": 20,
    "start_time": "2023-02-08T17:22:42.496Z"
   },
   {
    "duration": 10,
    "start_time": "2023-02-08T17:22:42.518Z"
   },
   {
    "duration": 34,
    "start_time": "2023-02-08T17:22:42.530Z"
   },
   {
    "duration": 13,
    "start_time": "2023-02-08T17:22:42.566Z"
   },
   {
    "duration": 10,
    "start_time": "2023-02-08T17:22:42.581Z"
   },
   {
    "duration": 59,
    "start_time": "2023-02-08T17:34:15.055Z"
   },
   {
    "duration": 94,
    "start_time": "2023-02-08T18:12:01.362Z"
   },
   {
    "duration": 4,
    "start_time": "2023-02-08T18:12:09.908Z"
   },
   {
    "duration": 4,
    "start_time": "2023-02-08T18:12:20.590Z"
   },
   {
    "duration": 10,
    "start_time": "2023-02-08T18:12:23.297Z"
   },
   {
    "duration": 311,
    "start_time": "2023-02-08T18:17:09.159Z"
   },
   {
    "duration": 9,
    "start_time": "2023-02-08T18:45:03.822Z"
   },
   {
    "duration": 26,
    "start_time": "2023-02-08T18:45:12.322Z"
   },
   {
    "duration": 3,
    "start_time": "2023-02-08T18:57:18.359Z"
   },
   {
    "duration": 8,
    "start_time": "2023-02-08T18:57:40.083Z"
   },
   {
    "duration": 8,
    "start_time": "2023-02-08T18:58:08.528Z"
   },
   {
    "duration": 24,
    "start_time": "2023-02-08T18:58:16.262Z"
   },
   {
    "duration": 3,
    "start_time": "2023-02-08T18:58:33.412Z"
   },
   {
    "duration": 5092,
    "start_time": "2023-02-08T18:59:06.495Z"
   },
   {
    "duration": 8,
    "start_time": "2023-02-08T19:06:19.029Z"
   },
   {
    "duration": 29,
    "start_time": "2023-02-08T19:06:33.849Z"
   },
   {
    "duration": 5278,
    "start_time": "2023-02-08T19:06:46.176Z"
   },
   {
    "duration": 4,
    "start_time": "2023-02-08T19:06:51.456Z"
   },
   {
    "duration": 54,
    "start_time": "2023-02-08T19:30:24.536Z"
   },
   {
    "duration": 24,
    "start_time": "2023-02-08T19:34:16.824Z"
   },
   {
    "duration": 14,
    "start_time": "2023-02-08T19:48:57.756Z"
   },
   {
    "duration": 10,
    "start_time": "2023-02-08T19:51:27.665Z"
   },
   {
    "duration": 6057,
    "start_time": "2023-02-08T19:51:38.130Z"
   },
   {
    "duration": 8,
    "start_time": "2023-02-08T20:09:41.660Z"
   },
   {
    "duration": 5,
    "start_time": "2023-02-08T20:09:46.392Z"
   },
   {
    "duration": 15,
    "start_time": "2023-02-08T20:12:05.816Z"
   },
   {
    "duration": 69,
    "start_time": "2023-02-08T20:12:41.380Z"
   },
   {
    "duration": 21,
    "start_time": "2023-02-08T20:12:51.579Z"
   },
   {
    "duration": 296,
    "start_time": "2023-02-08T20:13:03.991Z"
   },
   {
    "duration": 563,
    "start_time": "2023-02-08T20:19:22.551Z"
   },
   {
    "duration": 10,
    "start_time": "2023-02-08T20:20:49.264Z"
   },
   {
    "duration": 11,
    "start_time": "2023-02-08T20:20:51.998Z"
   },
   {
    "duration": 9,
    "start_time": "2023-02-08T20:22:52.991Z"
   },
   {
    "duration": 124,
    "start_time": "2023-02-08T20:23:08.951Z"
   },
   {
    "duration": 123,
    "start_time": "2023-02-08T20:23:17.278Z"
   },
   {
    "duration": 121,
    "start_time": "2023-02-08T20:23:48.402Z"
   },
   {
    "duration": 117,
    "start_time": "2023-02-08T20:23:51.088Z"
   },
   {
    "duration": 10,
    "start_time": "2023-02-08T20:30:05.596Z"
   },
   {
    "duration": 12,
    "start_time": "2023-02-08T20:31:02.085Z"
   },
   {
    "duration": 3,
    "start_time": "2023-02-08T20:31:50.736Z"
   },
   {
    "duration": 10,
    "start_time": "2023-02-08T20:32:02.736Z"
   },
   {
    "duration": 11,
    "start_time": "2023-02-08T20:32:11.363Z"
   },
   {
    "duration": 11,
    "start_time": "2023-02-08T20:32:17.927Z"
   },
   {
    "duration": 106,
    "start_time": "2023-02-08T20:32:33.547Z"
   },
   {
    "duration": 11,
    "start_time": "2023-02-08T20:33:49.665Z"
   },
   {
    "duration": 167,
    "start_time": "2023-02-08T20:34:18.933Z"
   },
   {
    "duration": 1073,
    "start_time": "2023-02-08T20:36:21.158Z"
   },
   {
    "duration": 61,
    "start_time": "2023-02-08T20:36:22.232Z"
   },
   {
    "duration": 12,
    "start_time": "2023-02-08T20:36:22.295Z"
   },
   {
    "duration": 12,
    "start_time": "2023-02-08T20:36:22.309Z"
   },
   {
    "duration": 16,
    "start_time": "2023-02-08T20:36:22.323Z"
   },
   {
    "duration": 10,
    "start_time": "2023-02-08T20:36:22.341Z"
   },
   {
    "duration": 16,
    "start_time": "2023-02-08T20:36:22.353Z"
   },
   {
    "duration": 6,
    "start_time": "2023-02-08T20:36:22.371Z"
   },
   {
    "duration": 6,
    "start_time": "2023-02-08T20:36:22.378Z"
   },
   {
    "duration": 11,
    "start_time": "2023-02-08T20:36:22.386Z"
   },
   {
    "duration": 40,
    "start_time": "2023-02-08T20:36:22.398Z"
   },
   {
    "duration": 19,
    "start_time": "2023-02-08T20:36:22.440Z"
   },
   {
    "duration": 20,
    "start_time": "2023-02-08T20:36:22.461Z"
   },
   {
    "duration": 370,
    "start_time": "2023-02-08T20:36:22.485Z"
   },
   {
    "duration": 15,
    "start_time": "2023-02-08T20:36:22.856Z"
   },
   {
    "duration": 24,
    "start_time": "2023-02-08T20:36:22.873Z"
   },
   {
    "duration": 3,
    "start_time": "2023-02-08T20:36:22.898Z"
   },
   {
    "duration": 7,
    "start_time": "2023-02-08T20:36:22.902Z"
   },
   {
    "duration": 4949,
    "start_time": "2023-02-08T20:36:22.910Z"
   },
   {
    "duration": 25,
    "start_time": "2023-02-08T20:36:27.861Z"
   },
   {
    "duration": 49,
    "start_time": "2023-02-08T20:36:27.888Z"
   },
   {
    "duration": 0,
    "start_time": "2023-02-08T20:36:27.939Z"
   },
   {
    "duration": 0,
    "start_time": "2023-02-08T20:36:27.940Z"
   },
   {
    "duration": 0,
    "start_time": "2023-02-08T20:36:27.941Z"
   },
   {
    "duration": 0,
    "start_time": "2023-02-08T20:36:27.942Z"
   },
   {
    "duration": 0,
    "start_time": "2023-02-08T20:36:27.943Z"
   },
   {
    "duration": 0,
    "start_time": "2023-02-08T20:36:27.944Z"
   },
   {
    "duration": 0,
    "start_time": "2023-02-08T20:36:27.945Z"
   },
   {
    "duration": 0,
    "start_time": "2023-02-08T20:36:27.946Z"
   },
   {
    "duration": 0,
    "start_time": "2023-02-08T20:36:27.948Z"
   },
   {
    "duration": 0,
    "start_time": "2023-02-08T20:36:27.949Z"
   },
   {
    "duration": 0,
    "start_time": "2023-02-08T20:36:27.950Z"
   },
   {
    "duration": 0,
    "start_time": "2023-02-08T20:36:27.952Z"
   },
   {
    "duration": 0,
    "start_time": "2023-02-08T20:36:27.952Z"
   },
   {
    "duration": 0,
    "start_time": "2023-02-08T20:36:27.953Z"
   },
   {
    "duration": 0,
    "start_time": "2023-02-08T20:36:27.954Z"
   },
   {
    "duration": 0,
    "start_time": "2023-02-08T20:36:27.955Z"
   },
   {
    "duration": 0,
    "start_time": "2023-02-08T20:36:27.957Z"
   },
   {
    "duration": 0,
    "start_time": "2023-02-08T20:36:27.957Z"
   },
   {
    "duration": 0,
    "start_time": "2023-02-08T20:36:27.958Z"
   },
   {
    "duration": 0,
    "start_time": "2023-02-08T20:36:27.959Z"
   },
   {
    "duration": 0,
    "start_time": "2023-02-08T20:36:27.960Z"
   },
   {
    "duration": 0,
    "start_time": "2023-02-08T20:36:27.961Z"
   },
   {
    "duration": 0,
    "start_time": "2023-02-08T20:36:27.962Z"
   },
   {
    "duration": 0,
    "start_time": "2023-02-08T20:36:27.963Z"
   },
   {
    "duration": 0,
    "start_time": "2023-02-08T20:36:27.964Z"
   },
   {
    "duration": 0,
    "start_time": "2023-02-08T20:36:27.965Z"
   },
   {
    "duration": 13,
    "start_time": "2023-02-08T20:37:19.363Z"
   },
   {
    "duration": 5834,
    "start_time": "2023-02-08T20:37:25.931Z"
   },
   {
    "duration": 5,
    "start_time": "2023-02-08T20:37:31.767Z"
   },
   {
    "duration": 272,
    "start_time": "2023-02-08T20:37:39.891Z"
   },
   {
    "duration": 111,
    "start_time": "2023-02-08T20:37:49.551Z"
   },
   {
    "duration": 3,
    "start_time": "2023-02-08T20:38:01.341Z"
   },
   {
    "duration": 118,
    "start_time": "2023-02-08T20:38:06.261Z"
   },
   {
    "duration": 8,
    "start_time": "2023-02-08T20:38:17.933Z"
   },
   {
    "duration": 9,
    "start_time": "2023-02-08T20:39:58.931Z"
   },
   {
    "duration": 146,
    "start_time": "2023-02-08T20:40:04.030Z"
   },
   {
    "duration": 133,
    "start_time": "2023-02-08T20:40:08.968Z"
   },
   {
    "duration": 10,
    "start_time": "2023-02-08T20:41:20.969Z"
   },
   {
    "duration": 165,
    "start_time": "2023-02-08T20:41:24.589Z"
   },
   {
    "duration": 164,
    "start_time": "2023-02-08T20:41:37.868Z"
   },
   {
    "duration": 304,
    "start_time": "2023-02-08T20:44:25.793Z"
   },
   {
    "duration": 9,
    "start_time": "2023-02-08T20:47:05.817Z"
   },
   {
    "duration": 42,
    "start_time": "2023-02-08T20:48:13.296Z"
   },
   {
    "duration": 9,
    "start_time": "2023-02-08T20:48:23.817Z"
   },
   {
    "duration": 9,
    "start_time": "2023-02-08T20:48:36.587Z"
   },
   {
    "duration": 282,
    "start_time": "2023-02-08T20:49:46.955Z"
   },
   {
    "duration": 8,
    "start_time": "2023-02-08T21:15:36.153Z"
   },
   {
    "duration": 9,
    "start_time": "2023-02-08T21:15:41.590Z"
   },
   {
    "duration": 16,
    "start_time": "2023-02-08T21:15:49.911Z"
   },
   {
    "duration": 437,
    "start_time": "2023-02-08T21:18:37.349Z"
   },
   {
    "duration": 9,
    "start_time": "2023-02-08T21:21:25.552Z"
   },
   {
    "duration": 18,
    "start_time": "2023-02-08T21:21:31.962Z"
   },
   {
    "duration": 462,
    "start_time": "2023-02-08T21:21:51.007Z"
   },
   {
    "duration": 18,
    "start_time": "2023-02-08T21:23:17.148Z"
   },
   {
    "duration": 443,
    "start_time": "2023-02-08T21:23:35.769Z"
   },
   {
    "duration": 405,
    "start_time": "2023-02-08T21:24:10.767Z"
   },
   {
    "duration": 54,
    "start_time": "2023-02-09T00:23:18.793Z"
   },
   {
    "duration": 1368,
    "start_time": "2023-02-09T00:23:28.076Z"
   },
   {
    "duration": 120,
    "start_time": "2023-02-09T00:23:29.447Z"
   },
   {
    "duration": 15,
    "start_time": "2023-02-09T00:23:29.569Z"
   },
   {
    "duration": 16,
    "start_time": "2023-02-09T00:23:29.586Z"
   },
   {
    "duration": 16,
    "start_time": "2023-02-09T00:23:29.606Z"
   },
   {
    "duration": 10,
    "start_time": "2023-02-09T00:23:29.625Z"
   },
   {
    "duration": 10,
    "start_time": "2023-02-09T00:23:29.637Z"
   },
   {
    "duration": 13,
    "start_time": "2023-02-09T00:23:29.648Z"
   },
   {
    "duration": 7,
    "start_time": "2023-02-09T00:23:29.663Z"
   },
   {
    "duration": 14,
    "start_time": "2023-02-09T00:23:29.672Z"
   },
   {
    "duration": 19,
    "start_time": "2023-02-09T00:23:29.693Z"
   },
   {
    "duration": 51,
    "start_time": "2023-02-09T00:23:29.713Z"
   },
   {
    "duration": 15,
    "start_time": "2023-02-09T00:23:29.765Z"
   },
   {
    "duration": 355,
    "start_time": "2023-02-09T00:23:29.782Z"
   },
   {
    "duration": 14,
    "start_time": "2023-02-09T00:23:30.138Z"
   },
   {
    "duration": 47,
    "start_time": "2023-02-09T00:23:30.153Z"
   },
   {
    "duration": 4,
    "start_time": "2023-02-09T00:23:30.201Z"
   },
   {
    "duration": 21,
    "start_time": "2023-02-09T00:23:30.207Z"
   },
   {
    "duration": 5567,
    "start_time": "2023-02-09T00:23:30.230Z"
   },
   {
    "duration": 27,
    "start_time": "2023-02-09T00:23:35.801Z"
   },
   {
    "duration": 13,
    "start_time": "2023-02-09T00:23:35.830Z"
   },
   {
    "duration": 6279,
    "start_time": "2023-02-09T00:23:35.845Z"
   },
   {
    "duration": 5,
    "start_time": "2023-02-09T00:23:42.126Z"
   },
   {
    "duration": 6,
    "start_time": "2023-02-09T00:23:42.132Z"
   },
   {
    "duration": 735,
    "start_time": "2023-02-09T00:23:42.139Z"
   },
   {
    "duration": 229,
    "start_time": "2023-02-09T00:23:42.876Z"
   },
   {
    "duration": 0,
    "start_time": "2023-02-09T00:23:43.107Z"
   },
   {
    "duration": 0,
    "start_time": "2023-02-09T00:23:43.108Z"
   },
   {
    "duration": 0,
    "start_time": "2023-02-09T00:23:43.109Z"
   },
   {
    "duration": 0,
    "start_time": "2023-02-09T00:23:43.111Z"
   },
   {
    "duration": 0,
    "start_time": "2023-02-09T00:23:43.112Z"
   },
   {
    "duration": 0,
    "start_time": "2023-02-09T00:23:43.113Z"
   },
   {
    "duration": 0,
    "start_time": "2023-02-09T00:23:43.114Z"
   },
   {
    "duration": 0,
    "start_time": "2023-02-09T00:23:43.116Z"
   },
   {
    "duration": 0,
    "start_time": "2023-02-09T00:23:43.117Z"
   },
   {
    "duration": 0,
    "start_time": "2023-02-09T00:23:43.119Z"
   },
   {
    "duration": 0,
    "start_time": "2023-02-09T00:23:43.120Z"
   },
   {
    "duration": 0,
    "start_time": "2023-02-09T00:23:43.121Z"
   },
   {
    "duration": 0,
    "start_time": "2023-02-09T00:23:43.122Z"
   },
   {
    "duration": 0,
    "start_time": "2023-02-09T00:23:43.123Z"
   },
   {
    "duration": 0,
    "start_time": "2023-02-09T00:23:43.124Z"
   },
   {
    "duration": 0,
    "start_time": "2023-02-09T00:23:43.125Z"
   },
   {
    "duration": 0,
    "start_time": "2023-02-09T00:23:43.126Z"
   },
   {
    "duration": 0,
    "start_time": "2023-02-09T00:23:43.127Z"
   },
   {
    "duration": 0,
    "start_time": "2023-02-09T00:23:43.128Z"
   },
   {
    "duration": 0,
    "start_time": "2023-02-09T00:23:43.130Z"
   },
   {
    "duration": 9,
    "start_time": "2023-02-09T00:23:48.578Z"
   },
   {
    "duration": 148,
    "start_time": "2023-02-09T00:24:24.302Z"
   },
   {
    "duration": 10,
    "start_time": "2023-02-09T00:24:34.707Z"
   },
   {
    "duration": 10,
    "start_time": "2023-02-09T00:24:41.718Z"
   },
   {
    "duration": 11,
    "start_time": "2023-02-09T00:24:45.771Z"
   },
   {
    "duration": 10,
    "start_time": "2023-02-09T00:24:48.053Z"
   },
   {
    "duration": 10,
    "start_time": "2023-02-09T00:24:50.326Z"
   },
   {
    "duration": 11,
    "start_time": "2023-02-09T00:27:28.600Z"
   },
   {
    "duration": 14,
    "start_time": "2023-02-09T00:27:33.209Z"
   },
   {
    "duration": 10,
    "start_time": "2023-02-09T00:27:41.504Z"
   },
   {
    "duration": 9,
    "start_time": "2023-02-09T00:27:53.112Z"
   },
   {
    "duration": 445,
    "start_time": "2023-02-09T00:28:46.348Z"
   },
   {
    "duration": 449,
    "start_time": "2023-02-09T00:28:58.125Z"
   },
   {
    "duration": 12,
    "start_time": "2023-02-09T00:29:26.913Z"
   },
   {
    "duration": 13,
    "start_time": "2023-02-09T00:31:51.872Z"
   },
   {
    "duration": 153,
    "start_time": "2023-02-09T00:33:26.210Z"
   },
   {
    "duration": 168,
    "start_time": "2023-02-09T00:33:43.522Z"
   },
   {
    "duration": 150,
    "start_time": "2023-02-09T00:33:59.100Z"
   },
   {
    "duration": 247,
    "start_time": "2023-02-09T00:34:07.385Z"
   },
   {
    "duration": 14,
    "start_time": "2023-02-09T00:34:35.473Z"
   },
   {
    "duration": 155,
    "start_time": "2023-02-09T00:34:37.224Z"
   },
   {
    "duration": 156,
    "start_time": "2023-02-09T00:34:41.992Z"
   },
   {
    "duration": 19,
    "start_time": "2023-02-09T00:34:44.596Z"
   },
   {
    "duration": 198,
    "start_time": "2023-02-09T00:35:04.062Z"
   },
   {
    "duration": 196,
    "start_time": "2023-02-09T00:35:06.808Z"
   },
   {
    "duration": 318,
    "start_time": "2023-02-09T00:35:09.064Z"
   },
   {
    "duration": 17,
    "start_time": "2023-02-09T00:35:16.559Z"
   },
   {
    "duration": 419,
    "start_time": "2023-02-09T00:35:19.164Z"
   },
   {
    "duration": 154,
    "start_time": "2023-02-09T00:36:16.784Z"
   },
   {
    "duration": 150,
    "start_time": "2023-02-09T00:36:34.685Z"
   },
   {
    "duration": 317,
    "start_time": "2023-02-09T00:36:43.966Z"
   },
   {
    "duration": 163,
    "start_time": "2023-02-09T00:36:53.886Z"
   },
   {
    "duration": 17,
    "start_time": "2023-02-09T00:37:09.541Z"
   },
   {
    "duration": 428,
    "start_time": "2023-02-09T00:37:12.504Z"
   },
   {
    "duration": 15,
    "start_time": "2023-02-09T00:37:16.992Z"
   },
   {
    "duration": 418,
    "start_time": "2023-02-09T00:37:18.887Z"
   },
   {
    "duration": 10,
    "start_time": "2023-02-09T00:37:25.286Z"
   },
   {
    "duration": 11,
    "start_time": "2023-02-09T00:37:47.236Z"
   },
   {
    "duration": 4,
    "start_time": "2023-02-09T00:37:51.930Z"
   },
   {
    "duration": 9,
    "start_time": "2023-02-09T00:38:35.487Z"
   },
   {
    "duration": 6,
    "start_time": "2023-02-09T00:38:39.118Z"
   },
   {
    "duration": 22,
    "start_time": "2023-02-09T00:41:13.868Z"
   },
   {
    "duration": 28,
    "start_time": "2023-02-09T00:42:55.435Z"
   },
   {
    "duration": 9,
    "start_time": "2023-02-09T00:44:18.883Z"
   },
   {
    "duration": 5,
    "start_time": "2023-02-09T00:44:21.063Z"
   },
   {
    "duration": 1145,
    "start_time": "2023-02-09T00:45:29.805Z"
   },
   {
    "duration": 67,
    "start_time": "2023-02-09T00:45:30.952Z"
   },
   {
    "duration": 15,
    "start_time": "2023-02-09T00:45:31.020Z"
   },
   {
    "duration": 15,
    "start_time": "2023-02-09T00:45:31.038Z"
   },
   {
    "duration": 17,
    "start_time": "2023-02-09T00:45:31.054Z"
   },
   {
    "duration": 31,
    "start_time": "2023-02-09T00:45:31.073Z"
   },
   {
    "duration": 25,
    "start_time": "2023-02-09T00:45:31.107Z"
   },
   {
    "duration": 23,
    "start_time": "2023-02-09T00:45:31.134Z"
   },
   {
    "duration": 47,
    "start_time": "2023-02-09T00:45:31.159Z"
   },
   {
    "duration": 37,
    "start_time": "2023-02-09T00:45:31.209Z"
   },
   {
    "duration": 16,
    "start_time": "2023-02-09T00:45:31.247Z"
   },
   {
    "duration": 20,
    "start_time": "2023-02-09T00:45:31.265Z"
   },
   {
    "duration": 15,
    "start_time": "2023-02-09T00:45:31.287Z"
   },
   {
    "duration": 351,
    "start_time": "2023-02-09T00:45:31.304Z"
   },
   {
    "duration": 15,
    "start_time": "2023-02-09T00:45:31.657Z"
   },
   {
    "duration": 46,
    "start_time": "2023-02-09T00:45:31.674Z"
   },
   {
    "duration": 4,
    "start_time": "2023-02-09T00:45:31.722Z"
   },
   {
    "duration": 9,
    "start_time": "2023-02-09T00:45:31.728Z"
   },
   {
    "duration": 5250,
    "start_time": "2023-02-09T00:45:31.738Z"
   },
   {
    "duration": 28,
    "start_time": "2023-02-09T00:45:36.990Z"
   },
   {
    "duration": 17,
    "start_time": "2023-02-09T00:45:37.021Z"
   },
   {
    "duration": 5750,
    "start_time": "2023-02-09T00:45:37.039Z"
   },
   {
    "duration": 4,
    "start_time": "2023-02-09T00:45:42.793Z"
   },
   {
    "duration": 29,
    "start_time": "2023-02-09T00:45:42.798Z"
   },
   {
    "duration": 707,
    "start_time": "2023-02-09T00:45:42.828Z"
   },
   {
    "duration": 14,
    "start_time": "2023-02-09T00:45:43.537Z"
   },
   {
    "duration": 179,
    "start_time": "2023-02-09T00:45:43.553Z"
   },
   {
    "duration": 14,
    "start_time": "2023-02-09T00:45:43.735Z"
   },
   {
    "duration": 162,
    "start_time": "2023-02-09T00:45:43.751Z"
   },
   {
    "duration": 23,
    "start_time": "2023-02-09T00:45:43.915Z"
   },
   {
    "duration": 222,
    "start_time": "2023-02-09T00:45:43.940Z"
   },
   {
    "duration": 36,
    "start_time": "2023-02-09T00:45:44.165Z"
   },
   {
    "duration": 200,
    "start_time": "2023-02-09T00:45:44.204Z"
   },
   {
    "duration": 169,
    "start_time": "2023-02-09T00:45:44.405Z"
   },
   {
    "duration": 183,
    "start_time": "2023-02-09T00:45:44.576Z"
   },
   {
    "duration": 332,
    "start_time": "2023-02-09T00:45:44.761Z"
   },
   {
    "duration": 17,
    "start_time": "2023-02-09T00:45:45.096Z"
   },
   {
    "duration": 530,
    "start_time": "2023-02-09T00:45:45.115Z"
   },
   {
    "duration": 18,
    "start_time": "2023-02-09T00:45:45.647Z"
   },
   {
    "duration": 439,
    "start_time": "2023-02-09T00:45:45.667Z"
   },
   {
    "duration": 17,
    "start_time": "2023-02-09T00:45:46.108Z"
   },
   {
    "duration": 432,
    "start_time": "2023-02-09T00:45:46.126Z"
   },
   {
    "duration": 9,
    "start_time": "2023-02-09T00:45:46.560Z"
   },
   {
    "duration": 7,
    "start_time": "2023-02-09T00:45:46.570Z"
   },
   {
    "duration": 9,
    "start_time": "2023-02-09T00:45:46.594Z"
   },
   {
    "duration": 5,
    "start_time": "2023-02-09T00:45:46.605Z"
   },
   {
    "duration": 1166,
    "start_time": "2023-02-09T00:47:23.618Z"
   },
   {
    "duration": 77,
    "start_time": "2023-02-09T00:47:24.786Z"
   },
   {
    "duration": 20,
    "start_time": "2023-02-09T00:47:24.865Z"
   },
   {
    "duration": 17,
    "start_time": "2023-02-09T00:47:24.887Z"
   },
   {
    "duration": 6,
    "start_time": "2023-02-09T00:47:24.906Z"
   },
   {
    "duration": 11,
    "start_time": "2023-02-09T00:47:24.914Z"
   },
   {
    "duration": 12,
    "start_time": "2023-02-09T00:47:24.927Z"
   },
   {
    "duration": 7,
    "start_time": "2023-02-09T00:47:24.940Z"
   },
   {
    "duration": 12,
    "start_time": "2023-02-09T00:47:24.949Z"
   },
   {
    "duration": 40,
    "start_time": "2023-02-09T00:47:24.963Z"
   },
   {
    "duration": 19,
    "start_time": "2023-02-09T00:47:25.005Z"
   },
   {
    "duration": 19,
    "start_time": "2023-02-09T00:47:25.027Z"
   },
   {
    "duration": 15,
    "start_time": "2023-02-09T00:47:25.047Z"
   },
   {
    "duration": 384,
    "start_time": "2023-02-09T00:47:25.064Z"
   },
   {
    "duration": 16,
    "start_time": "2023-02-09T00:47:25.449Z"
   },
   {
    "duration": 40,
    "start_time": "2023-02-09T00:47:25.466Z"
   },
   {
    "duration": 3,
    "start_time": "2023-02-09T00:47:25.507Z"
   },
   {
    "duration": 8,
    "start_time": "2023-02-09T00:47:25.512Z"
   },
   {
    "duration": 5185,
    "start_time": "2023-02-09T00:47:25.521Z"
   },
   {
    "duration": 28,
    "start_time": "2023-02-09T00:47:30.708Z"
   },
   {
    "duration": 24,
    "start_time": "2023-02-09T00:47:30.738Z"
   },
   {
    "duration": 5938,
    "start_time": "2023-02-09T00:47:30.764Z"
   },
   {
    "duration": 5,
    "start_time": "2023-02-09T00:47:36.703Z"
   },
   {
    "duration": 13,
    "start_time": "2023-02-09T00:47:36.709Z"
   },
   {
    "duration": 704,
    "start_time": "2023-02-09T00:47:36.723Z"
   },
   {
    "duration": 15,
    "start_time": "2023-02-09T00:47:37.428Z"
   },
   {
    "duration": 180,
    "start_time": "2023-02-09T00:47:37.445Z"
   },
   {
    "duration": 17,
    "start_time": "2023-02-09T00:47:37.628Z"
   },
   {
    "duration": 188,
    "start_time": "2023-02-09T00:47:37.647Z"
   },
   {
    "duration": 14,
    "start_time": "2023-02-09T00:47:37.837Z"
   },
   {
    "duration": 164,
    "start_time": "2023-02-09T00:47:37.853Z"
   },
   {
    "duration": 13,
    "start_time": "2023-02-09T00:47:38.020Z"
   },
   {
    "duration": 170,
    "start_time": "2023-02-09T00:47:38.034Z"
   },
   {
    "duration": 149,
    "start_time": "2023-02-09T00:47:38.206Z"
   },
   {
    "duration": 183,
    "start_time": "2023-02-09T00:47:38.357Z"
   },
   {
    "duration": 321,
    "start_time": "2023-02-09T00:47:38.542Z"
   },
   {
    "duration": 28,
    "start_time": "2023-02-09T00:47:38.865Z"
   },
   {
    "duration": 508,
    "start_time": "2023-02-09T00:47:38.896Z"
   },
   {
    "duration": 16,
    "start_time": "2023-02-09T00:47:39.406Z"
   },
   {
    "duration": 469,
    "start_time": "2023-02-09T00:47:39.424Z"
   },
   {
    "duration": 16,
    "start_time": "2023-02-09T00:47:39.897Z"
   },
   {
    "duration": 426,
    "start_time": "2023-02-09T00:47:39.914Z"
   },
   {
    "duration": 10,
    "start_time": "2023-02-09T00:47:40.342Z"
   },
   {
    "duration": 10,
    "start_time": "2023-02-09T00:47:40.354Z"
   },
   {
    "duration": 32,
    "start_time": "2023-02-09T00:47:40.365Z"
   },
   {
    "duration": 14,
    "start_time": "2023-02-09T00:47:40.399Z"
   },
   {
    "duration": 26,
    "start_time": "2023-02-09T00:47:55.605Z"
   },
   {
    "duration": 15,
    "start_time": "2023-02-09T00:47:59.230Z"
   },
   {
    "duration": 44,
    "start_time": "2023-02-09T18:38:11.047Z"
   },
   {
    "duration": 4,
    "start_time": "2023-02-09T18:38:25.843Z"
   },
   {
    "duration": 7,
    "start_time": "2023-02-09T18:38:30.191Z"
   },
   {
    "duration": 8,
    "start_time": "2023-02-09T18:38:59.987Z"
   },
   {
    "duration": 1364,
    "start_time": "2023-02-09T18:39:19.295Z"
   },
   {
    "duration": 214,
    "start_time": "2023-02-09T18:39:20.661Z"
   },
   {
    "duration": 17,
    "start_time": "2023-02-09T18:39:20.877Z"
   },
   {
    "duration": 16,
    "start_time": "2023-02-09T18:39:20.896Z"
   },
   {
    "duration": 8,
    "start_time": "2023-02-09T18:39:20.914Z"
   },
   {
    "duration": 25,
    "start_time": "2023-02-09T18:39:20.924Z"
   },
   {
    "duration": 10,
    "start_time": "2023-02-09T18:39:20.951Z"
   },
   {
    "duration": 11,
    "start_time": "2023-02-09T18:39:20.963Z"
   },
   {
    "duration": 16,
    "start_time": "2023-02-09T18:39:20.976Z"
   },
   {
    "duration": 17,
    "start_time": "2023-02-09T18:39:20.994Z"
   },
   {
    "duration": 16,
    "start_time": "2023-02-09T18:39:21.013Z"
   },
   {
    "duration": 32,
    "start_time": "2023-02-09T18:39:21.030Z"
   },
   {
    "duration": 14,
    "start_time": "2023-02-09T18:39:21.063Z"
   },
   {
    "duration": 388,
    "start_time": "2023-02-09T18:39:21.080Z"
   },
   {
    "duration": 18,
    "start_time": "2023-02-09T18:39:21.470Z"
   },
   {
    "duration": 52,
    "start_time": "2023-02-09T18:39:21.491Z"
   },
   {
    "duration": 3,
    "start_time": "2023-02-09T18:39:21.545Z"
   },
   {
    "duration": 11,
    "start_time": "2023-02-09T18:39:21.550Z"
   },
   {
    "duration": 5234,
    "start_time": "2023-02-09T18:39:21.562Z"
   },
   {
    "duration": 38,
    "start_time": "2023-02-09T18:39:26.797Z"
   },
   {
    "duration": 23,
    "start_time": "2023-02-09T18:39:26.837Z"
   },
   {
    "duration": 6321,
    "start_time": "2023-02-09T18:39:26.862Z"
   },
   {
    "duration": 6,
    "start_time": "2023-02-09T18:39:33.185Z"
   },
   {
    "duration": 8,
    "start_time": "2023-02-09T18:39:33.192Z"
   },
   {
    "duration": 763,
    "start_time": "2023-02-09T18:39:33.202Z"
   },
   {
    "duration": 39,
    "start_time": "2023-02-09T18:39:33.967Z"
   },
   {
    "duration": 14,
    "start_time": "2023-02-09T18:39:34.009Z"
   },
   {
    "duration": 171,
    "start_time": "2023-02-09T18:39:34.049Z"
   },
   {
    "duration": 27,
    "start_time": "2023-02-09T18:39:34.222Z"
   },
   {
    "duration": 166,
    "start_time": "2023-02-09T18:39:34.252Z"
   },
   {
    "duration": 12,
    "start_time": "2023-02-09T18:39:34.420Z"
   },
   {
    "duration": 164,
    "start_time": "2023-02-09T18:39:34.433Z"
   },
   {
    "duration": 13,
    "start_time": "2023-02-09T18:39:34.599Z"
   },
   {
    "duration": 168,
    "start_time": "2023-02-09T18:39:34.613Z"
   },
   {
    "duration": 153,
    "start_time": "2023-02-09T18:39:34.783Z"
   },
   {
    "duration": 210,
    "start_time": "2023-02-09T18:39:34.938Z"
   },
   {
    "duration": 320,
    "start_time": "2023-02-09T18:39:35.150Z"
   },
   {
    "duration": 17,
    "start_time": "2023-02-09T18:39:35.472Z"
   },
   {
    "duration": 541,
    "start_time": "2023-02-09T18:39:35.491Z"
   },
   {
    "duration": 22,
    "start_time": "2023-02-09T18:39:36.034Z"
   },
   {
    "duration": 527,
    "start_time": "2023-02-09T18:39:36.059Z"
   },
   {
    "duration": 22,
    "start_time": "2023-02-09T18:39:36.588Z"
   },
   {
    "duration": 456,
    "start_time": "2023-02-09T18:39:36.612Z"
   },
   {
    "duration": 12,
    "start_time": "2023-02-09T18:39:37.071Z"
   },
   {
    "duration": 6,
    "start_time": "2023-02-09T18:39:37.085Z"
   },
   {
    "duration": 15,
    "start_time": "2023-02-09T18:39:37.093Z"
   },
   {
    "duration": 22,
    "start_time": "2023-02-09T18:39:37.109Z"
   },
   {
    "duration": 34,
    "start_time": "2023-02-09T18:39:45.900Z"
   },
   {
    "duration": 79,
    "start_time": "2023-02-09T18:39:58.811Z"
   },
   {
    "duration": 47,
    "start_time": "2023-02-09T18:40:08.799Z"
   },
   {
    "duration": 223,
    "start_time": "2023-02-09T18:40:23.183Z"
   },
   {
    "duration": 122,
    "start_time": "2023-02-09T18:46:09.647Z"
   },
   {
    "duration": 8,
    "start_time": "2023-02-09T19:09:17.304Z"
   },
   {
    "duration": 4,
    "start_time": "2023-02-09T19:09:37.249Z"
   },
   {
    "duration": 12,
    "start_time": "2023-02-09T19:09:39.108Z"
   },
   {
    "duration": 130,
    "start_time": "2023-02-09T19:10:10.257Z"
   },
   {
    "duration": 117,
    "start_time": "2023-02-09T19:10:30.589Z"
   },
   {
    "duration": 301,
    "start_time": "2023-02-09T19:18:33.581Z"
   },
   {
    "duration": 282,
    "start_time": "2023-02-09T19:18:50.898Z"
   },
   {
    "duration": 356,
    "start_time": "2023-02-09T19:19:18.118Z"
   },
   {
    "duration": 255,
    "start_time": "2023-02-09T19:19:29.511Z"
   },
   {
    "duration": 256,
    "start_time": "2023-02-09T19:19:46.017Z"
   },
   {
    "duration": 272,
    "start_time": "2023-02-09T19:20:01.474Z"
   },
   {
    "duration": 273,
    "start_time": "2023-02-09T19:20:07.308Z"
   },
   {
    "duration": 281,
    "start_time": "2023-02-09T19:20:45.048Z"
   },
   {
    "duration": 299,
    "start_time": "2023-02-09T19:28:30.375Z"
   },
   {
    "duration": 334,
    "start_time": "2023-02-09T19:29:13.367Z"
   },
   {
    "duration": 267,
    "start_time": "2023-02-09T19:30:44.222Z"
   },
   {
    "duration": 300,
    "start_time": "2023-02-09T19:30:58.308Z"
   },
   {
    "duration": 359,
    "start_time": "2023-02-09T19:32:03.822Z"
   },
   {
    "duration": 312,
    "start_time": "2023-02-09T19:32:11.619Z"
   },
   {
    "duration": 416,
    "start_time": "2023-02-09T19:32:31.065Z"
   },
   {
    "duration": 320,
    "start_time": "2023-02-09T19:32:58.891Z"
   },
   {
    "duration": 319,
    "start_time": "2023-02-09T19:33:09.477Z"
   },
   {
    "duration": 349,
    "start_time": "2023-02-09T19:33:51.114Z"
   },
   {
    "duration": 298,
    "start_time": "2023-02-09T19:34:14.604Z"
   },
   {
    "duration": 413,
    "start_time": "2023-02-09T19:34:43.377Z"
   },
   {
    "duration": 338,
    "start_time": "2023-02-09T19:34:49.684Z"
   },
   {
    "duration": 284,
    "start_time": "2023-02-09T19:48:55.778Z"
   },
   {
    "duration": 309,
    "start_time": "2023-02-09T19:49:59.362Z"
   },
   {
    "duration": 286,
    "start_time": "2023-02-09T19:51:41.864Z"
   },
   {
    "duration": 1065,
    "start_time": "2023-02-09T20:13:52.206Z"
   },
   {
    "duration": 69,
    "start_time": "2023-02-09T20:13:53.274Z"
   },
   {
    "duration": 12,
    "start_time": "2023-02-09T20:13:53.344Z"
   },
   {
    "duration": 12,
    "start_time": "2023-02-09T20:13:53.358Z"
   },
   {
    "duration": 6,
    "start_time": "2023-02-09T20:13:53.372Z"
   },
   {
    "duration": 13,
    "start_time": "2023-02-09T20:13:53.379Z"
   },
   {
    "duration": 25,
    "start_time": "2023-02-09T20:13:53.394Z"
   },
   {
    "duration": 27,
    "start_time": "2023-02-09T20:13:53.421Z"
   },
   {
    "duration": 8,
    "start_time": "2023-02-09T20:13:53.450Z"
   },
   {
    "duration": 29,
    "start_time": "2023-02-09T20:13:53.461Z"
   },
   {
    "duration": 21,
    "start_time": "2023-02-09T20:13:53.493Z"
   },
   {
    "duration": 24,
    "start_time": "2023-02-09T20:13:53.516Z"
   },
   {
    "duration": 16,
    "start_time": "2023-02-09T20:13:53.548Z"
   },
   {
    "duration": 368,
    "start_time": "2023-02-09T20:13:53.568Z"
   },
   {
    "duration": 21,
    "start_time": "2023-02-09T20:13:53.938Z"
   },
   {
    "duration": 28,
    "start_time": "2023-02-09T20:13:53.960Z"
   },
   {
    "duration": 2,
    "start_time": "2023-02-09T20:13:53.990Z"
   },
   {
    "duration": 22,
    "start_time": "2023-02-09T20:13:53.993Z"
   },
   {
    "duration": 5281,
    "start_time": "2023-02-09T20:13:54.017Z"
   },
   {
    "duration": 28,
    "start_time": "2023-02-09T20:13:59.300Z"
   },
   {
    "duration": 28,
    "start_time": "2023-02-09T20:13:59.329Z"
   },
   {
    "duration": 6079,
    "start_time": "2023-02-09T20:13:59.359Z"
   },
   {
    "duration": 10,
    "start_time": "2023-02-09T20:14:05.440Z"
   },
   {
    "duration": 8,
    "start_time": "2023-02-09T20:14:05.452Z"
   },
   {
    "duration": 687,
    "start_time": "2023-02-09T20:14:05.461Z"
   },
   {
    "duration": 16,
    "start_time": "2023-02-09T20:14:06.150Z"
   },
   {
    "duration": 315,
    "start_time": "2023-02-09T20:14:06.168Z"
   },
   {
    "duration": 23,
    "start_time": "2023-02-09T20:14:06.485Z"
   },
   {
    "duration": 377,
    "start_time": "2023-02-09T20:14:06.510Z"
   },
   {
    "duration": 12,
    "start_time": "2023-02-09T20:14:06.889Z"
   },
   {
    "duration": 302,
    "start_time": "2023-02-09T20:14:06.902Z"
   },
   {
    "duration": 12,
    "start_time": "2023-02-09T20:14:07.206Z"
   },
   {
    "duration": 325,
    "start_time": "2023-02-09T20:14:07.220Z"
   },
   {
    "duration": 175,
    "start_time": "2023-02-09T20:14:07.546Z"
   },
   {
    "duration": 250,
    "start_time": "2023-02-09T20:14:07.723Z"
   },
   {
    "duration": 305,
    "start_time": "2023-02-09T20:14:07.975Z"
   },
   {
    "duration": 16,
    "start_time": "2023-02-09T20:14:08.281Z"
   },
   {
    "duration": 493,
    "start_time": "2023-02-09T20:14:08.299Z"
   },
   {
    "duration": 17,
    "start_time": "2023-02-09T20:14:08.793Z"
   },
   {
    "duration": 438,
    "start_time": "2023-02-09T20:14:08.812Z"
   },
   {
    "duration": 15,
    "start_time": "2023-02-09T20:14:09.254Z"
   },
   {
    "duration": 429,
    "start_time": "2023-02-09T20:14:09.271Z"
   },
   {
    "duration": 10,
    "start_time": "2023-02-09T20:14:09.702Z"
   },
   {
    "duration": 14,
    "start_time": "2023-02-09T20:14:09.713Z"
   },
   {
    "duration": 24,
    "start_time": "2023-02-09T20:14:09.729Z"
   },
   {
    "duration": 8,
    "start_time": "2023-02-09T20:14:09.756Z"
   }
  ],
  "kernelspec": {
   "display_name": "Python 3 (ipykernel)",
   "language": "python",
   "name": "python3"
  },
  "language_info": {
   "codemirror_mode": {
    "name": "ipython",
    "version": 3
   },
   "file_extension": ".py",
   "mimetype": "text/x-python",
   "name": "python",
   "nbconvert_exporter": "python",
   "pygments_lexer": "ipython3",
   "version": "3.9.5"
  },
  "toc": {
   "base_numbering": 1,
   "nav_menu": {},
   "number_sections": true,
   "sideBar": true,
   "skip_h1_title": true,
   "title_cell": "Table of Contents",
   "title_sidebar": "Contents",
   "toc_cell": false,
   "toc_position": {
    "height": "calc(100% - 180px)",
    "left": "10px",
    "top": "150px",
    "width": "289.438px"
   },
   "toc_section_display": true,
   "toc_window_display": true
  }
 },
 "nbformat": 4,
 "nbformat_minor": 2
}
