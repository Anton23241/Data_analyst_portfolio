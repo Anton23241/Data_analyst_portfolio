{
 "cells": [
  {
   "attachments": {},
   "cell_type": "markdown",
   "metadata": {},
   "source": [
    "# Исследование объявлений о продаже квартир\n",
    "\n",
    "В нашем распоряжении данные сервиса Яндекс.Недвижимость — архив объявлений о продаже квартир в Санкт-Петербурге и соседних населённых пунктов за несколько лет. Задача проекта — определить рыночную стоимость объектов недвижимости и типичные параметры квартир.\n",
    "\n",
    "По каждой квартире на продажу доступны два вида данных. Первые вписаны пользователем, вторые — получены автоматически на основе картографических данных. Например, расстояние до центра, аэропорта, ближайшего парка и водоёма. "
   ]
  },
  {
   "attachments": {},
   "cell_type": "markdown",
   "metadata": {},
   "source": [
    "### Изучение файла с данными"
   ]
  },
  {
   "cell_type": "code",
   "execution_count": 1,
   "metadata": {},
   "outputs": [
    {
     "data": {
      "text/html": [
       "<div>\n",
       "<style scoped>\n",
       "    .dataframe tbody tr th:only-of-type {\n",
       "        vertical-align: middle;\n",
       "    }\n",
       "\n",
       "    .dataframe tbody tr th {\n",
       "        vertical-align: top;\n",
       "    }\n",
       "\n",
       "    .dataframe thead th {\n",
       "        text-align: right;\n",
       "    }\n",
       "</style>\n",
       "<table border=\"1\" class=\"dataframe\">\n",
       "  <thead>\n",
       "    <tr style=\"text-align: right;\">\n",
       "      <th></th>\n",
       "      <th>total_images</th>\n",
       "      <th>last_price</th>\n",
       "      <th>total_area</th>\n",
       "      <th>first_day_exposition</th>\n",
       "      <th>rooms</th>\n",
       "      <th>ceiling_height</th>\n",
       "      <th>floors_total</th>\n",
       "      <th>living_area</th>\n",
       "      <th>floor</th>\n",
       "      <th>is_apartment</th>\n",
       "      <th>...</th>\n",
       "      <th>kitchen_area</th>\n",
       "      <th>balcony</th>\n",
       "      <th>locality_name</th>\n",
       "      <th>airports_nearest</th>\n",
       "      <th>cityCenters_nearest</th>\n",
       "      <th>parks_around3000</th>\n",
       "      <th>parks_nearest</th>\n",
       "      <th>ponds_around3000</th>\n",
       "      <th>ponds_nearest</th>\n",
       "      <th>days_exposition</th>\n",
       "    </tr>\n",
       "  </thead>\n",
       "  <tbody>\n",
       "    <tr>\n",
       "      <th>0</th>\n",
       "      <td>20</td>\n",
       "      <td>13000000.0</td>\n",
       "      <td>108.0</td>\n",
       "      <td>2019-03-07T00:00:00</td>\n",
       "      <td>3</td>\n",
       "      <td>2.70</td>\n",
       "      <td>16.0</td>\n",
       "      <td>51.0</td>\n",
       "      <td>8</td>\n",
       "      <td>NaN</td>\n",
       "      <td>...</td>\n",
       "      <td>25.0</td>\n",
       "      <td>NaN</td>\n",
       "      <td>Санкт-Петербург</td>\n",
       "      <td>18863.0</td>\n",
       "      <td>16028.0</td>\n",
       "      <td>1.0</td>\n",
       "      <td>482.0</td>\n",
       "      <td>2.0</td>\n",
       "      <td>755.0</td>\n",
       "      <td>NaN</td>\n",
       "    </tr>\n",
       "    <tr>\n",
       "      <th>1</th>\n",
       "      <td>7</td>\n",
       "      <td>3350000.0</td>\n",
       "      <td>40.4</td>\n",
       "      <td>2018-12-04T00:00:00</td>\n",
       "      <td>1</td>\n",
       "      <td>NaN</td>\n",
       "      <td>11.0</td>\n",
       "      <td>18.6</td>\n",
       "      <td>1</td>\n",
       "      <td>NaN</td>\n",
       "      <td>...</td>\n",
       "      <td>11.0</td>\n",
       "      <td>2.0</td>\n",
       "      <td>посёлок Шушары</td>\n",
       "      <td>12817.0</td>\n",
       "      <td>18603.0</td>\n",
       "      <td>0.0</td>\n",
       "      <td>NaN</td>\n",
       "      <td>0.0</td>\n",
       "      <td>NaN</td>\n",
       "      <td>81.0</td>\n",
       "    </tr>\n",
       "    <tr>\n",
       "      <th>2</th>\n",
       "      <td>10</td>\n",
       "      <td>5196000.0</td>\n",
       "      <td>56.0</td>\n",
       "      <td>2015-08-20T00:00:00</td>\n",
       "      <td>2</td>\n",
       "      <td>NaN</td>\n",
       "      <td>5.0</td>\n",
       "      <td>34.3</td>\n",
       "      <td>4</td>\n",
       "      <td>NaN</td>\n",
       "      <td>...</td>\n",
       "      <td>8.3</td>\n",
       "      <td>0.0</td>\n",
       "      <td>Санкт-Петербург</td>\n",
       "      <td>21741.0</td>\n",
       "      <td>13933.0</td>\n",
       "      <td>1.0</td>\n",
       "      <td>90.0</td>\n",
       "      <td>2.0</td>\n",
       "      <td>574.0</td>\n",
       "      <td>558.0</td>\n",
       "    </tr>\n",
       "    <tr>\n",
       "      <th>3</th>\n",
       "      <td>0</td>\n",
       "      <td>64900000.0</td>\n",
       "      <td>159.0</td>\n",
       "      <td>2015-07-24T00:00:00</td>\n",
       "      <td>3</td>\n",
       "      <td>NaN</td>\n",
       "      <td>14.0</td>\n",
       "      <td>NaN</td>\n",
       "      <td>9</td>\n",
       "      <td>NaN</td>\n",
       "      <td>...</td>\n",
       "      <td>NaN</td>\n",
       "      <td>0.0</td>\n",
       "      <td>Санкт-Петербург</td>\n",
       "      <td>28098.0</td>\n",
       "      <td>6800.0</td>\n",
       "      <td>2.0</td>\n",
       "      <td>84.0</td>\n",
       "      <td>3.0</td>\n",
       "      <td>234.0</td>\n",
       "      <td>424.0</td>\n",
       "    </tr>\n",
       "    <tr>\n",
       "      <th>4</th>\n",
       "      <td>2</td>\n",
       "      <td>10000000.0</td>\n",
       "      <td>100.0</td>\n",
       "      <td>2018-06-19T00:00:00</td>\n",
       "      <td>2</td>\n",
       "      <td>3.03</td>\n",
       "      <td>14.0</td>\n",
       "      <td>32.0</td>\n",
       "      <td>13</td>\n",
       "      <td>NaN</td>\n",
       "      <td>...</td>\n",
       "      <td>41.0</td>\n",
       "      <td>NaN</td>\n",
       "      <td>Санкт-Петербург</td>\n",
       "      <td>31856.0</td>\n",
       "      <td>8098.0</td>\n",
       "      <td>2.0</td>\n",
       "      <td>112.0</td>\n",
       "      <td>1.0</td>\n",
       "      <td>48.0</td>\n",
       "      <td>121.0</td>\n",
       "    </tr>\n",
       "  </tbody>\n",
       "</table>\n",
       "<p>5 rows × 22 columns</p>\n",
       "</div>"
      ],
      "text/plain": [
       "   total_images  last_price  total_area first_day_exposition  rooms  \\\n",
       "0            20  13000000.0       108.0  2019-03-07T00:00:00      3   \n",
       "1             7   3350000.0        40.4  2018-12-04T00:00:00      1   \n",
       "2            10   5196000.0        56.0  2015-08-20T00:00:00      2   \n",
       "3             0  64900000.0       159.0  2015-07-24T00:00:00      3   \n",
       "4             2  10000000.0       100.0  2018-06-19T00:00:00      2   \n",
       "\n",
       "   ceiling_height  floors_total  living_area  floor is_apartment  ...  \\\n",
       "0            2.70          16.0         51.0      8          NaN  ...   \n",
       "1             NaN          11.0         18.6      1          NaN  ...   \n",
       "2             NaN           5.0         34.3      4          NaN  ...   \n",
       "3             NaN          14.0          NaN      9          NaN  ...   \n",
       "4            3.03          14.0         32.0     13          NaN  ...   \n",
       "\n",
       "   kitchen_area  balcony    locality_name  airports_nearest  \\\n",
       "0          25.0      NaN  Санкт-Петербург           18863.0   \n",
       "1          11.0      2.0   посёлок Шушары           12817.0   \n",
       "2           8.3      0.0  Санкт-Петербург           21741.0   \n",
       "3           NaN      0.0  Санкт-Петербург           28098.0   \n",
       "4          41.0      NaN  Санкт-Петербург           31856.0   \n",
       "\n",
       "  cityCenters_nearest  parks_around3000  parks_nearest  ponds_around3000  \\\n",
       "0             16028.0               1.0          482.0               2.0   \n",
       "1             18603.0               0.0            NaN               0.0   \n",
       "2             13933.0               1.0           90.0               2.0   \n",
       "3              6800.0               2.0           84.0               3.0   \n",
       "4              8098.0               2.0          112.0               1.0   \n",
       "\n",
       "   ponds_nearest  days_exposition  \n",
       "0          755.0              NaN  \n",
       "1            NaN             81.0  \n",
       "2          574.0            558.0  \n",
       "3          234.0            424.0  \n",
       "4           48.0            121.0  \n",
       "\n",
       "[5 rows x 22 columns]"
      ]
     },
     "execution_count": 1,
     "metadata": {},
     "output_type": "execute_result"
    }
   ],
   "source": [
    "import pandas as pd\n",
    "data = pd.read_csv('/datasets/real_estate_data.csv', sep='\\t')\n",
    "data.head()\n",
    "\n"
   ]
  },
  {
   "cell_type": "code",
   "execution_count": 2,
   "metadata": {},
   "outputs": [
    {
     "name": "stdout",
     "output_type": "stream",
     "text": [
      "<class 'pandas.core.frame.DataFrame'>\n",
      "RangeIndex: 23699 entries, 0 to 23698\n",
      "Data columns (total 22 columns):\n",
      " #   Column                Non-Null Count  Dtype  \n",
      "---  ------                --------------  -----  \n",
      " 0   total_images          23699 non-null  int64  \n",
      " 1   last_price            23699 non-null  float64\n",
      " 2   total_area            23699 non-null  float64\n",
      " 3   first_day_exposition  23699 non-null  object \n",
      " 4   rooms                 23699 non-null  int64  \n",
      " 5   ceiling_height        14504 non-null  float64\n",
      " 6   floors_total          23613 non-null  float64\n",
      " 7   living_area           21796 non-null  float64\n",
      " 8   floor                 23699 non-null  int64  \n",
      " 9   is_apartment          2775 non-null   object \n",
      " 10  studio                23699 non-null  bool   \n",
      " 11  open_plan             23699 non-null  bool   \n",
      " 12  kitchen_area          21421 non-null  float64\n",
      " 13  balcony               12180 non-null  float64\n",
      " 14  locality_name         23650 non-null  object \n",
      " 15  airports_nearest      18157 non-null  float64\n",
      " 16  cityCenters_nearest   18180 non-null  float64\n",
      " 17  parks_around3000      18181 non-null  float64\n",
      " 18  parks_nearest         8079 non-null   float64\n",
      " 19  ponds_around3000      18181 non-null  float64\n",
      " 20  ponds_nearest         9110 non-null   float64\n",
      " 21  days_exposition       20518 non-null  float64\n",
      "dtypes: bool(2), float64(14), int64(3), object(3)\n",
      "memory usage: 3.7+ MB\n"
     ]
    }
   ],
   "source": [
    "data.info()"
   ]
  },
  {
   "cell_type": "code",
   "execution_count": 3,
   "metadata": {},
   "outputs": [
    {
     "data": {
      "text/plain": [
       "array([[<AxesSubplot:title={'center':'total_images'}>,\n",
       "        <AxesSubplot:title={'center':'last_price'}>,\n",
       "        <AxesSubplot:title={'center':'total_area'}>,\n",
       "        <AxesSubplot:title={'center':'rooms'}>],\n",
       "       [<AxesSubplot:title={'center':'ceiling_height'}>,\n",
       "        <AxesSubplot:title={'center':'floors_total'}>,\n",
       "        <AxesSubplot:title={'center':'living_area'}>,\n",
       "        <AxesSubplot:title={'center':'floor'}>],\n",
       "       [<AxesSubplot:title={'center':'kitchen_area'}>,\n",
       "        <AxesSubplot:title={'center':'balcony'}>,\n",
       "        <AxesSubplot:title={'center':'airports_nearest'}>,\n",
       "        <AxesSubplot:title={'center':'cityCenters_nearest'}>],\n",
       "       [<AxesSubplot:title={'center':'parks_around3000'}>,\n",
       "        <AxesSubplot:title={'center':'parks_nearest'}>,\n",
       "        <AxesSubplot:title={'center':'ponds_around3000'}>,\n",
       "        <AxesSubplot:title={'center':'ponds_nearest'}>],\n",
       "       [<AxesSubplot:title={'center':'days_exposition'}>, <AxesSubplot:>,\n",
       "        <AxesSubplot:>, <AxesSubplot:>]], dtype=object)"
      ]
     },
     "execution_count": 3,
     "metadata": {},
     "output_type": "execute_result"
    },
    {
     "data": {
      "image/png": "[encoded data removed]",
      "text/plain": [
       "<Figure size 1080x1440 with 20 Axes>"
      ]
     },
     "metadata": {
      "needs_background": "light"
     },
     "output_type": "display_data"
    }
   ],
   "source": [
    "data.hist(figsize=(15, 20))"
   ]
  },
  {
   "attachments": {},
   "cell_type": "markdown",
   "metadata": {},
   "source": [
    "### Предобработка данных"
   ]
  },
  {
   "cell_type": "code",
   "execution_count": 4,
   "metadata": {},
   "outputs": [
    {
     "name": "stdout",
     "output_type": "stream",
     "text": [
      "<class 'pandas.core.frame.DataFrame'>\n",
      "RangeIndex: 23699 entries, 0 to 23698\n",
      "Data columns (total 22 columns):\n",
      " #   Column                Non-Null Count  Dtype  \n",
      "---  ------                --------------  -----  \n",
      " 0   total_images          23699 non-null  int64  \n",
      " 1   last_price            23699 non-null  float64\n",
      " 2   total_area            23699 non-null  float64\n",
      " 3   first_day_exposition  23699 non-null  object \n",
      " 4   rooms                 23699 non-null  int64  \n",
      " 5   ceiling_height        14504 non-null  float64\n",
      " 6   floors_total          23613 non-null  float64\n",
      " 7   living_area           21796 non-null  float64\n",
      " 8   floor                 23699 non-null  int64  \n",
      " 9   is_apartment          2775 non-null   object \n",
      " 10  studio                23699 non-null  bool   \n",
      " 11  open_plan             23699 non-null  bool   \n",
      " 12  kitchen_area          21421 non-null  float64\n",
      " 13  balcony               12180 non-null  float64\n",
      " 14  locality_name         23650 non-null  object \n",
      " 15  airports_nearest      18157 non-null  float64\n",
      " 16  city_centers_nearest  18180 non-null  float64\n",
      " 17  parks_around3000      18181 non-null  float64\n",
      " 18  parks_nearest         8079 non-null   float64\n",
      " 19  ponds_around3000      18181 non-null  float64\n",
      " 20  ponds_nearest         9110 non-null   float64\n",
      " 21  days_exposition       20518 non-null  float64\n",
      "dtypes: bool(2), float64(14), int64(3), object(3)\n",
      "memory usage: 3.7+ MB\n"
     ]
    }
   ],
   "source": [
    "# переименуем столбец cityCenters_nearest (приведем название к \"змеиному регистру\")\n",
    "data.rename(columns={'cityCenters_nearest' : 'city_centers_nearest'}, inplace=True)\n",
    "data.info()            "
   ]
  },
  {
   "cell_type": "code",
   "execution_count": 5,
   "metadata": {},
   "outputs": [
    {
     "data": {
      "text/plain": [
       "total_images                0\n",
       "last_price                  0\n",
       "total_area                  0\n",
       "first_day_exposition        0\n",
       "rooms                       0\n",
       "ceiling_height           9195\n",
       "floors_total               86\n",
       "living_area              1903\n",
       "floor                       0\n",
       "is_apartment            20924\n",
       "studio                      0\n",
       "open_plan                   0\n",
       "kitchen_area             2278\n",
       "balcony                 11519\n",
       "locality_name              49\n",
       "airports_nearest         5542\n",
       "city_centers_nearest     5519\n",
       "parks_around3000         5518\n",
       "parks_nearest           15620\n",
       "ponds_around3000         5518\n",
       "ponds_nearest           14589\n",
       "days_exposition          3181\n",
       "dtype: int64"
      ]
     },
     "execution_count": 5,
     "metadata": {},
     "output_type": "execute_result"
    }
   ],
   "source": [
    "#Определяем в каких столбцах есть пропущенные значения\n",
    "data.isna().sum()"
   ]
  },
  {
   "cell_type": "code",
   "execution_count": 27,
   "metadata": {
    "scrolled": false
   },
   "outputs": [
    {
     "data": {
      "text/plain": [
       "total_images                   0\n",
       "last_price                     0\n",
       "total_area                     0\n",
       "first_day_exposition           0\n",
       "rooms                          0\n",
       "ceiling_height                 0\n",
       "floors_total                  86\n",
       "living_area                    0\n",
       "floor                          0\n",
       "is_apartment                   0\n",
       "studio                         0\n",
       "open_plan                      0\n",
       "kitchen_area                   0\n",
       "balcony                        0\n",
       "locality_name                 49\n",
       "airports_nearest            5538\n",
       "city_centers_nearest        5517\n",
       "parks_around3000               0\n",
       "parks_nearest              15599\n",
       "ponds_around3000               0\n",
       "ponds_nearest              14565\n",
       "days_exposition             3174\n",
       "sm_price                       0\n",
       "weekday                        0\n",
       "month                          0\n",
       "year                           0\n",
       "floor_type                     0\n",
       "city_centers_nearest_km     5517\n",
       "dtype: int64"
      ]
     },
     "execution_count": 27,
     "metadata": {},
     "output_type": "execute_result"
    }
   ],
   "source": [
    "#Можем предположить,что пропуски в данном стоблце обусловлены тем,что это не апартаменты и присвоим пропущенным значениям False\n",
    "data['is_apartment'] = data['is_apartment'].fillna('False')\n",
    "\n",
    "#Скорее всего, в данных квартирах нет балконов, поэтому пропущенные значения заменяем на 0\n",
    "data['balcony'] = data['balcony'].fillna(0)\n",
    "\n",
    "# Скорее всего,парков в радиусе 3 км нет. Заменяем пропущенные значения на 0\n",
    "data['parks_around3000'] = data['parks_around3000'].fillna(0)\n",
    "\n",
    "# Скорее всего,водоемов в радиусе 3 км нет. Заменяем пропущенные значения на 0\n",
    "data['ponds_around3000'] = data['ponds_around3000'].fillna(0)\n",
    "\n",
    "#Данные просто не заполнили, поэтому резонно будет удалить строки с пропущенными значениями\n",
    "data['locality_name'].dropna(inplace=True)\n",
    "\n",
    "data.isna().sum()\n"
   ]
  },
  {
   "cell_type": "code",
   "execution_count": 28,
   "metadata": {},
   "outputs": [],
   "source": [
    "# Приводим в целочисленный тип стоимость квартиры\n",
    "data['last_price'] = data['last_price'].astype(int)\n",
    "\n",
    "# Приводим к типу даты дату публикации\n",
    "data['first_day_exposition'] = pd.to_datetime(data['first_day_exposition'], format='%Y-%m-%dT%H:%M:%S')\n",
    "\n",
    "# Приводим в целочисленный тип количество балконов\n",
    "data['balcony'] = data['balcony'].astype(int)\n",
    "\n",
    "# Приводим в целочисленный тип количество парков. \n",
    "data['parks_around3000'] = data['parks_around3000'].astype(int)\n",
    "\n",
    "# Приводим в целочисленный тип количество прудов.\n",
    "data['ponds_around3000'] = data['ponds_around3000'].astype(int)\n",
    "\n",
    "#Изменение типа first_day_exposition необходимо, чтобы работать с датой в дальнейшем было удобно.\n",
    "#Изменение типов во всех остальных случаях необходимо, чтобы сэкономить память."
   ]
  },
  {
   "cell_type": "code",
   "execution_count": 29,
   "metadata": {},
   "outputs": [
    {
     "data": {
      "text/plain": [
       "array(['санкт-петербург', 'поселок шушары',\n",
       "       'поселок городского типа янино-1', 'поселок парголово',\n",
       "       'поселок мурино', 'ломоносов', 'сертолово', 'петергоф', 'пушкин',\n",
       "       'деревня кудрово', 'коммунар', 'колпино',\n",
       "       'поселок городского типа красный бор', 'гатчина',\n",
       "       'деревня федоровское', 'выборг', 'кронштадт', 'кировск',\n",
       "       'деревня новое девяткино', 'поселок металлострой',\n",
       "       'поселок городского типа лебяжье',\n",
       "       'поселок городского типа сиверский', 'поселок молодцово',\n",
       "       'поселок городского типа кузьмоловский',\n",
       "       'садовое товарищество новая ропша', 'павловск',\n",
       "       'деревня пикколово', 'всеволожск', 'волхов', 'кингисепп',\n",
       "       'приозерск', 'сестрорецк', 'деревня куттузи', 'поселок аннино',\n",
       "       'поселок городского типа ефимовский', 'поселок плодовое',\n",
       "       'деревня заклинье', 'поселок торковичи', 'поселок первомайское',\n",
       "       'красное село', 'поселок понтонный', 'сясьстрой', 'деревня старая',\n",
       "       'деревня лесколово', 'поселок новый свет', 'сланцы',\n",
       "       'село путилово', 'ивангород', 'мурино', 'шлиссельбург',\n",
       "       'никольское', 'зеленогорск', 'сосновый бор', 'деревня оржицы',\n",
       "       'деревня кальтино', 'кудрово', 'поселок романовка',\n",
       "       'поселок бугры', 'поселок городского типа рощино', 'кириши',\n",
       "       'луга', 'волосово', 'отрадное', 'село павлово', 'поселок оредеж',\n",
       "       'село копорье', 'поселок молодежное', 'тихвин', 'поселок победа',\n",
       "       'деревня нурма', 'поселок городского типа синявино', 'тосно',\n",
       "       'поселок стрельна', 'бокситогорск', 'поселок александровская',\n",
       "       'деревня лопухинка', 'пикалево', 'поселок терволово',\n",
       "       'поселок городского типа советский', 'подпорожье',\n",
       "       'поселок петровское', 'поселок городского типа токсово',\n",
       "       'поселок сельцо', 'поселок городского типа вырица',\n",
       "       'деревня кипень', 'деревня келози', 'деревня вартемяги',\n",
       "       'поселок тельмана', 'поселок севастьяново',\n",
       "       'поселок городского типа большая ижора', nan,\n",
       "       'поселок городского типа павлово', 'деревня агалатово',\n",
       "       'поселок новогорелово', 'поселок городского типа лесогорский',\n",
       "       'деревня лаголово', 'поселок цвелодубово',\n",
       "       'поселок городского типа рахья', 'деревня белогорка',\n",
       "       'поселок заводской', 'поселок городского типа новоселье',\n",
       "       'деревня большие колпаны', 'деревня горбунки', 'деревня батово',\n",
       "       'деревня заневка', 'деревня иссад', 'приморск',\n",
       "       'поселок городского типа федоровское', 'деревня мистолово',\n",
       "       'новая ладога', 'поселок зимитицы', 'поселок барышево',\n",
       "       'деревня разметелево', 'поселок городского типа имени свердлова',\n",
       "       'деревня пеники', 'поселок рябово', 'деревня пудомяги',\n",
       "       'поселок станции корнево', 'деревня низино', 'деревня бегуницы',\n",
       "       'поселок поляны', 'поселок городского типа мга',\n",
       "       'поселок елизаветино', 'поселок городского типа кузнечное',\n",
       "       'деревня колтуши', 'поселок запорожское', 'деревня гостилицы',\n",
       "       'деревня малое карлино', 'поселок мичуринское',\n",
       "       'поселок городского типа имени морозова', 'поселок песочный',\n",
       "       'поселок сосново', 'деревня аро', 'поселок ильичево',\n",
       "       'поселок городского типа тайцы', 'деревня малое верево',\n",
       "       'деревня извара', 'поселок станции вещево', 'село паша',\n",
       "       'деревня калитино', 'поселок городского типа ульяновка',\n",
       "       'деревня чудской бор', 'поселок городского типа дубровка',\n",
       "       'деревня мины', 'поселок войсковицы', 'деревня коркино',\n",
       "       'поселок ропша', 'поселок городского типа приладожский',\n",
       "       'поселок щеглово', 'поселок гаврилово', 'лодейное поле',\n",
       "       'деревня рабитицы', 'поселок городского типа никольский',\n",
       "       'деревня кузьмолово', 'деревня малые колпаны',\n",
       "       'поселок петро-славянка', 'поселок городского типа назия',\n",
       "       'поселок репино', 'поселок углово', 'поселок старая малукса',\n",
       "       'садовое товарищество рахья', 'деревня меньково',\n",
       "       'деревня старые бегуницы', 'поселок саперный', 'поселок семрино',\n",
       "       'поселок глажево', 'поселок кобринское', 'деревня гарболово',\n",
       "       'деревня юкки', 'поселок станции приветнинское',\n",
       "       'деревня мануйлово', 'деревня пчева', 'поселок цвылево',\n",
       "       'поселок мельниково', 'поселок пудость', 'поселок усть-луга',\n",
       "       'светогорск', 'любань', 'поселок селезнево',\n",
       "       'поселок городского типа рябово', 'каменногорск', 'деревня кривко',\n",
       "       'поселок глебычево', 'деревня парицы', 'поселок жилпоселок',\n",
       "       'поселок войскорово', 'село никольское', 'поселок стеклянный',\n",
       "       'поселок городского типа важины', 'поселок мыза-ивановка',\n",
       "       'село русско-высоцкое', 'поселок городского типа форносово',\n",
       "       'село старая ладога', 'поселок житково',\n",
       "       'поселок городского типа виллози', 'деревня лампово',\n",
       "       'деревня шпаньково', 'деревня лаврики', 'поселок сумино',\n",
       "       'поселок возрождение', 'деревня старосиверская',\n",
       "       'поселок кикерино', 'деревня старое хинколово',\n",
       "       'поселок пригородный', 'поселок торфяное',\n",
       "       'поселок городского типа будогощь', 'поселок суходолье',\n",
       "       'поселок красная долина', 'деревня хапо-ое',\n",
       "       'поселок городского типа дружная горка', 'поселок лисий нос',\n",
       "       'деревня яльгелево', 'село рождествено', 'деревня старополье',\n",
       "       'поселок левашово', 'деревня сяськелево', 'деревня камышовка',\n",
       "       'садоводческое некоммерческое товарищество лесная поляна',\n",
       "       'деревня хязельки', 'поселок жилгородок', 'деревня ялгино',\n",
       "       'поселок новый учхоз', 'поселок гончарово', 'поселок почап',\n",
       "       'поселок саперное', 'поселок платформа 69-й километр',\n",
       "       'поселок каложицы', 'деревня фалилеево', 'деревня пельгора',\n",
       "       'деревня торошковичи', 'поселок белоостров', 'поселок алексеевка',\n",
       "       'поселок серебрянский', 'поселок лукаши', 'деревня щеглово',\n",
       "       'деревня тарасово', 'поселок кингисеппский',\n",
       "       'поселок при железнодорожной станции вещево', 'поселок ушаки',\n",
       "       'деревня котлы', 'деревня сижно', 'деревня торосово',\n",
       "       'поселок форт красная горка', 'деревня новолисино',\n",
       "       'поселок станции громово', 'деревня глинка',\n",
       "       'деревня старая пустошь', 'поселок коммунары', 'поселок починок',\n",
       "       'поселок городского типа вознесенье', 'деревня разбегаево',\n",
       "       'поселок гладкое',\n",
       "       'поселок при железнодорожной станции приветнинское',\n",
       "       'поселок тесово-4', 'деревня бор', 'поселок коробицыно',\n",
       "       'деревня большая вруда', 'деревня курковицы', 'поселок кобралово',\n",
       "       'деревня суоранда', 'поселок городского типа кондратьево',\n",
       "       'коттеджный поселок счастье', 'поселок любань', 'деревня реброво',\n",
       "       'деревня зимитицы', 'деревня тойворово', 'поселок семиозерье',\n",
       "       'поселок лесное', 'поселок совхозный', 'поселок ленинское',\n",
       "       'поселок суйда', 'деревня нижние осельки', 'поселок станции свирь',\n",
       "       'поселок перово', 'высоцк', 'поселок гарболово', 'село шум',\n",
       "       'поселок котельский', 'поселок станции лужайка',\n",
       "       'деревня большая пустомержа', 'поселок красносельское',\n",
       "       'деревня вахнова кара', 'деревня пижма',\n",
       "       'коттеджный поселок кивеннапа север', 'поселок ромашки',\n",
       "       'деревня каськово', 'деревня куровицы', 'поселок плоское',\n",
       "       'поселок кирпичное', 'деревня ям-тесово', 'деревня раздолье',\n",
       "       'деревня терпилицы', 'поселок шугозеро', 'деревня ваганово',\n",
       "       'поселок пушное', 'садовое товарищество садко',\n",
       "       'поселок усть-ижора', 'деревня выскатка',\n",
       "       'поселок городского типа свирьстрой', 'поселок громово',\n",
       "       'деревня кисельня', 'деревня трубников бор', 'поселок калитино',\n",
       "       'поселок высокоключевой', 'садовое товарищество приладожский',\n",
       "       'поселок пансионат зеленый бор', 'деревня ненимяки',\n",
       "       'деревня снегиревка', 'деревня рапполово', 'деревня пустынка',\n",
       "       'поселок рабитицы', 'деревня большой сабск', 'деревня русско',\n",
       "       'деревня лупполово', 'деревня большое рейзино',\n",
       "       'деревня малая романовка', 'поселок дружноселье', 'поселок пчевжа',\n",
       "       'поселок володарское', 'деревня нижняя',\n",
       "       'коттеджный поселок лесное', 'деревня тихковицы',\n",
       "       'деревня борисова грива', 'поселок дзержинского'], dtype=object)"
      ]
     },
     "execution_count": 29,
     "metadata": {},
     "output_type": "execute_result"
    }
   ],
   "source": [
    "#Изучение уникальных значений в столбце с названиями\n",
    "data['locality_name'].unique()"
   ]
  },
  {
   "cell_type": "code",
   "execution_count": 9,
   "metadata": {},
   "outputs": [
    {
     "data": {
      "text/plain": [
       "365"
      ]
     },
     "execution_count": 9,
     "metadata": {},
     "output_type": "execute_result"
    }
   ],
   "source": [
    "#Количество уникальных значений в столбце с названиями до устранения неявных дубликатов\n",
    "data['locality_name'].unique().shape[0]"
   ]
  },
  {
   "cell_type": "code",
   "execution_count": 10,
   "metadata": {
    "scrolled": true
   },
   "outputs": [
    {
     "data": {
      "text/plain": [
       "324"
      ]
     },
     "execution_count": 10,
     "metadata": {},
     "output_type": "execute_result"
    }
   ],
   "source": [
    "#Проанализировав все уникальные значения в столбце с названиями, можно предпринять следующие шаги\n",
    "#для устранения неявных дубликатов:\n",
    "#1)Привести всё к нижнему регистру.\n",
    "#2)Заменить все \"ё\" на \"е\".\n",
    "#3)Заменить \"городской поселок\" на \"поселок городского типа\"\n",
    "\n",
    "#Приводим все к нижнему регистру\n",
    "data['locality_name'] = data['locality_name'].str.lower()\n",
    "\n",
    "#Заменяем все \"ё\" на \"е\"\n",
    "data['locality_name'] = data['locality_name'].str.replace('ё', 'е')\n",
    "\n",
    "#Заменяем \"городской поселок\" на \"поселок городского типа\"\n",
    "data['locality_name'] = data['locality_name'].str.replace('городской поселок','поселок городского типа')\n",
    "\n",
    "#Количество уникальных значений в столбце с названиями после устранения неявных дубликатов\n",
    "data['locality_name'].unique().shape[0]"
   ]
  },
  {
   "cell_type": "code",
   "execution_count": 11,
   "metadata": {},
   "outputs": [
    {
     "name": "stdout",
     "output_type": "stream",
     "text": [
      "Квартир с потолками от 4 до 5м: 39 шт.\n",
      "Квартир с потолками от 5 до 25м: 16 шт.\n",
      "Квартир с потолками от 25м до 36м: 19 шт.\n",
      "Квартир с потолками от 25м до 36м: 0 шт.\n",
      "Квартир с потолками от 50м: 1 шт.\n"
     ]
    }
   ],
   "source": [
    "#ceiling_height - высота потолков.\n",
    "#Независимо от года постройки и от типа здания, высота от пола до потолка должна быть в пределах 2,5-3,2 метров.\n",
    "#При изучении недвижимости известны только небольшое количество сверхдорогих двухэтажнх пентхаусов с высотой потолков 4-5м.\n",
    "#Можно предположить, что квартиры с высотой потолков 25-36м на самом деле являются опечаткой и соотвествуют 2.5-3.6м\n",
    "#Исходя их этого предполагаем, что все квартиры с высотой потолков от 36м являются выбросами.\n",
    "#Более того есть одно значение, которое показывает высоту потолков выше 50м.\n",
    "\n",
    "print('Квартир с потолками от 4 до 5м: ' + str(data.query('ceiling_height > 4 and ceiling_height <= 5')['ceiling_height'].count()) + ' шт.')\n",
    "print('Квартир с потолками от 5 до 25м: ' + str(data.query('ceiling_height > 5 and ceiling_height < 25')['ceiling_height'].count()) + ' шт.')\n",
    "print('Квартир с потолками от 25м до 36м: ' + str(data.query('ceiling_height >= 25 and ceiling_height <= 36')['ceiling_height'].count()) + ' шт.')\n",
    "print('Квартир с потолками от 25м до 36м: ' + str(data.query('ceiling_height > 36 and ceiling_height < 50')['ceiling_height'].count()) + ' шт.')\n",
    "print('Квартир с потолками от 50м: ' + str(data.query('ceiling_height >= 50')['ceiling_height'].count()) + ' шт.')"
   ]
  },
  {
   "cell_type": "code",
   "execution_count": 12,
   "metadata": {},
   "outputs": [
    {
     "data": {
      "text/html": [
       "<div>\n",
       "<style scoped>\n",
       "    .dataframe tbody tr th:only-of-type {\n",
       "        vertical-align: middle;\n",
       "    }\n",
       "\n",
       "    .dataframe tbody tr th {\n",
       "        vertical-align: top;\n",
       "    }\n",
       "\n",
       "    .dataframe thead th {\n",
       "        text-align: right;\n",
       "    }\n",
       "</style>\n",
       "<table border=\"1\" class=\"dataframe\">\n",
       "  <thead>\n",
       "    <tr style=\"text-align: right;\">\n",
       "      <th></th>\n",
       "      <th>total_images</th>\n",
       "      <th>last_price</th>\n",
       "      <th>total_area</th>\n",
       "      <th>first_day_exposition</th>\n",
       "      <th>rooms</th>\n",
       "      <th>ceiling_height</th>\n",
       "      <th>floors_total</th>\n",
       "      <th>living_area</th>\n",
       "      <th>floor</th>\n",
       "      <th>is_apartment</th>\n",
       "      <th>...</th>\n",
       "      <th>kitchen_area</th>\n",
       "      <th>balcony</th>\n",
       "      <th>locality_name</th>\n",
       "      <th>airports_nearest</th>\n",
       "      <th>city_centers_nearest</th>\n",
       "      <th>parks_around3000</th>\n",
       "      <th>parks_nearest</th>\n",
       "      <th>ponds_around3000</th>\n",
       "      <th>ponds_nearest</th>\n",
       "      <th>days_exposition</th>\n",
       "    </tr>\n",
       "  </thead>\n",
       "  <tbody>\n",
       "    <tr>\n",
       "      <th>0</th>\n",
       "      <td>20</td>\n",
       "      <td>13000000</td>\n",
       "      <td>108.0</td>\n",
       "      <td>2019-03-07</td>\n",
       "      <td>3</td>\n",
       "      <td>2.70</td>\n",
       "      <td>16.0</td>\n",
       "      <td>51.0</td>\n",
       "      <td>8</td>\n",
       "      <td>False</td>\n",
       "      <td>...</td>\n",
       "      <td>25.0</td>\n",
       "      <td>0</td>\n",
       "      <td>санкт-петербург</td>\n",
       "      <td>18863.0</td>\n",
       "      <td>16028.0</td>\n",
       "      <td>1</td>\n",
       "      <td>482.0</td>\n",
       "      <td>2</td>\n",
       "      <td>755.0</td>\n",
       "      <td>NaN</td>\n",
       "    </tr>\n",
       "    <tr>\n",
       "      <th>1</th>\n",
       "      <td>7</td>\n",
       "      <td>3350000</td>\n",
       "      <td>40.4</td>\n",
       "      <td>2018-12-04</td>\n",
       "      <td>1</td>\n",
       "      <td>2.65</td>\n",
       "      <td>11.0</td>\n",
       "      <td>18.6</td>\n",
       "      <td>1</td>\n",
       "      <td>False</td>\n",
       "      <td>...</td>\n",
       "      <td>11.0</td>\n",
       "      <td>2</td>\n",
       "      <td>поселок шушары</td>\n",
       "      <td>12817.0</td>\n",
       "      <td>18603.0</td>\n",
       "      <td>0</td>\n",
       "      <td>NaN</td>\n",
       "      <td>0</td>\n",
       "      <td>NaN</td>\n",
       "      <td>81.0</td>\n",
       "    </tr>\n",
       "    <tr>\n",
       "      <th>2</th>\n",
       "      <td>10</td>\n",
       "      <td>5196000</td>\n",
       "      <td>56.0</td>\n",
       "      <td>2015-08-20</td>\n",
       "      <td>2</td>\n",
       "      <td>2.65</td>\n",
       "      <td>5.0</td>\n",
       "      <td>34.3</td>\n",
       "      <td>4</td>\n",
       "      <td>False</td>\n",
       "      <td>...</td>\n",
       "      <td>8.3</td>\n",
       "      <td>0</td>\n",
       "      <td>санкт-петербург</td>\n",
       "      <td>21741.0</td>\n",
       "      <td>13933.0</td>\n",
       "      <td>1</td>\n",
       "      <td>90.0</td>\n",
       "      <td>2</td>\n",
       "      <td>574.0</td>\n",
       "      <td>558.0</td>\n",
       "    </tr>\n",
       "    <tr>\n",
       "      <th>3</th>\n",
       "      <td>0</td>\n",
       "      <td>64900000</td>\n",
       "      <td>159.0</td>\n",
       "      <td>2015-07-24</td>\n",
       "      <td>3</td>\n",
       "      <td>2.65</td>\n",
       "      <td>14.0</td>\n",
       "      <td>NaN</td>\n",
       "      <td>9</td>\n",
       "      <td>False</td>\n",
       "      <td>...</td>\n",
       "      <td>NaN</td>\n",
       "      <td>0</td>\n",
       "      <td>санкт-петербург</td>\n",
       "      <td>28098.0</td>\n",
       "      <td>6800.0</td>\n",
       "      <td>2</td>\n",
       "      <td>84.0</td>\n",
       "      <td>3</td>\n",
       "      <td>234.0</td>\n",
       "      <td>424.0</td>\n",
       "    </tr>\n",
       "    <tr>\n",
       "      <th>4</th>\n",
       "      <td>2</td>\n",
       "      <td>10000000</td>\n",
       "      <td>100.0</td>\n",
       "      <td>2018-06-19</td>\n",
       "      <td>2</td>\n",
       "      <td>3.03</td>\n",
       "      <td>14.0</td>\n",
       "      <td>32.0</td>\n",
       "      <td>13</td>\n",
       "      <td>False</td>\n",
       "      <td>...</td>\n",
       "      <td>41.0</td>\n",
       "      <td>0</td>\n",
       "      <td>санкт-петербург</td>\n",
       "      <td>31856.0</td>\n",
       "      <td>8098.0</td>\n",
       "      <td>2</td>\n",
       "      <td>112.0</td>\n",
       "      <td>1</td>\n",
       "      <td>48.0</td>\n",
       "      <td>121.0</td>\n",
       "    </tr>\n",
       "  </tbody>\n",
       "</table>\n",
       "<p>5 rows × 22 columns</p>\n",
       "</div>"
      ],
      "text/plain": [
       "   total_images  last_price  total_area first_day_exposition  rooms  \\\n",
       "0            20    13000000       108.0           2019-03-07      3   \n",
       "1             7     3350000        40.4           2018-12-04      1   \n",
       "2            10     5196000        56.0           2015-08-20      2   \n",
       "3             0    64900000       159.0           2015-07-24      3   \n",
       "4             2    10000000       100.0           2018-06-19      2   \n",
       "\n",
       "   ceiling_height  floors_total  living_area  floor is_apartment  ...  \\\n",
       "0            2.70          16.0         51.0      8        False  ...   \n",
       "1            2.65          11.0         18.6      1        False  ...   \n",
       "2            2.65           5.0         34.3      4        False  ...   \n",
       "3            2.65          14.0          NaN      9        False  ...   \n",
       "4            3.03          14.0         32.0     13        False  ...   \n",
       "\n",
       "   kitchen_area  balcony    locality_name  airports_nearest  \\\n",
       "0          25.0        0  санкт-петербург           18863.0   \n",
       "1          11.0        2   поселок шушары           12817.0   \n",
       "2           8.3        0  санкт-петербург           21741.0   \n",
       "3           NaN        0  санкт-петербург           28098.0   \n",
       "4          41.0        0  санкт-петербург           31856.0   \n",
       "\n",
       "  city_centers_nearest  parks_around3000  parks_nearest  ponds_around3000  \\\n",
       "0              16028.0                 1          482.0                 2   \n",
       "1              18603.0                 0            NaN                 0   \n",
       "2              13933.0                 1           90.0                 2   \n",
       "3               6800.0                 2           84.0                 3   \n",
       "4               8098.0                 2          112.0                 1   \n",
       "\n",
       "   ponds_nearest  days_exposition  \n",
       "0          755.0              NaN  \n",
       "1            NaN             81.0  \n",
       "2          574.0            558.0  \n",
       "3          234.0            424.0  \n",
       "4           48.0            121.0  \n",
       "\n",
       "[5 rows x 22 columns]"
      ]
     },
     "execution_count": 12,
     "metadata": {},
     "output_type": "execute_result"
    }
   ],
   "source": [
    "#Для квартир с высотой потолков до 25 до 36 метров предполагаем, что это опечатка и делим на 10, получая 2.5 и 3.6 метра.\n",
    "#Удаляем квартиры с высотой потолков от 36 метров.\n",
    "#Заполняем пропуски в столбце медианными значениями\n",
    "data.update(data[(data['ceiling_height'] >= 25) & (data['ceiling_height'] <= 36)]['ceiling_height']/10)\n",
    "\n",
    "data.drop(index=data.query('ceiling_height > 36').index,inplace=True)\n",
    "data['ceiling_height'].fillna(data['ceiling_height'].median(), inplace=True)\n",
    "data.head()"
   ]
  },
  {
   "cell_type": "code",
   "execution_count": 13,
   "metadata": {
    "scrolled": true
   },
   "outputs": [
    {
     "name": "stdout",
     "output_type": "stream",
     "text": [
      "Жилая площадь меньше 10 кв.м.:  25\n",
      "Жилая площадь больше общей:  0\n",
      "Жилая площадь больше 200:  31\n"
     ]
    },
    {
     "data": {
      "image/png": "[encoded data removed]",
      "text/plain": [
       "<Figure size 432x288 with 1 Axes>"
      ]
     },
     "metadata": {
      "needs_background": "light"
     },
     "output_type": "display_data"
    },
    {
     "data": {
      "image/png": "[encoded data removed]",
      "text/plain": [
       "<Figure size 432x288 with 1 Axes>"
      ]
     },
     "metadata": {
      "needs_background": "light"
     },
     "output_type": "display_data"
    }
   ],
   "source": [
    "#living_area - Имеем большое количество квартир с жилой площадью от 10 до 60 кв.м.\n",
    "#Здесь интерсуют квартиры с жилой площадью меньше 10 кв.м. их 25!\n",
    "#Судя по гистограмме есть даже с с жилой площадью 2 кв.м., скорее всего опечатка в площади.\n",
    "#Отбросим значения с жилой площадью меньше 10кв.м.\n",
    "#Отбросим квартиры с площадью более 200 кв.м.\n",
    "#Заполняем пропуски в столбце медианными значениями\n",
    "\n",
    "print('Жилая площадь меньше 10 кв.м.: ',data.query('living_area < 10')['living_area'].count())\n",
    "print('Жилая площадь больше общей: ',data.query('living_area > total_area')['living_area'].count())\n",
    "print('Жилая площадь больше 200: ',data.query('living_area > 200')['living_area'].count())\n",
    "\n",
    "data.drop(index=data.query('living_area < 10').index,inplace=True)\n",
    "data.drop(index=data.query('living_area > 200').index,inplace=True)\n",
    "data['living_area'].fillna(data['living_area'].median(), inplace=True)\n",
    "\n",
    "data.hist('living_area', bins=30);\n",
    "data.hist('living_area', bins=60, range=(0,60));"
   ]
  },
  {
   "cell_type": "code",
   "execution_count": 14,
   "metadata": {},
   "outputs": [
    {
     "data": {
      "text/plain": [
       "0"
      ]
     },
     "execution_count": 14,
     "metadata": {},
     "output_type": "execute_result"
    }
   ],
   "source": [
    "#По столбцу kitchen_area - иногда продавцы могут не указывать данное значение, вычисляем данное значение\n",
    "#Нужно найти соотношение медианной общей площади к медианной площади кухни.\n",
    "#А затем, заполнить пропуски в столбце kitchen_area отношением общей площади к найденному соотношению.\n",
    "kitchen_ratio = data['total_area'].median() / data['kitchen_area'].median()\n",
    "data['kitchen_area'].fillna(data['total_area'] / kitchen_ratio, inplace=True)\n",
    "data['kitchen_area'].isna().sum()"
   ]
  },
  {
   "attachments": {},
   "cell_type": "markdown",
   "metadata": {},
   "source": [
    "### Посчитаем и добавим в таблицу новые столбцы"
   ]
  },
  {
   "cell_type": "code",
   "execution_count": 15,
   "metadata": {},
   "outputs": [],
   "source": [
    "# Добавляем столбец со стоимостью квадратного метра (sm_price) и приводим его в целочисленный тип\n",
    "data['sm_price'] = data['last_price'] / data['total_area']\n",
    "data['sm_price'] = data['sm_price'].astype(int)\n",
    "\n",
    "# Добавляем столбцы дня недели, месяца и года\n",
    "\n",
    "#день публикации объявления (0 - понедельник, 1 - вторник и т.д.)\n",
    "data['weekday'] = data['first_day_exposition'].dt.weekday\n",
    "\n",
    "#месяц публикации объявления\n",
    "data['month'] = data['first_day_exposition'].dt.month\n",
    "\n",
    "#год публикации объявления\n",
    "data['year'] = data['first_day_exposition'].dt.year\n",
    "\n",
    "# Создаём функцию для заполнения нового столбца с типом этажа\n",
    "def floor_group(row):\n",
    "    if row['floor'] == 1:\n",
    "        return 'первый'\n",
    "    elif row['floor'] == row['floors_total']:\n",
    "        return 'последний'\n",
    "    else:\n",
    "        return 'другой'\n",
    "data['floor_type'] = data.apply(floor_group, axis=1)\n",
    "\n",
    "#расстояние в км до центра города\n",
    "data['city_centers_nearest_km'] = round(data['city_centers_nearest'] / 1000)"
   ]
  },
  {
   "attachments": {},
   "cell_type": "markdown",
   "metadata": {},
   "source": [
    "### Исследовательский анализ данных"
   ]
  },
  {
   "cell_type": "code",
   "execution_count": 16,
   "metadata": {},
   "outputs": [
    {
     "data": {
      "text/plain": [
       "array([[<AxesSubplot:title={'center':'total_area'}>]], dtype=object)"
      ]
     },
     "execution_count": 16,
     "metadata": {},
     "output_type": "execute_result"
    },
    {
     "data": {
      "image/png": "[encoded data removed]",
      "text/plain": [
       "<Figure size 432x288 with 1 Axes>"
      ]
     },
     "metadata": {
      "needs_background": "light"
     },
     "output_type": "display_data"
    }
   ],
   "source": [
    "data.hist('total_area', bins=100)"
   ]
  },
  {
   "cell_type": "code",
   "execution_count": 17,
   "metadata": {},
   "outputs": [
    {
     "data": {
      "image/png": "[encoded data removed]",
      "text/plain": [
       "<Figure size 432x288 with 1 Axes>"
      ]
     },
     "metadata": {
      "needs_background": "light"
     },
     "output_type": "display_data"
    }
   ],
   "source": [
    "data['total_area'].plot(kind='hist', bins=100);"
   ]
  },
  {
   "cell_type": "code",
   "execution_count": 18,
   "metadata": {
    "scrolled": false
   },
   "outputs": [
    {
     "data": {
      "image/png": "[encoded data removed]",
      "text/plain": [
       "<Figure size 432x288 with 1 Axes>"
      ]
     },
     "metadata": {
      "needs_background": "light"
     },
     "output_type": "display_data"
    },
    {
     "data": {
      "image/png": "[encoded data removed]",
      "text/plain": [
       "<Figure size 432x288 with 1 Axes>"
      ]
     },
     "metadata": {
      "needs_background": "light"
     },
     "output_type": "display_data"
    },
    {
     "data": {
      "image/png": "[encoded data removed]",
      "text/plain": [
       "<Figure size 432x288 with 1 Axes>"
      ]
     },
     "metadata": {
      "needs_background": "light"
     },
     "output_type": "display_data"
    },
    {
     "data": {
      "image/png": "[encoded data removed]",
      "text/plain": [
       "<Figure size 432x288 with 1 Axes>"
      ]
     },
     "metadata": {
      "needs_background": "light"
     },
     "output_type": "display_data"
    },
    {
     "data": {
      "image/png": "[encoded data removed]",
      "text/plain": [
       "<Figure size 432x288 with 1 Axes>"
      ]
     },
     "metadata": {
      "needs_background": "light"
     },
     "output_type": "display_data"
    },
    {
     "data": {
      "image/png": "[encoded data removed]",
      "text/plain": [
       "<Figure size 432x288 with 1 Axes>"
      ]
     },
     "metadata": {
      "needs_background": "light"
     },
     "output_type": "display_data"
    },
    {
     "data": {
      "image/png": "[encoded data removed]",
      "text/plain": [
       "<Figure size 432x288 with 1 Axes>"
      ]
     },
     "metadata": {
      "needs_background": "light"
     },
     "output_type": "display_data"
    },
    {
     "data": {
      "image/png": "[encoded data removed]",
      "text/plain": [
       "<Figure size 432x288 with 1 Axes>"
      ]
     },
     "metadata": {
      "needs_background": "light"
     },
     "output_type": "display_data"
    },
    {
     "data": {
      "image/png": "[encoded data removed]",
      "text/plain": [
       "<Figure size 432x288 with 1 Axes>"
      ]
     },
     "metadata": {
      "needs_background": "light"
     },
     "output_type": "display_data"
    },
    {
     "data": {
      "image/png": "[encoded data removed]",
      "text/plain": [
       "<Figure size 432x288 with 1 Axes>"
      ]
     },
     "metadata": {
      "needs_background": "light"
     },
     "output_type": "display_data"
    },
    {
     "data": {
      "image/png": "[encoded data removed]",
      "text/plain": [
       "<Figure size 432x288 with 1 Axes>"
      ]
     },
     "metadata": {
      "needs_background": "light"
     },
     "output_type": "display_data"
    },
    {
     "data": {
      "image/png": "[encoded data removed]",
      "text/plain": [
       "<Figure size 432x288 with 1 Axes>"
      ]
     },
     "metadata": {
      "needs_background": "light"
     },
     "output_type": "display_data"
    },
    {
     "data": {
      "image/png": "[encoded data removed]",
      "text/plain": [
       "<Figure size 432x288 with 1 Axes>"
      ]
     },
     "metadata": {
      "needs_background": "light"
     },
     "output_type": "display_data"
    },
    {
     "data": {
      "image/png": "[encoded data removed]",
      "text/plain": [
       "<Figure size 432x288 with 1 Axes>"
      ]
     },
     "metadata": {
      "needs_background": "light"
     },
     "output_type": "display_data"
    },
    {
     "data": {
      "image/png": "[encoded data removed]",
      "text/plain": [
       "<Figure size 432x288 with 1 Axes>"
      ]
     },
     "metadata": {
      "needs_background": "light"
     },
     "output_type": "display_data"
    },
    {
     "data": {
      "image/png": "[encoded data removed]",
      "text/plain": [
       "<Figure size 432x288 with 1 Axes>"
      ]
     },
     "metadata": {
      "needs_background": "light"
     },
     "output_type": "display_data"
    }
   ],
   "source": [
    "data.groupby(by='floor_type')['floor_type'].count().plot(kind='bar', ylabel = 'count');\n",
    "\n",
    "data.hist('total_area', bins=100);\n",
    "\n",
    "data.hist('living_area', bins=100);\n",
    "data.hist('living_area', bins=50, range=(0,50));\n",
    "\n",
    "data.hist('kitchen_area', bins=100);\n",
    "data.hist('kitchen_area', bins=20, range=(0,20));\n",
    "\n",
    "data.hist('last_price', bins=100);\n",
    "data.hist('last_price', bins=100, range=(0,2e+07));\n",
    "\n",
    "data.hist('rooms', bins=data['rooms'].max());\n",
    "\n",
    "data.hist('ceiling_height', bins=30);\n",
    "\n",
    "data.hist('floor', bins=data['floor'].max());\n",
    "\n",
    "data.hist('city_centers_nearest', bins=100);\n",
    "\n",
    "data.hist('airports_nearest', bins=100);\n",
    "\n",
    "data.hist('parks_nearest', bins=100);\n",
    "\n",
    "data.hist('weekday', bins=7);\n",
    "\n",
    "data.hist('month', bins=12);\n"
   ]
  },
  {
   "attachments": {},
   "cell_type": "markdown",
   "metadata": {},
   "source": [
    "Приведены гистограммы для:\n",
    "\n",
    "-тип этажа квартиры («первый», «последний», «другой»);\n",
    "Больше всего квартир на \"другом\" этаже и это логично. Первых и последних этажей одинакого мало.\n",
    "\n",
    "-общая площадь;\n",
    "Наблюдаем очень малое количество квартир с общей площадью более 100 кв.м. Если построить \"ящик с усами\" явно будет немного значений которые покажутся выбросами, но это просто элитная недвижимость.\n",
    "\n",
    "-жилая площадь;\n",
    "Наблюдаем два пика - на 18 кв.м. и на 30 кв.м. Нужно проверить, почему у нас именно два пика и почему есть явный провал около 24 кв.м.\n",
    "\n",
    "-площадь кухни;\n",
    "Площадь кухни выглядит хорошо.\n",
    "\n",
    "-цена объекта;\n",
    "Цена объекта выглядит хорошо. Немного \"шумный\" график. Очень длинный \"хвост\" вправо - это похоже элитная недвижимость.\n",
    "\n",
    "-количество комнат;\n",
    "Больше всего двух- и трёх-комнатных квартир, но встречаются и редкие исключения.\n",
    "\n",
    "высота потолков;\n",
    "Здесь два пика 2.5м и 3м, что логично.\n",
    "\n",
    "-этаж квартиры;\n",
    "Больше всего квартир с 1 по 5 этаж, что логично\n",
    "\n",
    "-общее количество этажей в доме;\n",
    "Видим явные пики: 5-этажная застройка, 9-этажная застройка, и небольшие пики более высоких новостроек.\n",
    "\n",
    "-расстояние до центра города в метрах;\n",
    "Здесь наблюдаем два пика, один маленький, 5км и другой побльшой от 10 км. до 15 км. Так же есть совсем небольшие всплески на 30 км. и 50 км.\n",
    "\n",
    "-расстояние до ближайшего аэропорта;\n",
    "Здесь видим довольно \"шумный\" график. Но это вполне нормально.\n",
    "\n",
    "-расстояние до ближайшего парка;\n",
    "Судя по графику больше всего квартир с парками на расстоянии до 750м.\n",
    "\n",
    "-день и месяц публикации объявления.\n",
    "Видим провал в публикации объявлений в субботу и воскресенье, что логично. Так же видим что с февраля по апрель наблюдалосась повышенная активность. Так же был плавный рост активности с июля по ноябрь. Провалы в декабре, январе и мае."
   ]
  },
  {
   "cell_type": "code",
   "execution_count": 19,
   "metadata": {
    "scrolled": true
   },
   "outputs": [
    {
     "name": "stdout",
     "output_type": "stream",
     "text": [
      "Среднее время продажи квартиры в днях: 180\n",
      "Медианное время продажи квартиры в днях: 95\n"
     ]
    },
    {
     "data": {
      "image/png": "[encoded data removed]",
      "text/plain": [
       "<Figure size 432x288 with 1 Axes>"
      ]
     },
     "metadata": {
      "needs_background": "light"
     },
     "output_type": "display_data"
    },
    {
     "data": {
      "image/png": "[encoded data removed]",
      "text/plain": [
       "<Figure size 432x288 with 1 Axes>"
      ]
     },
     "metadata": {
      "needs_background": "light"
     },
     "output_type": "display_data"
    }
   ],
   "source": [
    "#Как быстро продавались квартиры (столбец days_exposition)\n",
    "data.hist('days_exposition', bins=100);\n",
    "data.hist('days_exposition', bins=100, range = (0,100));\n",
    "print(f'Среднее время продажи квартиры в днях:',int(data['days_exposition'].mean()))\n",
    "print('Медианное время продажи квартиры в днях:',int(data['days_exposition'].median()))\n"
   ]
  },
  {
   "attachments": {},
   "cell_type": "markdown",
   "metadata": {},
   "source": [
    "Медианное время продажи - 95 дней. Среднее время продажи - 180 дней.\n",
    "В основном квартиры продаются за срок в 100 дней. Есть большое число квартир, проданных всего за несколько дней после публикации. А также есть варианты, которые продавались несколько десятков месяцев.\n",
    "\n",
    "Быстрой продажей можно назвать срок в 45 дней и меньше. Долгой продажей - 230 дней (7,5 месяцев) и дольше."
   ]
  },
  {
   "cell_type": "code",
   "execution_count": 20,
   "metadata": {},
   "outputs": [
    {
     "name": "stdout",
     "output_type": "stream",
     "text": [
      "Корреляция между last_price и total_area составляет: 69.34%\n",
      "Корреляция между last_price и living_area составляет: 54.64%\n",
      "Корреляция между last_price и kitchen_area составляет: 55.51%\n",
      "Корреляция между last_price и rooms составляет: 39.53%\n"
     ]
    }
   ],
   "source": [
    "#Какие факторы больше всего влияют на общую (полную) стоимость объекта.\n",
    "list_for_graph = ['total_area',\n",
    "                  'living_area',\n",
    "                  'kitchen_area',\n",
    "                  'rooms',\n",
    "                 ]\n",
    "\n",
    "for entry in list_for_graph:\n",
    "    correlation = data['last_price'].corr(data[entry])\n",
    "    print(f'Корреляция между last_price и {entry} составляет: {correlation:0.2%}')"
   ]
  },
  {
   "cell_type": "code",
   "execution_count": 21,
   "metadata": {},
   "outputs": [
    {
     "data": {
      "text/plain": [
       "<AxesSubplot:xlabel='last_price', ylabel='kitchen_area'>"
      ]
     },
     "execution_count": 21,
     "metadata": {},
     "output_type": "execute_result"
    },
    {
     "data": {
      "image/png": "[encoded data removed]",
      "text/plain": [
       "<Figure size 432x288 with 1 Axes>"
      ]
     },
     "metadata": {
      "needs_background": "light"
     },
     "output_type": "display_data"
    },
    {
     "data": {
      "image/png": "[encoded data removed]",
      "text/plain": [
       "<Figure size 432x288 with 1 Axes>"
      ]
     },
     "metadata": {
      "needs_background": "light"
     },
     "output_type": "display_data"
    },
    {
     "data": {
      "image/png": "[encoded data removed]",
      "text/plain": [
       "<Figure size 432x288 with 1 Axes>"
      ]
     },
     "metadata": {
      "needs_background": "light"
     },
     "output_type": "display_data"
    }
   ],
   "source": [
    "data.plot(x='last_price', y='total_area', kind='scatter', alpha=0.2)\n",
    "data.plot(x='last_price', y='living_area', kind='scatter', alpha=0.2)\n",
    "data.plot(x='last_price', y='kitchen_area', kind='scatter', alpha=0.2)"
   ]
  },
  {
   "cell_type": "code",
   "execution_count": 22,
   "metadata": {},
   "outputs": [
    {
     "data": {
      "image/png": "[encoded data removed]",
      "text/plain": [
       "<Figure size 432x288 with 1 Axes>"
      ]
     },
     "metadata": {
      "needs_background": "light"
     },
     "output_type": "display_data"
    }
   ],
   "source": [
    "data.pivot_table(index='rooms',values='last_price').plot(y='last_price', kind='bar');"
   ]
  },
  {
   "cell_type": "code",
   "execution_count": 23,
   "metadata": {},
   "outputs": [
    {
     "data": {
      "text/plain": [
       "<AxesSubplot:xlabel='last_price', ylabel='floor_type'>"
      ]
     },
     "execution_count": 23,
     "metadata": {},
     "output_type": "execute_result"
    },
    {
     "data": {
      "image/png": "[encoded data removed]",
      "text/plain": [
       "<Figure size 432x288 with 1 Axes>"
      ]
     },
     "metadata": {
      "needs_background": "light"
     },
     "output_type": "display_data"
    },
    {
     "data": {
      "image/png": "[encoded data removed]",
      "text/plain": [
       "<Figure size 432x288 with 1 Axes>"
      ]
     },
     "metadata": {
      "needs_background": "light"
     },
     "output_type": "display_data"
    }
   ],
   "source": [
    "data.pivot_table(index='floor_type',values='last_price').plot(y='last_price', kind='barh');\n",
    "\n",
    "data.plot(x='last_price', y='floor_type', kind='scatter', alpha=0.2)"
   ]
  },
  {
   "attachments": {},
   "cell_type": "markdown",
   "metadata": {},
   "source": [
    "Цена по убыванию зависит от:\n",
    "\n",
    "-общей площади;\n",
    "-жилой площади;\n",
    "-площади кухни;\n",
    "-количества комнат.\n",
    "\n",
    "Цена практически зависит от:\n",
    "\n",
    "-этажа, на котором расположена квартира."
   ]
  },
  {
   "cell_type": "code",
   "execution_count": 24,
   "metadata": {},
   "outputs": [
    {
     "data": {
      "text/plain": [
       "<AxesSubplot:ylabel='locality_name'>"
      ]
     },
     "execution_count": 24,
     "metadata": {},
     "output_type": "execute_result"
    },
    {
     "data": {
      "image/png": "[encoded data removed]",
      "text/plain": [
       "<Figure size 432x288 with 1 Axes>"
      ]
     },
     "metadata": {
      "needs_background": "light"
     },
     "output_type": "display_data"
    }
   ],
   "source": [
    "#Cредняя цена одного квадратного метра в топ-10 населенных пунктах\n",
    "top_10 = data.pivot_table(index='locality_name', values=['last_price','total_area'] ,aggfunc=['sum','count'])\n",
    "top_10.columns=['last_price_sum','total_area_sum','last_price_count','total_area_count']\n",
    "top_10.pop('total_area_count')\n",
    "top_10.sort_values(by=['last_price_count'],ascending=False, inplace=True)\n",
    "top_10 = top_10.iloc[:10]\n",
    "top_10['price_per_sq_m'] = top_10['last_price_sum']/top_10['total_area_sum']\n",
    "top_10.sort_values(by=['price_per_sq_m'],ascending=True, inplace=True)\n",
    "top_10['price_per_sq_m'].plot(kind='barh')"
   ]
  },
  {
   "cell_type": "code",
   "execution_count": 25,
   "metadata": {},
   "outputs": [
    {
     "data": {
      "text/plain": [
       "rooms\n",
       "1     8032\n",
       "2     7933\n",
       "3     5813\n",
       "4     1176\n",
       "5      321\n",
       "0      195\n",
       "6      102\n",
       "7       47\n",
       "8       10\n",
       "9        6\n",
       "10       3\n",
       "11       2\n",
       "14       1\n",
       "16       1\n",
       "Name: rooms, dtype: int64"
      ]
     },
     "execution_count": 25,
     "metadata": {},
     "output_type": "execute_result"
    }
   ],
   "source": [
    "data.groupby(by='rooms')['rooms'].count().sort_values(ascending=False)"
   ]
  },
  {
   "attachments": {},
   "cell_type": "markdown",
   "metadata": {},
   "source": [
    "Ожидаемо самая дорогая недвижимость в Санкт-Петербурге.\n",
    "В ТОП-10 входят ближайшие к Санкт-Петербургу города."
   ]
  },
  {
   "cell_type": "code",
   "execution_count": 26,
   "metadata": {
    "scrolled": true
   },
   "outputs": [
    {
     "data": {
      "text/plain": [
       "<AxesSubplot:xlabel='city_centers_nearest_km'>"
      ]
     },
     "execution_count": 26,
     "metadata": {},
     "output_type": "execute_result"
    },
    {
     "data": {
      "image/png": "[encoded data removed]",
      "text/plain": [
       "<Figure size 432x288 with 1 Axes>"
      ]
     },
     "metadata": {
      "needs_background": "light"
     },
     "output_type": "display_data"
    }
   ],
   "source": [
    "#Как стоимость объектов зависит от расстояния до центра города.\n",
    "(\n",
    "    data[data['locality_name']=='санкт-петербург']\n",
    "    .pivot_table(\n",
    "        index='city_centers_nearest_km',\n",
    "        values='last_price',\n",
    "        aggfunc='mean')\n",
    "    .plot(kind='bar')\n",
    ")"
   ]
  },
  {
   "attachments": {},
   "cell_type": "markdown",
   "metadata": {},
   "source": [
    "С большим отрывом лидирует недвижимость до 1км.\n",
    "Видим более низкие цены на недвижимость на расстоянии от 1 км. до 7 км. включительно.\n",
    "Далее цена спадает на расстоянии от 8 км. до 27 км.\n",
    "Видим пик на 27км, его сложно объяснить, возможно это недвижимость в \"особом\" районе."
   ]
  },
  {
   "attachments": {},
   "cell_type": "markdown",
   "metadata": {},
   "source": [
    "### Общий вывод"
   ]
  },
  {
   "attachments": {},
   "cell_type": "markdown",
   "metadata": {},
   "source": [
    "Чаще всего квартиру продают за 95 дней. Если меньше 45 дней, то это быстро, если дольше 230 дней - это долго.\n",
    "Есть большое число квартир, проданных всего за несколько дней после публикации.\n",
    "Также есть варианты, которые продавались несколько десятков месяцев.\n",
    "\n",
    "Факторы, влияющие на стоимость:\n",
    "На стоимость больше влияет площадь квартиры, нежели число комнат. Т.е. могут быть дорогие квартиры с малым числом комнат, но где комнаты просторные.\n",
    "Первый этаж значительно дешевле остальных вариантов. Также стоимость квартиры на последнем этаже ниже, чем на остальных, кроме первого.\n",
    "\n",
    "Стоимость квадратного метра в топ-10 населённых пунктов:\n",
    "Дороже всего квадратный метр в Санкт-Петербурге,\n",
    "дешевле всего квадратный метр в Выборге\n",
    "\n",
    "Факторы, влияющие на стоимость в центре Санкт-Петербурга:\n",
    "В центре города практически нет разницы, насколько квартира удалена от условного центра города.\n",
    "В центре города последний этаж практически не влияет на стоимость квартиры, в отличие от остального города.\n",
    "В центре есть очень дорогие однокомнатные квартиры."
   ]
  }
 ],
 "metadata": {
  "ExecuteTimeLog": [
   {
    "duration": 540,
    "start_time": "2023-01-16T18:43:37.909Z"
   },
   {
    "duration": 516,
    "start_time": "2023-01-16T18:44:13.408Z"
   },
   {
    "duration": 796,
    "start_time": "2023-01-16T18:44:34.865Z"
   },
   {
    "duration": 98,
    "start_time": "2023-01-16T18:45:02.872Z"
   },
   {
    "duration": 14,
    "start_time": "2023-01-16T18:45:45.025Z"
   },
   {
    "duration": 100,
    "start_time": "2023-01-16T18:48:26.188Z"
   },
   {
    "duration": 91,
    "start_time": "2023-01-16T18:48:43.196Z"
   },
   {
    "duration": 75,
    "start_time": "2023-01-16T18:48:51.849Z"
   },
   {
    "duration": 87,
    "start_time": "2023-01-16T18:49:38.371Z"
   },
   {
    "duration": 107,
    "start_time": "2023-01-16T18:49:49.792Z"
   },
   {
    "duration": 0,
    "start_time": "2023-01-16T18:50:06.117Z"
   },
   {
    "duration": 74,
    "start_time": "2023-01-16T18:50:16.078Z"
   },
   {
    "duration": 0,
    "start_time": "2023-01-16T18:50:16.154Z"
   },
   {
    "duration": 507,
    "start_time": "2023-01-16T18:53:03.701Z"
   },
   {
    "duration": 261,
    "start_time": "2023-01-16T18:53:34.957Z"
   },
   {
    "duration": 90,
    "start_time": "2023-01-16T19:08:13.199Z"
   },
   {
    "duration": 774,
    "start_time": "2023-01-30T12:24:59.255Z"
   },
   {
    "duration": 2497,
    "start_time": "2023-01-30T12:25:07.792Z"
   },
   {
    "duration": 99,
    "start_time": "2023-01-30T12:25:59.366Z"
   },
   {
    "duration": 96,
    "start_time": "2023-01-30T12:26:03.431Z"
   },
   {
    "duration": 188,
    "start_time": "2023-01-30T12:26:16.241Z"
   },
   {
    "duration": 17,
    "start_time": "2023-01-30T12:26:37.569Z"
   },
   {
    "duration": 114,
    "start_time": "2023-01-30T12:32:56.500Z"
   },
   {
    "duration": 114,
    "start_time": "2023-01-30T12:44:52.723Z"
   },
   {
    "duration": 515,
    "start_time": "2023-01-30T12:45:04.961Z"
   },
   {
    "duration": 17,
    "start_time": "2023-01-30T12:45:05.478Z"
   },
   {
    "duration": 2335,
    "start_time": "2023-01-30T12:45:05.497Z"
   },
   {
    "duration": 79,
    "start_time": "2023-01-30T12:45:07.835Z"
   },
   {
    "duration": 20,
    "start_time": "2023-01-30T12:45:26.179Z"
   },
   {
    "duration": 17,
    "start_time": "2023-01-30T12:53:32.346Z"
   },
   {
    "duration": 16,
    "start_time": "2023-01-30T12:53:48.719Z"
   },
   {
    "duration": 18,
    "start_time": "2023-01-30T12:55:35.151Z"
   },
   {
    "duration": 17,
    "start_time": "2023-01-30T12:56:40.725Z"
   },
   {
    "duration": 19,
    "start_time": "2023-01-30T12:56:45.844Z"
   },
   {
    "duration": 10,
    "start_time": "2023-01-30T12:59:38.299Z"
   },
   {
    "duration": 71,
    "start_time": "2023-01-31T13:18:43.547Z"
   },
   {
    "duration": 649,
    "start_time": "2023-01-31T13:18:50.428Z"
   },
   {
    "duration": 25,
    "start_time": "2023-01-31T13:18:51.079Z"
   },
   {
    "duration": 2987,
    "start_time": "2023-01-31T13:18:51.107Z"
   },
   {
    "duration": 23,
    "start_time": "2023-01-31T13:18:54.098Z"
   },
   {
    "duration": 25,
    "start_time": "2023-01-31T13:18:54.123Z"
   },
   {
    "duration": 54,
    "start_time": "2023-01-31T13:18:54.150Z"
   },
   {
    "duration": 24,
    "start_time": "2023-01-31T15:01:34.822Z"
   },
   {
    "duration": 7,
    "start_time": "2023-01-31T15:05:03.497Z"
   },
   {
    "duration": 5,
    "start_time": "2023-01-31T15:08:44.687Z"
   },
   {
    "duration": 6,
    "start_time": "2023-01-31T15:08:50.468Z"
   },
   {
    "duration": 6,
    "start_time": "2023-01-31T15:09:39.403Z"
   },
   {
    "duration": 42,
    "start_time": "2023-01-31T15:14:51.028Z"
   },
   {
    "duration": 87,
    "start_time": "2023-01-31T15:39:40.221Z"
   },
   {
    "duration": 14,
    "start_time": "2023-01-31T15:41:22.596Z"
   },
   {
    "duration": 588,
    "start_time": "2023-01-31T15:41:38.554Z"
   },
   {
    "duration": 18,
    "start_time": "2023-01-31T15:41:39.144Z"
   },
   {
    "duration": 2419,
    "start_time": "2023-01-31T15:41:39.163Z"
   },
   {
    "duration": 19,
    "start_time": "2023-01-31T15:41:41.585Z"
   },
   {
    "duration": 11,
    "start_time": "2023-01-31T15:41:41.606Z"
   },
   {
    "duration": 20,
    "start_time": "2023-01-31T15:41:41.620Z"
   },
   {
    "duration": 131,
    "start_time": "2023-01-31T15:41:41.643Z"
   },
   {
    "duration": 0,
    "start_time": "2023-01-31T15:41:41.776Z"
   },
   {
    "duration": 0,
    "start_time": "2023-01-31T15:41:41.777Z"
   },
   {
    "duration": 0,
    "start_time": "2023-01-31T15:41:41.784Z"
   },
   {
    "duration": 0,
    "start_time": "2023-01-31T15:41:41.785Z"
   },
   {
    "duration": 1091,
    "start_time": "2023-01-31T15:42:09.257Z"
   },
   {
    "duration": 16,
    "start_time": "2023-01-31T15:43:19.151Z"
   },
   {
    "duration": 10,
    "start_time": "2023-01-31T15:43:25.269Z"
   },
   {
    "duration": 17,
    "start_time": "2023-01-31T15:43:30.267Z"
   },
   {
    "duration": 43,
    "start_time": "2023-01-31T15:43:39.177Z"
   },
   {
    "duration": 338,
    "start_time": "2023-01-31T15:43:42.571Z"
   },
   {
    "duration": 401,
    "start_time": "2023-01-31T15:43:44.567Z"
   },
   {
    "duration": 19,
    "start_time": "2023-01-31T15:46:19.134Z"
   },
   {
    "duration": 14,
    "start_time": "2023-01-31T15:46:42.203Z"
   },
   {
    "duration": 59,
    "start_time": "2023-01-31T15:49:00.776Z"
   },
   {
    "duration": 24,
    "start_time": "2023-01-31T15:49:07.040Z"
   },
   {
    "duration": 15,
    "start_time": "2023-01-31T15:49:44.398Z"
   },
   {
    "duration": 43,
    "start_time": "2023-01-31T16:04:52.223Z"
   },
   {
    "duration": 31,
    "start_time": "2023-01-31T16:06:42.846Z"
   },
   {
    "duration": 22,
    "start_time": "2023-01-31T16:11:29.077Z"
   },
   {
    "duration": 49,
    "start_time": "2023-01-31T16:11:49.755Z"
   },
   {
    "duration": 48,
    "start_time": "2023-01-31T16:12:02.774Z"
   },
   {
    "duration": 58,
    "start_time": "2023-01-31T16:12:11.585Z"
   },
   {
    "duration": 577,
    "start_time": "2023-01-31T16:12:19.982Z"
   },
   {
    "duration": 24,
    "start_time": "2023-01-31T16:12:20.560Z"
   },
   {
    "duration": 2496,
    "start_time": "2023-01-31T16:12:20.586Z"
   },
   {
    "duration": 17,
    "start_time": "2023-01-31T16:12:23.084Z"
   },
   {
    "duration": 12,
    "start_time": "2023-01-31T16:12:23.103Z"
   },
   {
    "duration": 23,
    "start_time": "2023-01-31T16:12:23.116Z"
   },
   {
    "duration": 45,
    "start_time": "2023-01-31T16:12:23.141Z"
   },
   {
    "duration": 7,
    "start_time": "2023-01-31T16:12:23.188Z"
   },
   {
    "duration": 22,
    "start_time": "2023-01-31T16:12:23.197Z"
   },
   {
    "duration": 50,
    "start_time": "2023-01-31T16:12:23.221Z"
   },
   {
    "duration": 38,
    "start_time": "2023-01-31T16:12:23.273Z"
   },
   {
    "duration": 53,
    "start_time": "2023-01-31T16:12:23.313Z"
   },
   {
    "duration": 0,
    "start_time": "2023-01-31T16:12:23.367Z"
   },
   {
    "duration": 43,
    "start_time": "2023-01-31T16:12:47.052Z"
   },
   {
    "duration": 47,
    "start_time": "2023-01-31T16:13:36.764Z"
   },
   {
    "duration": 44,
    "start_time": "2023-01-31T17:52:34.416Z"
   },
   {
    "duration": 384,
    "start_time": "2023-01-31T17:57:56.087Z"
   },
   {
    "duration": 429,
    "start_time": "2023-01-31T18:07:24.616Z"
   },
   {
    "duration": 512,
    "start_time": "2023-01-31T18:07:39.941Z"
   },
   {
    "duration": 464,
    "start_time": "2023-01-31T18:07:45.477Z"
   },
   {
    "duration": 565,
    "start_time": "2023-01-31T19:09:19.872Z"
   },
   {
    "duration": 2878,
    "start_time": "2023-01-31T19:09:36.142Z"
   },
   {
    "duration": 3137,
    "start_time": "2023-01-31T19:11:37.316Z"
   },
   {
    "duration": 3955,
    "start_time": "2023-01-31T19:11:57.787Z"
   },
   {
    "duration": 401,
    "start_time": "2023-01-31T19:14:38.043Z"
   },
   {
    "duration": 497,
    "start_time": "2023-01-31T19:15:02.261Z"
   },
   {
    "duration": 13,
    "start_time": "2023-01-31T19:19:08.091Z"
   },
   {
    "duration": 566,
    "start_time": "2023-01-31T19:19:29.839Z"
   },
   {
    "duration": 16,
    "start_time": "2023-01-31T19:19:30.408Z"
   },
   {
    "duration": 2473,
    "start_time": "2023-01-31T19:19:30.425Z"
   },
   {
    "duration": 20,
    "start_time": "2023-01-31T19:19:32.900Z"
   },
   {
    "duration": 10,
    "start_time": "2023-01-31T19:19:32.923Z"
   },
   {
    "duration": 19,
    "start_time": "2023-01-31T19:19:32.935Z"
   },
   {
    "duration": 38,
    "start_time": "2023-01-31T19:19:32.955Z"
   },
   {
    "duration": 7,
    "start_time": "2023-01-31T19:19:32.995Z"
   },
   {
    "duration": 9,
    "start_time": "2023-01-31T19:19:33.004Z"
   },
   {
    "duration": 71,
    "start_time": "2023-01-31T19:19:33.015Z"
   },
   {
    "duration": 28,
    "start_time": "2023-01-31T19:19:33.088Z"
   },
   {
    "duration": 46,
    "start_time": "2023-01-31T19:19:33.118Z"
   },
   {
    "duration": 446,
    "start_time": "2023-01-31T19:19:33.166Z"
   },
   {
    "duration": 378,
    "start_time": "2023-01-31T19:19:33.614Z"
   },
   {
    "duration": 368,
    "start_time": "2023-01-31T19:19:33.994Z"
   },
   {
    "duration": 299,
    "start_time": "2023-01-31T19:19:34.363Z"
   },
   {
    "duration": 113,
    "start_time": "2023-01-31T19:19:34.664Z"
   },
   {
    "duration": 11,
    "start_time": "2023-01-31T19:20:43.137Z"
   },
   {
    "duration": 14,
    "start_time": "2023-01-31T19:20:49.691Z"
   },
   {
    "duration": 394,
    "start_time": "2023-01-31T19:21:08.719Z"
   },
   {
    "duration": 1064,
    "start_time": "2023-01-31T19:21:19.629Z"
   },
   {
    "duration": 1850,
    "start_time": "2023-01-31T19:21:32.230Z"
   },
   {
    "duration": 2741,
    "start_time": "2023-01-31T19:21:49.727Z"
   },
   {
    "duration": 26,
    "start_time": "2023-01-31T19:24:07.565Z"
   },
   {
    "duration": 22,
    "start_time": "2023-01-31T19:24:29.090Z"
   },
   {
    "duration": 174,
    "start_time": "2023-01-31T19:24:39.499Z"
   },
   {
    "duration": 15,
    "start_time": "2023-01-31T19:25:00.897Z"
   },
   {
    "duration": 2691,
    "start_time": "2023-01-31T19:25:15.740Z"
   },
   {
    "duration": 564,
    "start_time": "2023-01-31T19:25:38.413Z"
   },
   {
    "duration": 17,
    "start_time": "2023-01-31T19:25:38.983Z"
   },
   {
    "duration": 2667,
    "start_time": "2023-01-31T19:25:39.003Z"
   },
   {
    "duration": 17,
    "start_time": "2023-01-31T19:25:41.672Z"
   },
   {
    "duration": 52,
    "start_time": "2023-01-31T19:25:41.692Z"
   },
   {
    "duration": 41,
    "start_time": "2023-01-31T19:25:41.746Z"
   },
   {
    "duration": 35,
    "start_time": "2023-01-31T19:25:41.789Z"
   },
   {
    "duration": 40,
    "start_time": "2023-01-31T19:25:41.826Z"
   },
   {
    "duration": 62,
    "start_time": "2023-01-31T19:25:41.868Z"
   },
   {
    "duration": 105,
    "start_time": "2023-01-31T19:25:41.932Z"
   },
   {
    "duration": 34,
    "start_time": "2023-01-31T19:25:42.039Z"
   },
   {
    "duration": 71,
    "start_time": "2023-01-31T19:25:42.075Z"
   },
   {
    "duration": 456,
    "start_time": "2023-01-31T19:25:42.148Z"
   },
   {
    "duration": 386,
    "start_time": "2023-01-31T19:25:42.607Z"
   },
   {
    "duration": 0,
    "start_time": "2023-01-31T19:25:42.994Z"
   },
   {
    "duration": 0,
    "start_time": "2023-01-31T19:25:42.996Z"
   },
   {
    "duration": 0,
    "start_time": "2023-01-31T19:25:42.997Z"
   },
   {
    "duration": 363,
    "start_time": "2023-01-31T19:26:20.267Z"
   },
   {
    "duration": 16,
    "start_time": "2023-01-31T19:26:36.990Z"
   },
   {
    "duration": 18,
    "start_time": "2023-01-31T19:26:54.910Z"
   },
   {
    "duration": 16,
    "start_time": "2023-01-31T19:26:57.497Z"
   },
   {
    "duration": 266,
    "start_time": "2023-01-31T19:27:04.021Z"
   },
   {
    "duration": 558,
    "start_time": "2023-01-31T19:27:18.048Z"
   },
   {
    "duration": 18,
    "start_time": "2023-01-31T19:27:18.609Z"
   },
   {
    "duration": 2458,
    "start_time": "2023-01-31T19:27:18.628Z"
   },
   {
    "duration": 17,
    "start_time": "2023-01-31T19:27:21.088Z"
   },
   {
    "duration": 23,
    "start_time": "2023-01-31T19:27:21.108Z"
   },
   {
    "duration": 23,
    "start_time": "2023-01-31T19:27:21.134Z"
   },
   {
    "duration": 28,
    "start_time": "2023-01-31T19:27:21.159Z"
   },
   {
    "duration": 26,
    "start_time": "2023-01-31T19:27:21.189Z"
   },
   {
    "duration": 44,
    "start_time": "2023-01-31T19:27:21.217Z"
   },
   {
    "duration": 60,
    "start_time": "2023-01-31T19:27:21.263Z"
   },
   {
    "duration": 37,
    "start_time": "2023-01-31T19:27:21.325Z"
   },
   {
    "duration": 63,
    "start_time": "2023-01-31T19:27:21.364Z"
   },
   {
    "duration": 448,
    "start_time": "2023-01-31T19:27:21.429Z"
   },
   {
    "duration": 380,
    "start_time": "2023-01-31T19:27:21.883Z"
   },
   {
    "duration": 377,
    "start_time": "2023-01-31T19:27:22.265Z"
   },
   {
    "duration": 274,
    "start_time": "2023-01-31T19:27:22.644Z"
   },
   {
    "duration": 2733,
    "start_time": "2023-01-31T19:27:22.920Z"
   },
   {
    "duration": 386,
    "start_time": "2023-01-31T19:27:44.008Z"
   },
   {
    "duration": 2832,
    "start_time": "2023-01-31T19:27:49.092Z"
   },
   {
    "duration": 2701,
    "start_time": "2023-01-31T19:29:13.094Z"
   },
   {
    "duration": 3542,
    "start_time": "2023-01-31T19:29:18.161Z"
   },
   {
    "duration": 3754,
    "start_time": "2023-01-31T19:29:38.783Z"
   },
   {
    "duration": 3890,
    "start_time": "2023-01-31T19:31:29.683Z"
   },
   {
    "duration": 503,
    "start_time": "2023-01-31T19:55:00.037Z"
   },
   {
    "duration": 503,
    "start_time": "2023-01-31T19:55:32.826Z"
   },
   {
    "duration": 813,
    "start_time": "2023-01-31T19:56:17.609Z"
   },
   {
    "duration": 714,
    "start_time": "2023-01-31T19:58:43.745Z"
   },
   {
    "duration": 506,
    "start_time": "2023-01-31T19:58:55.194Z"
   },
   {
    "duration": 270,
    "start_time": "2023-01-31T20:15:55.730Z"
   },
   {
    "duration": 622,
    "start_time": "2023-01-31T20:16:06.813Z"
   },
   {
    "duration": 661,
    "start_time": "2023-01-31T20:25:07.329Z"
   },
   {
    "duration": 729,
    "start_time": "2023-01-31T20:26:40.190Z"
   },
   {
    "duration": 12,
    "start_time": "2023-01-31T20:27:18.728Z"
   },
   {
    "duration": 563,
    "start_time": "2023-01-31T20:28:28.730Z"
   },
   {
    "duration": 187,
    "start_time": "2023-01-31T20:28:46.254Z"
   },
   {
    "duration": 46,
    "start_time": "2023-01-31T20:29:00.279Z"
   },
   {
    "duration": 17,
    "start_time": "2023-01-31T20:29:07.570Z"
   },
   {
    "duration": 907,
    "start_time": "2023-01-31T20:29:20.579Z"
   },
   {
    "duration": 14,
    "start_time": "2023-01-31T20:30:13.427Z"
   },
   {
    "duration": 331,
    "start_time": "2023-01-31T20:30:51.024Z"
   },
   {
    "duration": 15,
    "start_time": "2023-01-31T20:30:59.605Z"
   },
   {
    "duration": 311,
    "start_time": "2023-01-31T20:31:08.122Z"
   },
   {
    "duration": 187,
    "start_time": "2023-01-31T20:37:45.163Z"
   },
   {
    "duration": 7,
    "start_time": "2023-01-31T20:38:08.254Z"
   },
   {
    "duration": 411,
    "start_time": "2023-01-31T20:46:16.556Z"
   },
   {
    "duration": 20,
    "start_time": "2023-01-31T21:24:10.450Z"
   },
   {
    "duration": 513,
    "start_time": "2023-01-31T21:25:55.560Z"
   },
   {
    "duration": 18,
    "start_time": "2023-01-31T21:26:14.414Z"
   },
   {
    "duration": 523,
    "start_time": "2023-01-31T21:26:22.444Z"
   },
   {
    "duration": 23,
    "start_time": "2023-01-31T21:26:22.969Z"
   },
   {
    "duration": 2364,
    "start_time": "2023-01-31T21:26:22.994Z"
   },
   {
    "duration": 17,
    "start_time": "2023-01-31T21:26:25.359Z"
   },
   {
    "duration": 23,
    "start_time": "2023-01-31T21:26:25.378Z"
   },
   {
    "duration": 37,
    "start_time": "2023-01-31T21:26:25.403Z"
   },
   {
    "duration": 23,
    "start_time": "2023-01-31T21:26:25.442Z"
   },
   {
    "duration": 7,
    "start_time": "2023-01-31T21:26:25.467Z"
   },
   {
    "duration": 34,
    "start_time": "2023-01-31T21:26:25.475Z"
   },
   {
    "duration": 88,
    "start_time": "2023-01-31T21:26:25.511Z"
   },
   {
    "duration": 29,
    "start_time": "2023-01-31T21:26:25.601Z"
   },
   {
    "duration": 66,
    "start_time": "2023-01-31T21:26:25.632Z"
   },
   {
    "duration": 422,
    "start_time": "2023-01-31T21:26:25.700Z"
   },
   {
    "duration": 384,
    "start_time": "2023-01-31T21:26:26.126Z"
   },
   {
    "duration": 0,
    "start_time": "2023-01-31T21:26:26.513Z"
   },
   {
    "duration": 0,
    "start_time": "2023-01-31T21:26:26.514Z"
   },
   {
    "duration": 0,
    "start_time": "2023-01-31T21:26:26.515Z"
   },
   {
    "duration": 0,
    "start_time": "2023-01-31T21:26:26.516Z"
   },
   {
    "duration": 0,
    "start_time": "2023-01-31T21:26:26.518Z"
   },
   {
    "duration": 0,
    "start_time": "2023-01-31T21:26:26.519Z"
   },
   {
    "duration": 0,
    "start_time": "2023-01-31T21:26:26.520Z"
   },
   {
    "duration": 0,
    "start_time": "2023-01-31T21:26:26.521Z"
   },
   {
    "duration": 0,
    "start_time": "2023-01-31T21:26:26.522Z"
   },
   {
    "duration": 0,
    "start_time": "2023-01-31T21:26:26.523Z"
   },
   {
    "duration": 0,
    "start_time": "2023-01-31T21:26:26.525Z"
   },
   {
    "duration": 0,
    "start_time": "2023-01-31T21:26:26.526Z"
   },
   {
    "duration": 20,
    "start_time": "2023-01-31T21:26:31.124Z"
   },
   {
    "duration": 383,
    "start_time": "2023-01-31T21:27:11.418Z"
   },
   {
    "duration": 298,
    "start_time": "2023-01-31T21:27:53.089Z"
   },
   {
    "duration": 581,
    "start_time": "2023-01-31T21:28:11.794Z"
   },
   {
    "duration": 17,
    "start_time": "2023-01-31T21:28:12.383Z"
   },
   {
    "duration": 2704,
    "start_time": "2023-01-31T21:28:12.402Z"
   },
   {
    "duration": 17,
    "start_time": "2023-01-31T21:28:15.108Z"
   },
   {
    "duration": 9,
    "start_time": "2023-01-31T21:28:15.127Z"
   },
   {
    "duration": 18,
    "start_time": "2023-01-31T21:28:15.138Z"
   },
   {
    "duration": 34,
    "start_time": "2023-01-31T21:28:15.158Z"
   },
   {
    "duration": 134,
    "start_time": "2023-01-31T21:28:15.195Z"
   },
   {
    "duration": 32,
    "start_time": "2023-01-31T21:28:15.331Z"
   },
   {
    "duration": 116,
    "start_time": "2023-01-31T21:28:15.366Z"
   },
   {
    "duration": 72,
    "start_time": "2023-01-31T21:28:15.484Z"
   },
   {
    "duration": 121,
    "start_time": "2023-01-31T21:28:15.558Z"
   },
   {
    "duration": 435,
    "start_time": "2023-01-31T21:28:15.680Z"
   },
   {
    "duration": 363,
    "start_time": "2023-01-31T21:28:16.117Z"
   },
   {
    "duration": 0,
    "start_time": "2023-01-31T21:28:16.481Z"
   },
   {
    "duration": 0,
    "start_time": "2023-01-31T21:28:16.483Z"
   },
   {
    "duration": 0,
    "start_time": "2023-01-31T21:28:16.484Z"
   },
   {
    "duration": 0,
    "start_time": "2023-01-31T21:28:16.485Z"
   },
   {
    "duration": 0,
    "start_time": "2023-01-31T21:28:16.486Z"
   },
   {
    "duration": 0,
    "start_time": "2023-01-31T21:28:16.487Z"
   },
   {
    "duration": 0,
    "start_time": "2023-01-31T21:28:16.488Z"
   },
   {
    "duration": 0,
    "start_time": "2023-01-31T21:28:16.489Z"
   },
   {
    "duration": 0,
    "start_time": "2023-01-31T21:28:16.490Z"
   },
   {
    "duration": 0,
    "start_time": "2023-01-31T21:28:16.491Z"
   },
   {
    "duration": 0,
    "start_time": "2023-01-31T21:28:16.492Z"
   },
   {
    "duration": 0,
    "start_time": "2023-01-31T21:28:16.493Z"
   },
   {
    "duration": 102,
    "start_time": "2023-01-31T21:40:17.071Z"
   },
   {
    "duration": 18,
    "start_time": "2023-01-31T21:40:22.698Z"
   },
   {
    "duration": 407,
    "start_time": "2023-01-31T21:40:31.249Z"
   },
   {
    "duration": 291,
    "start_time": "2023-01-31T21:40:34.764Z"
   },
   {
    "duration": 547,
    "start_time": "2023-01-31T21:40:41.500Z"
   },
   {
    "duration": 16,
    "start_time": "2023-01-31T21:40:42.049Z"
   },
   {
    "duration": 2343,
    "start_time": "2023-01-31T21:40:42.067Z"
   },
   {
    "duration": 16,
    "start_time": "2023-01-31T21:40:44.412Z"
   },
   {
    "duration": 19,
    "start_time": "2023-01-31T21:40:44.430Z"
   },
   {
    "duration": 24,
    "start_time": "2023-01-31T21:40:44.451Z"
   },
   {
    "duration": 41,
    "start_time": "2023-01-31T21:40:44.476Z"
   },
   {
    "duration": 25,
    "start_time": "2023-01-31T21:40:44.519Z"
   },
   {
    "duration": 34,
    "start_time": "2023-01-31T21:40:44.546Z"
   },
   {
    "duration": 80,
    "start_time": "2023-01-31T21:40:44.582Z"
   },
   {
    "duration": 50,
    "start_time": "2023-01-31T21:40:44.664Z"
   },
   {
    "duration": 73,
    "start_time": "2023-01-31T21:40:44.715Z"
   },
   {
    "duration": 399,
    "start_time": "2023-01-31T21:40:44.790Z"
   },
   {
    "duration": 356,
    "start_time": "2023-01-31T21:40:45.192Z"
   },
   {
    "duration": 354,
    "start_time": "2023-01-31T21:40:45.550Z"
   },
   {
    "duration": 262,
    "start_time": "2023-01-31T21:40:45.907Z"
   },
   {
    "duration": 3439,
    "start_time": "2023-01-31T21:40:46.172Z"
   },
   {
    "duration": 760,
    "start_time": "2023-01-31T21:40:49.613Z"
   },
   {
    "duration": 19,
    "start_time": "2023-01-31T21:40:50.375Z"
   },
   {
    "duration": 610,
    "start_time": "2023-01-31T21:40:50.396Z"
   },
   {
    "duration": 192,
    "start_time": "2023-01-31T21:40:51.009Z"
   },
   {
    "duration": 928,
    "start_time": "2023-01-31T21:40:51.203Z"
   },
   {
    "duration": 322,
    "start_time": "2023-01-31T21:40:52.133Z"
   },
   {
    "duration": 210,
    "start_time": "2023-01-31T21:40:52.457Z"
   },
   {
    "duration": 15,
    "start_time": "2023-01-31T21:40:52.669Z"
   },
   {
    "duration": 306,
    "start_time": "2023-01-31T21:40:52.686Z"
   },
   {
    "duration": 487,
    "start_time": "2023-01-31T21:40:58.694Z"
   },
   {
    "duration": 361,
    "start_time": "2023-01-31T21:41:01.904Z"
   },
   {
    "duration": 3667,
    "start_time": "2023-01-31T21:41:06.774Z"
   },
   {
    "duration": 503,
    "start_time": "2023-01-31T21:41:14.106Z"
   },
   {
    "duration": 13,
    "start_time": "2023-01-31T21:41:17.412Z"
   },
   {
    "duration": 194,
    "start_time": "2023-01-31T21:41:27.883Z"
   },
   {
    "duration": 502,
    "start_time": "2023-01-31T21:43:30.965Z"
   },
   {
    "duration": 508,
    "start_time": "2023-01-31T23:07:41.326Z"
   },
   {
    "duration": 16,
    "start_time": "2023-01-31T23:07:41.836Z"
   },
   {
    "duration": 2328,
    "start_time": "2023-01-31T23:07:41.854Z"
   },
   {
    "duration": 17,
    "start_time": "2023-01-31T23:07:44.184Z"
   },
   {
    "duration": 10,
    "start_time": "2023-01-31T23:07:44.203Z"
   },
   {
    "duration": 18,
    "start_time": "2023-01-31T23:07:44.214Z"
   },
   {
    "duration": 16,
    "start_time": "2023-01-31T23:07:44.234Z"
   },
   {
    "duration": 34,
    "start_time": "2023-01-31T23:07:44.252Z"
   },
   {
    "duration": 8,
    "start_time": "2023-01-31T23:07:44.288Z"
   },
   {
    "duration": 44,
    "start_time": "2023-01-31T23:07:44.297Z"
   },
   {
    "duration": 51,
    "start_time": "2023-01-31T23:07:44.343Z"
   },
   {
    "duration": 44,
    "start_time": "2023-01-31T23:07:44.395Z"
   },
   {
    "duration": 402,
    "start_time": "2023-01-31T23:07:44.441Z"
   },
   {
    "duration": 360,
    "start_time": "2023-01-31T23:07:44.846Z"
   },
   {
    "duration": 357,
    "start_time": "2023-01-31T23:07:45.208Z"
   },
   {
    "duration": 265,
    "start_time": "2023-01-31T23:07:45.567Z"
   },
   {
    "duration": 3340,
    "start_time": "2023-01-31T23:07:45.835Z"
   },
   {
    "duration": 708,
    "start_time": "2023-01-31T23:07:49.184Z"
   },
   {
    "duration": 12,
    "start_time": "2023-01-31T23:07:49.894Z"
   },
   {
    "duration": 603,
    "start_time": "2023-01-31T23:07:49.908Z"
   },
   {
    "duration": 195,
    "start_time": "2023-01-31T23:07:50.513Z"
   },
   {
    "duration": 923,
    "start_time": "2023-01-31T23:07:50.710Z"
   },
   {
    "duration": 320,
    "start_time": "2023-01-31T23:07:51.634Z"
   },
   {
    "duration": 206,
    "start_time": "2023-01-31T23:07:51.956Z"
   },
   {
    "duration": 7,
    "start_time": "2023-01-31T23:07:52.164Z"
   },
   {
    "duration": 295,
    "start_time": "2023-01-31T23:07:52.185Z"
   },
   {
    "duration": 17,
    "start_time": "2023-01-31T23:07:52.485Z"
   },
   {
    "duration": 62,
    "start_time": "2023-01-31T23:07:52.504Z"
   },
   {
    "duration": 129,
    "start_time": "2023-01-31T23:07:56.200Z"
   },
   {
    "duration": 8,
    "start_time": "2023-01-31T23:07:58.110Z"
   },
   {
    "duration": 7,
    "start_time": "2023-01-31T23:08:01.486Z"
   },
   {
    "duration": 43,
    "start_time": "2023-01-31T23:08:09.259Z"
   },
   {
    "duration": 7,
    "start_time": "2023-01-31T23:08:39.385Z"
   },
   {
    "duration": 7,
    "start_time": "2023-01-31T23:08:41.766Z"
   },
   {
    "duration": 512,
    "start_time": "2023-01-31T23:08:46.523Z"
   },
   {
    "duration": 15,
    "start_time": "2023-01-31T23:08:47.037Z"
   },
   {
    "duration": 2296,
    "start_time": "2023-01-31T23:08:47.054Z"
   },
   {
    "duration": 18,
    "start_time": "2023-01-31T23:08:49.352Z"
   },
   {
    "duration": 18,
    "start_time": "2023-01-31T23:08:49.372Z"
   },
   {
    "duration": 20,
    "start_time": "2023-01-31T23:08:49.392Z"
   },
   {
    "duration": 18,
    "start_time": "2023-01-31T23:08:49.414Z"
   },
   {
    "duration": 6,
    "start_time": "2023-01-31T23:08:49.434Z"
   },
   {
    "duration": 9,
    "start_time": "2023-01-31T23:08:49.442Z"
   },
   {
    "duration": 30,
    "start_time": "2023-01-31T23:08:49.454Z"
   },
   {
    "duration": 34,
    "start_time": "2023-01-31T23:08:49.487Z"
   },
   {
    "duration": 44,
    "start_time": "2023-01-31T23:08:49.523Z"
   },
   {
    "duration": 450,
    "start_time": "2023-01-31T23:08:49.570Z"
   },
   {
    "duration": 348,
    "start_time": "2023-01-31T23:08:50.022Z"
   },
   {
    "duration": 369,
    "start_time": "2023-01-31T23:08:50.372Z"
   },
   {
    "duration": 253,
    "start_time": "2023-01-31T23:08:50.743Z"
   },
   {
    "duration": 3382,
    "start_time": "2023-01-31T23:08:50.997Z"
   },
   {
    "duration": 713,
    "start_time": "2023-01-31T23:08:54.384Z"
   },
   {
    "duration": 12,
    "start_time": "2023-01-31T23:08:55.100Z"
   },
   {
    "duration": 612,
    "start_time": "2023-01-31T23:08:55.114Z"
   },
   {
    "duration": 192,
    "start_time": "2023-01-31T23:08:55.728Z"
   },
   {
    "duration": 897,
    "start_time": "2023-01-31T23:08:55.922Z"
   },
   {
    "duration": 322,
    "start_time": "2023-01-31T23:08:56.820Z"
   },
   {
    "duration": 192,
    "start_time": "2023-01-31T23:08:57.144Z"
   },
   {
    "duration": 6,
    "start_time": "2023-01-31T23:08:57.338Z"
   },
   {
    "duration": 98,
    "start_time": "2023-01-31T23:08:57.346Z"
   },
   {
    "duration": 39,
    "start_time": "2023-01-31T23:09:04.417Z"
   },
   {
    "duration": 22,
    "start_time": "2023-01-31T23:09:10.322Z"
   },
   {
    "duration": 43,
    "start_time": "2023-01-31T23:09:14.338Z"
   },
   {
    "duration": 441,
    "start_time": "2023-01-31T23:09:22.981Z"
   },
   {
    "duration": 482,
    "start_time": "2023-01-31T23:09:32.864Z"
   },
   {
    "duration": 13,
    "start_time": "2023-01-31T23:09:36.351Z"
   },
   {
    "duration": 524,
    "start_time": "2023-01-31T23:10:20.606Z"
   },
   {
    "duration": 15,
    "start_time": "2023-01-31T23:10:21.131Z"
   },
   {
    "duration": 2274,
    "start_time": "2023-01-31T23:10:21.148Z"
   },
   {
    "duration": 25,
    "start_time": "2023-01-31T23:10:23.425Z"
   },
   {
    "duration": 23,
    "start_time": "2023-01-31T23:10:23.453Z"
   },
   {
    "duration": 38,
    "start_time": "2023-01-31T23:10:23.478Z"
   },
   {
    "duration": 26,
    "start_time": "2023-01-31T23:10:23.518Z"
   },
   {
    "duration": 28,
    "start_time": "2023-01-31T23:10:23.546Z"
   },
   {
    "duration": 34,
    "start_time": "2023-01-31T23:10:23.576Z"
   },
   {
    "duration": 82,
    "start_time": "2023-01-31T23:10:23.613Z"
   },
   {
    "duration": 40,
    "start_time": "2023-01-31T23:10:23.697Z"
   },
   {
    "duration": 67,
    "start_time": "2023-01-31T23:10:23.738Z"
   },
   {
    "duration": 410,
    "start_time": "2023-01-31T23:10:23.807Z"
   },
   {
    "duration": 353,
    "start_time": "2023-01-31T23:10:24.219Z"
   },
   {
    "duration": 336,
    "start_time": "2023-01-31T23:10:24.574Z"
   },
   {
    "duration": 239,
    "start_time": "2023-01-31T23:10:24.912Z"
   },
   {
    "duration": 3208,
    "start_time": "2023-01-31T23:10:25.154Z"
   },
   {
    "duration": 689,
    "start_time": "2023-01-31T23:10:28.364Z"
   },
   {
    "duration": 11,
    "start_time": "2023-01-31T23:10:29.055Z"
   },
   {
    "duration": 607,
    "start_time": "2023-01-31T23:10:29.068Z"
   },
   {
    "duration": 190,
    "start_time": "2023-01-31T23:10:29.677Z"
   },
   {
    "duration": 890,
    "start_time": "2023-01-31T23:10:29.869Z"
   },
   {
    "duration": 327,
    "start_time": "2023-01-31T23:10:30.760Z"
   },
   {
    "duration": 191,
    "start_time": "2023-01-31T23:10:31.088Z"
   },
   {
    "duration": 7,
    "start_time": "2023-01-31T23:10:31.284Z"
   },
   {
    "duration": 300,
    "start_time": "2023-01-31T23:10:32.002Z"
   },
   {
    "duration": 63,
    "start_time": "2023-02-01T13:16:55.331Z"
   },
   {
    "duration": 44,
    "start_time": "2023-02-01T13:17:35.779Z"
   },
   {
    "duration": 43,
    "start_time": "2023-02-01T13:17:43.709Z"
   },
   {
    "duration": 0,
    "start_time": "2023-02-01T13:30:07.433Z"
   },
   {
    "duration": 46,
    "start_time": "2023-02-01T13:30:30.194Z"
   },
   {
    "duration": 49,
    "start_time": "2023-02-01T16:15:05.001Z"
   },
   {
    "duration": 900,
    "start_time": "2023-02-01T16:15:14.259Z"
   },
   {
    "duration": 16,
    "start_time": "2023-02-01T16:15:15.161Z"
   },
   {
    "duration": 2585,
    "start_time": "2023-02-01T16:15:15.178Z"
   },
   {
    "duration": 18,
    "start_time": "2023-02-01T16:15:17.766Z"
   },
   {
    "duration": 9,
    "start_time": "2023-02-01T16:15:17.786Z"
   },
   {
    "duration": 18,
    "start_time": "2023-02-01T16:15:17.796Z"
   },
   {
    "duration": 30,
    "start_time": "2023-02-01T16:15:17.816Z"
   },
   {
    "duration": 7,
    "start_time": "2023-02-01T16:15:17.848Z"
   },
   {
    "duration": 7,
    "start_time": "2023-02-01T16:15:17.857Z"
   },
   {
    "duration": 53,
    "start_time": "2023-02-01T16:15:17.867Z"
   },
   {
    "duration": 42,
    "start_time": "2023-02-01T16:15:17.922Z"
   },
   {
    "duration": 45,
    "start_time": "2023-02-01T16:15:17.967Z"
   },
   {
    "duration": 413,
    "start_time": "2023-02-01T16:15:18.036Z"
   },
   {
    "duration": 10,
    "start_time": "2023-02-01T16:15:18.451Z"
   },
   {
    "duration": 510,
    "start_time": "2023-02-01T16:15:18.462Z"
   },
   {
    "duration": 292,
    "start_time": "2023-02-01T16:15:18.974Z"
   },
   {
    "duration": 281,
    "start_time": "2023-02-01T16:15:19.268Z"
   },
   {
    "duration": 3408,
    "start_time": "2023-02-01T16:15:19.551Z"
   },
   {
    "duration": 717,
    "start_time": "2023-02-01T16:15:22.961Z"
   },
   {
    "duration": 12,
    "start_time": "2023-02-01T16:15:23.680Z"
   },
   {
    "duration": 600,
    "start_time": "2023-02-01T16:15:23.694Z"
   },
   {
    "duration": 207,
    "start_time": "2023-02-01T16:15:24.295Z"
   },
   {
    "duration": 885,
    "start_time": "2023-02-01T16:15:24.504Z"
   },
   {
    "duration": 327,
    "start_time": "2023-02-01T16:15:25.391Z"
   },
   {
    "duration": 199,
    "start_time": "2023-02-01T16:15:25.720Z"
   },
   {
    "duration": 18,
    "start_time": "2023-02-01T16:15:25.921Z"
   },
   {
    "duration": 412,
    "start_time": "2023-02-01T16:15:25.941Z"
   },
   {
    "duration": 10,
    "start_time": "2023-02-01T16:15:58.644Z"
   },
   {
    "duration": 11,
    "start_time": "2023-02-01T16:16:07.808Z"
   },
   {
    "duration": 114,
    "start_time": "2023-02-01T16:18:27.883Z"
   },
   {
    "duration": 156,
    "start_time": "2023-02-01T16:18:36.816Z"
   },
   {
    "duration": 94,
    "start_time": "2023-02-01T16:19:04.833Z"
   },
   {
    "duration": 112,
    "start_time": "2023-02-01T16:19:17.760Z"
   },
   {
    "duration": 88,
    "start_time": "2023-02-01T16:19:22.414Z"
   },
   {
    "duration": 235,
    "start_time": "2023-02-01T16:19:32.047Z"
   },
   {
    "duration": 13,
    "start_time": "2023-02-01T16:19:42.486Z"
   },
   {
    "duration": 10,
    "start_time": "2023-02-01T16:19:50.621Z"
   },
   {
    "duration": 17,
    "start_time": "2023-02-01T16:22:06.525Z"
   },
   {
    "duration": 10,
    "start_time": "2023-02-01T16:22:20.942Z"
   },
   {
    "duration": 8,
    "start_time": "2023-02-01T16:26:46.814Z"
   },
   {
    "duration": 110,
    "start_time": "2023-02-01T16:44:44.837Z"
   },
   {
    "duration": 16,
    "start_time": "2023-02-01T16:44:47.094Z"
   },
   {
    "duration": 21,
    "start_time": "2023-02-01T16:44:50.858Z"
   },
   {
    "duration": 11,
    "start_time": "2023-02-01T16:44:57.899Z"
   },
   {
    "duration": 105,
    "start_time": "2023-02-01T16:45:02.327Z"
   },
   {
    "duration": 536,
    "start_time": "2023-02-01T16:45:25.862Z"
   },
   {
    "duration": 15,
    "start_time": "2023-02-01T16:45:26.400Z"
   },
   {
    "duration": 2526,
    "start_time": "2023-02-01T16:45:26.417Z"
   },
   {
    "duration": 18,
    "start_time": "2023-02-01T16:45:28.946Z"
   },
   {
    "duration": 31,
    "start_time": "2023-02-01T16:45:28.967Z"
   },
   {
    "duration": 31,
    "start_time": "2023-02-01T16:45:29.000Z"
   },
   {
    "duration": 42,
    "start_time": "2023-02-01T16:45:29.034Z"
   },
   {
    "duration": 21,
    "start_time": "2023-02-01T16:45:29.079Z"
   },
   {
    "duration": 16,
    "start_time": "2023-02-01T16:45:29.103Z"
   },
   {
    "duration": 73,
    "start_time": "2023-02-01T16:45:29.121Z"
   },
   {
    "duration": 25,
    "start_time": "2023-02-01T16:45:29.196Z"
   },
   {
    "duration": 53,
    "start_time": "2023-02-01T16:45:29.223Z"
   },
   {
    "duration": 485,
    "start_time": "2023-02-01T16:45:29.278Z"
   },
   {
    "duration": 10,
    "start_time": "2023-02-01T16:45:29.767Z"
   },
   {
    "duration": 373,
    "start_time": "2023-02-01T16:45:29.779Z"
   },
   {
    "duration": 352,
    "start_time": "2023-02-01T16:45:30.154Z"
   },
   {
    "duration": 264,
    "start_time": "2023-02-01T16:45:30.508Z"
   },
   {
    "duration": 3450,
    "start_time": "2023-02-01T16:45:30.774Z"
   },
   {
    "duration": 769,
    "start_time": "2023-02-01T16:45:34.226Z"
   },
   {
    "duration": 9,
    "start_time": "2023-02-01T16:45:34.996Z"
   },
   {
    "duration": 619,
    "start_time": "2023-02-01T16:45:35.007Z"
   },
   {
    "duration": 214,
    "start_time": "2023-02-01T16:45:35.628Z"
   },
   {
    "duration": 318,
    "start_time": "2023-02-01T16:45:35.843Z"
   },
   {
    "duration": 202,
    "start_time": "2023-02-01T16:45:36.162Z"
   },
   {
    "duration": 8,
    "start_time": "2023-02-01T16:45:36.365Z"
   },
   {
    "duration": 324,
    "start_time": "2023-02-01T16:45:36.375Z"
   },
   {
    "duration": 35,
    "start_time": "2023-02-01T16:45:36.702Z"
   },
   {
    "duration": 18,
    "start_time": "2023-02-01T16:45:38.067Z"
   },
   {
    "duration": 8,
    "start_time": "2023-02-01T16:45:41.901Z"
   }
  ],
  "kernelspec": {
   "display_name": "Python 3 (ipykernel)",
   "language": "python",
   "name": "python3"
  },
  "language_info": {
   "codemirror_mode": {
    "name": "ipython",
    "version": 3
   },
   "file_extension": ".py",
   "mimetype": "text/x-python",
   "name": "python",
   "nbconvert_exporter": "python",
   "pygments_lexer": "ipython3",
   "version": "3.9.5"
  },
  "toc": {
   "base_numbering": 1,
   "nav_menu": {},
   "number_sections": true,
   "sideBar": true,
   "skip_h1_title": true,
   "title_cell": "Table of Contents",
   "title_sidebar": "Contents",
   "toc_cell": false,
   "toc_position": {},
   "toc_section_display": true,
   "toc_window_display": true
  }
 },
 "nbformat": 4,
 "nbformat_minor": 2
}
